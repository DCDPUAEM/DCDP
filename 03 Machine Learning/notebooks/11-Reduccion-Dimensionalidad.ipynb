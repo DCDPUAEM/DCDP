{
  "cells": [
    {
      "cell_type": "markdown",
      "source": [
        "<a href=\"https://colab.research.google.com/github/DCDPUAEM/DCDP/blob/main/03%20Machine%20Learning/notebooks/11-Reduccion-Dimensionalidad.ipynb\" target=\"_parent\"><img src=\"https://colab.research.google.com/assets/colab-badge.svg\" alt=\"Open In Colab\"/></a>"
      ],
      "metadata": {
        "id": "sU6_qIznIKDf"
      }
    },
    {
      "cell_type": "markdown",
      "metadata": {
        "id": "lF0c86Jec2AK"
      },
      "source": [
        "# Reducción de dimensionalidad\n",
        "\n",
        "Recuerda la simbología de las secciones:\n",
        "\n",
        "* 🔽 Esta sección no forma parte del proceso usual de Machine Learning. Es una exploración didáctica de algún aspecto del funcionamiento del algoritmo.\n",
        "* ⚡ Esta sección incluye técnicas más avanzadas destinadas a optimizar o profundizar en el uso de los algoritmos.\n",
        "* ⭕ Esta sección contiene un ejercicio o práctica a realizar. Aún si no se establece una fecha de entrega, es muy recomendable realizarla para practicar conceptos clave de cada tema."
      ]
    },
    {
      "cell_type": "code",
      "execution_count": null,
      "metadata": {
        "id": "hHnR3KHEEE3t"
      },
      "outputs": [],
      "source": [
        "import numpy as np\n",
        "import matplotlib.pyplot as plt"
      ]
    },
    {
      "cell_type": "markdown",
      "source": [
        "# Maldición de la dimensionalidad"
      ],
      "metadata": {
        "id": "rTyb8_SjatCV"
      }
    },
    {
      "cell_type": "markdown",
      "source": [
        "En este experimento generaremos puntos aleatorios en espacios de diferentes dimensiones y calcularemos las distancias euclidianas entre ellos. Conforme aumenta la dimensionalidad, observaremos cómo todas las distancias tienden a volverse muy similares entre sí, perdiendo la capacidad de discriminar entre puntos \"cercanos\" y \"lejanos\". Este fenómeno, conocido como la maldición de la dimensionalidad, explica por qué muchos algoritmos de machine learning (como k-NN o clustering) pierden efectividad en espacios de alta dimensión."
      ],
      "metadata": {
        "id": "jm67ZfLHwrF8"
      }
    },
    {
      "cell_type": "code",
      "source": [
        "#@title Experimento maldición de la dimensionalidad\n",
        "import numpy as np\n",
        "from sklearn.metrics.pairwise import euclidean_distances\n",
        "import matplotlib.pyplot as plt\n",
        "from scipy.spatial.distance import pdist\n",
        "\n",
        "np.random.seed(42)\n",
        "side = 10\n",
        "n_puntos = 100\n",
        "dims = list(range(2, 500, 3))\n",
        "n_repetitions = 5\n",
        "\n",
        "average_distances = []\n",
        "min_distances = []\n",
        "max_distances = []\n",
        "std_distances = []\n",
        "relative_std = []  # Desviación estándar relativa (coeficiente de variación)\n",
        "\n",
        "for i, dim in enumerate(dims):\n",
        "    exp_avg, exp_min, exp_max, exp_std = [], [], [], []\n",
        "\n",
        "    for _ in range(n_repetitions):\n",
        "        puntos = np.random.uniform(size=(n_puntos, dim), low=-side, high=side)\n",
        "        distances = pdist(puntos, metric='euclidean')\n",
        "\n",
        "        exp_avg.append(np.mean(distances))\n",
        "        exp_min.append(np.min(distances))\n",
        "        exp_max.append(np.max(distances))\n",
        "        exp_std.append(np.std(distances))\n",
        "\n",
        "    # Promediar los experimentos\n",
        "    avg_dist = np.mean(exp_avg)\n",
        "    average_distances.append(avg_dist)\n",
        "    min_distances.append(np.mean(exp_min))\n",
        "    max_distances.append(np.mean(exp_max))\n",
        "    std_distances.append(np.mean(exp_std))\n",
        "\n",
        "    # Coeficiente de variación (desviación estándar relativa)\n",
        "    relative_std.append(np.mean(exp_std) / avg_dist)\n",
        "\n",
        "\n",
        "fig, ((ax1, ax2), (ax3, ax4)) = plt.subplots(2, 2, figsize=(15, 12))\n",
        "fig.suptitle('La Maldición de la Dimensionalidad: Convergencia de Distancias', fontsize=16)\n",
        "\n",
        "# 1. Distancias absolutas:\n",
        "ax1.plot(dims, average_distances, 'b-', linewidth=2, label='Distancia promedio')\n",
        "ax1.plot(dims, min_distances, 'g--', linewidth=2, label='Distancia mínima')\n",
        "ax1.plot(dims, max_distances, 'r--', linewidth=2, label='Distancia máxima')\n",
        "ax1.fill_between(dims, min_distances, max_distances, alpha=0.2, color='gray')\n",
        "ax1.set_xlabel('Dimensiones')\n",
        "ax1.set_ylabel('Distancia Euclidiana')\n",
        "ax1.set_title('Evolución de las Distancias')\n",
        "ax1.legend()\n",
        "ax1.grid(True, alpha=0.3)\n",
        "\n",
        "# 2. Razón máximo/mínimo:\n",
        "ratio_max_min = np.array(max_distances) / np.array(min_distances)\n",
        "ax2.plot(dims, ratio_max_min, 'purple', linewidth=2)\n",
        "ax2.set_xlabel('Dimensiones')\n",
        "ax2.set_ylabel('Ratio Distancia Máx/Mín')\n",
        "ax2.set_title('Convergencia: Ratio Distancia Máxima/Mínima')\n",
        "ax2.grid(True, alpha=0.3)\n",
        "\n",
        "# 3. Coeficiente de variación:\n",
        "ax3.plot(dims, relative_std, 'orange', linewidth=2)\n",
        "ax3.set_xlabel('Dimensiones')\n",
        "ax3.set_ylabel('Coeficiente de Variación')\n",
        "ax3.set_title('Variabilidad Relativa de las Distancias')\n",
        "ax3.grid(True, alpha=0.3)\n",
        "\n",
        "# 4. Distribución de distancias para dimensiones específicas\n",
        "sample_dims = [3, 10, 100, 1000]\n",
        "colors = ['blue', 'green', 'orange', 'red']\n",
        "\n",
        "for dim, color in zip(sample_dims, colors):\n",
        "    puntos_sample = np.random.uniform(size=(n_puntos, dim), low=-side, high=side)\n",
        "    distances_sample = pdist(puntos_sample, metric='euclidean')\n",
        "    ax4.hist(distances_sample,alpha=0.6, color=color,edgecolor='black',\n",
        "            label=f'{dim}D', density=True, linewidth=0.5)\n",
        "\n",
        "ax4.set_xlabel('Distancia Euclidiana')\n",
        "ax4.set_ylabel('Densidad de Probabilidad')\n",
        "ax4.set_title('Distribución de Distancias por Dimensionalidad')\n",
        "ax4.legend()\n",
        "ax4.grid(True, alpha=0.3)\n",
        "\n",
        "plt.tight_layout()\n",
        "plt.show()\n",
        "\n"
      ],
      "metadata": {
        "cellView": "form",
        "id": "eSk3ACGcav1X"
      },
      "execution_count": null,
      "outputs": []
    },
    {
      "cell_type": "markdown",
      "source": [
        "Esto nos dice que si tenemos *muchas* features, usar distancias entre vectores se vuelve algo cada vez menos significativo. **Reducir features** se vuelve muy útil para combatir este problema, podemos hacerlo:\n",
        "\n",
        "1. **Seleccionando features** (selección de features): [`SelectKBest`](https://scikit-learn.org/stable/modules/generated/sklearn.feature_selection.SelectKBest.html), [`RFE`](https://scikit-learn.org/stable/modules/generated/sklearn.feature_selection.RFE.html), [`VarianceThreshold`](https://scikit-learn.org/stable/modules/generated/sklearn.feature_selection.VarianceThreshold.html)\n",
        "\n",
        "2. **Proyectando en espacios de menor dimensión** (reducción de dimensionalidad): [`PCA`](https://scikit-learn.org/stable/modules/generated/sklearn.decomposition.PCA.html), [`TSNE`](https://scikit-learn.org/stable/modules/generated/sklearn.manifold.TSNE.html), [`UMAP`](https://umap-learn.readthedocs.io/), [`TruncatedSVD`](https://scikit-learn.org/stable/modules/generated/sklearn.decomposition.TruncatedSVD.html)\n",
        "\n",
        "En esta notebook analizaremos la segunda estrategia."
      ],
      "metadata": {
        "id": "OuKqFU3bx0Z0"
      }
    },
    {
      "cell_type": "markdown",
      "metadata": {
        "id": "GAWLmShPFJae"
      },
      "source": [
        "# 🔽 Ejemplos ilustrativos"
      ]
    },
    {
      "cell_type": "markdown",
      "metadata": {
        "id": "vqQ9azo48MPK"
      },
      "source": [
        "## PCA\n",
        "\n",
        "Exploremos cómo funciona [PCA](https://scikit-learn.org/stable/modules/generated/sklearn.decomposition.PCA.html) y los resultados que produce."
      ]
    },
    {
      "cell_type": "code",
      "execution_count": null,
      "metadata": {
        "id": "3SwFsQzy8g-t"
      },
      "outputs": [],
      "source": [
        "from sklearn.decomposition import PCA"
      ]
    },
    {
      "cell_type": "code",
      "execution_count": null,
      "metadata": {
        "id": "xXnMXy3uGkbK"
      },
      "outputs": [],
      "source": [
        "from sklearn.datasets import make_circles, make_blobs\n",
        "import matplotlib.pyplot as plt\n",
        "\n",
        "#------- definimos el dataset -------\n",
        "X,y = make_blobs(n_samples=500, centers=2, random_state=11)\n",
        "idxs = np.where(y==0)[0]\n",
        "X[idxs,:] = X[idxs,:] + [[8,5]]\n",
        "idxs = np.where(y==1)[0]\n",
        "X[idxs,:] = X[idxs,:] + [[-7,2]]\n",
        "#-------------------------------------\n",
        "\n",
        "\n",
        "#----- Aplicamos PCA ----------\n",
        "pca = PCA()\n",
        "X_red = pca.fit_transform(X)  # No entrenamos con las etiquetas\n",
        "#------------------------------\n",
        "\n",
        "\n",
        "#-------- Graficamos ----------\n",
        "fig, axs = plt.subplots(1,2,figsize=(10,6))\n",
        "axs[0].title.set_text(\"Dataset original\")\n",
        "axs[0].scatter(X[:,0],X[:,1],color='blue')\n",
        "axs[1].title.set_text(\"Dataset original y componentes principales\")\n",
        "axs[1].scatter(X_red[:,0],X_red[:,1],alpha=0.25,color='orange',label=\"PCA (PC 1,2)\")\n",
        "axs[1].scatter(X_red[:,0],[0 for x in X_red],color='green',label=\"PCA (PC 1)\")\n",
        "axs[1].scatter(X[:,0],X[:,1],alpha=0.4,color='blue',label=\"Original set\")\n",
        "# Dibujamos los ejes\n",
        "axs[1].axhline(0,color='gray',linestyle='--')\n",
        "axs[1].axvline(0,color='gray',linestyle='--')\n",
        "axs[1].legend(loc='best')\n",
        "fig.tight_layout()\n",
        "fig.show()"
      ]
    },
    {
      "cell_type": "code",
      "source": [
        "#@title Graficar en HTML un dataset en 3D usando plotly\n",
        "\n",
        "import numpy as np\n",
        "from sklearn.datasets import make_blobs\n",
        "import plotly.graph_objects as go\n",
        "import plotly.io as pio\n",
        "\n",
        "\n",
        "n_samples = 300  # Total de puntos (100 por blob)\n",
        "n_features = 3    # 3 dimensiones\n",
        "centers = 3       # 3 blobs\n",
        "\n",
        "X3d, y3d = make_blobs(n_samples=n_samples,\n",
        "                  n_features=n_features,\n",
        "                  centers=centers,\n",
        "                  cluster_std=1.5,\n",
        "                  random_state=42)\n",
        "\n",
        "\n",
        "fig = go.Figure()\n",
        "\n",
        "# Añadir cada blob como una traza separada (para colores distintos)\n",
        "for i in range(centers):\n",
        "    fig.add_trace(go.Scatter3d(\n",
        "        x=X[y == i, 0],\n",
        "        y=X[y == i, 1],\n",
        "        z=X[y == i, 2],\n",
        "        mode='markers',\n",
        "        marker=dict(\n",
        "            size=5,\n",
        "            opacity=0.8\n",
        "        ),\n",
        "        name=f'Blob {i+1}'\n",
        "    ))\n",
        "\n",
        "fig.update_layout(\n",
        "    title='3 Blobs en 3D',\n",
        "    scene=dict(\n",
        "        xaxis_title='X',\n",
        "        yaxis_title='Y',\n",
        "        zaxis_title='Z'\n",
        "    ),\n",
        "    width=800,\n",
        "    height=600\n",
        ")\n",
        "\n",
        "# Guardar como HTML\n",
        "pio.write_html(fig, file='blobs_3d.html', auto_open=True)"
      ],
      "metadata": {
        "id": "x4i9FS99AxW0",
        "cellView": "form"
      },
      "execution_count": null,
      "outputs": []
    },
    {
      "cell_type": "code",
      "source": [
        "from sklearn.decomposition import PCA\n",
        "import matplotlib.pyplot as plt\n",
        "\n",
        "pca = PCA(n_components=2)\n",
        "X_red = pca.fit_transform(X3d)\n",
        "\n",
        "plt.figure(figsize=(10,6))\n",
        "plt.title(\"Dataset visualizado con 2 PC\")\n",
        "plt.scatter(X_red[:,0],X_red[:,1],c=y3d)\n",
        "plt.show()"
      ],
      "metadata": {
        "id": "h11XwOZPBLqJ"
      },
      "execution_count": null,
      "outputs": []
    },
    {
      "cell_type": "markdown",
      "metadata": {
        "id": "SamHuym7f2l9"
      },
      "source": [
        "En este ejemplo podemos ver la perdida de información del conjunto original."
      ]
    },
    {
      "cell_type": "code",
      "execution_count": null,
      "metadata": {
        "id": "rAmEf-LaPpSf"
      },
      "outputs": [],
      "source": [
        "from sklearn.datasets import make_moons\n",
        "\n",
        "X,_ = make_moons(n_samples=500,random_state=1945,noise=0.1)\n",
        "\n",
        "X = X + [[3,3]]  # Trasladamos todo el dataset para fines de visualización\n",
        "\n",
        "pca = PCA()\n",
        "X_red = pca.fit_transform(X)\n",
        "\n",
        "fig, axs = plt.subplots(1,2,figsize=(10,6))\n",
        "axs[0].title.set_text(\"Dataset original\")\n",
        "axs[0].scatter(X[:,0],X[:,1],color='blue')\n",
        "axs[1].title.set_text(\"Dataset original y componentes principales\")\n",
        "axs[1].scatter(X_red[:,0],X_red[:,1],alpha=0.25,color='orange',label=\"PCA (PC 1,2)\")\n",
        "axs[1].scatter(X_red[:,0],[0 for x in X_red],color='green',label=\"PCA (PC 1)\")\n",
        "axs[1].scatter(X[:,0],X[:,1],alpha=0.4,color='blue',label=\"Original set\")\n",
        "# Dibujamos los ejes\n",
        "axs[1].axhline(0,color='gray')\n",
        "axs[1].axvline(0,color='gray')\n",
        "axs[1].legend(loc='best')\n",
        "fig.tight_layout()\n",
        "fig.show()"
      ]
    },
    {
      "cell_type": "markdown",
      "metadata": {
        "id": "Fp13Sq4bRe-b"
      },
      "source": [
        "## t-SNE\n",
        "\n",
        "La implementación de t-SNE se encuentra en [`sklear.manifold.TSNE`](https://scikit-learn.org/0.16/modules/generated/sklearn.manifold.TSNE.html)"
      ]
    },
    {
      "cell_type": "code",
      "execution_count": null,
      "metadata": {
        "id": "FyxeadiuRlqH"
      },
      "outputs": [],
      "source": [
        "from sklearn.manifold import TSNE"
      ]
    },
    {
      "cell_type": "markdown",
      "metadata": {
        "id": "5pRqJN_TXbNi"
      },
      "source": [
        "* Observar que t-SNE centra los datos en el origen.\n",
        "* Es diferente hacer t-SNE con dos componentes y tomar la primera, a hacerlo con una componente."
      ]
    },
    {
      "cell_type": "code",
      "execution_count": null,
      "metadata": {
        "id": "VBP4DeawRgvM"
      },
      "outputs": [],
      "source": [
        "from sklearn.datasets import make_circles, make_blobs\n",
        "\n",
        "X,_ = make_blobs(n_samples=1000, centers=1, random_state=1945)\n",
        "\n",
        "tsne = TSNE(n_components=2)\n",
        "X_red_2 = tsne.fit_transform(X)\n",
        "print(X_red_2.shape)\n",
        "\n",
        "tsne = TSNE(n_components=1)\n",
        "X_red_1 = tsne.fit_transform(X)\n",
        "print(X_red_1.shape)\n",
        "\n",
        "fig, axs = plt.subplots(1,2,figsize=(10,5))\n",
        "axs[0].title.set_text(\"Dataset original\")\n",
        "axs[0].scatter(X[:,0],X[:,1],color='blue')\n",
        "axs[1].title.set_text(\"Dataset original y componentes principales\")\n",
        "axs[1].scatter(X_red_2[:,0],X_red_2[:,1],alpha=0.25,color='orange',label=\"t-SNE 2dim\")\n",
        "axs[1].scatter(X_red_1[:,0],[0 for x in X_red_1],alpha=0.25,color='green',label=\"t-SNE 1dim\")\n",
        "axs[1].scatter(X[:,0],X[:,1],alpha=0.4,color='blue',label=\"Original set\")\n",
        "# Dibujamos los ejes\n",
        "axs[1].axhline(0,color='gray',linestyle='--')\n",
        "axs[1].axvline(0,color='gray',linestyle='--')\n",
        "axs[1].legend(loc='best')\n",
        "fig.tight_layout()\n",
        "fig.show()"
      ]
    },
    {
      "cell_type": "markdown",
      "metadata": {
        "id": "Vpu-3G6hT2lK"
      },
      "source": [
        "Veamos el efecto del hiper-parámetro `perplexity`. Está relacionado con el número de vecinos de cada punto que se toman en cuenta, entre más grande sea el dataset, ḿas grande suele tomarse el parámetro."
      ]
    },
    {
      "cell_type": "code",
      "execution_count": null,
      "metadata": {
        "id": "IpziLI9nSj6h"
      },
      "outputs": [],
      "source": [
        "from sklearn.datasets import make_circles, make_blobs\n",
        "\n",
        "X,_ = make_blobs(n_samples=1000, centers=2, random_state=1945)\n",
        "\n",
        "tsne = TSNE(n_components=2,perplexity=5)\n",
        "X_red_2 = tsne.fit_transform(X)\n",
        "\n",
        "tsne = TSNE(n_components=1,perplexity=5)\n",
        "X_red_1 = tsne.fit_transform(X)\n",
        "\n",
        "tsne = TSNE(n_components=2,perplexity=50)\n",
        "X_red_3 = tsne.fit_transform(X)\n",
        "\n",
        "tsne = TSNE(n_components=1,perplexity=50)\n",
        "X_red_4 = tsne.fit_transform(X)\n",
        "\n",
        "fig, axs = plt.subplots(2,2)\n",
        "axs[0,0].title.set_text(\"Dataset original\")\n",
        "axs[0,0].scatter(X[:,0],X[:,1],color='blue')\n",
        "axs[0,1].title.set_text(\"TSNE 2-dim y 1-dim\")\n",
        "axs[0,1].scatter(X_red_2[:,0],X_red_2[:,1],alpha=0.25,color='orange')\n",
        "axs[0,1].scatter(X_red_1[:,0],[0 for x in X_red_1],alpha=0.25,color='green')\n",
        "# Dibujamos los ejes\n",
        "axs[0,1].axhline(0,color='gray',linestyle='--')\n",
        "axs[0,1].axvline(0,color='gray',linestyle='--')\n",
        "\n",
        "axs[1,0].scatter(X[:,0],X[:,1],color='blue')\n",
        "axs[1,1].scatter(X_red_3[:,0],X_red_3[:,1],alpha=0.25,color='orange')\n",
        "axs[1,1].scatter(X_red_4[:,0],[0 for x in X_red_4],alpha=0.25,color='green')\n",
        "# Dibujamos los ejes\n",
        "axs[1,1].axhline(0,color='gray',linestyle='--')\n",
        "axs[1,1].axvline(0,color='gray',linestyle='--')\n",
        "\n",
        "for ax in axs.flatten():\n",
        "    ax.set_xticks([])\n",
        "    ax.set_yticks([])\n",
        "fig.tight_layout()\n",
        "fig.show()"
      ]
    },
    {
      "cell_type": "code",
      "execution_count": null,
      "metadata": {
        "id": "4aD2HNJ3WQyu"
      },
      "outputs": [],
      "source": [
        "from sklearn.datasets import make_moons\n",
        "\n",
        "X,y = make_moons(n_samples=500,random_state=1945,noise=0.1)\n",
        "\n",
        "tsne = TSNE(n_components=1,perplexity=35)\n",
        "X_red_A = tsne.fit_transform(X)\n",
        "\n",
        "tsne = TSNE(n_components=1,perplexity=7)\n",
        "X_red_B = tsne.fit_transform(X)\n",
        "\n",
        "fig, axs = plt.subplots(1,3,figsize=(15,5))\n",
        "axs[0].title.set_text(\"Dataset original\")\n",
        "axs[0].scatter(X[:,0],X[:,1],c=y)\n",
        "axs[1].title.set_text(\"TSNE: high perplexity\")\n",
        "axs[1].scatter(X_red_A[:,0],[0 for x in X_red_A],c=y)\n",
        "axs[2].title.set_text(\"TSNE: low perplexity\")\n",
        "axs[2].scatter(X_red_B[:,0],[0 for x in X_red_B],c=y)\n",
        "fig.tight_layout()\n",
        "fig.show()"
      ]
    },
    {
      "cell_type": "markdown",
      "source": [
        "Recordemos el dataset en 3 dimensiones"
      ],
      "metadata": {
        "id": "kM_jq5oaCGGM"
      }
    },
    {
      "cell_type": "code",
      "source": [
        "from sklearn.manifold import TSNE\n",
        "import matplotlib.pyplot as plt\n",
        "\n",
        "tsne = TSNE(n_components=2)\n",
        "X_red = tsne.fit_transform(X3d)\n",
        "\n",
        "plt.figure(figsize=(10,6))\n",
        "plt.title(\"Dataset visualizado con t-SNE\")\n",
        "plt.scatter(X_red[:,0],X_red[:,1],c=y3d)\n",
        "plt.show()\n"
      ],
      "metadata": {
        "id": "GKO8ExIkB776"
      },
      "execution_count": null,
      "outputs": []
    },
    {
      "cell_type": "markdown",
      "metadata": {
        "id": "wVSEepzLYpFy"
      },
      "source": [
        "## ⚡ UMAP\n",
        "\n",
        "Uniform Manifold Approximation and Projection (UMAP) es una técnica de reducción dimensional que puede utilizarse para la visualización de forma similar a t-SNE, pero también para la reducción dimensional no lineal general. El algoritmo se basa en tres hipótesis sobre los datos\n",
        "\n",
        "* Los datos se distribuyen uniformemente en una variedad Riemanniana.\n",
        "* La métrica Riemanniana es localmente constante (o puede aproximarse como tal).\n",
        "* La variedad es localmente conexa.\n",
        "\n",
        "A partir de estos supuestos, es posible modelizar el colector con una estructura topológica difusa. La incrustación se encuentra buscando una proyección de baja dimensión de los datos que tenga la estructura topológica difusa equivalente más cercana posible.\n",
        "\n",
        "Los detalles pueden verse en [pre-print de ArXiv](https://arxiv.org/abs/1802.03426):"
      ]
    },
    {
      "cell_type": "code",
      "execution_count": null,
      "metadata": {
        "id": "2KNSIeLzYqjH"
      },
      "outputs": [],
      "source": [
        "!pip install -qq umap-learn"
      ]
    },
    {
      "cell_type": "markdown",
      "metadata": {
        "id": "DOCB-2AsjEV9"
      },
      "source": [
        "Algunos parámetros importantes de UMAP:\n",
        "\n",
        "* `n_neighbors`: Número de vecinos en los que se basa para aprender la estructura de los datos. Valores bajos de n_neighbors forzarán a UMAP a concentrarse en la estructura muy local, mientras que valores grandes empujarán a UMAP a mirar vecindarios más grandes de cada punto cuando estime la estructura múltiple de los datos, perdiendo la estructura fina.\n",
        "* `min_dist` controla lo ajustado que UMAP puede representar los puntos. Controla la distancia mínima entre los puntos en la representación de baja dimensión."
      ]
    },
    {
      "cell_type": "code",
      "execution_count": null,
      "metadata": {
        "id": "VSWRU8MEY28j"
      },
      "outputs": [],
      "source": [
        "from umap import UMAP\n",
        "import matplotlib.pyplot as plt\n",
        "from sklearn.datasets import make_moons\n",
        "\n",
        "X,y = make_moons(n_samples=500,random_state=1945,noise=0.1)\n",
        "\n",
        "umap = UMAP(n_components=1,n_neighbors=50)\n",
        "X_red_1 = umap.fit_transform(X)\n",
        "\n",
        "umap = UMAP(n_components=1,n_neighbors=5)\n",
        "X_red_2 = umap.fit_transform(X)\n",
        "\n",
        "fig, axs = plt.subplots(1,3,figsize=(12,4))\n",
        "axs[0].title.set_text(\"Dataset original\")\n",
        "axs[0].scatter(X[:,0],X[:,1],c=y)\n",
        "axs[1].title.set_text(\"UMAP: high n_neighbors\")\n",
        "axs[1].scatter(X_red_1[:,0],[0 for x in X_red_1],c=y)\n",
        "axs[2].title.set_text(\"UMAP: low n_neighbors\")\n",
        "axs[2].scatter(X_red_2[:,0],[0 for x in X_red_2],c=y)\n",
        "for ax in axs.flatten():\n",
        "    ax.set_xticks([])\n",
        "    ax.set_yticks([])\n",
        "fig.tight_layout()\n",
        "fig.show()"
      ]
    },
    {
      "cell_type": "code",
      "execution_count": null,
      "metadata": {
        "id": "12kpxbPTj7pg"
      },
      "outputs": [],
      "source": [
        "umap = UMAP(n_components=1,\n",
        "            n_neighbors=50,\n",
        "            min_dist=0.9)\n",
        "X_red_1 = umap.fit_transform(X)\n",
        "\n",
        "umap = UMAP(n_components=1,\n",
        "            n_neighbors=50,\n",
        "            min_dist=0.1)\n",
        "X_red_2 = umap.fit_transform(X)\n",
        "\n",
        "fig, axs = plt.subplots(1,3,figsize=(12,4))\n",
        "axs[0].title.set_text(\"Dataset original\")\n",
        "axs[0].scatter(X[:,0],X[:,1],c=y)\n",
        "axs[1].title.set_text(\"UMAP: high min_dist\")\n",
        "axs[1].scatter(X_red_1[:,0],[0 for x in X_red_1],c=y)\n",
        "axs[2].title.set_text(\"UMAP: low min_dist\")\n",
        "axs[2].scatter(X_red_2[:,0],[0 for x in X_red_2],c=y)\n",
        "for ax in axs.flatten():\n",
        "    ax.set_xticks([])\n",
        "    ax.set_yticks([])\n",
        "fig.tight_layout()\n",
        "fig.show()"
      ]
    },
    {
      "cell_type": "code",
      "source": [
        "from umap import UMAP\n",
        "import matplotlib.pyplot as plt\n",
        "\n",
        "umap = UMAP(n_components=2)\n",
        "X_red = umap.fit_transform(X3d)\n",
        "\n",
        "plt.figure(figsize=(10,6))\n",
        "plt.title(\"Dataset visualizado con UMAP\")\n",
        "plt.scatter(X_red[:,0],X_red[:,1],c=y3d)\n",
        "plt.show()"
      ],
      "metadata": {
        "id": "qkacNcDMCKnE"
      },
      "execution_count": null,
      "outputs": []
    },
    {
      "cell_type": "markdown",
      "metadata": {
        "id": "HvI6SgIxFGBZ"
      },
      "source": [
        "# Práctica 1: MNIST\n",
        "\n",
        "En esta práctica aplicaremos reducción de dimensionalidad al conjunto de datos MNIST completo. Usaremos dos técnicas:\n",
        "\n",
        "1. PCA\n",
        "2. TSNE\n",
        "\n",
        "En cada una de ellas visualizaremos los datos y observaremos algunos fenómenos. Además, veremos cómo afecta la dimensionalidad y el tamaño de un dataset a estos algoritmos."
      ]
    },
    {
      "cell_type": "code",
      "execution_count": null,
      "metadata": {
        "id": "FNRTvwo4ES_2"
      },
      "outputs": [],
      "source": [
        "import numpy as np\n",
        "from keras.datasets import mnist\n",
        "\n",
        "(x_train, y_train), (x_test, y_test) = mnist.load_data()\n",
        "\n",
        "print(x_train.shape)\n",
        "print(x_test.shape)\n",
        "print(y_train.shape)\n",
        "print(y_test.shape)"
      ]
    },
    {
      "cell_type": "code",
      "source": [
        "x_train[0]"
      ],
      "metadata": {
        "id": "AObO3TMQtcSs"
      },
      "execution_count": null,
      "outputs": []
    },
    {
      "cell_type": "markdown",
      "source": [
        "Veamos las escalas de valores de los datos"
      ],
      "metadata": {
        "id": "A3ECdmdyuE0r"
      }
    },
    {
      "cell_type": "code",
      "source": [
        "import pandas as pd\n",
        "\n",
        "pd.DataFrame(x_train.reshape(-1,28*28)).describe()"
      ],
      "metadata": {
        "id": "lbAPv0bztqhu"
      },
      "execution_count": null,
      "outputs": []
    },
    {
      "cell_type": "code",
      "source": [
        "all_pixels = x_train.reshape(-1,)\n",
        "\n",
        "max = np.max(all_pixels)\n",
        "min = np.min(all_pixels)\n",
        "\n",
        "print(f\"Valor máximo: {max}\")\n",
        "print(f\"Valor mínimo: {min}\")\n",
        "\n",
        "plt.figure()\n",
        "plt.hist(all_pixels)\n",
        "plt.show()"
      ],
      "metadata": {
        "id": "7o87Sosut3Kc"
      },
      "execution_count": null,
      "outputs": []
    },
    {
      "cell_type": "markdown",
      "source": [
        "Realizamos preprocesamiento:\n",
        "* Dividimos todo entre 255\n",
        "* Hacemos el reshape adecuado, cada ejemplo es un vector de 784 componentes\n",
        "\n",
        "**Importante**: PCA es muy susceptible a escalas diferentes entre variables"
      ],
      "metadata": {
        "id": "IFXyAOf_xCRS"
      }
    },
    {
      "cell_type": "code",
      "source": [
        "X_train = x_train.reshape(-1,28*28) / 255.\n",
        "X_test = x_test.reshape(-1,28*28) / 255."
      ],
      "metadata": {
        "id": "zv1Zk62hw9x0"
      },
      "execution_count": null,
      "outputs": []
    },
    {
      "cell_type": "markdown",
      "source": [
        "Veamos algunos ejemplos"
      ],
      "metadata": {
        "id": "ilGXEoCdtc9e"
      }
    },
    {
      "cell_type": "code",
      "source": [
        "import matplotlib.pyplot as plt\n",
        "\n",
        "random_idxs = np.random.randint(0, x_train.shape[0], 6)\n",
        "\n",
        "fig, axs = plt.subplots(2, 3, figsize=(10, 6))\n",
        "for i, idx in enumerate(random_idxs):\n",
        "    axs[i // 3, i % 3].imshow(x_train[idx].reshape(28, 28), cmap='gray')\n",
        "    axs[i // 3, i % 3].set_title(f\"Label: {y_train[idx]}\")\n",
        "    axs[i // 3, i % 3].axis('off')\n",
        "\n",
        "plt.tight_layout()\n",
        "plt.show()"
      ],
      "metadata": {
        "id": "tpxlcMHiri1t"
      },
      "execution_count": null,
      "outputs": []
    },
    {
      "cell_type": "markdown",
      "metadata": {
        "id": "DlY2HmCXKclu"
      },
      "source": [
        "## 1. PCA"
      ]
    },
    {
      "cell_type": "markdown",
      "metadata": {
        "id": "4JOuBSCodYFt"
      },
      "source": [
        "Ahora, apliquemos PCA a los datos. De esta manera, reducimos la dimensión de los puntos, de 784 a sólo 2.\n",
        "\n",
        "**Importante**:\n",
        "\n",
        "* Observa que entrenamos a PCA con el conjunto de entrenamiento y el conjunto de prueba, sólo lo transformamos con el modelo ya entrenado.\n",
        "* Estamos en aprendizaje no supervisado, aquí, en principio no tenemos etiquetas, o más precisamente, no las usamos para los entrenamientos.\n",
        "\n",
        "![alt text](https://drive.google.com/uc?id=1S9KVyZbkiciIEeC7cLi-epa62gfFM0pi )\n",
        "\n",
        "⭕ ¿Por qué no entrenar con todo el conjunto de datos?"
      ]
    },
    {
      "cell_type": "code",
      "execution_count": null,
      "metadata": {
        "id": "9mGAro3BEtzu"
      },
      "outputs": [],
      "source": [
        "from sklearn.decomposition import PCA\n",
        "\n",
        "pca = PCA(n_components=2)\n",
        "X_train_red = pca.fit_transform(x_train)    # Sólo entrenamos con el de entrenamiento\n",
        "X_test_red = pca.transform(x_test)          # Sólo transformamos el de prueba\n",
        "\n",
        "print(X_train_red.shape)\n",
        "print(X_test_red.shape)"
      ]
    },
    {
      "cell_type": "markdown",
      "metadata": {
        "id": "WqG0ILHeenod"
      },
      "source": [
        "Ya podemos ver cómo se ve el conjunto de entrenamiento y prueba, separado por clases."
      ]
    },
    {
      "cell_type": "code",
      "execution_count": null,
      "metadata": {
        "id": "47MsUtRoE5L1"
      },
      "outputs": [],
      "source": [
        "import matplotlib.pyplot as plt\n",
        "\n",
        "plt.figure(figsize=(12, 4),dpi=100)\n",
        "plt.subplot(1, 2, 1)\n",
        "plt.title(\"Training data\")\n",
        "for k in range(10):\n",
        "  plt.scatter(X_train_red[y_train==k, 0], X_train_red[y_train==k, 1], label=k)\n",
        "plt.legend()\n",
        "plt.xlabel('PC1')\n",
        "plt.ylabel('PC2')\n",
        "plt.subplot(1, 2, 2)\n",
        "plt.title(\"Test data\")\n",
        "for k in range(10):\n",
        "  plt.scatter(X_test_red[y_test==k, 0], X_test_red[y_test==k, 1], label=k)\n",
        "plt.legend()\n",
        "plt.xlabel('PC1')\n",
        "plt.ylabel('PC2')\n",
        "plt.show()"
      ]
    },
    {
      "cell_type": "code",
      "source": [
        "from sklearn.decomposition import PCA\n",
        "\n",
        "pca = PCA(n_components=3)\n",
        "X_train_red_3 = pca.fit_transform(x_train)    # Sólo entrenamos con el de entrenamiento\n",
        "X_test_red_3 = pca.transform(x_test)          # Sólo transformamos el de prueba\n",
        "\n",
        "print(X_train_red.shape)\n",
        "print(X_test_red.shape)"
      ],
      "metadata": {
        "id": "A7DdYy1ThS0h"
      },
      "execution_count": null,
      "outputs": []
    },
    {
      "cell_type": "code",
      "source": [
        "#@title Graficar PCA 3D\n",
        "\n",
        "import plotly.express as px\n",
        "import pandas as pd\n",
        "import plotly.io as pio\n",
        "\n",
        "# Crear DataFrame para Plotly\n",
        "df = pd.DataFrame({\n",
        "    'PC1': X_train_red_3[:, 0],\n",
        "    'PC2': X_train_red_3[:, 1],\n",
        "    'PC3': X_train_red_3[:, 2],\n",
        "    'Digit': y_train.astype(str)\n",
        "})\n",
        "\n",
        "# Crear el gráfico 3D\n",
        "fig = px.scatter_3d(\n",
        "    df,\n",
        "    x='PC1',\n",
        "    y='PC2',\n",
        "    z='PC3',\n",
        "    color='Digit',\n",
        "    color_discrete_sequence=px.colors.qualitative.Light24,\n",
        "    title='MNIST en 3D (PCA)'\n",
        ")\n",
        "\n",
        "# Personalizar el gráfico\n",
        "fig.update_layout(\n",
        "    scene=dict(\n",
        "        xaxis=dict(showgrid=False, showbackground=False, showticklabels=True, title='PC1'),\n",
        "        yaxis=dict(showgrid=False, showbackground=False, showticklabels=True, title='PC2'),\n",
        "        zaxis=dict(showgrid=False, showbackground=False, showticklabels=True, title='PC3'),\n",
        "        bgcolor='white'\n",
        "    ),\n",
        "    legend_title_text='Dígito',\n",
        "    plot_bgcolor='white',\n",
        "    paper_bgcolor='white'\n",
        ")\n",
        "\n",
        "# Guardar como HTML\n",
        "pio.write_html(fig, file='mnist_pca_3d.html', auto_open=True)"
      ],
      "metadata": {
        "id": "UvAM3cQvhip5"
      },
      "execution_count": null,
      "outputs": []
    },
    {
      "cell_type": "markdown",
      "metadata": {
        "id": "cZcYr6faIn2r"
      },
      "source": [
        "### ⚡ Varianza explicada"
      ]
    },
    {
      "cell_type": "markdown",
      "metadata": {
        "id": "Vdk4AUOBfENU"
      },
      "source": [
        "Veamos la varianza agregada por cada una de las primeras 20 componentes principales, usando el atributo `explained_variance_ratio_` de la clase PCA.\n",
        "\n",
        "Este es un arreglo que contiene la varianza, como fracción, asociada a cada componente principal. En el caso de nuestro modelo, son dos componentes principales, por lo que es un arreglo de dos componentes."
      ]
    },
    {
      "cell_type": "code",
      "execution_count": null,
      "metadata": {
        "id": "CRD1Qoz1EbWE"
      },
      "outputs": [],
      "source": [
        "pca.explained_variance_ratio_"
      ]
    },
    {
      "cell_type": "markdown",
      "metadata": {
        "id": "lv__ctNIEyJI"
      },
      "source": [
        "Entre estas dos componentes explican alrededor del 16% de la varianza de los datos."
      ]
    },
    {
      "cell_type": "code",
      "execution_count": null,
      "metadata": {
        "id": "S39tnpVkEx8a"
      },
      "outputs": [],
      "source": [
        "np.sum(pca.explained_variance_ratio_)"
      ]
    },
    {
      "cell_type": "markdown",
      "metadata": {
        "id": "7_2oS4AMFDN3"
      },
      "source": [
        "Veamos como es la varianza explicada considerando 20 componentes principales. Para esto, tenemos primero que entrenar un nuevo modelo de PCA, con 20 componentes principales."
      ]
    },
    {
      "cell_type": "code",
      "execution_count": null,
      "metadata": {
        "id": "3f50HdVyFd2k"
      },
      "outputs": [],
      "source": [
        "pca = PCA(n_components=20).fit(x_train)"
      ]
    },
    {
      "cell_type": "markdown",
      "metadata": {
        "id": "pXmDC6GyFfig"
      },
      "source": [
        "Graficamos la contribución acumulada de la varianza en cada componente principal"
      ]
    },
    {
      "cell_type": "code",
      "execution_count": null,
      "metadata": {
        "id": "TOlvv_5xE82l"
      },
      "outputs": [],
      "source": [
        "xs = list(range(1, pca.explained_variance_ratio_.shape[0]+1))\n",
        "\n",
        "plt.bar(xs, pca.explained_variance_ratio_)\n",
        "plt.xticks(xs)\n",
        "plt.plot(xs, np.cumsum(pca.explained_variance_ratio_), marker='o',color='red')\n",
        "plt.grid()\n",
        "plt.xlabel(\"Componentes principales\")\n",
        "plt.ylabel(\"Varianza explicada\")\n",
        "print(f\"Varianza explicada por cada una de las componentes principales:\\n{pca.explained_variance_ratio_}\\n\")\n",
        "print(f\"Varianza acumulada explicada por cada una de las componentes principales:\\n{np.cumsum(pca.explained_variance_ratio_)}\\n\")"
      ]
    },
    {
      "cell_type": "markdown",
      "metadata": {
        "id": "T7szxyIYffxw"
      },
      "source": [
        "Varianza de todas las componentes principales."
      ]
    },
    {
      "cell_type": "code",
      "execution_count": null,
      "metadata": {
        "id": "3PaPM3jBGF_1"
      },
      "outputs": [],
      "source": [
        "pca = PCA(n_components=784).fit(x_train)"
      ]
    },
    {
      "cell_type": "code",
      "execution_count": null,
      "metadata": {
        "id": "LFVzh4LPIzDK"
      },
      "outputs": [],
      "source": [
        "xs = list(range(1, pca.explained_variance_ratio_.shape[0]+1))\n",
        "\n",
        "plt.figure(figsize=(16, 3))\n",
        "plt.bar(xs, pca.explained_variance_ratio_)\n",
        "plt.plot(xs, np.cumsum(pca.explained_variance_ratio_), '--',color='red')\n",
        "plt.grid()\n",
        "plt.xlabel(\"Componentes principales\")\n",
        "plt.ylabel(\"Varianza explicada\")\n",
        "plt.show()"
      ]
    },
    {
      "cell_type": "markdown",
      "metadata": {
        "id": "RuX81EmYWncY"
      },
      "source": [
        "¿Con cuántas componentes principales conseguiríamos 95% de la varianza?"
      ]
    },
    {
      "cell_type": "code",
      "execution_count": null,
      "metadata": {
        "id": "9Ce62q4JKuc1"
      },
      "outputs": [],
      "source": [
        "maxPC = np.where(np.cumsum(pca.explained_variance_ratio_) >= 0.95)[0][0]\n",
        "print(f\"El 95% de la varianza se obtiene con {maxPC} componentes principales\\n\")\n",
        "\n",
        "xs = list(range(1, pca.explained_variance_ratio_.shape[0]+1))\n",
        "\n",
        "plt.figure(figsize=(16, 3))\n",
        "plt.plot(xs, np.cumsum(pca.explained_variance_ratio_), color='red')\n",
        "plt.axhline(0.95,color='gray',linestyle='--')\n",
        "plt.axvline(maxPC,color='gray',linestyle='--')\n",
        "plt.xlabel(\"Componentes principales\")\n",
        "plt.ylabel(\"Varianza explicada\")\n",
        "plt.show()"
      ]
    },
    {
      "cell_type": "markdown",
      "metadata": {
        "id": "qrM6xyijIP71"
      },
      "source": [
        "🔵 Si queremos entrenar un clasificador, ¿es mejor entrenar en los datos 2-dimensionales, en el conjunto completo o en un conjunto intermedio?"
      ]
    },
    {
      "cell_type": "markdown",
      "source": [
        "**Observación importante**: En PCA, es lo mismo hacer reducción de dimensionalidad con un número de componentes $m$, que hacer reducción de dimensianalidad con un número de componentes $n\\geq m$ y luego tomar las primeras $m$.\n",
        "\n",
        "Por ejemplo, podemos hacer reducción de dimensionalidad con todas las componentes principales y luego tomar solamente las que necesitemos.\n",
        "\n",
        "**Conclusión**\n",
        "\n",
        "* PCA es rápido\n",
        "* Es lineal\n",
        "* Capta la estructura global del conjunto de datos\n",
        "* Podemos medir la varianza acumulada"
      ],
      "metadata": {
        "id": "zQrKxXknkjzY"
      }
    },
    {
      "cell_type": "markdown",
      "metadata": {
        "id": "xFbWy5LhLGbr"
      },
      "source": [
        "## 2. t-SNE\n",
        "\n",
        "Ahora, exploremos [t-SNE](https://scikit-learn.org/stable/modules/generated/sklearn.manifold.TSNE.html) \"t-distributed Stochastic Neighbor Embedding\".\n",
        "\n",
        "Este método puede ser más tardado con una cantidad grande de datos y dimensiones, por lo que podemos tomar una muestra de los datos originales. Esta muestra consta de los primeros 5000 datos, el entrenamiento tarda alrededor de 1 minuto."
      ]
    },
    {
      "cell_type": "code",
      "execution_count": null,
      "metadata": {
        "id": "-4yYdRzRKl3v"
      },
      "outputs": [],
      "source": [
        "train_sample_size = 5000"
      ]
    },
    {
      "cell_type": "code",
      "execution_count": null,
      "metadata": {
        "id": "gFXiY93zLIYX"
      },
      "outputs": [],
      "source": [
        "from sklearn.manifold import TSNE\n",
        "\n",
        "tsne = TSNE(n_components=2)\n",
        "X_train_red = tsne.fit_transform(x_train[:train_sample_size])\n",
        "print(X_train_red.shape)"
      ]
    },
    {
      "cell_type": "markdown",
      "metadata": {
        "id": "h-kMOBfxJjzB"
      },
      "source": [
        "🔵 Observar que t-SNE no tiene un método `transform`, ¿qué significa esto?"
      ]
    },
    {
      "cell_type": "markdown",
      "metadata": {
        "id": "SJ2RZNS3XJEm"
      },
      "source": [
        "Transformemos el conjunto de datos dos veces, de manera independiente para observar la naturaleza probabilística del método."
      ]
    },
    {
      "cell_type": "code",
      "execution_count": null,
      "metadata": {
        "id": "wog06au4OwcY"
      },
      "outputs": [],
      "source": [
        "test_sample_size = 2000\n",
        "\n",
        "X_test_red_1 = TSNE(n_components=2).fit_transform(x_test[:test_sample_size])\n",
        "print(X_test_red_1.shape)\n",
        "\n",
        "X_test_red_2 = TSNE(n_components=2).fit_transform(x_test[:test_sample_size])\n",
        "print(X_test_red_2.shape)"
      ]
    },
    {
      "cell_type": "code",
      "execution_count": null,
      "metadata": {
        "id": "-PINBIHmL5_3"
      },
      "outputs": [],
      "source": [
        "plt.figure(figsize=(18, 4))\n",
        "\n",
        "plt.subplot(1, 3, 1)\n",
        "plt.title(\"Datos de entrenamiento\")\n",
        "for k in range(10):\n",
        "    plt.scatter(X_train_red[y_train[:train_sample_size]==k, 0], X_train_red[y_train[:train_sample_size]==k, 1], label=k)\n",
        "plt.legend()\n",
        "plt.xticks([])\n",
        "plt.yticks([])\n",
        "\n",
        "plt.subplot(1, 3, 2)\n",
        "plt.title(\"Datos de prueba - Primer entrenamiento\")\n",
        "for k in range(10):\n",
        "    plt.scatter(X_test_red_1[y_test[:test_sample_size]==k, 0],\n",
        "                X_test_red_1[y_test[:test_sample_size]==k, 1],\n",
        "                label=k)\n",
        "plt.xticks([])\n",
        "plt.yticks([])\n",
        "plt.legend()\n",
        "\n",
        "plt.subplot(1, 3, 3)\n",
        "plt.title(\"Test data - Segundo entrenamiento\")\n",
        "for k in range(10):\n",
        "    plt.scatter(X_test_red_2[y_test[:test_sample_size]==k, 0],\n",
        "                X_test_red_2[y_test[:test_sample_size]==k, 1],\n",
        "                label=k)\n",
        "plt.xticks([])\n",
        "plt.yticks([])\n",
        "plt.legend()\n",
        "\n",
        "plt.show()"
      ]
    },
    {
      "cell_type": "markdown",
      "source": [
        "Ahora hagamos reducción de dimensionalidad a 3 dimensiones con T-SNE\n",
        "\n",
        "⏱ Tarda alrededor de 3-5 minutos"
      ],
      "metadata": {
        "id": "BUsnjcuvkSsC"
      }
    },
    {
      "cell_type": "code",
      "source": [
        "from sklearn.manifold import TSNE\n",
        "\n",
        "tsne = TSNE(n_components=3)\n",
        "X_train_red_3 = tsne.fit_transform(x_train[:train_sample_size])\n",
        "print(X_train_red_3.shape)"
      ],
      "metadata": {
        "id": "5EFishRIi4KA"
      },
      "execution_count": null,
      "outputs": []
    },
    {
      "cell_type": "code",
      "source": [
        "#@title Graficar PCA 3D\n",
        "\n",
        "import plotly.express as px\n",
        "import pandas as pd\n",
        "import plotly.io as pio\n",
        "\n",
        "y_red  = y_train[:train_sample_size]\n",
        "\n",
        "# Crear DataFrame para Plotly\n",
        "df = pd.DataFrame({\n",
        "    'PC1': X_train_red_3[:, 0],\n",
        "    'PC2': X_train_red_3[:, 1],\n",
        "    'PC3': X_train_red_3[:, 2],\n",
        "    'Digit': y_red.astype(str)\n",
        "})\n",
        "\n",
        "# Crear el gráfico 3D\n",
        "fig = px.scatter_3d(\n",
        "    df,\n",
        "    x='PC1',\n",
        "    y='PC2',\n",
        "    z='PC3',\n",
        "    color='Digit',\n",
        "    color_discrete_sequence=px.colors.qualitative.Light24,\n",
        "    title='MNIST en 3D (PCA)'\n",
        ")\n",
        "\n",
        "# Personalizar el gráfico\n",
        "fig.update_layout(\n",
        "    scene=dict(\n",
        "        xaxis=dict(showgrid=False, showbackground=False, showticklabels=True, title='PC1'),\n",
        "        yaxis=dict(showgrid=False, showbackground=False, showticklabels=True, title='PC2'),\n",
        "        zaxis=dict(showgrid=False, showbackground=False, showticklabels=True, title='PC3'),\n",
        "        bgcolor='white'\n",
        "    ),\n",
        "    legend_title_text='Dígito',\n",
        "    plot_bgcolor='white',\n",
        "    paper_bgcolor='white'\n",
        ")\n",
        "\n",
        "# Guardar como HTML\n",
        "pio.write_html(fig, file='mnist_tsne_3d.html', auto_open=True)"
      ],
      "metadata": {
        "cellView": "form",
        "id": "OJlltOGIi3Pf"
      },
      "execution_count": null,
      "outputs": []
    },
    {
      "cell_type": "markdown",
      "source": [
        "**Conclusión**\n",
        "\n",
        "* T-SNE es lento\n",
        "* T-SNE no es lineal\n",
        "* Su principal parámetros en `perplexity`\n",
        "* No siempre va a dar el mismo resultado\n",
        "* Capta la estructura local y global, es decir, trata de preservar las distribuciones de distancias entre puntos.\n"
      ],
      "metadata": {
        "id": "1Ibwm8cvlUbx"
      }
    },
    {
      "cell_type": "markdown",
      "metadata": {
        "id": "_w33lJLwVifh"
      },
      "source": [
        "## ⭕ Práctica\n",
        "\n",
        "Entrenaremos un clasificador para el dataset MNIST de Keras. Es un dataset grande y balanceado. Te enfrentarás, por primera vez, al problema de la dimensionalidad y el tamaño.\n",
        "\n",
        "* Entrena un clasificador con estas representaciones 2-dimensionales de los datos de entrenamiento. Usa PCA.\n",
        "* Reporta las métricas de clasificación sobre el conjunto de prueba: Accuracy, y F1-score.\n",
        "* Aumenta el número de componentes de la reducción de dimensionalidad con el objetivo de tener mejores métricas de rendimiento.\n",
        "* Finalmente, realiza la tarea de clasificación usando todas las dimensiones.\n",
        "\n",
        "¿Con qué features tuviste mejores desempeños? ¿qué reducción de dimensionalidad funcionó mejor?\n",
        "\n",
        "**Opcional:** Realiza un grid-search para obtener el mejor número de dimensiones, de forma que se maximice el accuracy."
      ]
    },
    {
      "cell_type": "markdown",
      "metadata": {
        "id": "iYkJnF8vYuv1"
      },
      "source": [
        "#### Pasos de la práctica\n"
      ]
    },
    {
      "cell_type": "markdown",
      "source": [
        "Dataset: Observa que, la versión completa, ya está dividida en train/test"
      ],
      "metadata": {
        "id": "PvTTkyWXrFFs"
      }
    },
    {
      "cell_type": "code",
      "execution_count": null,
      "metadata": {
        "id": "12FTZyqmOrMm"
      },
      "outputs": [],
      "source": [
        "#---- Versión reducida del dataset ----\n",
        "\n",
        "# from sklearn.datasets import load_digits\n",
        "\n",
        "# digits = load_digits()\n",
        "# X = digits.data\n",
        "# y = digits.target\n",
        "# print(X.shape)\n",
        "# print(y.shape)\n",
        "\n",
        "#----- Versión completa del dataset ----\n",
        "\n",
        "from keras.datasets import mnist\n",
        "(X_train, y_train), (X_test, y_test) = mnist.load_data()\n",
        "\n",
        "print(X_train.shape)\n",
        "print(y_train.shape)\n",
        "print(X_test.shape)\n",
        "print(y_test.shape)"
      ]
    },
    {
      "cell_type": "markdown",
      "source": [
        "🟢 Preprocesamiento: Reescalamos todo el dataset dividiendo entre 255"
      ],
      "metadata": {
        "id": "jl9zB6WfrYZF"
      }
    },
    {
      "cell_type": "code",
      "source": [
        "X_train = X_train.reshape(-1,28*28)/255.\n",
        "X_test = X_test.reshape(-1,28*28)/255."
      ],
      "metadata": {
        "id": "7vU7opHzrejq"
      },
      "execution_count": null,
      "outputs": []
    },
    {
      "cell_type": "markdown",
      "source": [
        "🔴 Realiza PCA para reducir el dataset a 2 dimensiones, es decir a 2 features. Imprime el shape de los conjuntos resultantes para asegurarte del proceso\n",
        "\n",
        "Recuerda:\n",
        "* Entrena y transforma el conjunto de entrenamiento\n",
        "* Transforma solamente el conjunto de prueba"
      ],
      "metadata": {
        "id": "VVCfjkwevE9i"
      }
    },
    {
      "cell_type": "code",
      "source": [
        "from sklearn.decomposition import PCA\n",
        "\n"
      ],
      "metadata": {
        "id": "-DipyZAxvX4J"
      },
      "execution_count": null,
      "outputs": []
    },
    {
      "cell_type": "markdown",
      "source": [
        "🔴 Entrena un clasificador, el que prefieras, con esta versión de 2 features. Reporta el accuracy y f1-score en el conjunto de entrenamiento y prueba.\n",
        "\n",
        "Recuerda:\n",
        "* SVM es buena opción pero lento\n",
        "* Decision Tree es rápido pero propenso a overfitting\n",
        "* K-NN es rápido pero le afecta la alta dimensionalidad\n"
      ],
      "metadata": {
        "id": "nJh_XbGepzj_"
      }
    },
    {
      "cell_type": "code",
      "execution_count": null,
      "metadata": {
        "id": "jx_cdkz_Oiva"
      },
      "outputs": [],
      "source": [
        "from sklearn.metrics import accuracy_score, f1_score\n",
        "\n",
        "\n",
        "print(f\"Train accuracy: {accuracy_score(y_train,y_pred_train)}\")\n",
        "print(f\"Train f1-score: {f1_score(y_train,y_pred_train,average='micro')}\")  # Observa el hiperparámetro 'micro'\n",
        "\n",
        "print(f\"Test accuracy: {accuracy_score(y_test,y_pred)}\")\n",
        "print(f\"Test f1-score: {f1_score(y_test,y_pred,average='micro')}\") # Observa el hiperparámetro 'micro'"
      ]
    },
    {
      "cell_type": "markdown",
      "source": [
        "🔴 Ahora:\n",
        "\n",
        "1. Realiza PCA con un número mayor de componentes principales $10\\leq d\\leq 100$\n",
        "2. Entrena un modelo usando el mismo algoritmo del paso anterior y vuelve a reportar las métricas, tanto en entrenamiento y prueba."
      ],
      "metadata": {
        "id": "5PcNG7kCpuUE"
      }
    },
    {
      "cell_type": "code",
      "execution_count": null,
      "metadata": {
        "id": "x8YFsCUjTZDf"
      },
      "outputs": [],
      "source": []
    },
    {
      "cell_type": "markdown",
      "source": [
        "🔴 Ahora, intenta entrenar un modelo con todas las features, es decir, con el dataset original."
      ],
      "metadata": {
        "id": "qGYcSIC10CeR"
      }
    },
    {
      "cell_type": "code",
      "source": [],
      "metadata": {
        "id": "TFmAEEch0WCJ"
      },
      "execution_count": null,
      "outputs": []
    },
    {
      "cell_type": "markdown",
      "metadata": {
        "id": "CXDoKf4Ed5sf"
      },
      "source": [
        "#### Opcional: Busqueda de hiper-parámetros"
      ]
    },
    {
      "cell_type": "code",
      "execution_count": null,
      "metadata": {
        "id": "WQHnrFICd8zn"
      },
      "outputs": [],
      "source": []
    },
    {
      "cell_type": "markdown",
      "metadata": {
        "id": "6hbbXlZ1JDot"
      },
      "source": [
        "⚡ Dado que no es necesario correr PCA en cada iteración y sólo basta con calcular todas las 64 PC, podemos hacer el grid search de la siguiente forma:"
      ]
    },
    {
      "cell_type": "code",
      "execution_count": null,
      "metadata": {
        "id": "lYd5PpU0JM9G"
      },
      "outputs": [],
      "source": []
    },
    {
      "cell_type": "markdown",
      "metadata": {
        "id": "WGyPcrSUsQry"
      },
      "source": [
        "# Práctica 2: Documentos de Wikipedia"
      ]
    },
    {
      "cell_type": "markdown",
      "metadata": {
        "id": "-RXeMiZm8knu"
      },
      "source": [
        "Descubrir temas es útil para diversos fines, como agrupar documentos, organizar contenido disponible en línea para recuperar información y hacer recomendaciones.\n",
        "\n",
        "**El modelado de temas** (topic modelling) es una técnica de minería de texto que proporciona métodos para descubrir temas ocultos en el documento, anotar los documentos con estos temas y organizar una gran cantidad de datos no estructurados. Numerosos proveedores de contenido y agencias de noticias están utilizando modelos de temas para recomendar artículos a los lectores.\n",
        "\n",
        "**<h4>Objetivo de la práctica</h4>**\n",
        "\n",
        "Usar la técnica de reducción de dimensionalidad PCA con el propósito de modelar documentos y medir semejanzas entre ellos.\n",
        "\n",
        "Usaremos el modelo de bolsa de palabras (BoW -- Bag of words), que da como resultado una matriz documento-término que representa documentos en función del conteo de términos.\n",
        "\n",
        "Tomaremos algunos documentos y recuperaremos los documentos más similares. Evaluaremos esta tarea usando la observación directa de los documentos."
      ]
    },
    {
      "cell_type": "markdown",
      "metadata": {
        "id": "jnTUAvKz8kn0"
      },
      "source": [
        "## Conjuntos de datos"
      ]
    },
    {
      "cell_type": "markdown",
      "metadata": {
        "id": "q7NIj9HL8kpG"
      },
      "source": [
        "Este conjunto de datos completo puede encontrarse [aquí](https://www.cs.upc.edu/~nlp/wikicorpus/). Estos archivos son tipo texto con el contenido raw del texto.\n",
        "\n",
        "*Para propósitos de esta sesión, solo usamos un archivo arbitrario de esta colección y lo presentamos ya preparado en un dataframe.*"
      ]
    },
    {
      "cell_type": "code",
      "execution_count": null,
      "metadata": {
        "id": "MTPBt5J_8kod"
      },
      "outputs": [],
      "source": [
        "import numpy as np\n",
        "import pandas as pd\n",
        "import matplotlib.pyplot as plt"
      ]
    },
    {
      "cell_type": "code",
      "execution_count": null,
      "metadata": {
        "id": "sAqbXLyaiFfn",
        "outputId": "8dc6c4c0-ebdf-4d0f-8067-2f11ca19c140",
        "colab": {
          "base_uri": "https://localhost:8080/",
          "height": 424
        }
      },
      "outputs": [
        {
          "output_type": "execute_result",
          "data": {
            "text/plain": [
              "                                                  Texto\n",
              "0     amaury iii señor montfort amaury conde évreux ...\n",
              "1     ruud janssen tilburg july artista holandés flu...\n",
              "2     grandes crónicas francia compilación obras his...\n",
              "3     san miguel basauri grupo barrios tomado barrio...\n",
              "4     río perené corto río perú constituye parte sup...\n",
              "...                                                 ...\n",
              "4018  iese puede hacer referencia siguiente institut...\n",
              "4019  cygni abreviado cyg sistema estelar triple loc...\n",
              "4020  acrónimo ima puede referirse instituto mundo á...\n",
              "4021  eleonora cassano buenos aires enero bailarina ...\n",
              "4022  modadalidad dobles masculino bádminton juegos ...\n",
              "\n",
              "[4023 rows x 1 columns]"
            ],
            "text/html": [
              "\n",
              "  <div id=\"df-4cc9e083-59b8-4675-930c-dc336e05aa53\" class=\"colab-df-container\">\n",
              "    <div>\n",
              "<style scoped>\n",
              "    .dataframe tbody tr th:only-of-type {\n",
              "        vertical-align: middle;\n",
              "    }\n",
              "\n",
              "    .dataframe tbody tr th {\n",
              "        vertical-align: top;\n",
              "    }\n",
              "\n",
              "    .dataframe thead th {\n",
              "        text-align: right;\n",
              "    }\n",
              "</style>\n",
              "<table border=\"1\" class=\"dataframe\">\n",
              "  <thead>\n",
              "    <tr style=\"text-align: right;\">\n",
              "      <th></th>\n",
              "      <th>Texto</th>\n",
              "    </tr>\n",
              "  </thead>\n",
              "  <tbody>\n",
              "    <tr>\n",
              "      <th>0</th>\n",
              "      <td>amaury iii señor montfort amaury conde évreux ...</td>\n",
              "    </tr>\n",
              "    <tr>\n",
              "      <th>1</th>\n",
              "      <td>ruud janssen tilburg july artista holandés flu...</td>\n",
              "    </tr>\n",
              "    <tr>\n",
              "      <th>2</th>\n",
              "      <td>grandes crónicas francia compilación obras his...</td>\n",
              "    </tr>\n",
              "    <tr>\n",
              "      <th>3</th>\n",
              "      <td>san miguel basauri grupo barrios tomado barrio...</td>\n",
              "    </tr>\n",
              "    <tr>\n",
              "      <th>4</th>\n",
              "      <td>río perené corto río perú constituye parte sup...</td>\n",
              "    </tr>\n",
              "    <tr>\n",
              "      <th>...</th>\n",
              "      <td>...</td>\n",
              "    </tr>\n",
              "    <tr>\n",
              "      <th>4018</th>\n",
              "      <td>iese puede hacer referencia siguiente institut...</td>\n",
              "    </tr>\n",
              "    <tr>\n",
              "      <th>4019</th>\n",
              "      <td>cygni abreviado cyg sistema estelar triple loc...</td>\n",
              "    </tr>\n",
              "    <tr>\n",
              "      <th>4020</th>\n",
              "      <td>acrónimo ima puede referirse instituto mundo á...</td>\n",
              "    </tr>\n",
              "    <tr>\n",
              "      <th>4021</th>\n",
              "      <td>eleonora cassano buenos aires enero bailarina ...</td>\n",
              "    </tr>\n",
              "    <tr>\n",
              "      <th>4022</th>\n",
              "      <td>modadalidad dobles masculino bádminton juegos ...</td>\n",
              "    </tr>\n",
              "  </tbody>\n",
              "</table>\n",
              "<p>4023 rows × 1 columns</p>\n",
              "</div>\n",
              "    <div class=\"colab-df-buttons\">\n",
              "\n",
              "  <div class=\"colab-df-container\">\n",
              "    <button class=\"colab-df-convert\" onclick=\"convertToInteractive('df-4cc9e083-59b8-4675-930c-dc336e05aa53')\"\n",
              "            title=\"Convert this dataframe to an interactive table.\"\n",
              "            style=\"display:none;\">\n",
              "\n",
              "  <svg xmlns=\"http://www.w3.org/2000/svg\" height=\"24px\" viewBox=\"0 -960 960 960\">\n",
              "    <path d=\"M120-120v-720h720v720H120Zm60-500h600v-160H180v160Zm220 220h160v-160H400v160Zm0 220h160v-160H400v160ZM180-400h160v-160H180v160Zm440 0h160v-160H620v160ZM180-180h160v-160H180v160Zm440 0h160v-160H620v160Z\"/>\n",
              "  </svg>\n",
              "    </button>\n",
              "\n",
              "  <style>\n",
              "    .colab-df-container {\n",
              "      display:flex;\n",
              "      gap: 12px;\n",
              "    }\n",
              "\n",
              "    .colab-df-convert {\n",
              "      background-color: #E8F0FE;\n",
              "      border: none;\n",
              "      border-radius: 50%;\n",
              "      cursor: pointer;\n",
              "      display: none;\n",
              "      fill: #1967D2;\n",
              "      height: 32px;\n",
              "      padding: 0 0 0 0;\n",
              "      width: 32px;\n",
              "    }\n",
              "\n",
              "    .colab-df-convert:hover {\n",
              "      background-color: #E2EBFA;\n",
              "      box-shadow: 0px 1px 2px rgba(60, 64, 67, 0.3), 0px 1px 3px 1px rgba(60, 64, 67, 0.15);\n",
              "      fill: #174EA6;\n",
              "    }\n",
              "\n",
              "    .colab-df-buttons div {\n",
              "      margin-bottom: 4px;\n",
              "    }\n",
              "\n",
              "    [theme=dark] .colab-df-convert {\n",
              "      background-color: #3B4455;\n",
              "      fill: #D2E3FC;\n",
              "    }\n",
              "\n",
              "    [theme=dark] .colab-df-convert:hover {\n",
              "      background-color: #434B5C;\n",
              "      box-shadow: 0px 1px 3px 1px rgba(0, 0, 0, 0.15);\n",
              "      filter: drop-shadow(0px 1px 2px rgba(0, 0, 0, 0.3));\n",
              "      fill: #FFFFFF;\n",
              "    }\n",
              "  </style>\n",
              "\n",
              "    <script>\n",
              "      const buttonEl =\n",
              "        document.querySelector('#df-4cc9e083-59b8-4675-930c-dc336e05aa53 button.colab-df-convert');\n",
              "      buttonEl.style.display =\n",
              "        google.colab.kernel.accessAllowed ? 'block' : 'none';\n",
              "\n",
              "      async function convertToInteractive(key) {\n",
              "        const element = document.querySelector('#df-4cc9e083-59b8-4675-930c-dc336e05aa53');\n",
              "        const dataTable =\n",
              "          await google.colab.kernel.invokeFunction('convertToInteractive',\n",
              "                                                    [key], {});\n",
              "        if (!dataTable) return;\n",
              "\n",
              "        const docLinkHtml = 'Like what you see? Visit the ' +\n",
              "          '<a target=\"_blank\" href=https://colab.research.google.com/notebooks/data_table.ipynb>data table notebook</a>'\n",
              "          + ' to learn more about interactive tables.';\n",
              "        element.innerHTML = '';\n",
              "        dataTable['output_type'] = 'display_data';\n",
              "        await google.colab.output.renderOutput(dataTable, element);\n",
              "        const docLink = document.createElement('div');\n",
              "        docLink.innerHTML = docLinkHtml;\n",
              "        element.appendChild(docLink);\n",
              "      }\n",
              "    </script>\n",
              "  </div>\n",
              "\n",
              "\n",
              "    <div id=\"df-33bae2f9-cb3a-4968-8d7a-4c75620a90bc\">\n",
              "      <button class=\"colab-df-quickchart\" onclick=\"quickchart('df-33bae2f9-cb3a-4968-8d7a-4c75620a90bc')\"\n",
              "                title=\"Suggest charts\"\n",
              "                style=\"display:none;\">\n",
              "\n",
              "<svg xmlns=\"http://www.w3.org/2000/svg\" height=\"24px\"viewBox=\"0 0 24 24\"\n",
              "     width=\"24px\">\n",
              "    <g>\n",
              "        <path d=\"M19 3H5c-1.1 0-2 .9-2 2v14c0 1.1.9 2 2 2h14c1.1 0 2-.9 2-2V5c0-1.1-.9-2-2-2zM9 17H7v-7h2v7zm4 0h-2V7h2v10zm4 0h-2v-4h2v4z\"/>\n",
              "    </g>\n",
              "</svg>\n",
              "      </button>\n",
              "\n",
              "<style>\n",
              "  .colab-df-quickchart {\n",
              "      --bg-color: #E8F0FE;\n",
              "      --fill-color: #1967D2;\n",
              "      --hover-bg-color: #E2EBFA;\n",
              "      --hover-fill-color: #174EA6;\n",
              "      --disabled-fill-color: #AAA;\n",
              "      --disabled-bg-color: #DDD;\n",
              "  }\n",
              "\n",
              "  [theme=dark] .colab-df-quickchart {\n",
              "      --bg-color: #3B4455;\n",
              "      --fill-color: #D2E3FC;\n",
              "      --hover-bg-color: #434B5C;\n",
              "      --hover-fill-color: #FFFFFF;\n",
              "      --disabled-bg-color: #3B4455;\n",
              "      --disabled-fill-color: #666;\n",
              "  }\n",
              "\n",
              "  .colab-df-quickchart {\n",
              "    background-color: var(--bg-color);\n",
              "    border: none;\n",
              "    border-radius: 50%;\n",
              "    cursor: pointer;\n",
              "    display: none;\n",
              "    fill: var(--fill-color);\n",
              "    height: 32px;\n",
              "    padding: 0;\n",
              "    width: 32px;\n",
              "  }\n",
              "\n",
              "  .colab-df-quickchart:hover {\n",
              "    background-color: var(--hover-bg-color);\n",
              "    box-shadow: 0 1px 2px rgba(60, 64, 67, 0.3), 0 1px 3px 1px rgba(60, 64, 67, 0.15);\n",
              "    fill: var(--button-hover-fill-color);\n",
              "  }\n",
              "\n",
              "  .colab-df-quickchart-complete:disabled,\n",
              "  .colab-df-quickchart-complete:disabled:hover {\n",
              "    background-color: var(--disabled-bg-color);\n",
              "    fill: var(--disabled-fill-color);\n",
              "    box-shadow: none;\n",
              "  }\n",
              "\n",
              "  .colab-df-spinner {\n",
              "    border: 2px solid var(--fill-color);\n",
              "    border-color: transparent;\n",
              "    border-bottom-color: var(--fill-color);\n",
              "    animation:\n",
              "      spin 1s steps(1) infinite;\n",
              "  }\n",
              "\n",
              "  @keyframes spin {\n",
              "    0% {\n",
              "      border-color: transparent;\n",
              "      border-bottom-color: var(--fill-color);\n",
              "      border-left-color: var(--fill-color);\n",
              "    }\n",
              "    20% {\n",
              "      border-color: transparent;\n",
              "      border-left-color: var(--fill-color);\n",
              "      border-top-color: var(--fill-color);\n",
              "    }\n",
              "    30% {\n",
              "      border-color: transparent;\n",
              "      border-left-color: var(--fill-color);\n",
              "      border-top-color: var(--fill-color);\n",
              "      border-right-color: var(--fill-color);\n",
              "    }\n",
              "    40% {\n",
              "      border-color: transparent;\n",
              "      border-right-color: var(--fill-color);\n",
              "      border-top-color: var(--fill-color);\n",
              "    }\n",
              "    60% {\n",
              "      border-color: transparent;\n",
              "      border-right-color: var(--fill-color);\n",
              "    }\n",
              "    80% {\n",
              "      border-color: transparent;\n",
              "      border-right-color: var(--fill-color);\n",
              "      border-bottom-color: var(--fill-color);\n",
              "    }\n",
              "    90% {\n",
              "      border-color: transparent;\n",
              "      border-bottom-color: var(--fill-color);\n",
              "    }\n",
              "  }\n",
              "</style>\n",
              "\n",
              "      <script>\n",
              "        async function quickchart(key) {\n",
              "          const quickchartButtonEl =\n",
              "            document.querySelector('#' + key + ' button');\n",
              "          quickchartButtonEl.disabled = true;  // To prevent multiple clicks.\n",
              "          quickchartButtonEl.classList.add('colab-df-spinner');\n",
              "          try {\n",
              "            const charts = await google.colab.kernel.invokeFunction(\n",
              "                'suggestCharts', [key], {});\n",
              "          } catch (error) {\n",
              "            console.error('Error during call to suggestCharts:', error);\n",
              "          }\n",
              "          quickchartButtonEl.classList.remove('colab-df-spinner');\n",
              "          quickchartButtonEl.classList.add('colab-df-quickchart-complete');\n",
              "        }\n",
              "        (() => {\n",
              "          let quickchartButtonEl =\n",
              "            document.querySelector('#df-33bae2f9-cb3a-4968-8d7a-4c75620a90bc button');\n",
              "          quickchartButtonEl.style.display =\n",
              "            google.colab.kernel.accessAllowed ? 'block' : 'none';\n",
              "        })();\n",
              "      </script>\n",
              "    </div>\n",
              "\n",
              "  <div id=\"id_274eaec6-3b7f-4fae-aed8-c6914dfe7561\">\n",
              "    <style>\n",
              "      .colab-df-generate {\n",
              "        background-color: #E8F0FE;\n",
              "        border: none;\n",
              "        border-radius: 50%;\n",
              "        cursor: pointer;\n",
              "        display: none;\n",
              "        fill: #1967D2;\n",
              "        height: 32px;\n",
              "        padding: 0 0 0 0;\n",
              "        width: 32px;\n",
              "      }\n",
              "\n",
              "      .colab-df-generate:hover {\n",
              "        background-color: #E2EBFA;\n",
              "        box-shadow: 0px 1px 2px rgba(60, 64, 67, 0.3), 0px 1px 3px 1px rgba(60, 64, 67, 0.15);\n",
              "        fill: #174EA6;\n",
              "      }\n",
              "\n",
              "      [theme=dark] .colab-df-generate {\n",
              "        background-color: #3B4455;\n",
              "        fill: #D2E3FC;\n",
              "      }\n",
              "\n",
              "      [theme=dark] .colab-df-generate:hover {\n",
              "        background-color: #434B5C;\n",
              "        box-shadow: 0px 1px 3px 1px rgba(0, 0, 0, 0.15);\n",
              "        filter: drop-shadow(0px 1px 2px rgba(0, 0, 0, 0.3));\n",
              "        fill: #FFFFFF;\n",
              "      }\n",
              "    </style>\n",
              "    <button class=\"colab-df-generate\" onclick=\"generateWithVariable('df')\"\n",
              "            title=\"Generate code using this dataframe.\"\n",
              "            style=\"display:none;\">\n",
              "\n",
              "  <svg xmlns=\"http://www.w3.org/2000/svg\" height=\"24px\"viewBox=\"0 0 24 24\"\n",
              "       width=\"24px\">\n",
              "    <path d=\"M7,19H8.4L18.45,9,17,7.55,7,17.6ZM5,21V16.75L18.45,3.32a2,2,0,0,1,2.83,0l1.4,1.43a1.91,1.91,0,0,1,.58,1.4,1.91,1.91,0,0,1-.58,1.4L9.25,21ZM18.45,9,17,7.55Zm-12,3A5.31,5.31,0,0,0,4.9,8.1,5.31,5.31,0,0,0,1,6.5,5.31,5.31,0,0,0,4.9,4.9,5.31,5.31,0,0,0,6.5,1,5.31,5.31,0,0,0,8.1,4.9,5.31,5.31,0,0,0,12,6.5,5.46,5.46,0,0,0,6.5,12Z\"/>\n",
              "  </svg>\n",
              "    </button>\n",
              "    <script>\n",
              "      (() => {\n",
              "      const buttonEl =\n",
              "        document.querySelector('#id_274eaec6-3b7f-4fae-aed8-c6914dfe7561 button.colab-df-generate');\n",
              "      buttonEl.style.display =\n",
              "        google.colab.kernel.accessAllowed ? 'block' : 'none';\n",
              "\n",
              "      buttonEl.onclick = () => {\n",
              "        google.colab.notebook.generateWithVariable('df');\n",
              "      }\n",
              "      })();\n",
              "    </script>\n",
              "  </div>\n",
              "\n",
              "    </div>\n",
              "  </div>\n"
            ],
            "application/vnd.google.colaboratory.intrinsic+json": {
              "type": "dataframe",
              "variable_name": "df",
              "summary": "{\n  \"name\": \"df\",\n  \"rows\": 4023,\n  \"fields\": [\n    {\n      \"column\": \"Texto\",\n      \"properties\": {\n        \"dtype\": \"string\",\n        \"num_unique_values\": 4023,\n        \"samples\": [\n          \"partido dem\\u00f3crata liberal pdl partido ideolog\\u00eda liberal espa\\u00f1ol fundado antonio garrigues walker constituido partidos territoriales federados constituy\\u00f3 base partido reformista democr\\u00e1tico liderado miquel roca integr\\u00f3 prd present\\u00f3 elecciones generales fracasando estrepitosamente fracaso conllev\\u00f3 autodisoluci\\u00f3n prd pdl superviviese disoluci\\u00f3n grupo militantes refund\\u00f3 partido dem\\u00f3crata liberal catalu\\u00f1a relanz\\u00f3 pdl toda espa\\u00f1a constituyendo federaci\\u00f3n partidos liberales adem\\u00e1s pdl participaba uni\\u00f3n progresista liberal logr\\u00f3 consolidarse referencias\",\n          \"pic midi bigorre occitano gasc\\u00f3n pic mieidia big\\u00f2rra situado departamento franc\\u00e9s altos pirineos alcanza altura metros conocido cosas presencia observatorio astron\\u00f3mico antena televisi\\u00f3n geograf\\u00eda situado pirineos franceses departamento altos pirineos cerca bagn\\u00e8resdebigorre refiri\\u00e9ndose pueblo antiguo condado bigorre comt\\u00e9 bigorreel pico conoce panor\\u00e1mica cadenas monta\\u00f1osas francoespa\\u00f1olas posible acceder pico pie trav\\u00e9s senderos monta\\u00f1a bien telef\\u00e9rico salida mongie telef\\u00e9rico formado dos secciones premier tron\\u00e7on mongie taoulet comporte plusieurs pyl\\u00f4nes deuxi\\u00e8me tron\\u00e7on taoulet pic midi comporte quun seul pyl\\u00f4ne pr\\u00e8s gare darriv\\u00e9e pr\\u00e9sente une trav\\u00e9e c\\u00e2ble long taoulet pyl\\u00f4ne enlaces externos site lobservatoire lhistoire site lunette jean r\\u00f6sch des webcams direct sommet carnet bord blog lobservatoire lhistoire histoires pic midi bigorre activit\\u00e9s sport nature pic midi\",\n          \"historia chilo\\u00e9 archipi\\u00e9lago sur chile inici\\u00f3 llegada primeros seres humanos territorio chilote a\\u00f1o primeros pobladores vestigios humanos antiguos chilo\\u00e9 fechados datan a\\u00f1os encontraron bajo vivienda puente quilo pen\\u00ednsula lacuy sector noroeste comuna ancud trata huesos humanos diversas clases restos alimentos piedras trabajadas carb\\u00f3n conchales toda costa isla grande existen conchales decir dep\\u00f3sitos conchas moluscos acci\\u00f3n humana acompa\\u00f1adas herramientas piedra huellas fogatas ocasionalmente aparecen esqueletos aves marinas ciertos casos seres humanos restos se\\u00f1alan presencia grupos n\\u00f3madas dedicados primariamente recolecci\\u00f3n mariscos almejas choritos choros zapatos secundariamente caza pesca encontrado sitios cantos tallados conocidos t\\u00e9rmino ingl\\u00e9s chopper bifaces lascas piedra adem\\u00e1s objetos hueso conchales antiguos datado a\\u00f1os permanecen uso pues comunidades locales ven basureros tiempos relativamente recientes sitios arqueol\\u00f3gicos da\\u00f1ados seriamente maremoto seguido deterior\\u00e1ndose acci\\u00f3n natural extraen conchas usar caminos remueven usarlos material relleno chonos chonos primeros habitantes conocidos archipi\\u00e9lago nombre designa varios pueblos n\\u00f3madas marinos baja estatura habitaban chilo\\u00e9 golfo penas parecen haber relacionado pueblos canoeros australes alacalufes kaw\\u00e9sqar recorr\\u00edan mar interior chilo\\u00e9 atravesaban golfo corcovado archipi\\u00e9lagos chonos guaitecas embarcaciones tres tablas llamadas dalcas asentaban temporalmente sitios resguardados vientos pueden reconocerse presencia conchales dedicaban recolecci\\u00f3n mariscos caza lobos marinos postula principal sistema cocci\\u00f3n alimentos medio piedras calientes dentro hoyo cubierto luego hojas pangue antecesor curanto vest\\u00edan pieles lobo mantos tejidos pelo perro mayor parte registros idioma idiomas perdido puede saber ciencia cierta pretendido idioma chono dialecto idioma kaw\\u00e9sqar postula nombres laitec linlinao quenac provienen lengua chonos desplazados hacia sur llegada pueblo sedentario continente trataba porci\\u00f3n huilliches buscaban nuevos lugares asentamiento posiblemente empuje mapuches norte relaciones chonos huilliches siempre pac\\u00edficas mediados siglo xvi producido mezcla \\u00e9tnica cultural ambos grupos modo chonos comenzaron practicar incipientemente agricultura principalmente papa mientras huilliches adoptaron costumbres marineras chonos principalmente uso dalca llegada espa\\u00f1oles trasladaron hacia zonas alejadas aunque emprend\\u00edan continuas expediciones pillaje causaban temor poblados huilliches sur isla alarma autoridades espa\\u00f1olas paulatinamente establecieron relaciones comerciales europeos llegando ser proveedores esclavos siglo xviii decidieron radicarse pac\\u00edficamente chilo\\u00e9 reunidos misi\\u00f3n isla cail\\u00edn cultura termin\\u00f3 desaparecer sedentarizarse mezclarse chilotes pueblos canoeros sur radicados misi\\u00f3n estudios gen\\u00e9ticos realizados chilo\\u00e9 se\\u00f1alan poblaci\\u00f3n isla laitec presenta marcadores gen\\u00e9ticos diferentes poblaciones septentrionales chilo\\u00e9 parecidos pueblos fueguinos podr\\u00eda ser indicador ancestros chonos huilliches \\u00e9poca determinada probablemente primera mitad segundo milenio arrib\\u00f3 archipi\\u00e9lago pueblo agricultores ganaderos cultura lengua mapuche historiograf\\u00eda convencional recibido indistintamente nombre huilliches veliches cuncos establecieron zona norte isla grande alrededores canal chacao luego expandieron hacia sur colonizando territorios momento ocupado chonos mezcl\\u00e1ndose parcialmente modo huilliches consolidaron presencia toda costa norte porci\\u00f3n septentrional costa oriente isla grande principalmente pen\\u00ednsula ril\\u00e1n toda quinchao islas vecinas sur fiordo castro costa sur chonchi huildad habitaban payos parecen haber sido huilliches chonos mezclados suficientemente diferenciados culturalmente ser considerados pueblo conquistadores espa\\u00f1oles huilliches practicaban agricultura roza principales cultivos papa ma\\u00edz mango cereal qu\\u00ednoa s\\u00f3lo cultivaban terrenos cercanos mar rozados fuego despejados nunca colonizaron interior isla grande permaneci\\u00f3 despoblada siglo xix principal herramienta luma palo aguzado entierra suelo haciendo fuerza torso luego levanta abrir surcos criaban auqu\\u00e9nido llamado chilihueque probablemente alguna variedad llama daba lana carne entingui\\u00f3 siglo complementaban alimentaci\\u00f3n recolecci\\u00f3n frutos silvestres productos mar contacto chonos aprendieron confeccionar dalcas tres tablas alerce sucesivo emplearon viajes dentro mar interior incluso hacia continente conquista espa\\u00f1ola llegada conquistadores espa\\u00f1oles am\\u00e9rica ocurri\\u00f3 estrecho magallanes primer sitio actual territorio chileno ser visitado europeo hernando magallanes hizo tal cosa descubrimiento parte europeos territorio continental chile ocurri\\u00f3 cuatro a\\u00f1os tarde nave alonso camargo avist\\u00f3 costas chilo\\u00e9 mientras viajaba per\\u00fa a\\u00f1os despu\\u00e9s pedro valdivia organiz\\u00f3 expedici\\u00f3n fin recolectar informaci\\u00f3n geogr\\u00e1fica puso mando expedici\\u00f3n capit\\u00e1n francisco ulloa lleg\\u00f3 canal chacao recorri\\u00f3 islas archipi\\u00e9lago considerado primer europeo conocer chilo\\u00e9 juan fern\\u00e1ndez ladrillero ingresa canales chilo\\u00e9 toma contacto abor\\u00edgenes mismo a\\u00f1o garc\\u00eda hurtado mendoza inicia expedici\\u00f3n explorar territorio hacia sur llegar canal chacao pueden proseguir env\\u00edan pocos hombres piraguas seguir sur cuatro d\\u00edas volver contar descubierto cronista alonso g\\u00f3ngora marmolejo relata modo vueltos dieron raz\\u00f3n archipi\\u00e9lago grande islas montosas aunque bien poblado naturales parec\\u00eda contrataci\\u00f3n indios ser toda mar fines comienzos francisco villagra arrib\\u00f3 islas chilo\\u00e9 barco salido valdivia enter\\u00f3 exploradores comarca f\\u00e9rtil bien poblada poder irse nave encall\\u00f3 causa gran diferencias nivel agua mareas luego debi\\u00f3 hacer frente ataque ind\\u00edgena espa\\u00f1oles lograron repeler ataque incluso capturar enemigos informarse situaci\\u00f3n territorio hecho regresaron arauco comienza proceso conquista chilo\\u00e9 orden gobernador rodrigo quiroga designado cumplir tarea yerno mart\\u00edn ruiz gamboa llev\\u00f3 consigo hombres pertrechados asentarse nuevas posesiones cruzaron canal chacao cuatro d\\u00edas usando dalcas tardaron tiempo pues aparte mismos enseres deb\\u00edan hacer atravesar caballos atados embarcaciones ruiz gamboa consider\\u00f3 adecuado fundar ciudad junto r\\u00edo ind\\u00edgenas llamaban quilque actual r\\u00edo gamboa bautiz\\u00f3 santiago castro mientras isla llamada nueva galicia t\\u00e9rmino prosper\\u00f3 mantuvo voz huilliche chilo\\u00e9 despu\\u00e9s repartir ind\\u00edgenas encomienda dejar establecidas dem\\u00e1s instituciones pertinentes ruiz gamboa retorn\\u00f3 continente seguir combatiendo guerra arauco momento repartir ind\\u00edgenas tributarios cada encomienda mart\\u00edn ruiz gamboa estim\\u00f3 setenta cav\\u00edes existentes isla reun\\u00edan unas mil almas c\\u00e1lculo demostr\\u00f3 ser exagerado aunque conoce exactitud cantidad poblaci\\u00f3n nativa existente isla momento conquista espa\\u00f1ola diversos historiadores estiman unas mil personas bas\\u00e1ndose principalmente cantidad ind\\u00edgenas tributarios mil segundo reparto llevado cabo mismo a\\u00f1o corregidor alonso ben\\u00edtez colonia despu\\u00e9s desastre curalaba mapuches vencieron mataron gobernador chile chilo\\u00e9 qued\\u00f3 separado resto posesiones espa\\u00f1olas todas ciudades r\\u00edo biob\\u00edo canal chacao abandonadas destruidas siglo xvii habitantes castro sufrieron ataques corsarios holandeses destruyeron parcialmente ciudad espa\\u00f1oles solicitaron repetidas veces despoblar islas causa miseria aislamiento dec\\u00edan vivir hizo caso relevancia estrat\\u00e9gica asentamiento espa\\u00f1a rey autoriz\\u00f3 virrey per\\u00fa hiciese cargo defensa entregara gobierno militar mismo dispusiera amat usando dicha atribuci\\u00f3n a\\u00f1o siguiente reemplaz\\u00f3 gobernador chilo\\u00e9 manuel fern\\u00e1ndez castelblanco capit\\u00e1n carlos beranger anexi\\u00f3n chilo\\u00e9 virreinato car\\u00e1cter transitoria pues decreto virrey amat se\\u00f1alaba s\\u00f3lo ahora mientras duraren operaciones van emprender fortificaci\\u00f3n realiz\\u00f3 beranguer fundando villa fuerte real san carlos chilo\\u00e9 actual ciudad ancud pas\\u00f3 ser sede gobernadores provincia finalmente cre\\u00f3 intendencia chilo\\u00e9 dependiente lima vez bajo jurisdicci\\u00f3n capitan\\u00eda general chile intendencia transform\\u00f3 gobernaci\\u00f3n militar primeros a\\u00f1os mercedarios franciscanos cargo labor espiritual llegaron primeros jesuitas fundaron primera iglesia castro evangelizar nativos jesuitas haciendo capillas archipi\\u00e9lago hoy pueden encontrar tras expulsi\\u00f3n compa\\u00f1\\u00eda jes\\u00fas orden franciscana asumi\\u00f3 asistencia religiosa archipi\\u00e9lago independencia chile central iniciado proceso juntismo desembocando proceso independencia chilo\\u00e9 manten\\u00eda vinculaci\\u00f3n virreinato per\\u00fa vivi\\u00f3 proceso similar manteni\\u00e9ndose autoridades alteraci\\u00f3n alguna as\\u00ed orden virrey abascal desembarc\\u00f3 villa fuerte real san carlos chilo\\u00e9 actual ancud brigadier don antonio pareja encargo formar expedici\\u00f3n restaurar poder real reino chile hizo auxilio gobernador chilo\\u00e9 entusiasta apoyo poblaci\\u00f3n chilota formado ej\\u00e9rcito chilo\\u00e9 sali\\u00f3 villa fuerte real san carlos hacia valdivia all\\u00ed inici\\u00f3 combates independentistas reino chile culminaron derrota \\u00e9stos llamado desastre rancagua posterior entrada victoriosa chilotes ciudad santiago octubre producida independencia chile bajo gobierno bernardo ohiggins lord cochrane despu\\u00e9s haber asaltado tomado ciudad valdivia dirigi\\u00f3 chilo\\u00e9 asalt\\u00f3 castillo san miguel ag\\u00fci rechazado derrotado reembarcar dirigirse chile primer \\u00e9xito militar anim\\u00f3 gobernador chilo\\u00e9 don antonio quintanilla organizar defensa provincia continuaba fiel monarqu\\u00eda as\\u00ed pudo derrotar nueva expedici\\u00f3n chilena dirigida director supremo ram\\u00f3n freire batalla mocopulli abril dos a\\u00f1os tarde chile organiz\\u00f3 ej\\u00e9rcito expedicionario objetivo anexar chilo\\u00e9 vez tras batallas campos pudeto bellavista enero retiro tropas chilotas hacia interior provincia acord\\u00f3 tregua finalmente convino tratado tratado tantauco firmado comisionados ambos ej\\u00e9rcitos puente san antonio ratificado freire quintanilla enero cuyo primer art\\u00edculo declaraba provincia archipi\\u00e9lago chilo\\u00e9 territorio abraza hallan poder ej\\u00e9rcito real incorporado rep\\u00fablica chile parte integrante habitantes gozar\\u00e1n igualdad derechos ciudadanos chilenos qued\\u00f3 mando chilo\\u00e9 partir momento coronel jos\\u00e9 santiago aldunate soportar rebeliones primeros tiempos gobierno periodo republicano despu\\u00e9s independencia chilo\\u00e9 vio beneficiado apertura comercio centro abastecimiento balleneros extranjeros mediados siglo xix principios siglo principal productor durmientes ferrocarriles continente partir entonces comenzaron formarse nuevos pueblos dedicarse industria as\\u00ed nacieron quell\\u00f3n dalcahue chonchi quemchi entregando tierras colonos alemanes ingleses franceses espa\\u00f1oles grandes industrias productoras auge ganader\\u00eda comenz\\u00f3 ocupar zona interior islas pues s\\u00f3lo ocupaban costas construcci\\u00f3n ferrocarril ancud castro complet\\u00f3 ocupaci\\u00f3n tierras interiores isla \\u00e9ste ferrocarril hoy encuentra servicio finales siglo chilo\\u00e9 sigui\\u00f3 modelo impuesto chile experiment\\u00f3 cambios sistemas vida nuevas empresas acuicultura salmoneras trajeron beneficios chilotes generaci\\u00f3n empleos problemas alteraci\\u00f3n ecosistemas present\\u00f3 primera vez proyecto construcci\\u00f3n puente permitiera unir isla grande territorio continental idea construcci\\u00f3n viaducto s\\u00f3lo comenzar\\u00eda concretarse gobierno ricardo lagos lanz\\u00f3 proyecto parte obras celebrar bicentenario pa\\u00eds embargo proyecto puente bicentenario cancelado luego costo estimado superara creces presupuesto inicialmente notas bibliograf\\u00eda enlaces externos\"\n        ],\n        \"semantic_type\": \"\",\n        \"description\": \"\"\n      }\n    }\n  ]\n}"
            }
          },
          "metadata": {},
          "execution_count": 2
        }
      ],
      "source": [
        "import pandas as pd\n",
        "\n",
        "url = \"https://raw.githubusercontent.com/DCDPUAEM/DCDP/main/03%20Machine%20Learning/data/spanish-wikipedia-dataframe.csv\"\n",
        "\n",
        "df = pd.read_csv(url, index_col=0)\n",
        "df.drop(columns=['doc_id'],inplace=True)\n",
        "df"
      ]
    },
    {
      "cell_type": "markdown",
      "metadata": {
        "id": "EDeegn_TmTR6"
      },
      "source": [
        "Con este dataset, usaremos la reducción de dimensionalidad para encontrar similitudes entre documentos."
      ]
    },
    {
      "cell_type": "markdown",
      "metadata": {
        "id": "XqtmSm4Y8krL"
      },
      "source": [
        "## **Extracción de características**"
      ]
    },
    {
      "cell_type": "markdown",
      "metadata": {
        "id": "EUEWfzzv8krN"
      },
      "source": [
        "Tratemos de visualizar algunas propiedades de los documentos.\n",
        "\n",
        "Para ello vamos a utilizar un contador ([Counter](https://docs.python.org/2/library/collections.html#collections.Counter)). Un contador es un contenedor que almacena elementos como claves de diccionario, y sus recuentos se almacenan como valores de diccionario.\n",
        "\n",
        "Construiremos una columna con el conteo de palabras por documento y otra con la palabra más frecuente en el documento.\n",
        "\n",
        "**Observación**: Podríamos saltarnos esto y hacerlo directamente con CountVectorizer, pero lo haremos para tener una forma de validación de los datos. Además, de mostrar una forma muy básica de tokenizar y realizar algunas tareas básicas de procesamiento de texto."
      ]
    },
    {
      "cell_type": "code",
      "execution_count": null,
      "metadata": {
        "id": "TCyLxlvL8krS",
        "outputId": "80b8177c-15bf-4528-8cb4-6e1e7c03553d",
        "colab": {
          "base_uri": "https://localhost:8080/",
          "height": 206
        }
      },
      "outputs": [
        {
          "output_type": "execute_result",
          "data": {
            "text/plain": [
              "                                               Texto  Total\n",
              "0  campeonato mundial pesos pesados boxeo generad...  11586\n",
              "1  cali oficialmente santiago cali capital depart...   6637\n",
              "2  monarquía británica monarquía compartida artíc...   5790\n",
              "3  guerra grecia antigua frase usada describir gu...   4471\n",
              "4  nombre sirna siglas inglés small interfering r...   3895"
            ],
            "text/html": [
              "\n",
              "  <div id=\"df-726c1c6e-6b99-4f51-bcff-f9db9fb511bc\" class=\"colab-df-container\">\n",
              "    <div>\n",
              "<style scoped>\n",
              "    .dataframe tbody tr th:only-of-type {\n",
              "        vertical-align: middle;\n",
              "    }\n",
              "\n",
              "    .dataframe tbody tr th {\n",
              "        vertical-align: top;\n",
              "    }\n",
              "\n",
              "    .dataframe thead th {\n",
              "        text-align: right;\n",
              "    }\n",
              "</style>\n",
              "<table border=\"1\" class=\"dataframe\">\n",
              "  <thead>\n",
              "    <tr style=\"text-align: right;\">\n",
              "      <th></th>\n",
              "      <th>Texto</th>\n",
              "      <th>Total</th>\n",
              "    </tr>\n",
              "  </thead>\n",
              "  <tbody>\n",
              "    <tr>\n",
              "      <th>0</th>\n",
              "      <td>campeonato mundial pesos pesados boxeo generad...</td>\n",
              "      <td>11586</td>\n",
              "    </tr>\n",
              "    <tr>\n",
              "      <th>1</th>\n",
              "      <td>cali oficialmente santiago cali capital depart...</td>\n",
              "      <td>6637</td>\n",
              "    </tr>\n",
              "    <tr>\n",
              "      <th>2</th>\n",
              "      <td>monarquía británica monarquía compartida artíc...</td>\n",
              "      <td>5790</td>\n",
              "    </tr>\n",
              "    <tr>\n",
              "      <th>3</th>\n",
              "      <td>guerra grecia antigua frase usada describir gu...</td>\n",
              "      <td>4471</td>\n",
              "    </tr>\n",
              "    <tr>\n",
              "      <th>4</th>\n",
              "      <td>nombre sirna siglas inglés small interfering r...</td>\n",
              "      <td>3895</td>\n",
              "    </tr>\n",
              "  </tbody>\n",
              "</table>\n",
              "</div>\n",
              "    <div class=\"colab-df-buttons\">\n",
              "\n",
              "  <div class=\"colab-df-container\">\n",
              "    <button class=\"colab-df-convert\" onclick=\"convertToInteractive('df-726c1c6e-6b99-4f51-bcff-f9db9fb511bc')\"\n",
              "            title=\"Convert this dataframe to an interactive table.\"\n",
              "            style=\"display:none;\">\n",
              "\n",
              "  <svg xmlns=\"http://www.w3.org/2000/svg\" height=\"24px\" viewBox=\"0 -960 960 960\">\n",
              "    <path d=\"M120-120v-720h720v720H120Zm60-500h600v-160H180v160Zm220 220h160v-160H400v160Zm0 220h160v-160H400v160ZM180-400h160v-160H180v160Zm440 0h160v-160H620v160ZM180-180h160v-160H180v160Zm440 0h160v-160H620v160Z\"/>\n",
              "  </svg>\n",
              "    </button>\n",
              "\n",
              "  <style>\n",
              "    .colab-df-container {\n",
              "      display:flex;\n",
              "      gap: 12px;\n",
              "    }\n",
              "\n",
              "    .colab-df-convert {\n",
              "      background-color: #E8F0FE;\n",
              "      border: none;\n",
              "      border-radius: 50%;\n",
              "      cursor: pointer;\n",
              "      display: none;\n",
              "      fill: #1967D2;\n",
              "      height: 32px;\n",
              "      padding: 0 0 0 0;\n",
              "      width: 32px;\n",
              "    }\n",
              "\n",
              "    .colab-df-convert:hover {\n",
              "      background-color: #E2EBFA;\n",
              "      box-shadow: 0px 1px 2px rgba(60, 64, 67, 0.3), 0px 1px 3px 1px rgba(60, 64, 67, 0.15);\n",
              "      fill: #174EA6;\n",
              "    }\n",
              "\n",
              "    .colab-df-buttons div {\n",
              "      margin-bottom: 4px;\n",
              "    }\n",
              "\n",
              "    [theme=dark] .colab-df-convert {\n",
              "      background-color: #3B4455;\n",
              "      fill: #D2E3FC;\n",
              "    }\n",
              "\n",
              "    [theme=dark] .colab-df-convert:hover {\n",
              "      background-color: #434B5C;\n",
              "      box-shadow: 0px 1px 3px 1px rgba(0, 0, 0, 0.15);\n",
              "      filter: drop-shadow(0px 1px 2px rgba(0, 0, 0, 0.3));\n",
              "      fill: #FFFFFF;\n",
              "    }\n",
              "  </style>\n",
              "\n",
              "    <script>\n",
              "      const buttonEl =\n",
              "        document.querySelector('#df-726c1c6e-6b99-4f51-bcff-f9db9fb511bc button.colab-df-convert');\n",
              "      buttonEl.style.display =\n",
              "        google.colab.kernel.accessAllowed ? 'block' : 'none';\n",
              "\n",
              "      async function convertToInteractive(key) {\n",
              "        const element = document.querySelector('#df-726c1c6e-6b99-4f51-bcff-f9db9fb511bc');\n",
              "        const dataTable =\n",
              "          await google.colab.kernel.invokeFunction('convertToInteractive',\n",
              "                                                    [key], {});\n",
              "        if (!dataTable) return;\n",
              "\n",
              "        const docLinkHtml = 'Like what you see? Visit the ' +\n",
              "          '<a target=\"_blank\" href=https://colab.research.google.com/notebooks/data_table.ipynb>data table notebook</a>'\n",
              "          + ' to learn more about interactive tables.';\n",
              "        element.innerHTML = '';\n",
              "        dataTable['output_type'] = 'display_data';\n",
              "        await google.colab.output.renderOutput(dataTable, element);\n",
              "        const docLink = document.createElement('div');\n",
              "        docLink.innerHTML = docLinkHtml;\n",
              "        element.appendChild(docLink);\n",
              "      }\n",
              "    </script>\n",
              "  </div>\n",
              "\n",
              "\n",
              "    <div id=\"df-0ce83865-88d6-4159-b663-8913c280ec49\">\n",
              "      <button class=\"colab-df-quickchart\" onclick=\"quickchart('df-0ce83865-88d6-4159-b663-8913c280ec49')\"\n",
              "                title=\"Suggest charts\"\n",
              "                style=\"display:none;\">\n",
              "\n",
              "<svg xmlns=\"http://www.w3.org/2000/svg\" height=\"24px\"viewBox=\"0 0 24 24\"\n",
              "     width=\"24px\">\n",
              "    <g>\n",
              "        <path d=\"M19 3H5c-1.1 0-2 .9-2 2v14c0 1.1.9 2 2 2h14c1.1 0 2-.9 2-2V5c0-1.1-.9-2-2-2zM9 17H7v-7h2v7zm4 0h-2V7h2v10zm4 0h-2v-4h2v4z\"/>\n",
              "    </g>\n",
              "</svg>\n",
              "      </button>\n",
              "\n",
              "<style>\n",
              "  .colab-df-quickchart {\n",
              "      --bg-color: #E8F0FE;\n",
              "      --fill-color: #1967D2;\n",
              "      --hover-bg-color: #E2EBFA;\n",
              "      --hover-fill-color: #174EA6;\n",
              "      --disabled-fill-color: #AAA;\n",
              "      --disabled-bg-color: #DDD;\n",
              "  }\n",
              "\n",
              "  [theme=dark] .colab-df-quickchart {\n",
              "      --bg-color: #3B4455;\n",
              "      --fill-color: #D2E3FC;\n",
              "      --hover-bg-color: #434B5C;\n",
              "      --hover-fill-color: #FFFFFF;\n",
              "      --disabled-bg-color: #3B4455;\n",
              "      --disabled-fill-color: #666;\n",
              "  }\n",
              "\n",
              "  .colab-df-quickchart {\n",
              "    background-color: var(--bg-color);\n",
              "    border: none;\n",
              "    border-radius: 50%;\n",
              "    cursor: pointer;\n",
              "    display: none;\n",
              "    fill: var(--fill-color);\n",
              "    height: 32px;\n",
              "    padding: 0;\n",
              "    width: 32px;\n",
              "  }\n",
              "\n",
              "  .colab-df-quickchart:hover {\n",
              "    background-color: var(--hover-bg-color);\n",
              "    box-shadow: 0 1px 2px rgba(60, 64, 67, 0.3), 0 1px 3px 1px rgba(60, 64, 67, 0.15);\n",
              "    fill: var(--button-hover-fill-color);\n",
              "  }\n",
              "\n",
              "  .colab-df-quickchart-complete:disabled,\n",
              "  .colab-df-quickchart-complete:disabled:hover {\n",
              "    background-color: var(--disabled-bg-color);\n",
              "    fill: var(--disabled-fill-color);\n",
              "    box-shadow: none;\n",
              "  }\n",
              "\n",
              "  .colab-df-spinner {\n",
              "    border: 2px solid var(--fill-color);\n",
              "    border-color: transparent;\n",
              "    border-bottom-color: var(--fill-color);\n",
              "    animation:\n",
              "      spin 1s steps(1) infinite;\n",
              "  }\n",
              "\n",
              "  @keyframes spin {\n",
              "    0% {\n",
              "      border-color: transparent;\n",
              "      border-bottom-color: var(--fill-color);\n",
              "      border-left-color: var(--fill-color);\n",
              "    }\n",
              "    20% {\n",
              "      border-color: transparent;\n",
              "      border-left-color: var(--fill-color);\n",
              "      border-top-color: var(--fill-color);\n",
              "    }\n",
              "    30% {\n",
              "      border-color: transparent;\n",
              "      border-left-color: var(--fill-color);\n",
              "      border-top-color: var(--fill-color);\n",
              "      border-right-color: var(--fill-color);\n",
              "    }\n",
              "    40% {\n",
              "      border-color: transparent;\n",
              "      border-right-color: var(--fill-color);\n",
              "      border-top-color: var(--fill-color);\n",
              "    }\n",
              "    60% {\n",
              "      border-color: transparent;\n",
              "      border-right-color: var(--fill-color);\n",
              "    }\n",
              "    80% {\n",
              "      border-color: transparent;\n",
              "      border-right-color: var(--fill-color);\n",
              "      border-bottom-color: var(--fill-color);\n",
              "    }\n",
              "    90% {\n",
              "      border-color: transparent;\n",
              "      border-bottom-color: var(--fill-color);\n",
              "    }\n",
              "  }\n",
              "</style>\n",
              "\n",
              "      <script>\n",
              "        async function quickchart(key) {\n",
              "          const quickchartButtonEl =\n",
              "            document.querySelector('#' + key + ' button');\n",
              "          quickchartButtonEl.disabled = true;  // To prevent multiple clicks.\n",
              "          quickchartButtonEl.classList.add('colab-df-spinner');\n",
              "          try {\n",
              "            const charts = await google.colab.kernel.invokeFunction(\n",
              "                'suggestCharts', [key], {});\n",
              "          } catch (error) {\n",
              "            console.error('Error during call to suggestCharts:', error);\n",
              "          }\n",
              "          quickchartButtonEl.classList.remove('colab-df-spinner');\n",
              "          quickchartButtonEl.classList.add('colab-df-quickchart-complete');\n",
              "        }\n",
              "        (() => {\n",
              "          let quickchartButtonEl =\n",
              "            document.querySelector('#df-0ce83865-88d6-4159-b663-8913c280ec49 button');\n",
              "          quickchartButtonEl.style.display =\n",
              "            google.colab.kernel.accessAllowed ? 'block' : 'none';\n",
              "        })();\n",
              "      </script>\n",
              "    </div>\n",
              "\n",
              "    </div>\n",
              "  </div>\n"
            ],
            "application/vnd.google.colaboratory.intrinsic+json": {
              "type": "dataframe",
              "variable_name": "df",
              "summary": "{\n  \"name\": \"df\",\n  \"rows\": 4023,\n  \"fields\": [\n    {\n      \"column\": \"Texto\",\n      \"properties\": {\n        \"dtype\": \"string\",\n        \"num_unique_values\": 4023,\n        \"samples\": [\n          \"atol\\u00f3n kure hawaiano mokup papa hist\\u00f3ricamente ocean island forma parte islas sotavento haw\\u00e1i situado extremo oeste archipi\\u00e9lago oeste midway coordenadas geograf\\u00eda kure atol\\u00f3n septentrional mundo cerca llama punto darwin latitud crecimiento arrecifes coral igual fuerzas provocan erosi\\u00f3n atol\\u00f3n forma casi circular di\\u00e1metro altitud m\\u00e1xima metros s\\u00f3lo dos islotes significativos sur arrecife green island sand island formando superficie total km\\u00b2 historia atol\\u00f3n kure lleva nombre capit\\u00e1n ruso kure descubri\\u00f3 barco moller historia kure llena naufragios rescates naufrag\\u00f3 capit\\u00e1n brown barco ingl\\u00e9s gledstanes cinco meses sobrevivieron islote green restos naufragio construyeron barca lleg\\u00f3 honolul\\u00fa c\\u00f3nsul brit\\u00e1nico organiz\\u00f3 rescate repiti\\u00f3 misma historia ballenero norteamericano parker expedici\\u00f3n norteamericana uss saginaw ido atol\\u00f3n midway decidi\\u00f3 explorar kure encontraba alg\\u00fan n\\u00e1ufrago estrope\\u00f3 motor estamparon arrecifes cinco voluntarios hicieron viaje barca kauai llegaron tan extenuados volcaron playa s\\u00f3lo sobrevivi\\u00f3 rey kalakaua tom\\u00f3 posesi\\u00f3n reino haw\\u00e1i nombre moku papapa construyeron refugio provisiones posibles n\\u00e1ufragos segunda guerra mundial construy\\u00f3 base militar estaci\\u00f3n transmisi\\u00f3n radio navegaci\\u00f3n enlaces externos imagen sat\\u00e9lite\",\n          \"tercer larga duraci\\u00f3n burzum mano varg vikernes instrumentos alcanza trabajos notables reconocido mismo vikernes mejor disco burzum etapa ambient black metal hvis lyset tar oss luz atrapa comienza atmosf\\u00e9rica det som engang var aquello alguna vez feo aprecia inmediato inclusi\\u00f3n permanente sintetizadores cuales crean ambiente \\u00e9pico fantas\\u00eda mezclarse riffs tradicionales vikernes forman espectro sonoro bastante interesante extra\\u00f1a inmediato aparte on\\u00edrico melod\\u00edas duraci\\u00f3n mismas oscilan diez minutos incluso sobrepasan tiempo det som engang var caso d\\u00e1ndole mayor desarrollo composiciones disco continua hvis lyset tar oss tema nombre disco tema mas t\\u00f3nica trabajos anteriores burzum burzum aske det som engang var vendr\\u00eda reafirmarnos burzum pesar atm\\u00f3sferas sigue siendo igual brutal siempre vikernes gritando hostil animal hambriento bases bajobater\\u00eda b\\u00e1sicas vez din\\u00e1micas aceleradas dan muestra burzum pierde oscura esencia pr\\u00f3ximo tema inn slottet fra dr\\u00f8emen hacia castillo sue\\u00f1o tema especie fusi\\u00f3n dos temas anteriores dualidad ritmos inicio parte veloz din\\u00e1micamente medio final canci\\u00f3n vuelve viaje on\\u00edrico acompa\\u00f1ado putrefacta voz vikernes gu\\u00eda traves\\u00eda hacia lugares oscuros vez atrayentes atm\\u00f3sferas envolventes cautivadoras contin\\u00faan haciendo labor tomhet vac\\u00edo resulta ser corte instrumental hvis lyset tar oss dem\\u00e1s conclusi\\u00f3n catorce minutos ambientes vikernes sabe evocar d\\u00e1ndole toques folclore componente mas espacial conclusi\\u00f3n mejores trabajos realizados friki varg vikernes miembro \\u00fanico burzum parte sigue refrescando escena black metal innovadora forma percibir interpretar m\\u00fasica extrema pistas det som engang var hvis lyset tar oss inn slottet fra dr\\u00f8emen tomhet duraci\\u00f3n total\",\n          \"eris g\\u00e9nero ara\\u00f1as araneomorfas familia salticidae etimolog\\u00eda eris dios griega discordia conocida precisamente discordia mitolog\\u00eda romana especies eris bulbosa karsch m\\u00e9xico eris flava peckham peckham eeuu hispaniola eris floridana banks eeuu eris illustris koch puerto rico eris militaris hentz eeuu canad\\u00e1 alaska eris perpacta chickering panam\\u00e1 eris perpolita chickering panam\\u00e1 eris riedeli schmidt ecuador colombia eris rufa koch eeuu eris tricolor koch m\\u00e9xico eris trimaculata banks m\\u00e9xico eris valida chickering panam\\u00e1 enlaces externos fotos eris fotos aurantia fotos floridana fotos pinea\"\n        ],\n        \"semantic_type\": \"\",\n        \"description\": \"\"\n      }\n    },\n    {\n      \"column\": \"Total\",\n      \"properties\": {\n        \"dtype\": \"number\",\n        \"std\": 383,\n        \"min\": 1,\n        \"max\": 11586,\n        \"num_unique_values\": 783,\n        \"samples\": [\n          190,\n          198,\n          669\n        ],\n        \"semantic_type\": \"\",\n        \"description\": \"\"\n      }\n    }\n  ]\n}"
            }
          },
          "metadata": {},
          "execution_count": 3
        }
      ],
      "source": [
        "df['Total'] = df['Texto'].apply(lambda x: len(x.split()))\n",
        "\n",
        "df = df.sort_values(by=\"Total\",ascending=False)\n",
        "df.reset_index(drop=True,inplace=True)\n",
        "df.head()"
      ]
    },
    {
      "cell_type": "markdown",
      "metadata": {
        "id": "K5hdGpH28ksK"
      },
      "source": [
        "### Reducción del tamaño de las matrices"
      ]
    },
    {
      "cell_type": "markdown",
      "metadata": {
        "id": "xfF54MCk8ksR"
      },
      "source": [
        "Para reducir la complejidad espacial de nuestro ejercicio, podemos hacer dos cosas:\n",
        "1. Un muestreo aleatorio de documentos, lo que nos ayudaría a reducir el vocabulario.\n",
        "2. Un recorte en el número de documentos por la cantidad de palabras.\n",
        "\n",
        "Usaremos el segundo enfoque."
      ]
    },
    {
      "cell_type": "markdown",
      "metadata": {
        "id": "QQNWh_tQ8ksZ"
      },
      "source": [
        "Obtenemos el vocabulario.\n",
        "Para ello vamos a usar el método de tokenización de NLTK [`word_tokenize`](https://www.nltk.org/api/nltk.tokenize.word_tokenize.html)"
      ]
    },
    {
      "cell_type": "code",
      "execution_count": null,
      "metadata": {
        "id": "_tUgGrr_l7FV",
        "outputId": "2eee4bae-eed6-4dd4-cf32-595346c6e150",
        "colab": {
          "base_uri": "https://localhost:8080/"
        }
      },
      "outputs": [
        {
          "output_type": "stream",
          "name": "stderr",
          "text": [
            "[nltk_data] Downloading package stopwords to /root/nltk_data...\n",
            "[nltk_data]   Unzipping corpora/stopwords.zip.\n",
            "[nltk_data] Downloading package punkt_tab to /root/nltk_data...\n",
            "[nltk_data]   Unzipping tokenizers/punkt_tab.zip.\n"
          ]
        },
        {
          "output_type": "execute_result",
          "data": {
            "text/plain": [
              "True"
            ]
          },
          "metadata": {},
          "execution_count": 4
        }
      ],
      "source": [
        "import nltk\n",
        "nltk.download('stopwords')\n",
        "nltk.download('punkt_tab')"
      ]
    },
    {
      "cell_type": "code",
      "execution_count": null,
      "metadata": {
        "id": "8Sqh6jIa8ksd",
        "outputId": "3858f322-fbc4-46ba-e633-9d8bbe8f08a1",
        "colab": {
          "base_uri": "https://localhost:8080/"
        }
      },
      "outputs": [
        {
          "output_type": "stream",
          "name": "stdout",
          "text": [
            "108650 palabras únicas (tokens)\n"
          ]
        }
      ],
      "source": [
        "from nltk.tokenize import word_tokenize\n",
        "\n",
        "textos = df['Texto'].values\n",
        "textos = \" \".join(textos)\n",
        "vocabulario = list(set(word_tokenize(textos))) # Manera de quitar las repeticiones de una lista\n",
        "print(len(vocabulario),'palabras únicas (tokens)')"
      ]
    },
    {
      "cell_type": "markdown",
      "source": [
        "Veamos el vocabulario"
      ],
      "metadata": {
        "id": "ZopVofgP_S2f"
      }
    },
    {
      "cell_type": "code",
      "source": [
        "vocabulario"
      ],
      "metadata": {
        "id": "FhG4FGYS5CFL"
      },
      "execution_count": null,
      "outputs": []
    },
    {
      "cell_type": "markdown",
      "source": [
        "Estrategia para quitar repeticiones"
      ],
      "metadata": {
        "id": "8swTu5xi_QPP"
      }
    },
    {
      "cell_type": "code",
      "source": [
        "a = [1,2,4,3,2,2,1,3]\n",
        "list(set(a))"
      ],
      "metadata": {
        "id": "xhAMj76f41NA",
        "outputId": "beb5be1f-675a-4437-ee18-db360dcc1b26",
        "colab": {
          "base_uri": "https://localhost:8080/"
        }
      },
      "execution_count": null,
      "outputs": [
        {
          "output_type": "execute_result",
          "data": {
            "text/plain": [
              "[1, 2, 3, 4]"
            ]
          },
          "metadata": {},
          "execution_count": 6
        }
      ]
    },
    {
      "cell_type": "markdown",
      "metadata": {
        "id": "ShkMRM1kx8C4"
      },
      "source": [
        "Veamos la distribución de número de palabras por documentos"
      ]
    },
    {
      "cell_type": "code",
      "execution_count": null,
      "metadata": {
        "id": "LNveLiogvtb7",
        "outputId": "5967ee25-8e11-46c2-dff9-ca43a82278ca",
        "colab": {
          "base_uri": "https://localhost:8080/",
          "height": 466
        }
      },
      "outputs": [
        {
          "output_type": "stream",
          "name": "stdout",
          "text": [
            "Promedio: 235.27392493164305\n"
          ]
        },
        {
          "output_type": "display_data",
          "data": {
            "text/plain": [
              "<Figure size 640x480 with 1 Axes>"
            ],
            "image/png": "[encoded data removed]"
          },
          "metadata": {}
        }
      ],
      "source": [
        "from seaborn import histplot\n",
        "import numpy as np\n",
        "\n",
        "longitudes = df['Total'].values\n",
        "promedio = np.mean(longitudes)\n",
        "print(f\"Promedio: {promedio}\")\n",
        "\n",
        "fig = plt.figure()\n",
        "ax = plt.subplot()\n",
        "ax.axvline(promedio,color='black')\n",
        "histplot(longitudes,ax=ax)\n",
        "ax.set_xlabel(\"Longitud del texto\")\n",
        "ax.set_ylabel(\"Conteos\")\n",
        "plt.show()"
      ]
    },
    {
      "cell_type": "markdown",
      "metadata": {
        "id": "YsXHiOjxwQbC"
      },
      "source": [
        "⚡Ejemplo de transformar los datos con el logaritmo. Esto puede hacerse cuando se tienen datos en diferentes ordenes de longitud."
      ]
    },
    {
      "cell_type": "code",
      "execution_count": null,
      "metadata": {
        "id": "rT58u3y1wFvx"
      },
      "outputs": [],
      "source": [
        "log_longs = np.log(longitudes)\n",
        "log_promedio = np.log(promedio)\n",
        "print(f\"Logaritmo del promedio: {np.log(promedio)}\")\n",
        "\n",
        "fig = plt.figure()\n",
        "ax = plt.subplot()\n",
        "histplot(log_longs,ax=ax)\n",
        "ax.axvline(log_promedio,color='black')\n",
        "ax.set_xlabel(\"Logaritmo de la longitud del texto\")\n",
        "ax.set_ylabel(\"Conteos\")\n",
        "plt.show()"
      ]
    },
    {
      "cell_type": "markdown",
      "metadata": {
        "id": "XP-I4EQp8ks3"
      },
      "source": [
        "Filtramos algunos documentos de acuerdo a la longitud del texto. Nos quedamos con textos que tengan entre 50 y 200 palabras"
      ]
    },
    {
      "cell_type": "code",
      "execution_count": null,
      "metadata": {
        "id": "74GbUKur8ks6",
        "outputId": "91055b95-1046-40fa-8304-39a310ca76c7",
        "colab": {
          "base_uri": "https://localhost:8080/",
          "height": 441
        }
      },
      "outputs": [
        {
          "output_type": "stream",
          "name": "stdout",
          "text": [
            "Número de documentos con los que nos quedamos: 1920\n"
          ]
        },
        {
          "output_type": "execute_result",
          "data": {
            "text/plain": [
              "                                                  Texto  Total\n",
              "0     benjamín jowett nació abril londres inglaterra...    199\n",
              "1     torralba oropesa municipio españa comunidad au...    199\n",
              "2     título original trujillo poder jefe iii título...    199\n",
              "3     ángel uribe sánchez ancón idem futbolista peru...    199\n",
              "4     site map sitemap archivo xml lista páginas sit...    199\n",
              "...                                                 ...    ...\n",
              "1915  this the best day ever mejor día novena pista ...     51\n",
              "1916  castro valnera pico situado sector central cor...     51\n",
              "1917  nicholson adams hispanista estadounidense cate...     51\n",
              "1918  robert bobby mann dundee escocia enero futboli...     51\n",
              "1919  provincia khanh hoa situada sur vietnam extrem...     51\n",
              "\n",
              "[1920 rows x 2 columns]"
            ],
            "text/html": [
              "\n",
              "  <div id=\"df-17c9bb18-42ac-4e4f-884d-50b34535d139\" class=\"colab-df-container\">\n",
              "    <div>\n",
              "<style scoped>\n",
              "    .dataframe tbody tr th:only-of-type {\n",
              "        vertical-align: middle;\n",
              "    }\n",
              "\n",
              "    .dataframe tbody tr th {\n",
              "        vertical-align: top;\n",
              "    }\n",
              "\n",
              "    .dataframe thead th {\n",
              "        text-align: right;\n",
              "    }\n",
              "</style>\n",
              "<table border=\"1\" class=\"dataframe\">\n",
              "  <thead>\n",
              "    <tr style=\"text-align: right;\">\n",
              "      <th></th>\n",
              "      <th>Texto</th>\n",
              "      <th>Total</th>\n",
              "    </tr>\n",
              "  </thead>\n",
              "  <tbody>\n",
              "    <tr>\n",
              "      <th>0</th>\n",
              "      <td>benjamín jowett nació abril londres inglaterra...</td>\n",
              "      <td>199</td>\n",
              "    </tr>\n",
              "    <tr>\n",
              "      <th>1</th>\n",
              "      <td>torralba oropesa municipio españa comunidad au...</td>\n",
              "      <td>199</td>\n",
              "    </tr>\n",
              "    <tr>\n",
              "      <th>2</th>\n",
              "      <td>título original trujillo poder jefe iii título...</td>\n",
              "      <td>199</td>\n",
              "    </tr>\n",
              "    <tr>\n",
              "      <th>3</th>\n",
              "      <td>ángel uribe sánchez ancón idem futbolista peru...</td>\n",
              "      <td>199</td>\n",
              "    </tr>\n",
              "    <tr>\n",
              "      <th>4</th>\n",
              "      <td>site map sitemap archivo xml lista páginas sit...</td>\n",
              "      <td>199</td>\n",
              "    </tr>\n",
              "    <tr>\n",
              "      <th>...</th>\n",
              "      <td>...</td>\n",
              "      <td>...</td>\n",
              "    </tr>\n",
              "    <tr>\n",
              "      <th>1915</th>\n",
              "      <td>this the best day ever mejor día novena pista ...</td>\n",
              "      <td>51</td>\n",
              "    </tr>\n",
              "    <tr>\n",
              "      <th>1916</th>\n",
              "      <td>castro valnera pico situado sector central cor...</td>\n",
              "      <td>51</td>\n",
              "    </tr>\n",
              "    <tr>\n",
              "      <th>1917</th>\n",
              "      <td>nicholson adams hispanista estadounidense cate...</td>\n",
              "      <td>51</td>\n",
              "    </tr>\n",
              "    <tr>\n",
              "      <th>1918</th>\n",
              "      <td>robert bobby mann dundee escocia enero futboli...</td>\n",
              "      <td>51</td>\n",
              "    </tr>\n",
              "    <tr>\n",
              "      <th>1919</th>\n",
              "      <td>provincia khanh hoa situada sur vietnam extrem...</td>\n",
              "      <td>51</td>\n",
              "    </tr>\n",
              "  </tbody>\n",
              "</table>\n",
              "<p>1920 rows × 2 columns</p>\n",
              "</div>\n",
              "    <div class=\"colab-df-buttons\">\n",
              "\n",
              "  <div class=\"colab-df-container\">\n",
              "    <button class=\"colab-df-convert\" onclick=\"convertToInteractive('df-17c9bb18-42ac-4e4f-884d-50b34535d139')\"\n",
              "            title=\"Convert this dataframe to an interactive table.\"\n",
              "            style=\"display:none;\">\n",
              "\n",
              "  <svg xmlns=\"http://www.w3.org/2000/svg\" height=\"24px\" viewBox=\"0 -960 960 960\">\n",
              "    <path d=\"M120-120v-720h720v720H120Zm60-500h600v-160H180v160Zm220 220h160v-160H400v160Zm0 220h160v-160H400v160ZM180-400h160v-160H180v160Zm440 0h160v-160H620v160ZM180-180h160v-160H180v160Zm440 0h160v-160H620v160Z\"/>\n",
              "  </svg>\n",
              "    </button>\n",
              "\n",
              "  <style>\n",
              "    .colab-df-container {\n",
              "      display:flex;\n",
              "      gap: 12px;\n",
              "    }\n",
              "\n",
              "    .colab-df-convert {\n",
              "      background-color: #E8F0FE;\n",
              "      border: none;\n",
              "      border-radius: 50%;\n",
              "      cursor: pointer;\n",
              "      display: none;\n",
              "      fill: #1967D2;\n",
              "      height: 32px;\n",
              "      padding: 0 0 0 0;\n",
              "      width: 32px;\n",
              "    }\n",
              "\n",
              "    .colab-df-convert:hover {\n",
              "      background-color: #E2EBFA;\n",
              "      box-shadow: 0px 1px 2px rgba(60, 64, 67, 0.3), 0px 1px 3px 1px rgba(60, 64, 67, 0.15);\n",
              "      fill: #174EA6;\n",
              "    }\n",
              "\n",
              "    .colab-df-buttons div {\n",
              "      margin-bottom: 4px;\n",
              "    }\n",
              "\n",
              "    [theme=dark] .colab-df-convert {\n",
              "      background-color: #3B4455;\n",
              "      fill: #D2E3FC;\n",
              "    }\n",
              "\n",
              "    [theme=dark] .colab-df-convert:hover {\n",
              "      background-color: #434B5C;\n",
              "      box-shadow: 0px 1px 3px 1px rgba(0, 0, 0, 0.15);\n",
              "      filter: drop-shadow(0px 1px 2px rgba(0, 0, 0, 0.3));\n",
              "      fill: #FFFFFF;\n",
              "    }\n",
              "  </style>\n",
              "\n",
              "    <script>\n",
              "      const buttonEl =\n",
              "        document.querySelector('#df-17c9bb18-42ac-4e4f-884d-50b34535d139 button.colab-df-convert');\n",
              "      buttonEl.style.display =\n",
              "        google.colab.kernel.accessAllowed ? 'block' : 'none';\n",
              "\n",
              "      async function convertToInteractive(key) {\n",
              "        const element = document.querySelector('#df-17c9bb18-42ac-4e4f-884d-50b34535d139');\n",
              "        const dataTable =\n",
              "          await google.colab.kernel.invokeFunction('convertToInteractive',\n",
              "                                                    [key], {});\n",
              "        if (!dataTable) return;\n",
              "\n",
              "        const docLinkHtml = 'Like what you see? Visit the ' +\n",
              "          '<a target=\"_blank\" href=https://colab.research.google.com/notebooks/data_table.ipynb>data table notebook</a>'\n",
              "          + ' to learn more about interactive tables.';\n",
              "        element.innerHTML = '';\n",
              "        dataTable['output_type'] = 'display_data';\n",
              "        await google.colab.output.renderOutput(dataTable, element);\n",
              "        const docLink = document.createElement('div');\n",
              "        docLink.innerHTML = docLinkHtml;\n",
              "        element.appendChild(docLink);\n",
              "      }\n",
              "    </script>\n",
              "  </div>\n",
              "\n",
              "\n",
              "    <div id=\"df-91577a90-240f-43ab-899b-7883db1231c8\">\n",
              "      <button class=\"colab-df-quickchart\" onclick=\"quickchart('df-91577a90-240f-43ab-899b-7883db1231c8')\"\n",
              "                title=\"Suggest charts\"\n",
              "                style=\"display:none;\">\n",
              "\n",
              "<svg xmlns=\"http://www.w3.org/2000/svg\" height=\"24px\"viewBox=\"0 0 24 24\"\n",
              "     width=\"24px\">\n",
              "    <g>\n",
              "        <path d=\"M19 3H5c-1.1 0-2 .9-2 2v14c0 1.1.9 2 2 2h14c1.1 0 2-.9 2-2V5c0-1.1-.9-2-2-2zM9 17H7v-7h2v7zm4 0h-2V7h2v10zm4 0h-2v-4h2v4z\"/>\n",
              "    </g>\n",
              "</svg>\n",
              "      </button>\n",
              "\n",
              "<style>\n",
              "  .colab-df-quickchart {\n",
              "      --bg-color: #E8F0FE;\n",
              "      --fill-color: #1967D2;\n",
              "      --hover-bg-color: #E2EBFA;\n",
              "      --hover-fill-color: #174EA6;\n",
              "      --disabled-fill-color: #AAA;\n",
              "      --disabled-bg-color: #DDD;\n",
              "  }\n",
              "\n",
              "  [theme=dark] .colab-df-quickchart {\n",
              "      --bg-color: #3B4455;\n",
              "      --fill-color: #D2E3FC;\n",
              "      --hover-bg-color: #434B5C;\n",
              "      --hover-fill-color: #FFFFFF;\n",
              "      --disabled-bg-color: #3B4455;\n",
              "      --disabled-fill-color: #666;\n",
              "  }\n",
              "\n",
              "  .colab-df-quickchart {\n",
              "    background-color: var(--bg-color);\n",
              "    border: none;\n",
              "    border-radius: 50%;\n",
              "    cursor: pointer;\n",
              "    display: none;\n",
              "    fill: var(--fill-color);\n",
              "    height: 32px;\n",
              "    padding: 0;\n",
              "    width: 32px;\n",
              "  }\n",
              "\n",
              "  .colab-df-quickchart:hover {\n",
              "    background-color: var(--hover-bg-color);\n",
              "    box-shadow: 0 1px 2px rgba(60, 64, 67, 0.3), 0 1px 3px 1px rgba(60, 64, 67, 0.15);\n",
              "    fill: var(--button-hover-fill-color);\n",
              "  }\n",
              "\n",
              "  .colab-df-quickchart-complete:disabled,\n",
              "  .colab-df-quickchart-complete:disabled:hover {\n",
              "    background-color: var(--disabled-bg-color);\n",
              "    fill: var(--disabled-fill-color);\n",
              "    box-shadow: none;\n",
              "  }\n",
              "\n",
              "  .colab-df-spinner {\n",
              "    border: 2px solid var(--fill-color);\n",
              "    border-color: transparent;\n",
              "    border-bottom-color: var(--fill-color);\n",
              "    animation:\n",
              "      spin 1s steps(1) infinite;\n",
              "  }\n",
              "\n",
              "  @keyframes spin {\n",
              "    0% {\n",
              "      border-color: transparent;\n",
              "      border-bottom-color: var(--fill-color);\n",
              "      border-left-color: var(--fill-color);\n",
              "    }\n",
              "    20% {\n",
              "      border-color: transparent;\n",
              "      border-left-color: var(--fill-color);\n",
              "      border-top-color: var(--fill-color);\n",
              "    }\n",
              "    30% {\n",
              "      border-color: transparent;\n",
              "      border-left-color: var(--fill-color);\n",
              "      border-top-color: var(--fill-color);\n",
              "      border-right-color: var(--fill-color);\n",
              "    }\n",
              "    40% {\n",
              "      border-color: transparent;\n",
              "      border-right-color: var(--fill-color);\n",
              "      border-top-color: var(--fill-color);\n",
              "    }\n",
              "    60% {\n",
              "      border-color: transparent;\n",
              "      border-right-color: var(--fill-color);\n",
              "    }\n",
              "    80% {\n",
              "      border-color: transparent;\n",
              "      border-right-color: var(--fill-color);\n",
              "      border-bottom-color: var(--fill-color);\n",
              "    }\n",
              "    90% {\n",
              "      border-color: transparent;\n",
              "      border-bottom-color: var(--fill-color);\n",
              "    }\n",
              "  }\n",
              "</style>\n",
              "\n",
              "      <script>\n",
              "        async function quickchart(key) {\n",
              "          const quickchartButtonEl =\n",
              "            document.querySelector('#' + key + ' button');\n",
              "          quickchartButtonEl.disabled = true;  // To prevent multiple clicks.\n",
              "          quickchartButtonEl.classList.add('colab-df-spinner');\n",
              "          try {\n",
              "            const charts = await google.colab.kernel.invokeFunction(\n",
              "                'suggestCharts', [key], {});\n",
              "          } catch (error) {\n",
              "            console.error('Error during call to suggestCharts:', error);\n",
              "          }\n",
              "          quickchartButtonEl.classList.remove('colab-df-spinner');\n",
              "          quickchartButtonEl.classList.add('colab-df-quickchart-complete');\n",
              "        }\n",
              "        (() => {\n",
              "          let quickchartButtonEl =\n",
              "            document.querySelector('#df-91577a90-240f-43ab-899b-7883db1231c8 button');\n",
              "          quickchartButtonEl.style.display =\n",
              "            google.colab.kernel.accessAllowed ? 'block' : 'none';\n",
              "        })();\n",
              "      </script>\n",
              "    </div>\n",
              "\n",
              "  <div id=\"id_b12d5290-c1ac-4b6a-9d14-816d8b3ef09f\">\n",
              "    <style>\n",
              "      .colab-df-generate {\n",
              "        background-color: #E8F0FE;\n",
              "        border: none;\n",
              "        border-radius: 50%;\n",
              "        cursor: pointer;\n",
              "        display: none;\n",
              "        fill: #1967D2;\n",
              "        height: 32px;\n",
              "        padding: 0 0 0 0;\n",
              "        width: 32px;\n",
              "      }\n",
              "\n",
              "      .colab-df-generate:hover {\n",
              "        background-color: #E2EBFA;\n",
              "        box-shadow: 0px 1px 2px rgba(60, 64, 67, 0.3), 0px 1px 3px 1px rgba(60, 64, 67, 0.15);\n",
              "        fill: #174EA6;\n",
              "      }\n",
              "\n",
              "      [theme=dark] .colab-df-generate {\n",
              "        background-color: #3B4455;\n",
              "        fill: #D2E3FC;\n",
              "      }\n",
              "\n",
              "      [theme=dark] .colab-df-generate:hover {\n",
              "        background-color: #434B5C;\n",
              "        box-shadow: 0px 1px 3px 1px rgba(0, 0, 0, 0.15);\n",
              "        filter: drop-shadow(0px 1px 2px rgba(0, 0, 0, 0.3));\n",
              "        fill: #FFFFFF;\n",
              "      }\n",
              "    </style>\n",
              "    <button class=\"colab-df-generate\" onclick=\"generateWithVariable('df')\"\n",
              "            title=\"Generate code using this dataframe.\"\n",
              "            style=\"display:none;\">\n",
              "\n",
              "  <svg xmlns=\"http://www.w3.org/2000/svg\" height=\"24px\"viewBox=\"0 0 24 24\"\n",
              "       width=\"24px\">\n",
              "    <path d=\"M7,19H8.4L18.45,9,17,7.55,7,17.6ZM5,21V16.75L18.45,3.32a2,2,0,0,1,2.83,0l1.4,1.43a1.91,1.91,0,0,1,.58,1.4,1.91,1.91,0,0,1-.58,1.4L9.25,21ZM18.45,9,17,7.55Zm-12,3A5.31,5.31,0,0,0,4.9,8.1,5.31,5.31,0,0,0,1,6.5,5.31,5.31,0,0,0,4.9,4.9,5.31,5.31,0,0,0,6.5,1,5.31,5.31,0,0,0,8.1,4.9,5.31,5.31,0,0,0,12,6.5,5.46,5.46,0,0,0,6.5,12Z\"/>\n",
              "  </svg>\n",
              "    </button>\n",
              "    <script>\n",
              "      (() => {\n",
              "      const buttonEl =\n",
              "        document.querySelector('#id_b12d5290-c1ac-4b6a-9d14-816d8b3ef09f button.colab-df-generate');\n",
              "      buttonEl.style.display =\n",
              "        google.colab.kernel.accessAllowed ? 'block' : 'none';\n",
              "\n",
              "      buttonEl.onclick = () => {\n",
              "        google.colab.notebook.generateWithVariable('df');\n",
              "      }\n",
              "      })();\n",
              "    </script>\n",
              "  </div>\n",
              "\n",
              "    </div>\n",
              "  </div>\n"
            ],
            "application/vnd.google.colaboratory.intrinsic+json": {
              "type": "dataframe",
              "variable_name": "df",
              "summary": "{\n  \"name\": \"df\",\n  \"rows\": 1920,\n  \"fields\": [\n    {\n      \"column\": \"Texto\",\n      \"properties\": {\n        \"dtype\": \"string\",\n        \"num_unique_values\": 1920,\n        \"samples\": [\n          \"jeff tweedy nacido agosto belleville illinois compositor m\\u00fasico poeta norteamericano empez\\u00f3 mundo m\\u00fasica banda country alternativo uncle tupelo a\\u00f1o despu\\u00e9s disolviera banda tweedy form\\u00f3 banda rock alternativo wilco consigui\\u00f3 \\u00e9xito \\u00e1lbumes yankee hotel foxtrot ghost born participado varios grupos indies golden smog loose fur grabado \\u00e1lbum the minus public\\u00f3 adult head libro poes\\u00eda tiempo centro rehabilitaci\\u00f3n depresi\\u00f3n adicci\\u00f3n analg\\u00e9sicosen entrevista revista rolling stone defini\\u00f3 tiempo rehabilitaci\\u00f3n experiencia realmente bonita casado sue miller antigua propietaria extinto club chicago loung dos hijos sam spencer tweedy sam spencer seguido pasos padre tocan juntos propia banda the blisters tocaron wilco chicagos lollapalooza carpa kidsapalooza\",\n          \"masies roda mas\\u00edas roda castellano municipio comarca osona t\\u00e9rmino municipal rodea roda ter separ\\u00f3 formado mas\\u00edas barriadas dispersas lugares inter\\u00e9s yacimiento arqueol\\u00f3gico lesquerda importantes hallazgos \\u00e9poca iberorromana medieval monasterio sant pere casserres estilo rom\\u00e1nico parador nacional turismo vic junto pantano sau iglesia santa magdalena conangle ruinas castillo savellana cultura personajes ilustres luis jord\\u00e1 bibliograf\\u00eda enlaces externos p\\u00e1gina web ayuntamiento informaci\\u00f3n generalidad catalu\\u00f1a informaci\\u00f3n instituto estad\\u00edstica catalu\\u00f1a\",\n          \"aguiar sousa freguesia portuguesa municipio paredes km\\u00b2 \\u00e1rea habitantes densidad poblaci\\u00f3n habkm\\u00b2 ubicaci\\u00f3n vila portuguesa sede extenso concelho comienzos siglo xix constituido freguesias dos actualidad municipios gondomar valongo lousada paredes pa\\u00e7os ferreira habitantes ocupaba superficie cerca km\\u00b2 patrimonio arquitect\\u00f3nico castillo aguiar sousa ponte romana aguiar sousa capela senhora salto fiestas romer\\u00edas s\\u00e3o sebasti\\u00e3o \\u00faltimo domingo septiembre santa marta \\u00faltimo domingo julio primer domingo agosto senhora salto primer domingo mayo santa isabel primer domingo julio asosciaciones associa\\u00e7\\u00e3o cultural recreativa desportiva santa marta associa\\u00e7\\u00e3o cultural recreativa santa isabel associa\\u00e7\\u00e3o desportiva cultural aguiar associa\\u00e7\\u00e3o desenvolvimento freguesia aguiar sousa centro popular trabalhadores aguiar sousa rancho folcl\\u00f3rico aguiar sousa xisto associa\\u00e7\\u00e3o juvenil aguiar sousa figuras destacadas jo\\u00e3o gomes ferreira obispo joaquim alves correia padre periodista escritor manuel alves correia padre periodista escritor\"\n        ],\n        \"semantic_type\": \"\",\n        \"description\": \"\"\n      }\n    },\n    {\n      \"column\": \"Total\",\n      \"properties\": {\n        \"dtype\": \"number\",\n        \"std\": 41,\n        \"min\": 51,\n        \"max\": 199,\n        \"num_unique_values\": 149,\n        \"samples\": [\n          126,\n          181,\n          82\n        ],\n        \"semantic_type\": \"\",\n        \"description\": \"\"\n      }\n    }\n  ]\n}"
            }
          },
          "metadata": {},
          "execution_count": 6
        }
      ],
      "source": [
        "df = df[(df['Total'] < 200) & (df['Total'] > 50)]\n",
        "print(f\"Número de documentos con los que nos quedamos: {df.shape[0]}\")\n",
        "df.reset_index(drop=True,inplace=True)\n",
        "df"
      ]
    },
    {
      "cell_type": "markdown",
      "metadata": {
        "id": "FGsmspwIyMBr"
      },
      "source": [
        "Veamos, otra vez, la distribución de número de palabras por documentos."
      ]
    },
    {
      "cell_type": "code",
      "execution_count": null,
      "metadata": {
        "id": "QiXz1sb48ktJ",
        "outputId": "8ba6d34d-fc7a-4f9b-d4a6-89b5f49ce140",
        "colab": {
          "base_uri": "https://localhost:8080/",
          "height": 466
        }
      },
      "outputs": [
        {
          "output_type": "stream",
          "name": "stdout",
          "text": [
            "Promedio: 109.57083333333334\n"
          ]
        },
        {
          "output_type": "display_data",
          "data": {
            "text/plain": [
              "<Figure size 640x480 with 1 Axes>"
            ],
            "image/png": "[encoded data removed]"
          },
          "metadata": {}
        }
      ],
      "source": [
        "from seaborn import histplot\n",
        "\n",
        "longitudes = df['Total'].values\n",
        "promedio = np.mean(longitudes)\n",
        "print(f\"Promedio: {promedio}\")\n",
        "\n",
        "fig = plt.figure()\n",
        "ax = plt.subplot()\n",
        "ax.plot([promedio,promedio],[0,200],color='black')\n",
        "histplot(longitudes,ax=ax)\n",
        "ax.set_xlabel(\"Longitud del texto\")\n",
        "ax.set_ylabel(\"Conteos\")\n",
        "plt.show()"
      ]
    },
    {
      "cell_type": "markdown",
      "metadata": {
        "id": "RWMeMs_w8kta"
      },
      "source": [
        "⚡ Guardamos el dataframe en formato pickle. Pickle es un formato binario en el cual podemos facilmente recuperar los tipos de cada columna. Se guarda y se recupera el objeto *tal como es*.\n",
        "\n",
        "❗ Es importante tener precaución al usarlo por la compatibilidad entre versiones."
      ]
    },
    {
      "cell_type": "code",
      "execution_count": null,
      "metadata": {
        "id": "CwCnWC2v8ktb"
      },
      "outputs": [],
      "source": [
        "df.to_pickle('data_frame.pickle')"
      ]
    },
    {
      "cell_type": "markdown",
      "metadata": {
        "id": "a6wUESfg8kts"
      },
      "source": [
        "Leemos el dataframe previamente almacenado"
      ]
    },
    {
      "cell_type": "code",
      "execution_count": null,
      "metadata": {
        "id": "L2RDSpKV8kt2"
      },
      "outputs": [],
      "source": [
        "df = pd.read_pickle('data_frame.pickle')\n",
        "df.head()"
      ]
    },
    {
      "cell_type": "markdown",
      "metadata": {
        "id": "Yazp3KcJ8kuA"
      },
      "source": [
        "### Modelo *Bag of Words* (BoW)\n",
        "\n",
        "Usaremos el modelo BOW de conteos de ocurrencias de palabras que hemos usado para generar features de texto, al igual que antes, usaremos el `CountVectorizer` de scikit-learn."
      ]
    },
    {
      "cell_type": "code",
      "execution_count": null,
      "metadata": {
        "id": "UcMzhrj1HDA0",
        "outputId": "4809979d-da23-4f71-ac1d-d77d2578508e",
        "colab": {
          "base_uri": "https://localhost:8080/"
        }
      },
      "outputs": [
        {
          "output_type": "execute_result",
          "data": {
            "text/plain": [
              "(1920, 43448)"
            ]
          },
          "metadata": {},
          "execution_count": 8
        }
      ],
      "source": [
        "from sklearn.feature_extraction.text import CountVectorizer\n",
        "\n",
        "docs_list = df['Texto'].values\n",
        "\n",
        "cv = CountVectorizer(max_features=None)\n",
        "X_bow = cv.fit_transform(docs_list)\n",
        "X_bow.shape"
      ]
    },
    {
      "cell_type": "markdown",
      "metadata": {
        "id": "DpWtuMNg8ku-"
      },
      "source": [
        "## PCA\n",
        "\n",
        "Ahora, realizaremos PCA a la matriz de conteos."
      ]
    },
    {
      "cell_type": "code",
      "execution_count": null,
      "metadata": {
        "id": "gJ3f6HjG8kvC"
      },
      "outputs": [],
      "source": [
        "from sklearn.decomposition import PCA\n",
        "\n",
        "pca = PCA(svd_solver='auto')\n",
        "\n",
        "X_pca = pca.fit_transform(np.asarray(X_bow.todense()))"
      ]
    },
    {
      "cell_type": "markdown",
      "metadata": {
        "id": "hsjpGouxaU4k"
      },
      "source": [
        "Observa la forma de la matriz obtenida, ¿cuántas componentes principales se obtienen? ¿cuántas *deberíamos* de obtener?\n",
        "\n",
        "Esta diferencia tiene que ver con el `svd_solver` usado dado el tamaño de la matriz."
      ]
    },
    {
      "cell_type": "code",
      "execution_count": null,
      "metadata": {
        "id": "JlJWj_RY8kvK",
        "outputId": "7e528f9d-82fb-4508-83d0-9519b0a5c2b8",
        "colab": {
          "base_uri": "https://localhost:8080/"
        }
      },
      "outputs": [
        {
          "output_type": "stream",
          "name": "stdout",
          "text": [
            "(1920, 1920)\n"
          ]
        }
      ],
      "source": [
        "print(X_pca.shape)"
      ]
    },
    {
      "cell_type": "markdown",
      "metadata": {
        "id": "CwESfdavzPr5"
      },
      "source": [
        "Veamos la proporción de varianza por cada componente principal."
      ]
    },
    {
      "cell_type": "code",
      "execution_count": null,
      "metadata": {
        "id": "zImm80Mz8kwB",
        "outputId": "962de14b-d452-473d-ab79-bef98e7d62c8",
        "colab": {
          "base_uri": "https://localhost:8080/"
        }
      },
      "outputs": [
        {
          "output_type": "stream",
          "name": "stdout",
          "text": [
            "[0.009512   0.00863585 0.00764301 0.00705976 0.00679065]\n",
            "Varianza acumulada: 0.9999999999999998\n"
          ]
        }
      ],
      "source": [
        "pca_variance_ratio = pca.explained_variance_ratio_\n",
        "print(pca_variance_ratio[:5])\n",
        "print(f\"Varianza acumulada: {np.sum(pca_variance_ratio)}\")"
      ]
    },
    {
      "cell_type": "code",
      "execution_count": null,
      "metadata": {
        "id": "smOgIEko8kwM",
        "outputId": "2709a581-96d1-4610-c445-1513b5ef7667",
        "colab": {
          "base_uri": "https://localhost:8080/",
          "height": 493
        }
      },
      "outputs": [
        {
          "output_type": "display_data",
          "data": {
            "text/plain": [
              "<Figure size 800x500 with 1 Axes>"
            ],
            "image/png": "[encoded data removed]"
          },
          "metadata": {}
        }
      ],
      "source": [
        "# Varianza acumulada\n",
        "d = np.cumsum(pca_variance_ratio)\n",
        "\n",
        "# Graficamos\n",
        "fig, ax = plt.subplots(figsize=(8,5))\n",
        "\n",
        "ax.plot(range(pca_variance_ratio.shape[0]),d,\n",
        "        ls='--',\n",
        "        color='red',\n",
        "        linewidth=2,\n",
        "        )\n",
        "\n",
        "plt.title('Varianza acumulada por dimensión')\n",
        "plt.xlabel('Componente',fontsize=14)\n",
        "plt.ylabel('Proporción',fontsize=14)\n",
        "plt.grid(True)\n",
        "ax.grid(which='major', color='gray', linestyle='-')\n",
        "plt.show()"
      ]
    },
    {
      "cell_type": "markdown",
      "metadata": {
        "id": "IfjyAQHp8kwX"
      },
      "source": [
        "### Análisis usando PCA\n",
        "\n",
        "En esta sección, queremos saber que tan bien podemos modelar documentos utilizando estas técnicas de reducción de dimensionalidad. En la sesión pasada ya vimos algunas limitantes de modelar texto usando solamente las matrices de conteos.\n",
        "\n",
        "Para nuestro fin, eligiremos un número $q$ de componentes principales (que llamaremos _representativas_) para PCA y compara la calidad de los documentos más cercanos (semejantes) a los documentos de análisis mostrados aquí abajo."
      ]
    },
    {
      "cell_type": "markdown",
      "metadata": {
        "id": "OvrnX1aM8kwZ"
      },
      "source": [
        "## Modelación de documentos utilizando componentes principales"
      ]
    },
    {
      "cell_type": "markdown",
      "metadata": {
        "id": "wux5gTuaBUPz"
      },
      "source": [
        "Grafiquemos las primeras dos componentes principales del *corpus*."
      ]
    },
    {
      "cell_type": "code",
      "execution_count": null,
      "metadata": {
        "id": "U35uqAEY8kw8",
        "outputId": "4b3387f1-5e21-4381-8d70-402219f29bb7",
        "colab": {
          "base_uri": "https://localhost:8080/",
          "height": 430
        }
      },
      "outputs": [
        {
          "output_type": "display_data",
          "data": {
            "text/plain": [
              "<Figure size 640x480 with 1 Axes>"
            ],
            "image/png": "[encoded data removed]"
          },
          "metadata": {}
        }
      ],
      "source": [
        "plt.figure()\n",
        "plt.scatter(X_pca[:,0],X_pca[:,1],alpha=0.5,c='red')\n",
        "plt.show()"
      ]
    },
    {
      "cell_type": "markdown",
      "metadata": {
        "id": "99StnZL88kxa"
      },
      "source": [
        "## Tarea: Similitud entre documentos"
      ]
    },
    {
      "cell_type": "markdown",
      "metadata": {
        "id": "zhwDRo9i1l9E"
      },
      "source": [
        "Escojamos los `n_test_docs=5` documentos para analizar y encontrar sus `n_vecinos_cercanos=2` vecinos más cercanos."
      ]
    },
    {
      "cell_type": "markdown",
      "metadata": {
        "id": "lAIr5Mw8QM0h"
      },
      "source": [
        "Definimos los parámetros del experimento"
      ]
    },
    {
      "cell_type": "code",
      "execution_count": null,
      "metadata": {
        "id": "BG5xgWmjP8e2",
        "outputId": "10424231-ff8d-4650-909b-4c911cabf64c",
        "colab": {
          "base_uri": "https://localhost:8080/"
        }
      },
      "outputs": [
        {
          "output_type": "stream",
          "name": "stdout",
          "text": [
            "índices de los documentos para probar: [ 297   46  161 1604 1781]\n"
          ]
        }
      ],
      "source": [
        "import numpy as np\n",
        "\n",
        "n_test_docs = 5\n",
        "n_vecinos_cercanos = 2\n",
        "\n",
        "test_idxs = np.random.choice(df.index.to_list(),size=n_test_docs,replace=False)\n",
        "print(f\"índices de los documentos para probar: {test_idxs}\")"
      ]
    },
    {
      "cell_type": "code",
      "execution_count": null,
      "metadata": {
        "id": "nYqq6Vey8kxb",
        "outputId": "18d3ba14-ccf5-4d7b-e80c-ebc57eb728cc",
        "colab": {
          "base_uri": "https://localhost:8080/"
        }
      },
      "outputs": [
        {
          "output_type": "stream",
          "name": "stdout",
          "text": [
            "297:\n",
            "\t ley multiculturalismo act for the preservation and enhancement multiculturalism canada ley promulgada reconoce oficialmente naturaleza multicultural sociedad canadiense objetivos reconocer promover entendimiento multiculturalismo refleja diversidad racial cultural sociedad canadiense reconoce libertad miembros sociedad canadiense preservar realzar compartir patrimonios culturales reconocer promover entendimiento multiculturalismo característica fundamental patrimonio identidad canadienses provee recurso formador futuro canadá invaluable promover participación total equitativa individuos comunidades orígenes continua evolución formación aspectos sociedad canadiense así asistirles eliminación barreras tal participación reconocer existencia comunidades cuyos miembros comparten origen común así contribución histórica sociedad canadiense realzar desarrollo asegurar individuos reciban igual trato igual protección bajo ley respetando valorizando diversidad alentar asistir instituciones sociales políticas económicas culturales canadá respetuosas incluyentes carácter multicultural canadá promover entendimiento creatividad surgen the interacción individuos comunidades distintos orígenes alentar reconocimiento apreciación diversas culturas sociedad canadiense promover reflejo expresión evolutiva mismas preservar realzar uso lenguas además inglés francés fortaleciendo mismo tiempo uso idiomas oficiales avanzar multiculturalismo canadá armonía compromiso idiomas oficiales canadá enlaces externos legislación oficial inglés\n",
            "46:\n",
            "\t wojciech kilar julio leópolis polonia actualmente leópolis ucrania compositor música clásica cine polaco ganado diversos premios trabajos pertenece junto krzysztof penderecki henryk górecki vanguardia polaca década cursó estudios piano mejores academias música país incluyendo academia música katowice akademia muzyczna katowicach trasladarse parís estudiar nadia boulanger conservatorio recibido críticas exitosas compositor clásico kilar compuso primera banda sonora película lunatycy entonces escrito música películas directores polacos aclamados incluyendo krzysztof kie lowski krzysztof zanussi kazimierz kutz andrzej wajda trabajado títulos país incluyendo internacionalmente reconocidos bilans kwartalny spirala constans imperativ rok spokojnego slonca zycie zycie trabajado directores franceses partes europa francis ford coppola ofreció debut lengua inglesa vibrante adaptación drácula bram stoker bram stokers dracula creaciones lengua inglesa trío roman polanski death and the maiden novena puerta pianista the pianist jane campion retrato dama caracterizaban bajos violoncelos temas profundamente románticos progresiones acordes minimalistas pesar incursiones mayoría trabajos últimos años sido películas polacas dirigidas zanussi wajda además obra cine kilar continúa escribiendo publicando trabajos puramente clásicos cuales cabe destacar sonata trompa pieza quinteto viento unas diversas piezas orquesta cámara coro aclamados baltic canticles épica èxode famosa ser música trailer lista schindler trabajo reciente concierto piano orquesta dedicado peter jablonski\n",
            "161:\n",
            "\t gustavo suecia frans gustav oscar estocolmo junio cristianía septiembre príncipe suecia noruega duque uppland destacado compositor musical recibiendo apodo príncipe cantante sångarprinsen hijo óscar josefina leuchtenberg nació palacio haga siendo segundo hijo entonces príncipes herederos óscar josefina estudió universidades uppsala cristianía demostró vida gran interés hacia historia país arte ingresó ejército obtuvo grado teniente coronel canciller real academia sueca arte aficionado dibujo obra artística trascendió campo música dos composiciones bastante populares suecia aun actualidad studentsången canción estudiante típica fines curso bachillerato vårsång canción primavera obras cuarteto letra herman sätherberg escribió marchas obras piano realizó varios viajes través suecia noruega febrero adquirió padre palacio stjernsund cerca askersund noruega solía pasar largas temporadas visitó noruega última vez palacio real cristianía enfermó súbitamente falleció septiembre año edad años casado muerte príncipe gustavo encontraba reuniendo información realizar obra historia suecia hizo recopilación póstuma obra musical academia sueca música miembro erigió monumento parque haga escultor carl eldh realizó estatua príncipe misma localiza frente edificio carolina rediviva biblioteca universidad uppsala cineasta schamyl bauman realizó película titulada príncipe gustavo versión romántica vida gustavo suecia\n",
            "1604:\n",
            "\t pauson pintor griego vivió misma época pintores polignoto dionisio mencionado estagirita haciendo referencia aristóteles compara obra dos pintores dice polignoto dibujó hombres perfectos pauson peor dionisio tal cabría interpretar polignoto mejoraba naturaleza seleccionaba perfecto bello dionisio reproducía tal pauson escogía formas degradadas política aristóteles éste dice hablar vista cualquiera importancia atribuya sensaciones vista jamás aconsejará juventud contemple obras pauson mientras pueden recomendar polignoto cualquier pintor tan moral\n",
            "1781:\n",
            "\t espato cualquier mineral estructura laminar ello fácilmente exfoliable aplica especial lapídeos minerales brillo vítreo forman ganga minerales metalíferos así ejemplo espato calizo variedad caliza espato flúor fluorita espato pesado baritina conocido espato islandia variedad calcita incolora transparente presenta marcada birrefringencia utiliza prismas microscopios polarizantes bibliografía cotton wilkinson química inorgánica avanzada méxico limusa diccionario básico espasa espasacalpe madrid\n"
          ]
        }
      ],
      "source": [
        "for idx in test_idxs:\n",
        "    print(f\"{idx}:\\n\\t {df.loc[idx,'Texto']}\")"
      ]
    },
    {
      "cell_type": "markdown",
      "metadata": {
        "id": "cZLAd_wi8kxk"
      },
      "source": [
        "Funciones que calculan el vecino más cercano a cada uno de los documentos de análisis, usando la distancia Euclidiana en las representaciones obtenidas por PCA.\n",
        "\n",
        "Esto lo hacemos usando [NearestNeighbors](https://scikit-learn.org/stable/modules/generated/sklearn.neighbors.NearestNeighbors.html#sklearn.neighbors.NearestNeighbors), el cual es un algoritmo para buscar eficientemente vecinos más cercanos en diversas métricas."
      ]
    },
    {
      "cell_type": "code",
      "execution_count": null,
      "metadata": {
        "id": "QCejV4Mcnde9"
      },
      "outputs": [],
      "source": [
        "from sklearn.neighbors import NearestNeighbors\n",
        "\n",
        "def k_vecinos_mas_cercanos(X,idxs,k=1):\n",
        "    '''\n",
        "    Esta función recibe una matriz X con la representación vectorial de cada documento,\n",
        "    'idxs' es la lista de índices de los documentos de los cuales se obtendran los vecinos más\n",
        "    cercanos.\n",
        "    'k' es el número de vecinos cercanos que se buscarán\n",
        "    La función regresa una lista de parejas (idx, índices de los vecinos más cercanos a idx)\n",
        "    '''\n",
        "    knn = NearestNeighbors(n_neighbors=k+1,\n",
        "                           metric='cosine'  # Para tareas de texto la métrica coseno suele ser mejor\n",
        "                           )\n",
        "    knn.fit(X)\n",
        "    nns = knn.kneighbors(X[idxs], return_distance=False)\n",
        "    nns_idxs = [pair[1:] for pair in nns]\n",
        "    nns_ids = [(int(query_idx),nn_idxs) for query_idx,nn_idxs in\n",
        "               zip(idxs,nns_idxs)]\n",
        "    return nns_ids"
      ]
    },
    {
      "cell_type": "code",
      "execution_count": null,
      "metadata": {
        "id": "7WusjgEUD-L_",
        "outputId": "d395bd25-4aac-4eb9-b3e3-0dc9f8f68941",
        "colab": {
          "base_uri": "https://localhost:8080/"
        }
      },
      "outputs": [
        {
          "output_type": "stream",
          "name": "stdout",
          "text": [
            "(1920, 100)\n",
            "[(297, array([ 219, 1725])), (46, array([506, 303])), (161, array([ 376, 1574])), (1604, array([1455, 1787])), (1781, array([1675, 1807]))]\n"
          ]
        }
      ],
      "source": [
        "dim = 100  # elegimos un numero q de componentes principales\n",
        "X_pca_red = X_pca[:,:dim]\n",
        "print(X_pca_red.shape)\n",
        "\n",
        "results = k_vecinos_mas_cercanos(X_pca_red,test_idxs,k=2)\n",
        "print(results)"
      ]
    },
    {
      "cell_type": "code",
      "execution_count": null,
      "metadata": {
        "id": "Zo7hmOMPNUz1",
        "outputId": "86914356-97e7-411c-ad9e-b1506c96e010",
        "colab": {
          "base_uri": "https://localhost:8080/"
        }
      },
      "outputs": [
        {
          "output_type": "stream",
          "name": "stdout",
          "text": [
            "Texto de prueba:\n",
            "\tley multiculturalismo act for the preservation and enhancement multiculturalism canada ley promulgada reconoce oficialmente naturaleza multicultural sociedad canadiense objetivos reconocer promover entendimiento multiculturalismo refleja diversidad racial cultural sociedad canadiense reconoce libertad miembros sociedad canadiense preservar realzar compartir patrimonios culturales reconocer promover entendimiento multiculturalismo característica fundamental patrimonio identidad canadienses provee recurso formador futuro canadá invaluable promover participación total equitativa individuos comunidades orígenes continua evolución formación aspectos sociedad canadiense así asistirles eliminación barreras tal participación reconocer existencia comunidades cuyos miembros comparten origen común así contribución histórica sociedad canadiense realzar desarrollo asegurar individuos reciban igual trato igual protección bajo ley respetando valorizando diversidad alentar asistir instituciones sociales políticas económicas culturales canadá respetuosas incluyentes carácter multicultural canadá promover entendimiento creatividad surgen the interacción individuos comunidades distintos orígenes alentar reconocimiento apreciación diversas culturas sociedad canadiense promover reflejo expresión evolutiva mismas preservar realzar uso lenguas además inglés francés fortaleciendo mismo tiempo uso idiomas oficiales avanzar multiculturalismo canadá armonía compromiso idiomas oficiales canadá enlaces externos legislación oficial inglés\n",
            "2 vecinos más cercanos:\n",
            "\tley lenguas oficiales inglés official languages act francés loi sur langues officielles ley adoptada parlamento canadá proclama inglés francés lenguas oficiales federal canadiense ley prevé además ciudadanos derecho recibir servicios administraciones federales sociedades corona ser oídos delante tribunal federal lengua oficial deseen obliga parlamento federal adoptar leyes gobierno publicar textos reglamentarios inglés francés aquellos alcance oficial permite igualmente uso inglés francés lenguas trabajo seno función pública federal ciertas regiones canadienses bilingües región ottawagatineau montreal nuevo brunswick así regiones canadienses ciertas oficinas extranjero condición demanda servicios lenguas oficiales suficientemente alta finalmente crea comisariado lenguas oficiales inglés office the commissioner official languages francés commissariat aux langues officielles encarga atender quejas público hacer encuestas proponer recomendaciones reglamentos políticas aplicación ley establecen perfiles lingüísticos anglófono francófono bilingüe ciertas funciones administración federal ministerios agencias organismos deben tener cargo cierta cantidad personas puedan atender público lenguas oficiales funcionarios monolingües reciben incentivos aprender lengua gobierno proporciona formación lingüística bien concede prima bilingüismo notas enlaces externos loi sur langues officielles lrc cap supl francés commissariat aux langues officielles francés\n",
            "\tartículo trata término utilizado canadá principalmente quebec uso término lingüística véase alófono quebec alófono alguien cuya lengua materna lengua uso inglés francés término suele usarse partes canadá proviene raíces griegas alo significa fono significa sonido voz compárese términos anglófono francófono designan personas cuyas lenguas maternas inglés francés respectivamente véase bilingüismo canadá enlace externo government canada secretariat for official language minority communities\n",
            "------------------------------\n",
            "Texto de prueba:\n",
            "\twojciech kilar julio leópolis polonia actualmente leópolis ucrania compositor música clásica cine polaco ganado diversos premios trabajos pertenece junto krzysztof penderecki henryk górecki vanguardia polaca década cursó estudios piano mejores academias música país incluyendo academia música katowice akademia muzyczna katowicach trasladarse parís estudiar nadia boulanger conservatorio recibido críticas exitosas compositor clásico kilar compuso primera banda sonora película lunatycy entonces escrito música películas directores polacos aclamados incluyendo krzysztof kie lowski krzysztof zanussi kazimierz kutz andrzej wajda trabajado títulos país incluyendo internacionalmente reconocidos bilans kwartalny spirala constans imperativ rok spokojnego slonca zycie zycie trabajado directores franceses partes europa francis ford coppola ofreció debut lengua inglesa vibrante adaptación drácula bram stoker bram stokers dracula creaciones lengua inglesa trío roman polanski death and the maiden novena puerta pianista the pianist jane campion retrato dama caracterizaban bajos violoncelos temas profundamente románticos progresiones acordes minimalistas pesar incursiones mayoría trabajos últimos años sido películas polacas dirigidas zanussi wajda además obra cine kilar continúa escribiendo publicando trabajos puramente clásicos cuales cabe destacar sonata trompa pieza quinteto viento unas diversas piezas orquesta cámara coro aclamados baltic canticles épica èxode famosa ser música trailer lista schindler trabajo reciente concierto piano orquesta dedicado peter jablonski\n",
            "2 vecinos más cercanos:\n",
            "\tlennox berkeley oxford mayo londres diciembre compositor inglés autor obras géneros aunque música cámara música vocal predilectas estudió escuela gresham universidad oxford permaneció parís discípulo nadia boulanger recibió consejos parte maurice ravel impartió clases composición royal academy music londres obra música instrumental cuartetos cuerda trío cuerda trío corno violín piano sexteto clarinete corno cuarteto cuerda concertino flauta violín violonchelo clavecín serenata orquesta sinfonías cuerda divertimento nocturno obertura introducción allegro pianos orquesta conciertos piano orquesta concierto pianos orquesta concierto violín orquesta piezas violín orquesta concierto flauta orquesta además citadas escribió numerosas piezas piano sonata preludios etc así distintas obras violín solista guitarra violín piano alto piano violonchelo piano flauta piano oboe piano música vocal jonah oratorio songs melodías piano orquesta ronsard sonnets poems teresa avila greek songs poems música teatral nelson dinner engagement ruth castaway autumms legacy\n",
            "\tjacques françois antoine ibert agosto febrero compositor francés música clásica vida importancia estudió paul vidal conservatorio parís ganó premio roma cantata poète fée partir director academia francesa roma dirigió opéracomique parís murió parís música ibert considera ser típicamente ligera carácter menudo ingeniosa orquestada coloridamente melodías atractivas aunque miembro six música comparte características miembros grupo obra conocida posiblemente divertissement orquesta basado música incidental obra eugène labiche chapeau paille ditalie sombrero paja italiano curso obra cita cómicamente muchas obras incluyendo marcha nupcial mendelssohn obras prominentes escales orquesta poema sinfónico ballade geôle reading basada poema oscar wilde concierto flauta concertino camera saxofón petit âne blanc piano solo compuso varias óperas tales laiglon opereta petites cardinal parte hecha arthur honegger música películas aquélla película orson welles macbeth óperas persée andromède angélique roi dyvetot gonzague laiglon actos resto arthur honegger petites cardinal opereta arthur honegger barbebleue música películas invitation the dance macbeth panique feu mathias pascal golgotha maternite cinq gentlemen maudits don quixote chapeau paille ditalie\n",
            "------------------------------\n",
            "Texto de prueba:\n",
            "\tgustavo suecia frans gustav oscar estocolmo junio cristianía septiembre príncipe suecia noruega duque uppland destacado compositor musical recibiendo apodo príncipe cantante sångarprinsen hijo óscar josefina leuchtenberg nació palacio haga siendo segundo hijo entonces príncipes herederos óscar josefina estudió universidades uppsala cristianía demostró vida gran interés hacia historia país arte ingresó ejército obtuvo grado teniente coronel canciller real academia sueca arte aficionado dibujo obra artística trascendió campo música dos composiciones bastante populares suecia aun actualidad studentsången canción estudiante típica fines curso bachillerato vårsång canción primavera obras cuarteto letra herman sätherberg escribió marchas obras piano realizó varios viajes través suecia noruega febrero adquirió padre palacio stjernsund cerca askersund noruega solía pasar largas temporadas visitó noruega última vez palacio real cristianía enfermó súbitamente falleció septiembre año edad años casado muerte príncipe gustavo encontraba reuniendo información realizar obra historia suecia hizo recopilación póstuma obra musical academia sueca música miembro erigió monumento parque haga escultor carl eldh realizó estatua príncipe misma localiza frente edificio carolina rediviva biblioteca universidad uppsala cineasta schamyl bauman realizó película titulada príncipe gustavo versión romántica vida gustavo suecia\n",
            "2 vecinos más cercanos:\n",
            "\teugenia suecia charlota eugenia augusta amalia albertina conocida nombre afrancesado eugénie estocolmo abril estocolmo abril princesa suecia noruega hija menor rey óscar reina josefina hermana reyes carlos óscar escritora música compositora escritora autora colección biográfica princesses suède princesas suecia obra francés posteriormente traducida sueco obra musical destacaron obras piano valses marchas así composiciones cuartetos dúos coros letra cuales posteriormente interpretadas arias permaneció soltera toda vida padeció siempre salud bastante débil partir década comenzó pasar veranos villa fridhem hogar paz residencia gotland isla comenzó importante obra altruismo apoyando económicamente colegio orfanato hospital enfermos terminales fundó hospital niños enfermedades incurables sundbyberg afueras estocolmo llamado eugeniahemmet costos solventados joyas princesa falleció palacio real estocolmo restos sepultados iglesia riddarholmen obras piano drottning josephinas polonaise polonesa reina josefina louisa vals vals luisa prière oración sorgmarsch marcha triste memoria reina luisa tullgarnsgalopp marcha tullgarn obras letra farväl adiós aftontankar pensamientos atardecer die glocken campanas tron apostlar apóstoles referencias\n",
            "\taugusto suecia sueco nikolaus august estocolmo agosto estocolmo marzo príncipe suecia noruega duque dalecarlia menor hijos óscar josefina leuchtenberg nació palacio drottningholm afueras estocolmo estudió universidad uppsala interés primordial servicio militar ingresó ejército recibió grado general artillería últimos años vida interesó participar recién fundada asociación voluntarios brindaban asistencia médica campañas militares abril casó princesa teresa sajoniaaltenburg pareja hijos después corta enfermedad príncipe falleció palacio real estocolmo edad años\n",
            "------------------------------\n",
            "Texto de prueba:\n",
            "\tpauson pintor griego vivió misma época pintores polignoto dionisio mencionado estagirita haciendo referencia aristóteles compara obra dos pintores dice polignoto dibujó hombres perfectos pauson peor dionisio tal cabría interpretar polignoto mejoraba naturaleza seleccionaba perfecto bello dionisio reproducía tal pauson escogía formas degradadas política aristóteles éste dice hablar vista cualquiera importancia atribuya sensaciones vista jamás aconsejará juventud contemple obras pauson mientras pueden recomendar polignoto cualquier pintor tan moral\n",
            "2 vecinos más cercanos:\n",
            "\tfriedrich johann justin bertuch septiembre weimar abril editor escritor cervantista hispanista alemán editó magazin der spanischen und portugiesischen literatur hizo adaptación don quijote alemán embargo interés cosas hispánicas superior conocimiento poseía pesar ejerció notable influjo estimulando hispanismo primeros escritores romanticismo alemán editor grandes éxitos bibloteca azul colección cuentos hadas extraordinariamente popular bilderbuch libro imágenes vasta recopilación estampas texto instructivo uso infancia obra incluso vertió latín título novus orbis pictus obras polyxena bilderbuch für kinder\n",
            "\tsonatina piano obra compuesta maurice ravel dedicada ida cipa godebski posteriormente dedicó suite mère loye hijos tres movimientos modéré mouvt menuet iii animé escribió obra concurso auspiciado revista encontraba desocupado única obra participante embargo obra debe ser subestimada título sonatina refleja necesariamente nivel dificultad sino bien singular tributo estilo clásico trata obra neoclásica media tocado brian young\n",
            "------------------------------\n",
            "Texto de prueba:\n",
            "\tespato cualquier mineral estructura laminar ello fácilmente exfoliable aplica especial lapídeos minerales brillo vítreo forman ganga minerales metalíferos así ejemplo espato calizo variedad caliza espato flúor fluorita espato pesado baritina conocido espato islandia variedad calcita incolora transparente presenta marcada birrefringencia utiliza prismas microscopios polarizantes bibliografía cotton wilkinson química inorgánica avanzada méxico limusa diccionario básico espasa espasacalpe madrid\n",
            "2 vecinos más cercanos:\n",
            "\tarseniuro galioaluminio alxgaxas material semiconductor parámetro red similar gaas ancho banda prohibida mayor fórmula anterior número indica proporción gaas alas ancho gap oscila gaas alas obtendremos semiconductor directo fórmula algaas abreviación anterior representa ninguna proporción concreto arseniuro galioaluminio usa material barrera heteroestructuras gaas capa concentra electrones zona compuesta arseniuro galio ejemplo uso estructuras fotodetectores infrarrojos pozos cuánticos qwip véase arseniuro aluminio arseniuro galio\n",
            "\tálgebra conmutativa interesantes menudo anillo fracciones constituyen generalización concepto cuerpo fracciones construcción anillo fracciones anillo anillo conmutativo unitario subconjunto multiplicativamente cerrado consideremos relación binaria fácil comprobar relación equivalencia puede considerarse conjunto cociente denotaremos indicaremos clase elemento tampoco difícil comprobar operaciones adición producto bien definidas dotan estructura anillo conmutativo unitario así construido anillo fracciones anillo respecto\n",
            "------------------------------\n"
          ]
        }
      ],
      "source": [
        "for nn in results:\n",
        "    test_doc = df.loc[nn[0],'Texto']\n",
        "    print(f\"Texto de prueba:\\n\\t{test_doc}\")\n",
        "    nn_docs = df.loc[nn[1],'Texto']\n",
        "    print(f\"{n_vecinos_cercanos} vecinos más cercanos:\")\n",
        "    for nn in nn_docs:\n",
        "        print(f\"\\t{nn}\")\n",
        "    print(30*'-')"
      ]
    },
    {
      "cell_type": "markdown",
      "metadata": {
        "id": "qiDBrAzBw5Fg"
      },
      "source": [
        "Veamos las parejas de documentos más cercanos, usando las primeras dos PC."
      ]
    },
    {
      "cell_type": "code",
      "execution_count": null,
      "metadata": {
        "cellView": "form",
        "id": "dFerxhPfVTcL"
      },
      "outputs": [],
      "source": [
        "#@title Definición de los colores para mostrar los documentos con colores diferentes\n",
        "\n",
        "n_colors = n_test_docs\n",
        "\n",
        "cm = plt.get_cmap('gist_rainbow')\n",
        "colors = [cm(1.*i/n_colors) for i in range(n_colors)]"
      ]
    },
    {
      "cell_type": "code",
      "execution_count": null,
      "metadata": {
        "id": "gVrcIuj_S2Fd",
        "outputId": "8cbfee1c-110d-4aa0-f5ed-e5da157fb2e3",
        "colab": {
          "base_uri": "https://localhost:8080/",
          "height": 499
        }
      },
      "outputs": [
        {
          "output_type": "display_data",
          "data": {
            "text/plain": [
              "<Figure size 1000x600 with 1 Axes>"
            ],
            "image/png": "[encoded data removed]"
          },
          "metadata": {}
        }
      ],
      "source": [
        "import matplotlib.pyplot as plt\n",
        "\n",
        "plt.figure(figsize=(10,6))\n",
        "plt.scatter(X_pca[:,0],X_pca[:,1], color='gray', alpha=0.25)\n",
        "for j,(color,nn) in enumerate(zip(colors,results)):\n",
        "    test_idx = nn[0]\n",
        "    plt.scatter(X_pca[test_idx,0],X_pca[test_idx,1], color=color,s=60,label=f\"Documento {j+1}\")  # Graficar las primeras dos PC de los documentos de prueba\n",
        "    ns_idxs = nn[1]\n",
        "    plt.scatter(X_pca[ns_idxs,0],X_pca[ns_idxs,1], color=color,s=70,marker='x',label=f'Vecinos del documento {j+1}') # Graficar las primeras dos PC de los vecinos de los documentos de prueba\n",
        "plt.legend()\n",
        "plt.axis('off')\n",
        "plt.show()"
      ]
    },
    {
      "cell_type": "markdown",
      "metadata": {
        "id": "-J9BAALj5Z6U"
      },
      "source": [
        "⭕ Preguntas\n",
        "\n",
        "* ¿Por qué los vecinos no son los más cercanos en la figura?\n",
        "* ¿Qué parámetros podríamos variar para modificar o mejorar estos resultados?"
      ]
    },
    {
      "cell_type": "markdown",
      "metadata": {
        "id": "MMmporp68kyp"
      },
      "source": [
        "___"
      ]
    },
    {
      "cell_type": "markdown",
      "source": [
        "🔵 Observa las gráficas HTML de reducción de dimensionalidad de documentos. ¿Observas similitudes entre documentos *cercanos*?\n",
        "\n",
        "* https://github.com/DCDPUAEM/DCDP/blob/main/03%20Machine%20Learning/figuras/wiki-bow-tsne3d-docs.html\n",
        "* https://github.com/DCDPUAEM/DCDP/blob/main/03%20Machine%20Learning/figuras/wiki-tfidf-umap3d-docs.html"
      ],
      "metadata": {
        "id": "wjye6CU12Lld"
      }
    },
    {
      "cell_type": "code",
      "execution_count": null,
      "metadata": {
        "id": "FjjzBJ-szVOL"
      },
      "outputs": [],
      "source": []
    }
  ],
  "metadata": {
    "colab": {
      "provenance": [],
      "toc_visible": true
    },
    "kernelspec": {
      "display_name": "Python 3",
      "name": "python3"
    },
    "language_info": {
      "name": "python"
    }
  },
  "nbformat": 4,
  "nbformat_minor": 0
}