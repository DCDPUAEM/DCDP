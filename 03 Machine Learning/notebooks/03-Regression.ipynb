{
  "cells": [
    {
      "cell_type": "markdown",
      "metadata": {
        "id": "8QMq231MZiUS"
      },
      "source": [
        "<a href=\"https://colab.research.google.com/github/DCDPUAEM/DCDP/blob/main/03%20Machine%20Learning/notebooks/03-Regression.ipynb\" target=\"_parent\"><img src=\"https://colab.research.google.com/assets/colab-badge.svg\" alt=\"Open In Colab\"/></a>"
      ]
    },
    {
      "cell_type": "markdown",
      "metadata": {
        "id": "epextEa5LtcX"
      },
      "source": [
        "# Regresión Lineal\n",
        "\n",
        "En esta notebook exploraremos la regresión lineal, aplicándo este algoritmo a varios conjuntos de datos. Además, usaremos la regresión lineal multiple y polinomial.\n",
        "\n",
        "Trabajaremos 4 ejemplos:\n",
        "\n",
        "1. Regresión Lineal Simple\n",
        "2. Regresión Lineal Multiple\n",
        "3. Regresión con Regularización"
      ]
    },
    {
      "cell_type": "markdown",
      "source": [
        "* 🔽 Esta sección no forma parte del proceso usual de Machine Learning. Es una exploración didáctica de algún aspecto del funcionamiento del algoritmo.\n",
        "* ⚡ Esta sección incluye técnicas más avanzadas destinadas a optimizar o profundizar en el uso de los algoritmos.\n",
        "* ⭕ Esta sección contiene un ejercicio o práctica a realizar. Aún si no se establece una fecha de entrega, es muy recomendable realizarla para practicar conceptos clave de cada tema."
      ],
      "metadata": {
        "id": "_ecwFN7aH0p6"
      }
    },
    {
      "cell_type": "markdown",
      "metadata": {
        "id": "aore9-PIrdQ0"
      },
      "source": [
        "La **RL** es el modelo más simple para entender los problemas de regresión. Este tipo de modelos son muy populares debido a que:\n",
        "\n",
        "  - Son *baratos* y *rápidos* de estimar.\n",
        "  - Son **INTERPRETABLES**.\n",
        "\n",
        "El caso base de una RL consiste en ajustar una linea a un conjunto de puntos (1 variable independiente, 1 variable dependiente). Este modelo se puede extender a comportamientos más complicados (más dimensiones o relaciones no lineales)."
      ]
    },
    {
      "cell_type": "markdown",
      "metadata": {
        "id": "whebPAzoDyi0"
      },
      "source": [
        "## Ejemplo 1: Regresión Lineal Simple\n",
        "\n",
        "Una Regresión Lineal Simple, es una linea en 2D que es **ajustada** a datos y tiene la siguiente forma:\n",
        "\n",
        "\\begin{equation}\n",
        "y=\\beta_0+\\beta_1x_1,\n",
        "\\end{equation}\n",
        "\n",
        "tal que $y$ es la variable dependiente (etiqueta/salida) y $\\mathbf{x}$ son las variable independiente (feature).\n",
        "\n",
        "$\\beta_0$ es la *ordenada al origen* (*intercepto*) y $\\beta_1$ es la *pendiente* de la linea (*coeficiente*)."
      ]
    },
    {
      "cell_type": "markdown",
      "metadata": {
        "id": "8rQPxKXhiigK"
      },
      "source": [
        "Generaremos datos sintéticos que provienen de una linea con $\\beta_0=2$ y $\\beta_1=5$. Este ejemplo será útil para desarrollar la intuición detrás del método."
      ]
    },
    {
      "cell_type": "code",
      "source": [
        "import numpy as np\n",
        "\n",
        "np.random.seed(55) # Fijamos el 'seed', para la reproducibilidad.\n",
        "size = 100\n",
        "\n",
        "b0 = 2 # Intercepto (sesgo)\n",
        "b1 = 5 # Coeficiente (pendiente)\n",
        "\n",
        "x = np.random.uniform(0,3,size) # Tomamos 100 puntos sobre el [0,3]\n",
        "y_recta = (b0 + (b1 * x))       # Coordenadas y sobre la recta\n",
        "ruido = np.random.normal(0,1,size) # Ruido con distribución normal\n",
        "y = y_recta + ruido             # Agregamos el ruido a las coordenadas en y"
      ],
      "metadata": {
        "id": "O8mGjurZGPoJ"
      },
      "execution_count": null,
      "outputs": []
    },
    {
      "cell_type": "code",
      "execution_count": null,
      "metadata": {
        "id": "Opt-hqTEio6_"
      },
      "outputs": [],
      "source": [
        "import matplotlib.pyplot as plt\n",
        "\n",
        "plt.figure(figsize=(9,4))\n",
        "plt.subplot(1,2,1)\n",
        "plt.scatter(x,y_recta,color='black',alpha=0.7)\n",
        "plt.subplot(1,2,2)\n",
        "plt.scatter(x,y,color='red')\n",
        "plt.show()"
      ]
    },
    {
      "cell_type": "markdown",
      "metadata": {
        "id": "iTrixyDLkxrA"
      },
      "source": [
        "<iframe scrolling=\"no\" title=\"Regresión Lineal\" src=\"https://www.geogebra.org/material/iframe/id/sv32x27d/width/700/height/500/border/888888/sfsb/true/smb/false/stb/false/stbh/false/ai/false/asb/false/sri/false/rc/false/ld/false/sdz/true/ctl/false\" width=\"700px\" height=\"500px\" style=\"border:0px;\"> </iframe>"
      ]
    },
    {
      "cell_type": "markdown",
      "metadata": {
        "id": "O56S_0HeTnMy"
      },
      "source": [
        "### 🔽 Detalles Matemáticos: Solución usando OLS\n",
        "\n",
        "Para ejemplificar, volvamos a una variable independiente. El **ajuste óptimo** se puede determinar de varias formas, pero la manera más común (y la utilizada por `Scikit-Learn`) es mediante el **método de OLS**, el cual minimiza una cantidad denominada *suma de cuadrados de los residuos* (RSS):\n",
        "\n",
        "\\begin{align}\n",
        "RSS(\\hat{\\beta_0},\\hat{\\beta_1}) &= \\sum_{i=1}^n [y_i - (\\hat{\\beta_0}+\\hat{\\beta_1} x_i)]^2,\\\\\n",
        "\\end{align}\n",
        "\n",
        "en esta ecuación el **residuo** corresponde al valor $e_i$, tal que $e_i=y_i - (\\hat{\\beta_0}+\\hat{\\beta_1} x_i)$. Geométricamente, un residuo es la distancia vertical entre la **linea ajustada** y el valor real $y_i$.\n",
        "\n",
        "<img src=\"https://docs.google.com/uc?export=download&id=13gFpVnLx56mrQ1j4pGuZFlfXVl-EkoJK\" width=\"600\" align=\"middle\">\n",
        "\n"
      ]
    },
    {
      "cell_type": "code",
      "execution_count": null,
      "metadata": {
        "cellView": "form",
        "id": "IFeyyrA2lQ0J"
      },
      "outputs": [],
      "source": [
        "#@title\n",
        "##@title Applet de geogebra\n",
        "\n",
        "import IPython\n",
        "\n",
        "iframe = '<iframe scrolling=\"no\" title=\"Regresión Lineal\" src=\"https://www.geogebra.org/material/iframe/id/sv32x27d/width/700/height/500/border/888888/sfsb/true/smb/false/stb/false/stbh/false/ai/false/asb/false/sri/false/rc/false/ld/false/sdz/true/ctl/false\" width=\"700px\" height=\"500px\" style=\"border:0px;\"> </iframe>'\n",
        "\n",
        "IPython.display.HTML(iframe)"
      ]
    },
    {
      "cell_type": "markdown",
      "metadata": {
        "id": "yJsVvAVKmH9Y"
      },
      "source": [
        "Otra precisión importante, es que OLS produce estimados de los parámetros, es decir que se obtienen $\\hat{\\beta_0}$ y $\\hat{\\beta_1}$, y no los verdaderos $\\beta_0$ y $\\beta_1$.\n",
        "\n",
        "**Representación Algebraica**\n",
        "\n",
        "Un modelo de regresión lineal para una sola variable independiente, lo podemos escribir como un sistema de ecuaciones lineales utilizando matrices de la siguiente forma:\n",
        "\n",
        "$$\n",
        "\\begin{bmatrix}\n",
        "y_1 \\\\ y_2 \\\\ \\dots \\\\ y_n\n",
        "\\end{bmatrix}\n",
        "=\n",
        "\\begin{bmatrix}\n",
        "1 & x_{1} \\\\\n",
        "1 & x_{2} \\\\\n",
        "1 & \\dots \\\\\n",
        "1 & x_{n}\n",
        "\\end{bmatrix}\n",
        "\\begin{bmatrix}\n",
        "\\hat{\\beta}_0 \\\\\n",
        "\\hat{\\beta}_1 \\\\\n",
        "\\end{bmatrix}\n",
        "+\n",
        "\\begin{bmatrix}\n",
        "e_0 \\\\\n",
        "e_1 \\\\\n",
        "\\dots \\\\\n",
        "e_n\n",
        "\\end{bmatrix}\n",
        "=\n",
        "X\\hat{\\beta}+\\mathbf{e}\n",
        "$$\n",
        "\n",
        "La Estimación de $\\hat{\\beta}$ está dada por\n",
        "\n",
        "$$\n",
        "\\hat{\\beta} = (X^T X)^{-1} X^T\\mathbf{y} $$"
      ]
    },
    {
      "cell_type": "markdown",
      "metadata": {
        "id": "YBCdzgGRjrrj"
      },
      "source": [
        "### 🔽 Implementación manual"
      ]
    },
    {
      "cell_type": "markdown",
      "metadata": {
        "id": "81AH9m4KnCH7"
      },
      "source": [
        "Primero, añadimos el vector columna de 1s. Obtener la matriz\n",
        "\n",
        "\\begin{bmatrix}\n",
        "1 & x_{1} \\\\\n",
        "1 & x_{2} \\\\\n",
        "1 & \\dots \\\\\n",
        "1 & x_{n}\n",
        "\\end{bmatrix}\n",
        "\n",
        "Acerca de la concatenación arreglos: https://stackoverflow.com/questions/33356442/when-should-i-use-hstack-vstack-vs-append-vs-concatenate-vs-column-stack"
      ]
    },
    {
      "cell_type": "code",
      "execution_count": null,
      "metadata": {
        "id": "2aIJT3BUj0VD"
      },
      "outputs": [],
      "source": [
        "X = np.column_stack((np.ones(shape=x.shape),x))\n",
        "\n",
        "print(X[:5,:])\n",
        "\n",
        "assert X.shape == (size,2)"
      ]
    },
    {
      "cell_type": "markdown",
      "metadata": {
        "id": "gfvE_jRcoGJb"
      },
      "source": [
        "Resolver usando mínimos cuadrados (OLS). Es decir,\n",
        "\n",
        "$$\\hat{\\beta} = (X^T X)^{-1} X^T\\mathbf{y}$$"
      ]
    },
    {
      "cell_type": "code",
      "execution_count": null,
      "metadata": {
        "id": "RS8Teb3JnPhm"
      },
      "outputs": [],
      "source": [
        "beta = (np.linalg.inv(np.transpose(X)@X)@np.transpose(X))@y\n",
        "print(beta.shape)\n",
        "\n",
        "beta_0 = beta[0]\n",
        "beta_1 = beta[1]\n",
        "\n",
        "print(beta_0,beta_1)"
      ]
    },
    {
      "cell_type": "markdown",
      "metadata": {
        "id": "gEEHwmKMoO5E"
      },
      "source": [
        "Visualicemos la línea ajustada"
      ]
    },
    {
      "cell_type": "code",
      "execution_count": null,
      "metadata": {
        "id": "cLaxwtxpni9B"
      },
      "outputs": [],
      "source": [
        "x_values = np.linspace(0, 3, 100)       # Dividimos el intérvalo [0,3] en 100 puntos equi-espaciados\n",
        "y_values = beta_0 + beta_1 * x_values\n",
        "\n",
        "plt.figure()\n",
        "plt.scatter(x, y, marker='x',color='red')\n",
        "plt.plot(x_values, y_values, color='green')\n",
        "plt.show()"
      ]
    },
    {
      "cell_type": "markdown",
      "metadata": {
        "id": "SAwtn5TGjvRA"
      },
      "source": [
        "### Implementación con `scikit-learn`\n",
        "\n",
        "La regresión lineal se hace con la clase [LinearRegression](https://scikit-learn.org/stable/modules/generated/sklearn.linear_model.LinearRegression.html) de scikit-learn.\n",
        "\n",
        "Primero, hagamos un reshape necesario"
      ]
    },
    {
      "cell_type": "code",
      "execution_count": null,
      "metadata": {
        "id": "y-QMILb9on4e"
      },
      "outputs": [],
      "source": [
        "x = x.reshape(-1,1)   # Hacemos un reshape: X of shape (n_samples, n_features)\n",
        "print(f\"n_samples: {x.shape[0]},\\nn_features: {x.shape[1]}\")\n",
        "x.shape"
      ]
    },
    {
      "cell_type": "markdown",
      "source": [
        "Inicializamos la clase con el hiperparámetro `fit_intercept=True`"
      ],
      "metadata": {
        "id": "BXbNOBC1a5H5"
      }
    },
    {
      "cell_type": "code",
      "execution_count": null,
      "metadata": {
        "id": "8vYm8QJUj06z"
      },
      "outputs": [],
      "source": [
        "from sklearn.linear_model import LinearRegression\n",
        "\n",
        "lr = LinearRegression(fit_intercept=True)\n",
        "lr.fit(x,y)"
      ]
    },
    {
      "cell_type": "markdown",
      "metadata": {
        "id": "S7p28tuupMT4"
      },
      "source": [
        "Por convención, en Scikit-Learn todos los parámetros del modelo que se aprendieron durante el proceso `fit()` son nombrados con guiones bajos al final. En este modelo podemos recuperar los valores de $\\beta_0$ (el intercepto) y $\\beta_1$ (el coeficiente)."
      ]
    },
    {
      "cell_type": "code",
      "execution_count": null,
      "metadata": {
        "id": "gIHv_02To2mn"
      },
      "outputs": [],
      "source": [
        "lr.intercept_"
      ]
    },
    {
      "cell_type": "code",
      "execution_count": null,
      "metadata": {
        "id": "wpR_bvijo0cM"
      },
      "outputs": [],
      "source": [
        "lr.coef_"
      ]
    },
    {
      "cell_type": "markdown",
      "metadata": {
        "id": "4P1hCZoLqdDX"
      },
      "source": [
        "Realizamos predicciones"
      ]
    },
    {
      "cell_type": "code",
      "execution_count": null,
      "metadata": {
        "id": "BO5Im5Ifqc1o"
      },
      "outputs": [],
      "source": [
        "x_values = np.linspace(0, 3, 100)\n",
        "\n",
        "beta_0 = lr.intercept_\n",
        "beta_1 = lr.coef_\n",
        "\n",
        "y_values = beta_0 + beta_1 * x_values"
      ]
    },
    {
      "cell_type": "code",
      "execution_count": null,
      "metadata": {
        "id": "QN_lBG19o9hz"
      },
      "outputs": [],
      "source": [
        "plt.figure()\n",
        "plt.scatter(x, y, marker='x',color='black')\n",
        "plt.plot(x_values, y_values, color='blue')\n",
        "plt.show()"
      ]
    },
    {
      "cell_type": "markdown",
      "metadata": {
        "id": "AGXGiqoloW7_"
      },
      "source": [
        "### 🔽 Hipotésis de normalidad"
      ]
    },
    {
      "cell_type": "markdown",
      "metadata": {
        "id": "ejuioOQyobRD"
      },
      "source": [
        "### Suposiciones de la regresión lineal\n",
        "\n",
        "La regresión lineal se basa en algunas suposiciones importantes para que sus resultados sean confiables. Entre ellas están:\n",
        "\n",
        "- **Linealidad**: existe una relación lineal entre las variables explicativas (X) y la variable objetivo (y). En nuestro ejemplo, los datos fueron creados específicamente siguiendo esta propiedad.\n",
        "- **Independencia**: las observaciones son independientes entre sí. Esto significa que el valor de una observación no afecta directamente a otra.\n",
        "- **Normalidad de los residuos**: los errores o residuos (es decir, la diferencia entre los valores reales y los predichos por la recta) deben seguir una distribución aproximadamente normal.\n",
        "\n",
        "Los residuos se definen como:\n",
        "\n",
        "$$ e_i = y_i - \\hat{y}_i $$\n",
        "\n",
        "Y la suposición es que:\n",
        "\n",
        "$$ e_i \\sim N(0, \\sigma^2) $$\n",
        "\n",
        "Esto implica que los errores están centrados en cero (no hay sesgo sistemático) y su dispersión es constante (homocedasticidad).\n",
        "\n",
        "---\n",
        "\n",
        "Veamos nuestro caso:\n",
        "\n",
        "\n",
        "\n"
      ]
    },
    {
      "cell_type": "code",
      "source": [
        "import seaborn as sns\n",
        "import matplotlib.pyplot as plt\n",
        "import numpy as np\n",
        "from scipy.stats import norm\n",
        "\n",
        "# Calcular residuos\n",
        "residuos = y - y_values\n",
        "\n",
        "# Ajustar distribución normal a los residuos\n",
        "mu, sigma = residuos.mean(), residuos.std()\n",
        "\n",
        "# Graficar\n",
        "sns.histplot(residuos, kde=True, bins=20, stat='density', color='skyblue')\n",
        "x = np.linspace(residuos.min(), residuos.max(), 100)\n",
        "plt.plot(x, norm.pdf(x, mu, sigma), 'r', lw=2, label='Normal teórica')\n",
        "plt.title('Distribución de los residuos vs Normal teórica')\n",
        "plt.legend()\n",
        "plt.show()"
      ],
      "metadata": {
        "id": "xUw7Qu0UdqcH"
      },
      "execution_count": null,
      "outputs": []
    },
    {
      "cell_type": "code",
      "source": [
        "from scipy.stats import shapiro\n",
        "\n",
        "stat, p_valor = shapiro(residuos)\n",
        "print(f'Estadístico: {stat:.4f}, p-valor: {p_valor:.4f}')\n",
        "\n",
        "if p_valor > 0.05:\n",
        "    print(\"No hay evidencia suficiente para rechazar la normalidad.\")\n",
        "else:\n",
        "    print(\"Hay evidencia suficiente para rechazar la normalidad.\")"
      ],
      "metadata": {
        "id": "roFLP-YRd0ir"
      },
      "execution_count": null,
      "outputs": []
    },
    {
      "cell_type": "markdown",
      "metadata": {
        "id": "hNOfeF0_sBa-"
      },
      "source": [
        "#### ⚡ ¿Qué pasa si no se satisface la hipótesis de la normalidad de los residuos?\n",
        "\n",
        "Que los residuos no sigan una distribución normal no siempre es un problema grave. Por ejemplo:\n",
        "\n",
        "- Los coeficientes de la recta (pendiente y ordenada al origen) pueden seguir siendo buenos estimadores.\n",
        "- Las predicciones pueden seguir siendo razonablemente buenas.\n",
        "\n",
        "Sin embargo, si planeas usar la regresión para **inferencia estadística**, como determinar si una variable tiene un efecto significativo sobre otra, entonces la falta de normalidad puede llevar a conclusiones erróneas.\n",
        "\n",
        "\n",
        "*Misspecifying the Shape of a Random Effects Distribution: Why Getting It Wrong May Not Matter*, Statistical Science, 2011, Vol. 26, No. 3, 388–402"
      ]
    },
    {
      "cell_type": "markdown",
      "metadata": {
        "id": "JpvaNbHWsVg9"
      },
      "source": [
        "**¿Qué pasa si el ruido que contamina la serie de tiempo NO es normal?**\n",
        "\n",
        "Considere que los siguientes datos sintéticos provienen de una linea con $\\beta_0=2$ y $\\beta_1=5$. Los cuatro conjuntos de datos son contaminados por diferentes fuentes de ruido:\n",
        "\n",
        "- Distribución Beta $P(x:\\alpha,\\beta) = \\frac{\\Gamma(\\alpha +\\beta)}{\\Gamma(\\alpha)\\Gamma(\\beta)}x^{\\alpha - 1}(1 -x)^{\\beta - 1}$\n",
        "\n",
        "- Distribución uniforme $P(x:a,b)=\\frac{1}{b-a}\\mid a\\geq x\\geq b$\n",
        "\n",
        "- Distribución Logarítmica $P(x: p,k\\geq1)=\\frac{-1}{ln(1-p)}\\frac{p^k}{k}$\n",
        "\n",
        "- Distribución Log-Normal $P(x: \\mu,\\sigma) = \\frac{1}{x}\\cdot \\frac{1}{\\sigma \\sqrt{2\\pi}} exp(\\frac{(ln(x)-\\mu)^2}{2\\sigma^2})$"
      ]
    },
    {
      "cell_type": "code",
      "execution_count": null,
      "metadata": {
        "id": "CMEuqENksmJ7"
      },
      "outputs": [],
      "source": [
        "import numpy as np\n",
        "\n",
        "np.random.seed(55) # Fijamos el 'seed', para la reproducibilidad.\n",
        "size = 100\n",
        "\n",
        "b0 = 2\n",
        "b1 = 5\n",
        "\n",
        "x = np.random.uniform(0,3,size)\n",
        "y_recta = (b0 + (b1 * x))       # coordenadas y sobre la recta\n",
        "\n",
        "y_beta = y_recta + 3*np.random.beta(a=2,b=5, size=size)   # Distribución Beta\n",
        "y_unif = y_recta + 3*np.random.uniform(low=-3, high = 3, size = size) # Distribución uniforme\n",
        "y_logs = y_recta + 3*np.random.logseries(p=.66, size = size) # Distribución logaritmica\n",
        "y_lognorm = y_recta + 3*np.random.lognormal(size=size) # Distribución log-nor"
      ]
    },
    {
      "cell_type": "markdown",
      "metadata": {
        "id": "yE0uZQpRswx6"
      },
      "source": [
        "🔵 Exploremos el comportamiento de la regresión en estas situaciones.\n",
        "\n",
        "1. Realizamos las regresiones y las graficamos en un grid de 2x2\n",
        "2. Graficamos los histogramas de los residuos en un grid de 2x2"
      ]
    },
    {
      "cell_type": "code",
      "execution_count": null,
      "metadata": {
        "id": "DcZhEHams6x7"
      },
      "outputs": [],
      "source": [
        "fig, axs = plt.subplots(2, 2,figsize=(10,7))\n",
        "fig.suptitle(\"Datos\", fontsize=17)\n",
        "axs[0, 0].scatter(x, y_beta, color='red')\n",
        "axs[0, 0].set_title('Distribución Beta')\n",
        "axs[0, 1].scatter(x, y_unif, color='red')\n",
        "axs[0, 1].set_title('Distribución uniforme')\n",
        "axs[1, 0].scatter(x, y_logs, color='red')\n",
        "axs[1, 0].set_title('Distribución logaritmica')\n",
        "axs[1, 1].scatter(x, y_lognorm, color='red')\n",
        "axs[1, 1].set_title('Distribución log-normal')\n",
        "fig.show()"
      ]
    },
    {
      "cell_type": "code",
      "source": [
        "arreglos_y = [y_beta, y_unif, y_logs, y_lognorm]\n",
        "titulos = ['Distribución Beta', 'Distribución uniforme', 'Distribución logaritmica', 'Distribución log-normal']\n",
        "\n",
        "x_values = np.random.uniform(0,3,size)\n",
        "\n",
        "fig, axs = plt.subplots(2, 2,figsize=(10,7),sharex=True)\n",
        "fig.suptitle(\"Regresiones Lineales\", fontsize=17)\n",
        "\n",
        "for j,ax in enumerate(axs.flatten()):\n",
        "    lr = LinearRegression()\n",
        "    lr.fit(x.reshape(-1,1),arreglos_y[j])\n",
        "    b0 = lr.intercept_\n",
        "    b1 = lr.coef_\n",
        "    ax.scatter(x, arreglos_y[j], color='red')\n",
        "    ax.plot(x_values, b0 + b1*x_values, color='blue')\n",
        "    ax.set_title(titulos[j])\n",
        "fig.show()"
      ],
      "metadata": {
        "id": "Zy-x7QZSYKPI"
      },
      "execution_count": null,
      "outputs": []
    },
    {
      "cell_type": "code",
      "source": [
        "import seaborn as sns\n",
        "\n",
        "arreglos_y = [y_beta, y_unif, y_logs, y_lognorm]\n",
        "titulos = ['Distribución Beta', 'Distribución uniforme', 'Distribución logaritmica', 'Distribución log-normal']\n",
        "\n",
        "x_values = np.random.uniform(0,3,size)\n",
        "\n",
        "fig, axs = plt.subplots(2, 2,figsize=(10,7))\n",
        "fig.suptitle(\"Distribución de los errores\", fontsize=17)\n",
        "\n",
        "for j,ax in enumerate(axs.flatten()):\n",
        "    lr = LinearRegression()\n",
        "    lr.fit(x.reshape(-1,1),arreglos_y[j])\n",
        "    b0 = lr.intercept_\n",
        "    b1 = lr.coef_\n",
        "    residuos = y - (b0 + b1*x)\n",
        "    sns.histplot(residuos, kde=True, ax=ax)\n",
        "    ax.set_title(titulos[j])\n",
        "fig.show()"
      ],
      "metadata": {
        "id": "GjVVmRrDg9Ql"
      },
      "execution_count": null,
      "outputs": []
    },
    {
      "cell_type": "markdown",
      "source": [
        "## Ejemplo 2: Regresión Lineal Simple\n",
        "\n",
        "El ejemplo anterior vimos cómo funciona, conceptualmente, la regresión lineal simple. En este ejemplo veremos cómo funciona en un ejemplo *real*.\n",
        "\n",
        "El problema consiste en estudiar cómo se relaciona la altura con el peso para **entrenar un modelo para predecir el peso a partir de la altura**.\n",
        "\n",
        "Para entrenar este modelo necesitamos datos de mediciones de pesos y alturas en humanos. En el siguiente dataset tenemos 25,000 de estas mediciones. Cada renglón es una instancia, definida por dos caracteristicas: una variable independiente (la altura, en metros), una variable target (el peso, en kg)."
      ],
      "metadata": {
        "id": "hA-1b__zzlzt"
      }
    },
    {
      "cell_type": "code",
      "source": [
        "import pandas as pd\n",
        "\n",
        "url = \"https://raw.githubusercontent.com/DCDPUAEM/DCDP/main/03%20Machine%20Learning/data/heights_and_weights.csv\"\n",
        "regresion_df = pd.read_csv(url)[['Altura','Peso']]\n",
        "regresion_df['Altura'] = regresion_df['Altura'].apply(lambda x: x/100)\n",
        "regresion_df"
      ],
      "metadata": {
        "id": "5DVKVLW9SuHB"
      },
      "execution_count": null,
      "outputs": []
    },
    {
      "cell_type": "markdown",
      "source": [
        "Visualicemos los datos:"
      ],
      "metadata": {
        "id": "1_VWwdUZ2Dzl"
      }
    },
    {
      "cell_type": "code",
      "source": [
        "import matplotlib.pyplot as plt\n",
        "\n",
        "plt.figure()\n",
        "plt.scatter(regresion_df['Altura'], regresion_df['Peso'],color='gray')\n",
        "# plt.axis('equal')\n",
        "plt.show()"
      ],
      "metadata": {
        "id": "EhbkK8EYzrsG"
      },
      "execution_count": null,
      "outputs": []
    },
    {
      "cell_type": "markdown",
      "source": [
        "![ML-proceso.png](data:image/png;base64,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)"
      ],
      "metadata": {
        "id": "L_Yj4wOT3zeK"
      }
    },
    {
      "cell_type": "markdown",
      "source": [
        "⭕ ¿Observas una relación lineal entre los datos?"
      ],
      "metadata": {
        "id": "5o6yLwwE3aJm"
      }
    },
    {
      "cell_type": "code",
      "source": [
        "from sklearn.model_selection import train_test_split\n",
        "\n",
        "X = regresion_df['Altura'].values.reshape(-1,1)\n",
        "y = regresion_df['Peso'].values\n",
        "\n",
        "X_train, X_test, y_train, y_test = train_test_split(X,y, train_size=0.8, random_state=4595)\n",
        "\n",
        "print(f\"Tamaño de dataset de entrenamiento: {X_train.shape,y_train.shape}\")\n",
        "print(f\"Tamaño de dataset de prueba: {X_test.shape,y_test.shape}\")"
      ],
      "metadata": {
        "id": "2R15gg-U2w3f"
      },
      "execution_count": null,
      "outputs": []
    },
    {
      "cell_type": "code",
      "source": [
        "from sklearn.preprocessing import MinMaxScaler\n",
        "\n",
        "scaler = MinMaxScaler()\n",
        "\n",
        "X_train = scaler.fit_transform(X_train)\n",
        "X_test = scaler.transform(X_test)"
      ],
      "metadata": {
        "id": "OXW51W8f4AHF"
      },
      "execution_count": null,
      "outputs": []
    },
    {
      "cell_type": "code",
      "source": [
        "import matplotlib.pyplot as plt\n",
        "\n",
        "plt.figure(figsize=(10,5))\n",
        "plt.subplot(1,2,1)\n",
        "plt.scatter(X_train,y_train)\n",
        "plt.subplot(1,2,2)\n",
        "plt.scatter(X_test,y_test)\n",
        "plt.show()"
      ],
      "metadata": {
        "id": "XXygQCnz4HWX"
      },
      "execution_count": null,
      "outputs": []
    },
    {
      "cell_type": "markdown",
      "source": [
        "⭕ ¿Cómo se ven ambos conjuntos de datos?"
      ],
      "metadata": {
        "id": "zJt3EQ6X4oHs"
      }
    },
    {
      "cell_type": "code",
      "source": [
        "from sklearn.linear_model import LinearRegression\n",
        "\n",
        "lr = LinearRegression()\n",
        "lr.fit(X_train, y_train)"
      ],
      "metadata": {
        "id": "wlB7ocbv39YZ"
      },
      "execution_count": null,
      "outputs": []
    },
    {
      "cell_type": "markdown",
      "source": [
        "Veamos el coeficiente $R^2$:"
      ],
      "metadata": {
        "id": "l2-k6ENT5xfX"
      }
    },
    {
      "cell_type": "code",
      "source": [
        "print(f\"Coeficiente de determinación en el conjunto de entrenamiento: {lr.score(X_train.reshape(-1,1),y_train)}\")\n",
        "print(f\"Coeficiente de determinación en el conjunto de prueba: {lr.score(X_test.reshape(-1,1),y_test)}\")"
      ],
      "metadata": {
        "id": "K3oRIZr_4rrR"
      },
      "execution_count": null,
      "outputs": []
    },
    {
      "cell_type": "markdown",
      "source": [
        "Evaluemos los resultados usando las métricas [MAE](https://scikit-learn.org/stable/modules/generated/sklearn.metrics.mean_absolute_error.html), [MSE](https://scikit-learn.org/stable/modules/generated/sklearn.metrics.mean_squared_error.html), [MAPE](https://scikit-learn.org/stable/modules/generated/sklearn.metrics.mean_absolute_percentage_error.html)"
      ],
      "metadata": {
        "id": "_Lpmddt-50qM"
      }
    },
    {
      "cell_type": "code",
      "source": [
        "from sklearn.metrics import mean_absolute_error, mean_squared_error, mean_absolute_percentage_error\n",
        "\n",
        "# Obtenemos las predicciones sobre el conjunto de prueba:\n",
        "y_pred_test = lr.predict(X_test)\n",
        "\n",
        "# Medimos las métricas:\n",
        "print(f\"MAE: {mean_absolute_error(y_test,y_pred_test)}\")\n",
        "print(f\"MSE: {mean_squared_error(y_test,y_pred_test)}\")\n",
        "print(f\"MAPE: {mean_absolute_percentage_error(y_test,y_pred_test)}\")"
      ],
      "metadata": {
        "id": "q6kBwBJI6Tn3"
      },
      "execution_count": null,
      "outputs": []
    },
    {
      "cell_type": "markdown",
      "source": [
        "🔽 **Visualicemos las predicciones**. El que podamos visualizar esta primer grafica depende de que sólo tenemos una variable independiente (feature). Es decir, que es **regresión lineal simple**."
      ],
      "metadata": {
        "id": "ODfWKVRJ6rfx"
      }
    },
    {
      "cell_type": "code",
      "source": [
        "import matplotlib.pyplot as plt\n",
        "\n",
        "# Valores sobre el eje X para graficar la recta\n",
        "x_values = np.linspace(X.min(), X.max(), 100)\n",
        "\n",
        "# Si hemos re-escalado:\n",
        "# x_values = scaler.transform(x_values.reshape(-1,1))\n",
        "\n",
        "# Gráficamos\n",
        "\n",
        "plt.figure(figsize=(10,5))\n",
        "plt.subplot(1,2,1)\n",
        "plt.title('Conjunto de entrenamiento')\n",
        "plt.scatter(X_train,y_train)\n",
        "plt.plot(x_values, lr.predict(x_values.reshape(-1,1)), color='blue')\n",
        "plt.subplot(1,2,2)\n",
        "plt.title('Conjunto de prueba')\n",
        "plt.scatter(X_test,y_test)\n",
        "plt.plot(x_values, lr.predict(x_values.reshape(-1,1)), color='blue')\n",
        "plt.show()"
      ],
      "metadata": {
        "id": "5Dbo_pam6tRy"
      },
      "execution_count": null,
      "outputs": []
    },
    {
      "cell_type": "markdown",
      "source": [
        "Esta gráfica siempre la podemos hacer, independientemente de cuantas variables independientes tenemos, ya que sólo estamos comparando valores reales contra predecidos."
      ],
      "metadata": {
        "id": "D5om7b-J7sf9"
      }
    },
    {
      "cell_type": "code",
      "source": [
        "# Predicciones del conjunto de entrenamiento y prueba\n",
        "y_train_pred = lr.predict(X_train)\n",
        "y_test_pred = lr.predict(X_test)\n",
        "\n",
        "# Graficamos:\n",
        "plt.figure(figsize=(10,5))\n",
        "plt.suptitle('Comparación de predicciones')\n",
        "plt.subplot(1,2,1)\n",
        "plt.scatter(y_train,y_train_pred)\n",
        "plt.xlabel('Valores reales')\n",
        "plt.ylabel('Valores predichos')\n",
        "plt.title('Conjunto de entrenamiento')\n",
        "plt.subplot(1,2,2)\n",
        "plt.scatter(y_test,y_test_pred)\n",
        "plt.xlabel('Valores reales')\n",
        "plt.ylabel('Valores predichos')\n",
        "plt.title('Conjunto de prueba')\n",
        "plt.show()"
      ],
      "metadata": {
        "id": "Yvxa2W3L7dHO"
      },
      "execution_count": null,
      "outputs": []
    },
    {
      "cell_type": "markdown",
      "source": [
        "Hagamos una predicción nueva:"
      ],
      "metadata": {
        "id": "9jQ3wP_9-A_m"
      }
    },
    {
      "cell_type": "code",
      "source": [
        "nuevos_pesos = np.array([1.85]).reshape(-1,1)\n",
        "\n",
        "lr.predict(nuevos_pesos)"
      ],
      "metadata": {
        "id": "bdJQVyfj-DPm"
      },
      "execution_count": null,
      "outputs": []
    },
    {
      "cell_type": "markdown",
      "metadata": {
        "id": "roxwYBGXRCgq"
      },
      "source": [
        "## Ejemplo 3: Regresión Lineal Multiple"
      ]
    },
    {
      "cell_type": "markdown",
      "metadata": {
        "id": "Dy7FdyO8R3-w"
      },
      "source": [
        "Usaremos un dataset de precios de automóviles. Una empresa automovilística china aspira a entrar en el mercado estadounidense estableciendo allí su unidad de fabricación y produciendo coches localmente para hacer la competencia a sus homólogos estadounidenses y europeos.\n",
        "\n",
        "La empresa quiere conocer los factores que afectan al precio de los coches en el mercado estadounidense, ya que pueden ser muy diferentes de los del mercado chino. La empresa quiere saber:\n",
        "\n",
        "* Qué variables son significativas para predecir el precio de un coche.\n",
        "* En qué medida esas variables describen el precio de un coche\n",
        "\n",
        "Basándose en varios estudios de mercado, la consultora ha reunido este conjunto de datos sobre distintos tipos de coches en el mercado estadounidense. Más información sobre el dataset: https://www.kaggle.com/datasets/hellbuoy/car-price-prediction"
      ]
    },
    {
      "cell_type": "code",
      "execution_count": null,
      "metadata": {
        "id": "PzwYqd_qRLUx"
      },
      "outputs": [],
      "source": [
        "import pandas as pd\n",
        "\n",
        "url = 'https://github.com/DCDPUAEM/DCDP/raw/main/03%20Machine%20Learning/data/cars-prices.csv'\n",
        "df = pd.read_csv(url)\n",
        "df"
      ]
    },
    {
      "cell_type": "markdown",
      "metadata": {
        "id": "y_RUR38T4DX-"
      },
      "source": [
        "### Preprocesamiento"
      ]
    },
    {
      "cell_type": "markdown",
      "source": [
        "Quitamos algunas variables no relevantes"
      ],
      "metadata": {
        "id": "Jd_-IB7xx6gB"
      }
    },
    {
      "cell_type": "code",
      "execution_count": null,
      "metadata": {
        "id": "9uevNY0pSRUT"
      },
      "outputs": [],
      "source": [
        "df.drop(columns=['car_ID','CarName'],inplace=True)\n",
        "df.head(5)"
      ]
    },
    {
      "cell_type": "code",
      "execution_count": null,
      "metadata": {
        "id": "Gpl1eCu-RioX"
      },
      "outputs": [],
      "source": [
        "print(f\"Forma del dataframe\\nInstancias:{df.shape[0]}\\nFeatures:{df.shape[1]}\")"
      ]
    },
    {
      "cell_type": "markdown",
      "source": [
        "Nombres de las columnas"
      ],
      "metadata": {
        "id": "MOH10XQ9x_0V"
      }
    },
    {
      "cell_type": "code",
      "execution_count": null,
      "metadata": {
        "id": "i2KGybxRSsJC"
      },
      "outputs": [],
      "source": [
        "df.columns.to_list()"
      ]
    },
    {
      "cell_type": "markdown",
      "metadata": {
        "id": "uvTvVuv6cmyH"
      },
      "source": [
        "Podemos ver que no hay datos faltantes"
      ]
    },
    {
      "cell_type": "code",
      "execution_count": null,
      "metadata": {
        "id": "9byBZCe6S20Q"
      },
      "outputs": [],
      "source": [
        "df.info()"
      ]
    },
    {
      "cell_type": "code",
      "execution_count": null,
      "metadata": {
        "id": "N7zTVJOezZ5G"
      },
      "outputs": [],
      "source": [
        "df.describe()"
      ]
    },
    {
      "cell_type": "markdown",
      "metadata": {
        "id": "Rhf9kslbZCRR"
      },
      "source": [
        "Inspeccionemos las *features* que contienen datos no numéricos"
      ]
    },
    {
      "cell_type": "code",
      "execution_count": null,
      "metadata": {
        "id": "xzoE12YVYn37"
      },
      "outputs": [],
      "source": [
        "columns_object = df.select_dtypes('object').columns.to_list()\n",
        "len(columns_object),columns_object"
      ]
    },
    {
      "cell_type": "markdown",
      "metadata": {
        "id": "hX6hfC_EdLS_"
      },
      "source": [
        "Hagamos un conteo de los valores únicos en cada una de las *features* categóricas"
      ]
    },
    {
      "cell_type": "code",
      "execution_count": null,
      "metadata": {
        "id": "WqUWwEjPcvOp"
      },
      "outputs": [],
      "source": [
        "import matplotlib.pyplot as plt\n",
        "import seaborn as sns\n",
        "\n",
        "fig = plt.figure(figsize=(15,15))\n",
        "for idx,col_name in enumerate(columns_object):\n",
        "    plt.subplot(3,3,idx+1)\n",
        "    sns.countplot(x=df.loc[:,col_name])\n",
        "plt.tight_layout()\n",
        "plt.show()"
      ]
    },
    {
      "cell_type": "markdown",
      "metadata": {
        "id": "Q2ikZkJLzlIE"
      },
      "source": [
        "⭕ Reemplazar los datos de las columnas `cylindernumber` y `doornumber` con número. Las convertimos a variables numéricas"
      ]
    },
    {
      "cell_type": "code",
      "execution_count": null,
      "metadata": {
        "id": "ZSXLPvltzkar"
      },
      "outputs": [],
      "source": [
        "cols = ['cylindernumber','doornumber']\n",
        "replacing_dict = {'four':4, 'six':6, 'five':5, 'three':3, 'twelve':12, 'two':2, 'eight':8}\n",
        "\n",
        "for col in cols:\n",
        "    df[col].replace(replacing_dict,inplace=True)\n",
        "df"
      ]
    },
    {
      "cell_type": "markdown",
      "source": [
        "Inspeccionemos las relaciones entre las variables (features) y el precio."
      ],
      "metadata": {
        "id": "_7Mo8Z0NAweO"
      }
    },
    {
      "cell_type": "code",
      "source": [
        "import seaborn as sns\n",
        "import matplotlib.pyplot as plt\n",
        "\n",
        "print(df.columns.to_list()[7:12])\n",
        "sns.pairplot(df, x_vars=df.columns.to_list()[7:12], y_vars='price', height=3, aspect=1, kind='reg')\n",
        "plt.show()"
      ],
      "metadata": {
        "id": "e5BGUle_AewT"
      },
      "execution_count": null,
      "outputs": []
    },
    {
      "cell_type": "markdown",
      "metadata": {
        "id": "JNig4uEi2ArB"
      },
      "source": [
        "Separamos la variable de salida y preparamos las variables predictoras. Recordemos la convención de usar `y` para el vector de valores/etiquetas."
      ]
    },
    {
      "cell_type": "code",
      "execution_count": null,
      "metadata": {
        "id": "sCkOCYW71_dQ"
      },
      "outputs": [],
      "source": [
        "y = df['price'].values\n",
        "print(y.shape)"
      ]
    },
    {
      "cell_type": "markdown",
      "source": [
        "Quitamos la columna `pice` del dataframe"
      ],
      "metadata": {
        "id": "m255cy0Lymdf"
      }
    },
    {
      "cell_type": "code",
      "execution_count": null,
      "metadata": {
        "id": "Xzc1xeoC3tqp"
      },
      "outputs": [],
      "source": [
        "df.drop(columns='price',inplace=True)"
      ]
    },
    {
      "cell_type": "markdown",
      "metadata": {
        "id": "vTOihzuR3ZS2"
      },
      "source": [
        "Hacemos la codificación *one-hot* para las variables categóricas"
      ]
    },
    {
      "cell_type": "code",
      "execution_count": null,
      "metadata": {
        "id": "gHfVl_3n2gg7"
      },
      "outputs": [],
      "source": [
        "X_df = pd.get_dummies(df)\n",
        "X_df.head()"
      ]
    },
    {
      "cell_type": "markdown",
      "source": [
        "Definimos la matriz de features. La convención es usar `X`:"
      ],
      "metadata": {
        "id": "N5mNuAQ-25Tm"
      }
    },
    {
      "cell_type": "code",
      "source": [
        "X = X_df.values\n",
        "print(X.shape)"
      ],
      "metadata": {
        "id": "hXq-x4_Z22ui"
      },
      "execution_count": null,
      "outputs": []
    },
    {
      "cell_type": "markdown",
      "source": [
        "Dividimos los datos en entrenamiento (train) y prueba (test) con una proporción 80%/20%. Usualmente utilizaremos la función [`train_test_split`](https://scikit-learn.org/stable/modules/generated/sklearn.model_selection.train_test_split.html). La convención es nombrar:\n",
        "\n",
        "* `X_train`\n",
        "* `X_test`\n",
        "* `y_train`\n",
        "* `y_test`"
      ],
      "metadata": {
        "id": "kO2yQB0t05Aq"
      }
    },
    {
      "cell_type": "markdown",
      "source": [
        "**¡Cuidado con el data leakage!**\n",
        "\n",
        "<img src=\"https://github.com/DCDPUAEM/DCDP/raw/main/03%20Machine%20Learning/img/ML-proceso.png\">"
      ],
      "metadata": {
        "id": "AiO-ZbwV13ld"
      }
    },
    {
      "cell_type": "code",
      "execution_count": null,
      "metadata": {
        "id": "6xQmGO4H4p-6"
      },
      "outputs": [],
      "source": [
        "from sklearn.model_selection import train_test_split\n",
        "\n",
        "X_train, X_test, y_train, y_test = train_test_split(X,y, train_size=0.8, random_state=4595)\n",
        "\n",
        "print(f\"Entrenamiento: {X_train.shape,y_train.shape}\")\n",
        "print(f\"Prueba: {X_test.shape,y_test.shape}\")"
      ]
    },
    {
      "cell_type": "markdown",
      "metadata": {
        "id": "zCJRjfcBXzK2"
      },
      "source": [
        "Podríamos realizar una selección de *features*.\n",
        "\n",
        "* [VarianceThreshold](https://scikit-learn.org/stable/modules/generated/sklearn.feature_selection.VarianceThreshold.html). Selecciona las variables (features) con varianza mayor que el umbral indicado.\n",
        "* [SelectKBest](https://scikit-learn.org/stable/modules/generated/sklearn.feature_selection.SelectKBest.html). Selecciona las variables (features) que mejor expliquen la variable target (salida/etiqueta). **Cuidado con la función score que se usa**."
      ]
    },
    {
      "cell_type": "code",
      "execution_count": null,
      "metadata": {
        "id": "0OPx_bs-VwuA"
      },
      "outputs": [],
      "source": [
        "from sklearn.feature_selection import VarianceThreshold\n",
        "\n",
        "selector = VarianceThreshold()\n",
        "X_train = selector.fit_transform(X_train)   # Entrenamos y transformamos el de entrenamiento\n",
        "X_test = selector.transform(X_test)        # Sólo transformamos el de prueba\n",
        "print(f\"Teníamos {X.shape[1]} variables originalmente, nos quedamos con {len(selector.get_feature_names_out())}\")\n",
        "print(f\"Variables originales:\\n{X_df.columns.to_list()}\\n\")\n",
        "print(f\"Variables con las que nos quedamos:\\n{selector.get_feature_names_out()}\\n\")"
      ]
    },
    {
      "cell_type": "markdown",
      "metadata": {
        "id": "TK_aqheQ4Fj_"
      },
      "source": [
        "Hacemos normalización.\n",
        "\n",
        "* [StandardScaler](https://scikit-learn.org/stable/modules/generated/sklearn.preprocessing.StandardScaler.html)\n",
        "* [MinMaxScaler](https://scikit-learn.org/stable/modules/generated/sklearn.preprocessing.MinMaxScaler.html)"
      ]
    },
    {
      "cell_type": "code",
      "execution_count": null,
      "metadata": {
        "id": "3ocPjPMX36Ip"
      },
      "outputs": [],
      "source": [
        "from sklearn.preprocessing import StandardScaler, MinMaxScaler\n",
        "\n",
        "scaler = StandardScaler()\n",
        "# scaler = MinMaxScaler()\n",
        "\n",
        "X_train = scaler.fit_transform(X_train)\n",
        "X_test = scaler.transform(X_test)\n",
        "\n",
        "#---- Esto es sólo para visualizar ----\n",
        "print(X_train[:3,:5])"
      ]
    },
    {
      "cell_type": "markdown",
      "metadata": {
        "id": "RNvSHbPK4lLV"
      },
      "source": [
        "### Entrenamiento\n",
        "\n"
      ]
    },
    {
      "cell_type": "code",
      "execution_count": null,
      "metadata": {
        "id": "_b3P99dl5ABZ"
      },
      "outputs": [],
      "source": [
        "from sklearn.linear_model import LinearRegression\n",
        "\n",
        "lr = LinearRegression()\n",
        "lr.fit(X_train, y_train)"
      ]
    },
    {
      "cell_type": "markdown",
      "metadata": {
        "id": "lgFBGCgQ5x9R"
      },
      "source": [
        "Veamos el coeficiente de determinación del desempeño en el conjunto de prueba. Este es el coeficiente `R2`"
      ]
    },
    {
      "cell_type": "code",
      "execution_count": null,
      "metadata": {
        "id": "DcFJlggV5ZbE"
      },
      "outputs": [],
      "source": [
        "lr.score(X_train,y_train)"
      ]
    },
    {
      "cell_type": "markdown",
      "source": [
        "Veamos cómo lo hace en el conjunto de prueba"
      ],
      "metadata": {
        "id": "ftFhJBwl5Mo8"
      }
    },
    {
      "cell_type": "code",
      "source": [
        "lr.score(X_test,y_test)"
      ],
      "metadata": {
        "id": "VSx9ITX15I3q"
      },
      "execution_count": null,
      "outputs": []
    },
    {
      "cell_type": "markdown",
      "metadata": {
        "id": "EZiaHInd587I"
      },
      "source": [
        "### Predicciones"
      ]
    },
    {
      "cell_type": "markdown",
      "metadata": {
        "id": "oUPLujlPBD3b"
      },
      "source": [
        "Predecimos usando las variables predictoras del conjunto de prueba"
      ]
    },
    {
      "cell_type": "code",
      "execution_count": null,
      "metadata": {
        "id": "BU3g66svBDh2"
      },
      "outputs": [],
      "source": [
        "y_pred_test = lr.predict(X_test)"
      ]
    },
    {
      "cell_type": "markdown",
      "metadata": {
        "id": "-vkAvFVWBeO_"
      },
      "source": [
        "Veamos cómo se ven las predicciones"
      ]
    },
    {
      "cell_type": "code",
      "execution_count": null,
      "metadata": {
        "id": "Nph8otk7Bg82"
      },
      "outputs": [],
      "source": [
        "print(f\"Valores de prueba:\\n{y_test[:5]}\")\n",
        "print(f\"Valores predichos:\\n{np.round(y_pred_test[:5],2)}\")"
      ]
    },
    {
      "cell_type": "markdown",
      "metadata": {
        "id": "lff39ts2CZOP"
      },
      "source": [
        "Representemos gráficamente esta comparación"
      ]
    },
    {
      "cell_type": "code",
      "source": [
        "y_pred_train = lr.predict(X_train)"
      ],
      "metadata": {
        "id": "J_iltOvf4n39"
      },
      "execution_count": null,
      "outputs": []
    },
    {
      "cell_type": "code",
      "execution_count": null,
      "metadata": {
        "id": "1FLN_K0sCUZH"
      },
      "outputs": [],
      "source": [
        "xaxis = np.linspace(np.min(y_test),np.max(y_test),100)\n",
        "\n",
        "plt.figure(dpi=100)\n",
        "plt.scatter(y_train, y_pred_train, c='blue',alpha=0.85,label='Train')\n",
        "plt.scatter(y_test, y_pred_test, c='red',alpha=0.85,label='Test')\n",
        "plt.plot(xaxis,xaxis,'k--')  # La línea de referencia y_pred=y_real\n",
        "plt.legend(loc='best')\n",
        "plt.xlabel(\"Valores reales\")\n",
        "plt.ylabel(\"Valores predichos\")\n",
        "plt.show()"
      ]
    },
    {
      "cell_type": "markdown",
      "metadata": {
        "id": "5PyNW03QEpWH"
      },
      "source": [
        "Podemos usar otras métricas de rendimiento.\n",
        "\n",
        "Más información: https://scikit-learn.org/stable/modules/model_evaluation.html"
      ]
    },
    {
      "cell_type": "code",
      "execution_count": null,
      "metadata": {
        "id": "pQdig7f_EsMX"
      },
      "outputs": [],
      "source": [
        "from sklearn.metrics import mean_absolute_error, mean_squared_error, mean_absolute_percentage_error\n",
        "\n",
        "print(f\"R2 en la prueba: {lr.score(X_test,y_test)}\")\n",
        "\n",
        "print(f\"MAE en el conjunto de prueba: {mean_absolute_error(y_test,y_pred_test)}\")  # Esta es muy interpretativa\n",
        "print(f\"MSE en el conjunto de prueba: {mean_squared_error(y_test,y_pred_test)}\")\n",
        "print(f\"MAPE en el conjunto de prueba: {mean_absolute_percentage_error(y_test,y_pred_test)}\")"
      ]
    },
    {
      "cell_type": "markdown",
      "metadata": {
        "id": "_Iak4IlzEg2R"
      },
      "source": [
        "También podemos comparar usando los valores de entrenamiento"
      ]
    },
    {
      "cell_type": "code",
      "execution_count": null,
      "metadata": {
        "id": "DCV7di21Tk-2"
      },
      "outputs": [],
      "source": [
        "print(f\"R2 en el entrenamiento: {lr.score(X_train,y_train)}\")\n",
        "\n",
        "print(f\"MAE en el conjunto de entrenamiento: {mean_absolute_error(y_train,y_pred_train)}\")  # Esta es muy interpretativa\n",
        "print(f\"MSE en el conjunto de entrenamiento: {mean_squared_error(y_train,y_pred_train)}\")\n",
        "print(f\"MAPE en el conjunto de entrenamiento: {mean_absolute_percentage_error(y_train,y_pred_train)}\")"
      ]
    },
    {
      "cell_type": "markdown",
      "metadata": {
        "id": "Q308hPdwTegf"
      },
      "source": [
        "### Interpretación de los resultados\n",
        "\n",
        "Recuerda que el objetivo de la ciencia de datos es proporcionar información para la toma de decisiones a partir del exploración y modelaje de los datos.\n",
        "\n",
        "En este caso, ¿qué variables son más importantes para determinar el precio de un vehículo?"
      ]
    },
    {
      "cell_type": "markdown",
      "metadata": {
        "id": "PVAiHbgSUjY3"
      },
      "source": [
        "Podemos acceder a los coeficientes de la regresión. Vemos que hay un coeficiente por cada feature."
      ]
    },
    {
      "cell_type": "code",
      "execution_count": null,
      "metadata": {
        "id": "gAod1U3HUQxe"
      },
      "outputs": [],
      "source": [
        "print(lr.coef_.shape)\n",
        "print(lr.coef_)"
      ]
    },
    {
      "cell_type": "markdown",
      "metadata": {
        "id": "Rg4uq2BFW_n9"
      },
      "source": [
        "Los organizamos con el nombre de cada *feature*"
      ]
    },
    {
      "cell_type": "code",
      "execution_count": null,
      "metadata": {
        "id": "HuV2XddBThm2"
      },
      "outputs": [],
      "source": [
        "pd.DataFrame(lr.coef_.reshape(1,-1),columns=X_df.columns)"
      ]
    },
    {
      "cell_type": "markdown",
      "metadata": {
        "id": "dDo6GtVfXEEM"
      },
      "source": [
        "Veamos cuales tienen más peso"
      ]
    },
    {
      "cell_type": "code",
      "execution_count": null,
      "metadata": {
        "id": "783tAAkqWt8N"
      },
      "outputs": [],
      "source": [
        "columns = X_df.columns.to_list()\n",
        "coefs_dict = dict(zip(columns,lr.coef_))\n",
        "coefs_dict"
      ]
    },
    {
      "cell_type": "code",
      "execution_count": null,
      "metadata": {
        "id": "c6cLsk_KXG2V"
      },
      "outputs": [],
      "source": [
        "dict(sorted(coefs_dict.items(),key=lambda x:x[1],reverse=True))"
      ]
    },
    {
      "cell_type": "markdown",
      "source": [
        "### ⭕ **Ejercicio importante por tu cuenta**\n",
        "\n",
        "Prueba el modelo anterior con varias modificaciones:\n",
        "\n",
        "1. ¿Qué pasa si no usas normalización?\n",
        "2. ¿Qué pasa si no haces selección de features? ¿qué pasa si sólo te quedas con algunas features seleccionadas *intuitivamente*?\n",
        "3. ¿Qué pasa si no cuidas el data leakage? Es decir, haz primero todo el preprocesamiento y después divides en train/test.\n",
        "\n",
        "En cada uno de los casos anteriores observa lo siguiente:\n",
        "\n",
        "1. El rendimiento (R2/MAE/MSE), ¿disminuye o aumenta?\n",
        "2. ¿Qué variables son las que son más importantes?"
      ],
      "metadata": {
        "id": "5NRlo3s6Di2X"
      }
    },
    {
      "cell_type": "code",
      "source": [],
      "metadata": {
        "id": "7ijVzcQ4DinD"
      },
      "execution_count": null,
      "outputs": []
    },
    {
      "cell_type": "markdown",
      "metadata": {
        "id": "tkqMX7SVPsxO"
      },
      "source": [
        "Una pregunta que surge con frecuencia se refiere a la incertidumbre acerca de los parámetros del modelo, ya que estos también son variables aleatorias.\n",
        "\n",
        "En general, Scikit-Learn no proporciona herramientas para obtener conclusiones acerca de los parámetros internos del modelo: la interpretación de los parámetros del modelo es mucho más una *pregunta de modelaje estadístico* que una pregunta de *aprendizaje automático*. El aprendizaje automático se centra más la *predicción*.\n",
        "\n",
        "No obstante, si se desea profundizar en el significado de los parámetros del modelo, hay herramientas como las incluidas en el [paquete de Statsmodels de Python](http://statsmodels.sourceforge.net/)."
      ]
    },
    {
      "cell_type": "code",
      "execution_count": null,
      "metadata": {
        "id": "A4TID5B_XGui"
      },
      "outputs": [],
      "source": [
        "import statsmodels.api as sm\n",
        "\n",
        "X_train_1 = sm.add_constant(X_train)\n",
        "X_train_1_df = pd.DataFrame(X_train_1, columns=['const']+X_df.columns.to_list())\n",
        "display(X_train_1_df.head())\n",
        "results = sm.OLS(y_train, X_train_1_df).fit()\n",
        "print(results.summary())"
      ]
    },
    {
      "cell_type": "markdown",
      "metadata": {
        "id": "l_iZumH9Q7Tv"
      },
      "source": [
        "**Algunas observaciones**\n",
        "\n",
        "* `R-squared` nos dice que nuestro modelo explica 93% del cambio en la variable dependiente (el precio del automovil).\n",
        "* `Adj. R-squared` ajusta el coeficiente `R-squared` tomando en cuenta el número de variables (features).\n",
        "* Los p-values `P>|t|` nos dice qué tan probable es que el coeficiente de la población haya sido medido por azar. Es decir, pone a prueba la hipótesis nula de que la variable independiente no tiene correlación con la variable dependiente. Hay dos escenarios:\n",
        "    * El valor es superior al nivel de significancia, no hay asociación entre los cambios en la variable independiente y los cambios en la variable dependiente. En otras palabras, no hay pruebas suficientes para concluir que existe un efecto a nivel de población.\n",
        "    * Si el valor p de una variable es inferior al nivel de significancia, los datos de la muestra proporcionan pruebas suficientes para rechazar la hipótesis nula de toda la población. Sus datos favorecen la hipótesis de que existe una correlación distinta de cero. Los cambios en la variable independiente están asociados a cambios en la variable dependiente a nivel poblacional. Esta variable es estadísticamente significativa y probablemente merezca la pena añadirla a su modelo de regresión."
      ]
    },
    {
      "cell_type": "markdown",
      "metadata": {
        "id": "YfxfQA4LYZ3c"
      },
      "source": [
        "## Ejemplo 4: Regresión con Regularización\n",
        "\n",
        "La regularización es una técnica de regresión lineal que penaliza la magnitud de los coeficientes de la regresión. Los coeficientes minimizan una suma de cuadrados residual penalizada:\n",
        "\n",
        "$$\\text{min}_w \\|Xw - y \\|^2+α\\|w\\|^2$$\n",
        "\n",
        "El parámetro de complejidad $\\alpha>0$ controla la cantidad de contracción: cuanto mayor sea el valor de $\\alpha$, mayor será la cantidad de contracción.\n",
        "\n",
        "Hay tres tipos de regularización en la regresión:\n",
        "\n",
        "* [Ridge](https://scikit-learn.org/stable/modules/generated/sklearn.linear_model.Ridge.html): Es la descrita anteriormente.\n",
        "* [Lasso](https://scikit-learn.org/stable/modules/generated/sklearn.linear_model.Lasso.html): Es parecida a la anterior, pero usando la norma L1:\n",
        "    $$\\| w \\| _1 = \\sum |w_i|$$\n",
        "* [ElasticNet](https://scikit-learn.org/stable/modules/generated/sklearn.linear_model.ElasticNet.html#sklearn.linear_model.ElasticNet): Combina ambas anteriores.\n",
        "\n",
        "En esto caso, sólo experimentaremos con la primera y veremos:\n",
        "\n",
        "1. El efecto en la norma de los coeficientes.\n",
        "2. El efecto en el rendimiento de la tarea de regresión.\n",
        "\n",
        "En notebooks posteriores analizaremos un poco más a fondo la regularización."
      ]
    },
    {
      "cell_type": "markdown",
      "source": [
        "Repetimos el procedimiento, ya de forma más compacta:"
      ],
      "metadata": {
        "id": "MvnQWLDr93WZ"
      }
    },
    {
      "cell_type": "code",
      "execution_count": null,
      "metadata": {
        "id": "SZfSUKKkYdmg"
      },
      "outputs": [],
      "source": [
        "import pandas as pd\n",
        "\n",
        "url = 'https://github.com/DCDPUAEM/DCDP/raw/main/03%20Machine%20Learning/data/cars-prices.csv'\n",
        "df = pd.read_csv(url)\n",
        "df.drop(columns=['car_ID','CarName'],inplace=True)\n",
        "cols = ['cylindernumber','doornumber']\n",
        "replacing_dict = {'four':4, 'six':6, 'five':5, 'three':3, 'twelve':12, 'two':2, 'eight':8}\n",
        "\n",
        "for col in cols:\n",
        "    df[col].replace(replacing_dict,inplace=True)\n",
        "df"
      ]
    },
    {
      "cell_type": "code",
      "execution_count": null,
      "metadata": {
        "id": "vspzaU2JY0x6"
      },
      "outputs": [],
      "source": [
        "y = df['price'].values\n",
        "\n",
        "df.drop(columns='price',inplace=True)\n",
        "X_df = pd.get_dummies(df)\n",
        "X_df.head()"
      ]
    },
    {
      "cell_type": "code",
      "source": [
        "X = X_df.values"
      ],
      "metadata": {
        "id": "yiIWCsVQ-yR3"
      },
      "execution_count": null,
      "outputs": []
    },
    {
      "cell_type": "code",
      "execution_count": null,
      "metadata": {
        "id": "A6TBsAmGZBnY"
      },
      "outputs": [],
      "source": [
        "from sklearn.model_selection import train_test_split\n",
        "\n",
        "X_train, X_test, y_train, y_test = train_test_split(X,y, train_size=0.8, random_state=4595)\n",
        "\n",
        "print(f\"Entrenamiento: {X_train.shape,y_train.shape}\")\n",
        "print(f\"Prueba: {X_test.shape,y_test.shape}\")"
      ]
    },
    {
      "cell_type": "code",
      "source": [
        "from sklearn.feature_selection import VarianceThreshold\n",
        "\n",
        "selector = VarianceThreshold()\n",
        "X_train = selector.fit_transform(X_train)   # Entrenamos y transformamos el de entrenamiento\n",
        "X_test = selector.transform(X_test)        # Sólo transformamos el de prueba"
      ],
      "metadata": {
        "id": "3aU3Kf5p-8Mp"
      },
      "execution_count": null,
      "outputs": []
    },
    {
      "cell_type": "code",
      "execution_count": null,
      "metadata": {
        "id": "0CrfyH9OY9vL"
      },
      "outputs": [],
      "source": [
        "from sklearn.preprocessing import StandardScaler, MinMaxScaler\n",
        "\n",
        "scaler = StandardScaler()\n",
        "# scaler = MinMaxScaler()\n",
        "X_train = scaler.fit_transform(X_train)\n",
        "X_test = scaler.transform(X_test)"
      ]
    },
    {
      "cell_type": "code",
      "execution_count": null,
      "metadata": {
        "id": "eUCybDwIZIFF"
      },
      "outputs": [],
      "source": [
        "from sklearn.linear_model import Ridge\n",
        "\n",
        "lr = Ridge(alpha=2)\n",
        "lr.fit(X_train,y_train)\n",
        "\n",
        "print(f\"Entrenamiento: {lr.score(X_train,y_train)}\")\n",
        "print(f\"Prueba: {lr.score(X_test,y_test)}\")"
      ]
    },
    {
      "cell_type": "code",
      "execution_count": null,
      "metadata": {
        "id": "CpZKP4WsZiZr"
      },
      "outputs": [],
      "source": [
        "columns = X_df.columns.to_list()\n",
        "coefs_dict = dict(zip(columns,lr.coef_))\n",
        "dict(sorted(coefs_dict.items(),key=lambda x:x[1],reverse=True))"
      ]
    },
    {
      "cell_type": "markdown",
      "metadata": {
        "id": "9JJ4lL1edsC4"
      },
      "source": [
        "¿Qué efecto tiene el parámetro $\\alpha$ sobre la magnitud de los coeficientes?"
      ]
    },
    {
      "cell_type": "code",
      "execution_count": null,
      "metadata": {
        "id": "0kgxYigjdrlQ"
      },
      "outputs": [],
      "source": [
        "import matplotlib.pyplot as plt\n",
        "\n",
        "alphas = np.logspace(-12,0,num=10)\n",
        "normas = []\n",
        "\n",
        "for alpha in alphas:\n",
        "    lr = Ridge(alpha=alpha)\n",
        "    lr.fit(X_train,y_train)\n",
        "    normas.append(np.mean(np.abs(lr.coef_)))\n",
        "\n",
        "plt.figure()\n",
        "plt.plot(alphas,normas)\n",
        "plt.xlabel(\"alpha\")\n",
        "plt.ylabel(\"Norma promedio\")\n",
        "plt.show()"
      ]
    },
    {
      "cell_type": "markdown",
      "metadata": {
        "id": "jZo0bkkRbFkF"
      },
      "source": [
        "¿Qué efecto tiene el parámetro $\\alpha$ en el score?"
      ]
    },
    {
      "cell_type": "code",
      "execution_count": null,
      "metadata": {
        "id": "jaAojk0VZ56J"
      },
      "outputs": [],
      "source": [
        "import matplotlib.pyplot as plt\n",
        "\n",
        "alphas = np.logspace(-10,0,num=10)\n",
        "train_scores = []\n",
        "test_scores = []\n",
        "\n",
        "for alpha in alphas:\n",
        "    lr = Ridge(alpha=alpha)\n",
        "    lr.fit(X_train,y_train)\n",
        "    train_scores.append(lr.score(X_train,y_train))\n",
        "    test_scores.append(lr.score(X_test,y_test))\n",
        "\n",
        "plt.figure()\n",
        "plt.plot(alphas,train_scores,label=\"Train\")\n",
        "plt.plot(alphas,test_scores,label=\"Test\")\n",
        "plt.xlabel(\"alpha\")\n",
        "plt.ylabel(\"score\")\n",
        "plt.legend()\n",
        "plt.show()"
      ]
    },
    {
      "cell_type": "markdown",
      "metadata": {
        "id": "rdKwtizBchJe"
      },
      "source": [
        "Como podemos ver, en este ejemplo concreto, la regularización no beneficia al problema en cuestión de la métrica de rendimiento."
      ]
    },
    {
      "cell_type": "markdown",
      "metadata": {
        "id": "apVBBVhOTnnw"
      },
      "source": [
        "#⭕ Ejercicio\n",
        "\n",
        "Usaremos un dataset sobre publicidad. Este dataset consta de 200 registros, cada registro consta de las variables.\n",
        "\n",
        "* TV: dólares de publicidad gastados en TV para un solo producto en un mercado determinado (en miles de dólares)\n",
        "* Radio: inversión publicitaria en radio\n",
        "* Newspaper: inversión publicitaria en periódicos\n",
        "* Sales: ventas de un solo producto en un mercado determinado (en miles de unidades).\n"
      ]
    },
    {
      "cell_type": "code",
      "execution_count": null,
      "metadata": {
        "id": "qeCumkNlT_ds"
      },
      "outputs": [],
      "source": [
        "import pandas as pd\n",
        "\n",
        "url = 'https://github.com/DCDPUAEM/DCDP/raw/main/03%20Machine%20Learning/data/advertising.csv'\n",
        "df = pd.read_csv(url,index_col=0)\n",
        "df"
      ]
    },
    {
      "cell_type": "code",
      "execution_count": null,
      "metadata": {
        "id": "4jD08YrJ4hWr"
      },
      "outputs": [],
      "source": [
        "import seaborn as sns\n",
        "import matplotlib.pyplot as plt\n",
        "\n",
        "sns.pairplot(df, x_vars=['TV','Radio','Newspaper'], y_vars='Sales', height=5, aspect=1, kind='reg')\n",
        "plt.show()"
      ]
    },
    {
      "cell_type": "markdown",
      "metadata": {
        "id": "BqNvUwqQ9O9e"
      },
      "source": [
        "Objetivos:\n",
        "\n",
        "1. Entrenar un modelo de regresión lineal usando el 85% de las instancias, separar el resto para prueba. **No olvides el preprocesamiento**, **cuidado con el data leakage**.\n",
        "2. Reportar las métricas de rendimiento MAE, MSE en las predicciones con el conjunto de prueba solamente.\n",
        "3. Con base en la métrica de rendimiento MAE, escoge el mejor modelo de regresión lineal. Es decir, ¿cuál es el menor MAE que puedes obtener en el conjunto de prueba? Junto con este número, reporta los parámetros y la combinación de técnicas que usaste.\n",
        "\n",
        "Considera las siguientes situaciones en el preprocesamiento:\n",
        "\n",
        "* ¿Hay valores faltantes? En caso de que sí, recuerda que tienes dos opciones: remover estas instancias o hacer imputación.\n",
        "* ¿Cuál es el rango de las 3 variables? ¿tienen magnitudes muy diferentes?\n",
        "* ¿Hay alguna variable que consideres que no es muy relevante?\n",
        "* Realiza la(s) técnica(s) de normalización que consideres necesario: selección de features, normalización.\n",
        "\n",
        "\n"
      ]
    },
    {
      "cell_type": "code",
      "execution_count": null,
      "metadata": {
        "id": "uyxln7Cd8ltU"
      },
      "outputs": [],
      "source": []
    }
  ],
  "metadata": {
    "colab": {
      "provenance": [],
      "toc_visible": true
    },
    "kernelspec": {
      "display_name": "Python 3",
      "name": "python3"
    },
    "language_info": {
      "name": "python"
    }
  },
  "nbformat": 4,
  "nbformat_minor": 0
}