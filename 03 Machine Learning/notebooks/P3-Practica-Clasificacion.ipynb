{
  "nbformat": 4,
  "nbformat_minor": 0,
  "metadata": {
    "colab": {
      "provenance": [],
      "collapsed_sections": [
        "IcBBCVOWQDol"
      ]
    },
    "kernelspec": {
      "name": "python3",
      "display_name": "Python 3"
    },
    "language_info": {
      "name": "python"
    }
  },
  "cells": [
    {
      "cell_type": "markdown",
      "source": [
        "<a href=\"https://colab.research.google.com/github/DCDPUAEM/DCDP/blob/main/03%20Machine%20Learning/notebooks/P3-Practica-Clasificacion.ipynb\" target=\"_parent\"><img src=\"https://colab.research.google.com/assets/colab-badge.svg\" alt=\"Open In Colab\"/></a>"
      ],
      "metadata": {
        "id": "rfXeNiZcRgDD"
      }
    },
    {
      "cell_type": "markdown",
      "source": [
        "# ⭕ Práctica de clasificación"
      ],
      "metadata": {
        "id": "5bTKL5Utvv3c"
      }
    },
    {
      "cell_type": "markdown",
      "source": [
        "## 1. Práctica en clase"
      ],
      "metadata": {
        "id": "1Xrrzbd-vzuD"
      }
    },
    {
      "cell_type": "markdown",
      "source": [
        "\n",
        "\n",
        "Vamos a trabajar con el dataset PIMA. El objetivo es\n",
        "\n",
        " *Can you build a machine learning model to accurately predict whether or not the patients in the dataset have diabetes or not?*\n",
        "\n",
        "Número de embarazos (Pregnancies):\n",
        "\n",
        "    Cantidad total de embarazos que la paciente ha tenido.\n",
        "\n",
        "Concentración de glucosa en plasma (Glucose):\n",
        "\n",
        "    Nivel de glucosa en sangre a 2 horas en una prueba de tolerancia oral a la glucosa (mg/dL).\n",
        "\n",
        "    Valores normales: 70–99 mg/dL (en ayunas).\n",
        "\n",
        "Presión arterial diastólica (BloodPressure):\n",
        "\n",
        "    Presión sanguínea en mm Hg.\n",
        "\n",
        "    Valor normal: ≈80 mm Hg.\n",
        "\n",
        "Grosor del pliegue cutáneo (SkinThickness):\n",
        "\n",
        "    Medida (en mm) del pliegue cutáneo del tríceps para estimar grasa corporal.\n",
        "\n",
        "    Valor normal: 10–40 mm.\n",
        "\n",
        "Insulina sérica (Insulin):\n",
        "\n",
        "    Nivel de insulina en sangre a 2 horas (muU/mL).\n",
        "\n",
        "    Valor normal en ayunas: 2–25 μU/mL.\n",
        "\n",
        "Índice de masa corporal (IMC) (BMI):\n",
        "\n",
        "    Peso (kg) / altura² (m²).\n",
        "\n",
        "    Rango saludable: 18.5–24.9.\n",
        "\n",
        "Función pedigrí de diabetes (DiabetesPedigreeFunction):\n",
        "\n",
        "    Puntuación que estima la influencia genética basada en antecedentes familiares de diabetes.\n",
        "\n",
        "    Valor alto: Mayor riesgo genético.\n",
        "\n",
        "Edad (Age):\n",
        "\n",
        "    Edad de la paciente en años.\n",
        "\n",
        "Resultado (Outcome):\n",
        "\n",
        "    0: No diabetes.\n",
        "\n",
        "    1: Diabetes diagnosticada.\n",
        "\n",
        "Vamos a construir dos modelos de clasificación y compararlos\n",
        "\n",
        "¿Qué clasificador tiene mejor rendimiento en este dataset? Para esto **toma en cuenta el recall en el conjunto de prueba**."
      ],
      "metadata": {
        "id": "TY0QzMvrSpds"
      }
    },
    {
      "cell_type": "markdown",
      "source": [
        "Leamos el dataset"
      ],
      "metadata": {
        "id": "FR7pVJm2wtV-"
      }
    },
    {
      "cell_type": "code",
      "source": [
        "import pandas as pd\n",
        "\n",
        "url = 'https://github.com/DCDPUAEM/DCDP/raw/main/03%20Machine%20Learning/data/diabetes.csv'\n",
        "df = pd.read_csv(url)\n",
        "df"
      ],
      "metadata": {
        "id": "l4aC-ulJE-sK"
      },
      "execution_count": null,
      "outputs": []
    },
    {
      "cell_type": "markdown",
      "source": [
        "Usa el método describe del dataframe para observar los rangos de los datos"
      ],
      "metadata": {
        "id": "2j0bdGpSxXSX"
      }
    },
    {
      "cell_type": "code",
      "source": [],
      "metadata": {
        "id": "eHVYM2d-xbb7"
      },
      "execution_count": null,
      "outputs": []
    },
    {
      "cell_type": "markdown",
      "source": [
        "Los ceros en varias columnas representan valores faltantes,\n",
        "\n",
        "🔵 ¿En cuáles columnas no tienen sentido los valores 0?\n",
        "\n",
        "Observa los ceros en algunas de estas columnas donde no tienen sentido los ceros"
      ],
      "metadata": {
        "id": "oIrKfXfFxbvY"
      }
    },
    {
      "cell_type": "code",
      "source": [
        "df[df['Insulin']==0].shape"
      ],
      "metadata": {
        "id": "fP5xTT1MxalU"
      },
      "execution_count": null,
      "outputs": []
    },
    {
      "cell_type": "markdown",
      "source": [
        "🔴 **OPCIONAL**: Haz imputación de los datos con valores 0 en las columnas que consideres necesario"
      ],
      "metadata": {
        "id": "WYUgWN4GzkNS"
      }
    },
    {
      "cell_type": "code",
      "source": [
        "from sklearn.impute import SimpleImputer\n"
      ],
      "metadata": {
        "id": "i3oCRbvHztf9"
      },
      "execution_count": null,
      "outputs": []
    },
    {
      "cell_type": "markdown",
      "source": [
        "🔴 Divide el dataset en train/test usando 80% para entrenamiento"
      ],
      "metadata": {
        "id": "3YxKY09DyM08"
      }
    },
    {
      "cell_type": "code",
      "source": [
        "from sklearn.model_selection import train_test_split\n",
        "\n"
      ],
      "metadata": {
        "id": "ln_VqmWLyAYk"
      },
      "execution_count": null,
      "outputs": []
    },
    {
      "cell_type": "markdown",
      "source": [
        "🔴 Re escala los datos usando MinMaxScaler o StandardScaler. Recuerda el **data leakage**"
      ],
      "metadata": {
        "id": "W4hKtX5DyT7H"
      }
    },
    {
      "cell_type": "code",
      "source": [
        "from sklearn.preprocessing import MinMaxScaler, StandardScaler\n",
        "\n"
      ],
      "metadata": {
        "id": "mU_Y-GV1yZRk"
      },
      "execution_count": null,
      "outputs": []
    },
    {
      "cell_type": "markdown",
      "source": [
        "🔴 Entrena un modelo de SVM y evalua usando la métrica recall en el conjunto de prueba, comparala con el recall en el conjunto de entrenamiento. ¿Hay señales de overfitting?"
      ],
      "metadata": {
        "id": "B5nP3oG1ygSu"
      }
    },
    {
      "cell_type": "code",
      "source": [
        "from sklearn.svm import SVC\n",
        "from sklearn.metrics import classification_report, confusion_matrix, recall_score"
      ],
      "metadata": {
        "id": "D0K_jTNDycRl"
      },
      "execution_count": null,
      "outputs": []
    },
    {
      "cell_type": "markdown",
      "source": [
        "🔴 Entrena un modelo de Decision Tree / Random Forest y evalua usando la métrica recall en el conjunto de prueba, comparala con el recall en el conjunto de entrenamiento. ¿Hay señales de overfitting?\n",
        "\n",
        "En este modelo, ¿cuáles son las variables más importantes para predecir la diabetes? ¿Tiene sentido la conclusión?"
      ],
      "metadata": {
        "id": "tDfNwJZHyuq5"
      }
    },
    {
      "cell_type": "code",
      "source": [
        "from sklearn.tree import DecisionTreeClassifier\n",
        "from sklearn.ensemble import RandomForestClassifier\n",
        "from sklearn.metrics import classification_report, confusion_matrix, recall_score\n",
        "\n"
      ],
      "metadata": {
        "id": "iLBVT7NZy5ia"
      },
      "execution_count": null,
      "outputs": []
    },
    {
      "cell_type": "markdown",
      "source": [
        "🔴 🔴 Realiza un grid search usando los parámetros descritos a continuación:\n",
        "\n",
        "Modelo 1:\n",
        "* SVM\n",
        " * C: 0.1,1,10,100\n",
        " * kernel: lineal, polinomial, rbf\n",
        " * grados (polinomial): 2,3,5\n",
        "\n",
        "Modelo 2. Escoge uno de los siguientes:\n",
        "* Decision Tree\n",
        " * criterion: gini, entropy, log_loss\n",
        " * max_depth: None, 10, 20,\n",
        " * min_samples_split: 2, 3, 5\n",
        "* Random Forest\n",
        " * criterion: gini, entropy, log_loss\n",
        " * max_depth: None, 10, 20,\n",
        " * min_samples_split: 2, 3, 5\n",
        "* Regresión Logística\n",
        " * C: 0.1,1,10\n",
        " * penalty: l1, l2, elasticnet, None"
      ],
      "metadata": {
        "id": "TA4OKA8azFYj"
      }
    },
    {
      "cell_type": "code",
      "source": [
        "from sklearn.model_selection import GridSearchCV\n"
      ],
      "metadata": {
        "id": "8RptZ1LPzMC7"
      },
      "execution_count": null,
      "outputs": []
    }
  ]
}