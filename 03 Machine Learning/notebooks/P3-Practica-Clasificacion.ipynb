{
  "nbformat": 4,
  "nbformat_minor": 0,
  "metadata": {
    "colab": {
      "provenance": [],
      "collapsed_sections": [
        "IcBBCVOWQDol"
      ]
    },
    "kernelspec": {
      "name": "python3",
      "display_name": "Python 3"
    },
    "language_info": {
      "name": "python"
    }
  },
  "cells": [
    {
      "cell_type": "markdown",
      "source": [
        "<a href=\"https://colab.research.google.com/github/DCDPUAEM/DCDP/blob/main/03%20Machine%20Learning/notebooks/P3-Practica-Clasificacion.ipynb\" target=\"_parent\"><img src=\"https://colab.research.google.com/assets/colab-badge.svg\" alt=\"Open In Colab\"/></a>"
      ],
      "metadata": {
        "id": "rfXeNiZcRgDD"
      }
    },
    {
      "cell_type": "markdown",
      "source": [
        "# ⭕ Parte I: Clasificación\n",
        "\n",
        "Este conjunto de datos, proporcionado por Avazu, contiene registros de publicidad en línea (como impresiones de anuncios y clicks) recolectados durante 11 días. El objetivo es predecir la probabilidad de que un usuario haga clic en un anuncio (CTR), una métrica crítica para optimizar campañas de sponsored search y real-time bidding. La práctica consiste en desarrollar un modelo de clasificación para este fin, utilizando características como el tipo de dispositivo, contexto de la página y datos anónimos del usuario.\n",
        "\n",
        "La descripción completa de las features se proporciona a continuación:"
      ],
      "metadata": {
        "id": "5bTKL5Utvv3c"
      }
    },
    {
      "cell_type": "markdown",
      "source": [
        "| Nombre Columna      | Tipo (Ejemplo)           | Descripción                                                                 | ¿Relevante para Modelo? |\n",
        "|---------------------|--------------------------|-----------------------------------------------------------------------------|-------------------------|\n",
        "| `id`               | String (ej: \"100000\")    | Identificador único del registro (anuncio).                                 | ❌ No                   |\n",
        "| **`click`**        | **Binaria (0/1)**        | **Variable target**: 0 = No hubo clic, 1 = Sí hubo clic.                    | ✅ **Sí**               |\n",
        "| `year`, `month`, `hour`             | Int        | Año, mes y hora           | ✅ Sí  |\n",
        "| `C1`               | Categórica anónima       | Variable categórica encriptada (sin contexto definido).                     | ✅ Sí                   |\n",
        "| `banner_pos`       | Numérica/Categórica      | Posición del banner en la página (ej: 0, 1, 2...).                          | ✅ Sí                   |\n",
        "| `site_id`          | Categórica (ej: \"1fbe01\")| ID del sitio web donde se muestra el anuncio.                               | ✅ Sí (alta cardinalidad) |\n",
        "| `site_domain`      | Categórica (ej: \"f38457\")| Dominio del sitio web.                                                      | ⚠️ Tal vez (redundante con `site_id`) |\n",
        "| `site_category`    | Categórica (ej: \"28905b\")| Categoría del sitio (ej: noticias, deportes...).                            | ✅ Sí                   |\n",
        "| `app_id`           | Categórica (ej: \"ecadf6\")| ID de la aplicación (si el anuncio se muestra en una app móvil).             | ✅ Sí (alta cardinalidad) |\n",
        "| `app_domain`       | Categórica (ej: \"7801e8\")| Dominio de la aplicación.                                                   | ⚠️ Tal vez (redundante con `app_id`) |\n",
        "| `app_category`     | Categórica (ej: \"07d7df\")| Categoría de la aplicación (ej: juegos, redes sociales...).                 | ✅ Sí                   |\n",
        "| `device_id`        | Categórica (ej: \"a99f2a\")| ID del dispositivo del usuario.                                             | ⚠️ Alta cardinalidad (¿agrupar?) |\n",
        "| `device_ip`        | Categórica (ej: \"d1b8b4\")| Dirección IP del dispositivo.                                               | ❌ No (a menos que se agrupe por región) |\n",
        "| `device_model`     | Categórica (ej: \"8a4875\")| Modelo del dispositivo (ej: iPhone X, Samsung Galaxy S10...).               | ✅ Sí                   |\n",
        "| `device_type`      | Categórica (ej: 1, 2)    | Tipo de dispositivo (ej: 1 = móvil, 2 = tablet, etc.).                      | ✅ Sí                   |\n",
        "| `device_conn_type` | Categórica (ej: 0, 2)    | Tipo de conexión (ej: 0 = WiFi, 2 = 4G...).                                 | ✅ Sí                   |\n",
        "| `C14` - `C21`      | Categóricas anónimas     | Variables categóricas encriptadas (sin contexto definido).                   | ✅ Sí (evaluar importancia) |"
      ],
      "metadata": {
        "id": "x3x4-JQb1N85"
      }
    },
    {
      "cell_type": "markdown",
      "source": [
        "Dataset: https://www.kaggle.com/competitions/avazu-ctr-prediction/data"
      ],
      "metadata": {
        "id": "859NmG_jrQZD"
      }
    },
    {
      "cell_type": "code",
      "source": [
        "import pandas as pd\n",
        "\n",
        "url = 'https://github.com/DCDPUAEM/DCDP/raw/refs/heads/main/03%20Machine%20Learning/data/ctr_prediction.csv'\n",
        "\n",
        "df = pd.read_csv(url)\n",
        "df"
      ],
      "metadata": {
        "id": "2KsfbgWFH1sx"
      },
      "execution_count": null,
      "outputs": []
    },
    {
      "cell_type": "markdown",
      "source": [
        "## Instrucciones\n",
        "\n",
        "0. Verifica si hay valores faltantes.\n",
        "1. Extrae la variable target `click`. Verifica el balanceo de clases.\n",
        "2. Quita las variables que consideres necesarias de acuerdo a la tabla anterior.\n",
        "3. Forma la matriz de features `X`.\n",
        "4. Convierte las variables categóricas en variables binarias mediante el one-hot encoding ([`get_dummies`](https://pandas.pydata.org/docs/reference/api/pandas.get_dummies.html) de pandas). No olvides el hiperparámetro `drop_first=True` y `dtype=int`. Vas a obtener un dataframe con muchas columnas, es decir, ahora tenemos una muy alta dimensionalidad.\n",
        "5. Divide en train/test\n",
        "6. Verifica los rangos de las variables numéricas que tienes para la tarea de clasificación.\n",
        "7. Realiza reducción de dimensionalidad con PCA con todas las componentes principales.\n",
        "8. Escoge un número de componentes principales de manera que te quedes con el $\\sim$80% de varianza.\n",
        "9. Entrena un clasificador de tu elección en el conjunto de prueba. Evalua con la métrica F1-score\n",
        "10. Reporta, además, la matriz de confusión."
      ],
      "metadata": {
        "id": "F2gjF3lC2aGG"
      }
    },
    {
      "cell_type": "code",
      "source": [],
      "metadata": {
        "id": "7vaSZSnKJRiO"
      },
      "execution_count": null,
      "outputs": []
    },
    {
      "cell_type": "markdown",
      "source": [
        "# ⭕ Parte II: Segmentación y Recomendación"
      ],
      "metadata": {
        "id": "8tmHBSDIVC1I"
      }
    },
    {
      "cell_type": "markdown",
      "source": [
        "El dataset MovieLens 100K contiene información de 1682 películas, cada una representada por su título y 18 géneros cinematográficos (Action, Adventure, Drama, etc.), codificados como variables binarias. Estos datos, recolectados de calificaciones de 943 usuarios, permiten analizar las características intrínsecas de las películas independientemente de las preferencias de los usuarios.\n",
        "\n",
        "El objetivo de esta práctica es realizar segmentación de películas mediante técnicas de clustering (como K-Means o clustering jerárquico) para identificar grupos naturales basados en sus géneros. Esto podría revelar patrones como *películas de acción con toques de sci-fi* o *dramas románticos con elementos musicales*, útiles para sistemas de recomendación o catálogos personalizados.\n",
        "\n",
        "[Dataset completo en Kaggle](https://www.kaggle.com/datasets/prajitdatta/movielens-100k-dataset/data)"
      ],
      "metadata": {
        "id": "fCU9HSh14IGk"
      }
    },
    {
      "cell_type": "code",
      "source": [
        "import os\n",
        "import pandas as pd\n",
        "import kagglehub\n",
        "import numpy as np\n",
        "\n",
        "path = kagglehub.dataset_download(\"prajitdatta/movielens-100k-dataset\")\n",
        "path = '/root/.cache/kagglehub/datasets/prajitdatta/movielens-100k-dataset/versions/1/ml-100k'\n",
        "fname = os.path.join(path, 'u.item')\n",
        "\n",
        "movies_df = pd.read_csv(fname, sep='|', encoding='latin-1', names=[\n",
        "    'movie_id', 'title', 'release_date', 'video_release_date', 'IMDb_URL',\n",
        "    'unknown', 'Action', 'Adventure', 'Animation', 'Children\\'s', 'Comedy', 'Crime',\n",
        "    'Documentary', 'Drama', 'Fantasy', 'Film-Noir', 'Horror', 'Musical', 'Mystery',\n",
        "    'Romance', 'Sci-Fi', 'Thriller', 'War', 'Western'\n",
        "])\n",
        "\n",
        "def get_year(date):\n",
        "    try:\n",
        "        return int(date.split('-')[-1])\n",
        "    except:\n",
        "        return np.nan\n",
        "\n",
        "movies_df.drop(['video_release_date', 'unknown','IMDb_URL','movie_id'], axis=1, inplace=True)\n",
        "movies_df['date'] = movies_df['release_date'].apply(get_year)\n",
        "movies_df.drop('release_date', axis=1, inplace=True)\n",
        "movies_df"
      ],
      "metadata": {
        "id": "UoHsAMekKdkI"
      },
      "execution_count": null,
      "outputs": []
    },
    {
      "cell_type": "markdown",
      "source": [
        "## Instrucciones\n",
        "\n",
        "1. Verifica si hay variables faltantes.\n",
        "2. Extraer las variables numéricas para formar la matriz de caracteristicas $X$.\n",
        "3. Verifica los rangos de las variables, aplica re-escalamiento si lo consideras necesario.\n",
        "4. Usa K-Means con algún valor $K$ de tu elección, haz clustering y mide el valor de silueta.\n",
        "5. Encuentra el valor de codo y con ese valor, vuelve a hacer clustering y mide el valor de silueta.\n",
        "6. Con el valor de $K$ que consideres mejor, extrae las etiquetas de los clusters y añadelas al dataframe `movies_df`.\n",
        "7. Muestra un dataframe por cada cluster mostrando los títulos de las películas de cada cluster. ¿Es posible identificar, visualmente, qué define a cada cluster?\n"
      ],
      "metadata": {
        "id": "ylwiMIVO4EML"
      }
    },
    {
      "cell_type": "code",
      "source": [],
      "metadata": {
        "id": "8ZVIvSf8g_S1"
      },
      "execution_count": null,
      "outputs": []
    }
  ]
}