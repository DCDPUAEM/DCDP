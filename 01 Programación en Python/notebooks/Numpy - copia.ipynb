{
 "cells": [
  {
   "cell_type": "markdown",
   "metadata": {
    "colab_type": "text",
    "id": "view-in-github"
   },
   "source": [
    "<a href=\"https://colab.research.google.com/github/DCDPUAEM/DCDP_2022/blob/main/01%20Programaci%C3%B3n%20en%20Python/notebooks/Numpy.ipynb\" target=\"_parent\"><img src=\"https://colab.research.google.com/assets/colab-badge.svg\" alt=\"Open In Colab\"/></a>"
   ]
  },
  {
   "cell_type": "markdown",
   "metadata": {
    "id": "eCDWHOh2pKh0"
   },
   "source": [
    "# Numpy\n",
    "\n",
    "Numpy es un paquete que provee capacidades de cómputo cientifico para Python. Los componentes principales de Numpy son:\n",
    "\n",
    "* Un objeto para representar arreglos N-dimensionales.\n",
    "* Funcionalidades de _broadcasting_.\n",
    "* Herramientas para integrar código C/C++ y Fortran.\n",
    "* Funciones de algebra lineal, transformadas de Fourier y creación de números aleatorios.\n"
   ]
  },
  {
   "cell_type": "markdown",
   "metadata": {
    "id": "2d_r5Ig5p29C"
   },
   "source": [
    "Puedes importar Numpy en tus programas de Python de la siguiente manera:"
   ]
  },
  {
   "cell_type": "code",
   "execution_count": 120,
   "metadata": {
    "id": "-hIDSlM-maFE"
   },
   "outputs": [],
   "source": [
    "#el alias comun de numpy es np\n",
    "import numpy as np"
   ]
  },
  {
   "cell_type": "markdown",
   "metadata": {
    "id": "GNmASuuNNnBa"
   },
   "source": [
    "A diferencia de los objetos de Python para almacenar secuencias, Numpy utiliza _vectorización_ (está optimizado para ser eficiente y utilizar la arquitectura de los procesadores modernos). Además el código generado usando Numpy es más limpio, ya que se aproxima a utilizar un lenguaje matemático."
   ]
  },
  {
   "cell_type": "markdown",
   "metadata": {
    "id": "BeweeauBqEzB"
   },
   "source": [
    "# Numpy arrays (Arreglos)\n",
    "\n",
    "Los Numpy ndarrays o arreglos múlti-dimensionales son el principal objeto para el cómputo cientifico. Un arreglo multi-dimensional es una \"tabla\" (normalmente de números) que almacena datos del mismo tipo. Los arreglos de Numpy están indexados por tuplas de enteros no negativos. Las dimensiones de los arreglos son conocidos como _axes_ o axis.\n",
    "\n",
    "\n",
    "---\n",
    "\n",
    "Para ejemplificar, utilicemos el siguiente arreglo que representa un punto en un espacio 3D $(x, y, z)$:\n",
    "\n",
    "[1, 2, 1] \n",
    "\n",
    "Este arreglo tiene un solo axis y una longitud de 3, ya que contiene tres elementos.\n",
    "\n",
    "\n",
    "---\n",
    "\n",
    "\n",
    "Un segundo ejemplo, usemos el siguiente arreglo que representa a una matriz:\n",
    "\n",
    "\n",
    "[[1, 0, 0],\n",
    "\n",
    "[0, 1, 2]]\n",
    "\n",
    "\n",
    "Este es un arreglo con dos axis, el primer axis con logitud 2 y el segundo axis con longitud 3 (dos filas y tres columnas).\n"
   ]
  },
  {
   "cell_type": "code",
   "execution_count": 2,
   "metadata": {
    "id": "UaZBWG1GqDMv"
   },
   "outputs": [
    {
     "name": "stdout",
     "output_type": "stream",
     "text": [
      "[ 0  1  2  3  4  5  6  7  8  9 10 11 12 13 14]\n"
     ]
    }
   ],
   "source": [
    "#creando un arreglo con una funcion de numpy\n",
    "a = np.arange(15)\n",
    "print(a)"
   ]
  },
  {
   "cell_type": "markdown",
   "metadata": {
    "id": "n4QGrlO5cfED"
   },
   "source": [
    "## Atributos principales de arreglos\n",
    "\n",
    "* [```ndarray.shape```](https://numpy.org/doc/1.17/reference/generated/numpy.ndarray.shape.html#numpy.ndarray.shape) La longitud de las dimensiones del arreglo representadas como una tupla de enteros. Cada elemento de la tupla es el entero que representa el tamaño del arreglo en el respectivo axis. Para una matriz con $n$ filas y $m$ columnas, el atributo shape retornará la tupla $(n, m)$, dos dimensiones con $n$ y $m$ elementos respectivamente.\n",
    "\n",
    "* [```ndarray.ndim```](https://numpy.org/doc/1.17/reference/generated/numpy.ndarray.ndim.html#numpy.ndarray.ndim) El número de axis (o dimensiones) en el arreglo.\n",
    "\n",
    "* [```ndarray.size```](https://numpy.org/doc/1.17/reference/generated/numpy.ndarray.size.html#numpy.ndarray.size)\n",
    "    El número total de elementos en el arreglo.\n",
    "    \n",
    "* [```ndarray.dtype```](https://numpy.org/doc/1.17/reference/generated/numpy.ndarray.dtype.html#numpy.ndarray.dtype)\n",
    "    Un objeto que representa el tipo de datos usado en el arreglo.\n",
    "    \n",
    "* [```ndarray.itemsize```](https://numpy.org/doc/1.17/reference/generated/numpy.ndarray.itemsize.html#numpy.ndarray.itemsize) El número de bytes que utiliza cada elemento en el arreglo."
   ]
  },
  {
   "cell_type": "code",
   "execution_count": 8,
   "metadata": {},
   "outputs": [
    {
     "name": "stdout",
     "output_type": "stream",
     "text": [
      "[[[ 0]\n",
      "  [ 1]\n",
      "  [ 2]]\n",
      "\n",
      " [[ 3]\n",
      "  [ 4]\n",
      "  [ 5]]\n",
      "\n",
      " [[ 6]\n",
      "  [ 7]\n",
      "  [ 8]]\n",
      "\n",
      " [[ 9]\n",
      "  [10]\n",
      "  [11]]\n",
      "\n",
      " [[12]\n",
      "  [13]\n",
      "  [14]]]\n",
      "3\n"
     ]
    }
   ],
   "source": [
    "#creando un arreglo con una funcion de numpy y cambiando su \"forma\"\n",
    "a = np.arange(15).reshape(5, 3, 1)\n",
    "print(a)\n",
    "\n",
    "print(a.ndim)"
   ]
  },
  {
   "cell_type": "code",
   "execution_count": 4,
   "metadata": {
    "id": "PvICxI2ncfLj"
   },
   "outputs": [
    {
     "name": "stdout",
     "output_type": "stream",
     "text": [
      "ndarray a:\n",
      "[[ 0  1  2  3  4]\n",
      " [ 5  6  7  8  9]\n",
      " [10 11 12 13 14]]\n",
      "type(a) <class 'numpy.ndarray'>\n",
      "a.shape (3, 5)\n",
      "a.ndim 2\n",
      "a.size 15\n",
      "a.dtype int32\n",
      "a.itemsize 4\n"
     ]
    }
   ],
   "source": [
    "#creando un arreglo con una funcion de numpy y cambiando su \"forma\"\n",
    "a = np.arange(15).reshape(3, 5)\n",
    "\n",
    "#Esto crea una matriz de 3 filas y 5 columnas\n",
    "print(\"ndarray a:\")\n",
    "print(a)\n",
    "\n",
    "#El tipo de dato de a es un arreglo de numpy\n",
    "print(\"type(a)\", type(a))\n",
    "\n",
    "#tupla de la longitud de las dimensiones\n",
    "print(\"a.shape\", a.shape)\n",
    "\n",
    "#numero de dimensiones en el arreglo\n",
    "print(\"a.ndim\", a.ndim)\n",
    "\n",
    "#numero de elementos en el arreglo\n",
    "print(\"a.size\", a.size)\n",
    "\n",
    "#tipo de dato de los elementos del arreglo\n",
    "print(\"a.dtype\", a.dtype)\n",
    "\n",
    "#numero de bytes del tipo de dato del arreglo\n",
    "print(\"a.itemsize\", a.itemsize)"
   ]
  },
  {
   "cell_type": "markdown",
   "metadata": {
    "id": "UsVkqI0abmFn"
   },
   "source": [
    "## Creación de arreglos desde estructuras de Python\n",
    "\n",
    "Las estructura de Python (ej, listas y tuplas) que contienen elementos numéricos estructurados como un arreglo pueden ser transformadas a arreglos de Numpy mediante la función ```array()```."
   ]
  },
  {
   "cell_type": "code",
   "execution_count": 9,
   "metadata": {
    "id": "xswAJHfYb1xu"
   },
   "outputs": [
    {
     "name": "stdout",
     "output_type": "stream",
     "text": [
      "[1, 2, 3, 4]\n",
      "<class 'list'>\n",
      "[1 2 3 4]\n",
      "<class 'numpy.ndarray'>\n"
     ]
    }
   ],
   "source": [
    "#una lista tradicional de python\n",
    "numbers_list = [1, 2, 3, 4]\n",
    "print(numbers_list)\n",
    "print(type(numbers_list))\n",
    "\n",
    "#Transformando la lista a un array de numpy\n",
    "x = np.array(numbers_list)\n",
    "print(x)\n",
    "print(type(x))"
   ]
  },
  {
   "cell_type": "code",
   "execution_count": 10,
   "metadata": {
    "id": "Zs5cmf-llnRH"
   },
   "outputs": [
    {
     "name": "stdout",
     "output_type": "stream",
     "text": [
      "(1, 2, 3, 4)\n",
      "<class 'tuple'>\n",
      "[1 2 3 4]\n",
      "<class 'numpy.ndarray'>\n"
     ]
    }
   ],
   "source": [
    "#una tupla tradicional de python\n",
    "numbers_tuple = (1, 2, 3, 4)\n",
    "print(numbers_tuple)\n",
    "print(type(numbers_tuple))\n",
    "\n",
    "#Transformando la tupla a un array de numpy\n",
    "x = np.array(numbers_tuple)\n",
    "print(x)\n",
    "print(type(x))"
   ]
  },
  {
   "cell_type": "code",
   "execution_count": 11,
   "metadata": {
    "id": "InGp6_30lyQN"
   },
   "outputs": [
    {
     "name": "stdout",
     "output_type": "stream",
     "text": [
      "[[1, 2, 3, 4], [5, 6, 7, 8]]\n",
      "<class 'list'>\n",
      "[[1 2 3 4]\n",
      " [5 6 7 8]]\n",
      "<class 'numpy.ndarray'>\n"
     ]
    }
   ],
   "source": [
    "#una lista de listas de python\n",
    "numbers_list_list = [[1, 2, 3, 4], [5, 6, 7, 8]]\n",
    "print(numbers_list_list)\n",
    "print(type(numbers_list_list))\n",
    "\n",
    "#Transformando la lista a un array de numpy\n",
    "x = np.array(numbers_list_list)\n",
    "print(x)\n",
    "print(type(x))"
   ]
  },
  {
   "cell_type": "markdown",
   "metadata": {
    "id": "9M4NzucVb154"
   },
   "source": [
    "## Creación de arreglos con funciones de Numpy\n",
    "\n",
    "Numpy provee algunas funciones para crear arreglos comunmente utilizados:\n",
    "\n",
    "* [```empty(shape)```](https://numpy.org/doc/1.17/reference/generated/numpy.empty.html#numpy.empty) Retorna un arreglo vacio, (sin elementos) con el shape (tupla de enteros) recibido.\n",
    "\n",
    "* [```empty_like(a)```](https://numpy.org/doc/1.17/reference/generated/numpy.empty_like.html#numpy.empty_like) Retorna un arreglo sin elementos inicializados con el mismo shape y type del arreglo recibido.\n",
    "\n",
    "* [```eye(N)```](https://numpy.org/doc/1.17/reference/generated/numpy.eye.html#numpy.eye) Retorna un arreglo 2D con unos en la diagonal y ceros en las demás entradas (identidad).\n",
    "\n",
    "* [```identity(n[, dtype])```](https://numpy.org/doc/1.17/reference/generated/numpy.identity.html#numpy.identity) Retorna el arreglo identidad.\n",
    "\n",
    "* [```ones(shape)```](https://numpy.org/doc/1.17/reference/generated/numpy.ones.html#numpy.ones) Retorna un arreglo con sus elementos inicializados con unos."
   ]
  },
  {
   "cell_type": "markdown",
   "metadata": {
    "id": "X4nyNz9VywFN"
   },
   "source": [
    "* [```ones_like(a)```](https://numpy.org/doc/1.17/reference/generated/numpy.ones_like.html#numpy.ones_like) Retorna un arreglo con sus elementos inicializados con unos con el mismo shape y type del arreglo recibido.\n",
    "\n",
    "* [```zeros(shape)```](https://numpy.org/doc/1.17/reference/generated/numpy.zeros.html#numpy.zeros) Retorna un arreglo con sus elementos inicializados con ceros.\n",
    "\n",
    "* [```zeros_like(a[, dtype, order, subok, shape])```](https://numpy.org/doc/1.17/reference/generated/numpy.zeros_like.html#numpy.zeros_like) Retorna un arreglo con sus elementos inicializados con ceros con el mismo shape y type del arreglo recibido.\n",
    "\n",
    "* [```full(shape, fill_value)```](https://numpy.org/doc/1.17/reference/generated/numpy.full.html#numpy.full) Retorna un arreglo con todos sus elementos inicializados con el valor ```fill_value```.\n",
    "\n",
    "* [```full_like(a, fill_value)```](https://numpy.org/doc/1.17/reference/generated/numpy.full_like.html#numpy.full_like) Retorna un arreglo con todos sus elementos inicializados con el valor ```fill_value``` y el mismo shape del arreglo recibido.\n",
    "\n",
    "_shape siempre es una tupla que indica el número de elemento en cada dimensión._"
   ]
  },
  {
   "cell_type": "markdown",
   "metadata": {
    "id": "sze8o2P-xjQ3"
   },
   "source": [
    "### empty"
   ]
  },
  {
   "cell_type": "code",
   "execution_count": 17,
   "metadata": {
    "id": "KoGn-C1kxnIO"
   },
   "outputs": [
    {
     "name": "stdout",
     "output_type": "stream",
     "text": [
      "[[0.000e+000 0.000e+000 0.000e+000]\n",
      " [0.000e+000 0.000e+000 6.897e-321]\n",
      " [0.000e+000 0.000e+000 0.000e+000]]\n"
     ]
    }
   ],
   "source": [
    "#empty regresa un arreglo sin inicializar\n",
    "e = np.empty((3, 3))\n",
    "\n",
    "#el arreglo puede contener valores \"basura\"\n",
    "print(e)"
   ]
  },
  {
   "cell_type": "markdown",
   "metadata": {
    "id": "1GR_94cfxnnG"
   },
   "source": [
    "### empty_like"
   ]
  },
  {
   "cell_type": "code",
   "execution_count": 18,
   "metadata": {
    "id": "CRstJKhkxnsR"
   },
   "outputs": [
    {
     "name": "stdout",
     "output_type": "stream",
     "text": [
      "[[1 2 3]\n",
      " [4 5 6]]\n"
     ]
    }
   ],
   "source": [
    "#un arreglo numpy\n",
    "a = np.array([[1,2,3],[4,5,6]])\n",
    "\n",
    "#empty like copia el shape y type de a\n",
    "e_l = np.empty_like(a)\n",
    "print(e_l)"
   ]
  },
  {
   "cell_type": "markdown",
   "metadata": {
    "id": "2bK_TA-0xn7H"
   },
   "source": [
    "### eye\n",
    "\n",
    "Una [matriz identidad](https://es.wikipedia.org/wiki/Matriz_identidad) es una matriz que cumple la propiedad de ser el elemento neutro del producto de matrices. Esto quiere decir que el producto de cualquier matriz por la matriz identidad (donde dicho producto esté definido) no tiene ningún efecto. Una matriz identidad contiene unos en su diagonal."
   ]
  },
  {
   "cell_type": "code",
   "execution_count": 23,
   "metadata": {
    "id": "JaKFpkEHxoCn"
   },
   "outputs": [
    {
     "name": "stdout",
     "output_type": "stream",
     "text": [
      "[[1. 0. 0.]\n",
      " [0. 1. 0.]\n",
      " [0. 0. 1.]]\n",
      "<class 'numpy.ndarray'>\n"
     ]
    }
   ],
   "source": [
    "#matriz identidad 3x3\n",
    "idtt = np.eye(3)\n",
    "\n",
    "print(idtt)\n",
    "print(type(idtt))"
   ]
  },
  {
   "cell_type": "markdown",
   "metadata": {
    "id": "Ap2lO4ZQxuZq"
   },
   "source": [
    "### identity\n",
    "\n",
    "La función ```identity``` es similar a la función ```eye``` para generar una matriz identidad.\n",
    "\n",
    "\n",
    "\n"
   ]
  },
  {
   "cell_type": "code",
   "execution_count": 24,
   "metadata": {
    "id": "_ylbmMthxudF"
   },
   "outputs": [
    {
     "name": "stdout",
     "output_type": "stream",
     "text": [
      "[[1. 0. 0.]\n",
      " [0. 1. 0.]\n",
      " [0. 0. 1.]]\n",
      "<class 'numpy.ndarray'>\n"
     ]
    }
   ],
   "source": [
    "#matriz identidad 3x3\n",
    "idtt = np.identity(3)\n",
    "print(idtt)\n",
    "print(type(idtt))"
   ]
  },
  {
   "cell_type": "markdown",
   "metadata": {
    "id": "2sbL9jTBxwdn"
   },
   "source": [
    "### ones"
   ]
  },
  {
   "cell_type": "code",
   "execution_count": 25,
   "metadata": {
    "id": "32MYj_FHxwh1"
   },
   "outputs": [
    {
     "name": "stdout",
     "output_type": "stream",
     "text": [
      "[[1. 1. 1.]\n",
      " [1. 1. 1.]\n",
      " [1. 1. 1.]]\n"
     ]
    }
   ],
   "source": [
    "#arreglo con unos\n",
    "o = np.ones((3, 3))\n",
    "\n",
    "print(o)"
   ]
  },
  {
   "cell_type": "markdown",
   "metadata": {
    "id": "Pbgs2X6mxxyJ"
   },
   "source": [
    "### ones_like"
   ]
  },
  {
   "cell_type": "code",
   "execution_count": 27,
   "metadata": {
    "id": "Y8gFCLb5xx2x"
   },
   "outputs": [
    {
     "name": "stdout",
     "output_type": "stream",
     "text": [
      "[[1 1 1]\n",
      " [1 1 1]]\n"
     ]
    }
   ],
   "source": [
    "#un arreglo numpy\n",
    "a = np.array([[1,2,3],[4,5,6]])\n",
    "\n",
    "#arreglo con unos\n",
    "o_l = np.ones_like(a)\n",
    "\n",
    "print(o_l)"
   ]
  },
  {
   "cell_type": "markdown",
   "metadata": {
    "id": "X_S9FOaoxynN"
   },
   "source": [
    "### zeros"
   ]
  },
  {
   "cell_type": "code",
   "execution_count": 28,
   "metadata": {
    "id": "5pOH-BeExyrh"
   },
   "outputs": [
    {
     "name": "stdout",
     "output_type": "stream",
     "text": [
      "[[0. 0. 0.]\n",
      " [0. 0. 0.]\n",
      " [0. 0. 0.]]\n"
     ]
    }
   ],
   "source": [
    "#arreglo con ceros\n",
    "z = np.zeros((3, 3))\n",
    "\n",
    "print(z)"
   ]
  },
  {
   "cell_type": "markdown",
   "metadata": {
    "id": "_oCQasxNxzA5"
   },
   "source": [
    "### zeros_like"
   ]
  },
  {
   "cell_type": "code",
   "execution_count": 29,
   "metadata": {
    "id": "gmN7lr8HxzEI"
   },
   "outputs": [
    {
     "name": "stdout",
     "output_type": "stream",
     "text": [
      "[[0 0 0]\n",
      " [0 0 0]]\n"
     ]
    }
   ],
   "source": [
    "#un arreglo numpy desde una lista de listas\n",
    "a = np.array([[1,2,3],[4,5,6]])\n",
    "\n",
    "#arreglo con ceros\n",
    "z_l = np.zeros_like(a)\n",
    "print(z_l)"
   ]
  },
  {
   "cell_type": "markdown",
   "metadata": {
    "id": "cZJybtc9x9tX"
   },
   "source": [
    "### full"
   ]
  },
  {
   "cell_type": "code",
   "execution_count": 34,
   "metadata": {
    "id": "S4g8Dmwgx9zB"
   },
   "outputs": [
    {
     "name": "stdout",
     "output_type": "stream",
     "text": [
      "[[5 5 5]\n",
      " [5 5 5]\n",
      " [5 5 5]]\n"
     ]
    }
   ],
   "source": [
    "#un arreglo 3x3 inicializado con 5 en todos sus elementos\n",
    "f = np.full((3, 3), 5)\n",
    "\n",
    "print(f)"
   ]
  },
  {
   "cell_type": "markdown",
   "metadata": {
    "id": "kimllQ3hx-Bk"
   },
   "source": [
    "### full_like"
   ]
  },
  {
   "cell_type": "code",
   "execution_count": 35,
   "metadata": {
    "id": "8Qbw4Dpzx-Gd"
   },
   "outputs": [
    {
     "name": "stdout",
     "output_type": "stream",
     "text": [
      "[[5 5 5]\n",
      " [5 5 5]]\n"
     ]
    }
   ],
   "source": [
    "#un arreglo numpy\n",
    "a = np.array([[1,2,3],[4,5,6]])\n",
    "\n",
    "#un arreglo con la misma dimension que a pero inicializado con valores 5\n",
    "f_l = np.full_like(a, 5)\n",
    "\n",
    "print(f_l)"
   ]
  },
  {
   "cell_type": "markdown",
   "metadata": {
    "id": "O9ISy1BRyFBz"
   },
   "source": [
    "### arange"
   ]
  },
  {
   "cell_type": "markdown",
   "metadata": {
    "id": "_YIxqoATywFT"
   },
   "source": [
    "**Rangos numéricos**\n",
    "\n",
    "Tambien puedes crear arreglos con rangos numéricos usando las siguientes funciones:\n",
    "\n",
    "* [```arange([start,] stop)```](https://numpy.org/doc/1.17/reference/generated/numpy.arange.html#numpy.arange) Retorna un arreglo con una sucesión artimética (cada elemento está separado por la misma distancia), similar a la función range de Python.\n",
    "\n",
    "* [```linspace(start, stop, num)```](https://numpy.org/doc/1.17/reference/generated/numpy.linspace.html#numpy.linspace) Retorna un arreglo con una progresión artimética en el intervalo recibido.\n",
    "\n",
    "* [```logspace(start, stop, num)```](https://numpy.org/doc/1.17/reference/generated/numpy.logspace.html#numpy.logspace) Retorna números separados igualmente en una escala logaritmica.\n",
    "\n",
    "* [```geomspace(start, stop, num)```](https://numpy.org/doc/1.17/reference/generated/numpy.geomspace.html#numpy.geomspace) Retorna números en una progresión geométrica."
   ]
  },
  {
   "cell_type": "code",
   "execution_count": 37,
   "metadata": {
    "id": "3Fi5SCqzyFG9"
   },
   "outputs": [
    {
     "name": "stdout",
     "output_type": "stream",
     "text": [
      "[5 6 7 8 9]\n"
     ]
    }
   ],
   "source": [
    "#arange 0-9\n",
    "ar = np.arange(5,10)\n",
    "\n",
    "print(ar)"
   ]
  },
  {
   "cell_type": "markdown",
   "metadata": {
    "id": "UoGYuIpCyFSZ"
   },
   "source": [
    "### linspace\n",
    "\n",
    "La función linspace retorna una progresión aritmetica de acuerdo a los parémtros de entrada. Una [progresión aritmética](https://es.wikipedia.org/wiki/Progresi%C3%B3n_aritm%C3%A9tica) es una sucesión de números tales que la diferencia de cualquier par de términos sucesivos de la secuencia es constante. En una progresión aritmética, si se toman dos términos consecutivos de cualquiera de esta, la diferencia entre ambos es una constante, denominada diferencia. Esto se puede expresar como una relación de recurrencia de la siguiente manera: \n",
    "\n",
    "$d = a_{n+1}-a{n}$\n",
    "\n",
    "Conociendo el primer término $a_1$ y la diferencia $d$, podemos utilizar la siguiente fórmula para calcular el enésimo término de la progresión:\n",
    "\n",
    "$a_n = a_1 + (n-1)d$\n",
    "\n",
    "\n",
    "\n"
   ]
  },
  {
   "cell_type": "markdown",
   "metadata": {
    "id": "P9skh086ywFT"
   },
   "source": [
    "Una visualización de los arreglos generados por la función linspace:\n",
    "\n",
    "![linspace](https://docs.scipy.org/doc/numpy/_images/numpy-linspace-1.png)"
   ]
  },
  {
   "cell_type": "code",
   "execution_count": 110,
   "metadata": {
    "id": "tFI-xwjFyFX3"
   },
   "outputs": [
    {
     "name": "stdout",
     "output_type": "stream",
     "text": [
      "[1.  2.2 3.4 4.6 5.8 7. ]\n"
     ]
    }
   ],
   "source": [
    "#Una progresion aritmetica, 6 muestras espacios iguales\n",
    "ls = np.linspace(1., 7, num = 6)\n",
    "\n",
    "print(ls)"
   ]
  },
  {
   "cell_type": "markdown",
   "metadata": {
    "id": "hAmeljyAyOGT"
   },
   "source": [
    "### logspace\n",
    "\n",
    "La función logspace retorna un arreglo con números separados por espacios iguales en una escala logarítmica.\n",
    "\n",
    "El primer número en el arreglo está definido por el parámetro ```start```:\n",
    "\n",
    "start    : [float] start(base ** start) of interval range.\n",
    "\n",
    "El último número en el arreglo está definido por el parámetro ```end```:\n",
    "\n",
    "stop     : [float] end(base ** stop) of interval range\n",
    "\n",
    "Logspace es igual al siguiente código:\n",
    "\n",
    "```\n",
    "y = np.linspace(start, stop, num=num, endpoint=endpoint)\n",
    "power(base, y).astype(dtype)\n",
    "```"
   ]
  },
  {
   "cell_type": "markdown",
   "metadata": {
    "id": "9RSR6ncLywFU"
   },
   "source": [
    "Una visualización de los arreglos generados por la función:\n",
    "\n",
    "![logspace](https://docs.scipy.org/doc/numpy/_images/numpy-logspace-1.png)"
   ]
  },
  {
   "cell_type": "code",
   "execution_count": 109,
   "metadata": {
    "id": "-G7ycgMUyOK5"
   },
   "outputs": [
    {
     "name": "stdout",
     "output_type": "stream",
     "text": [
      "[ 1.25892541  2.11348904  3.54813389  5.95662144 10.        ]\n"
     ]
    }
   ],
   "source": [
    "#logarithmic space, 5 muestras\n",
    "log_s = np.logspace(0.1, 1, num = 5)\n",
    "\n",
    "print(log_s)"
   ]
  },
  {
   "cell_type": "markdown",
   "metadata": {
    "id": "XHJbliumyOQV"
   },
   "source": [
    "### geomspace\n",
    "Una [progresión geométrica](https://es.wikipedia.org/wiki/Progresi%C3%B3n_geom%C3%A9trica) es una sucesión de números reales en la que el elemento siguiente se obtiene multiplicando el elemento anterior por una constante denominada razón o factor de la progresión. Se puede obtener el valor de un elemento arbitrario de la secuencia mediante la expresión del término general, siendo $a_{n}$, el término en cuestión, $a_{1}$ el primer término y  $r$, la razón:\n",
    "\n",
    "$a_n = a_1 * r^{n-1}$\n",
    "\n"
   ]
  },
  {
   "cell_type": "code",
   "execution_count": 108,
   "metadata": {
    "id": "XxksDqEryOUe"
   },
   "outputs": [
    {
     "name": "stdout",
     "output_type": "stream",
     "text": [
      "[   1.   10.  100. 1000.]\n",
      "10.0\n"
     ]
    }
   ],
   "source": [
    "#progresion geometrica, 4 muestras\n",
    "geo_s = np.geomspace(1, 1000, num = 4) #(inicia \n",
    "#la sucesion geometrica **a1**, términa la sucesion , numero de elementos de la sucesion )\n",
    "\n",
    "print(geo_s)\n",
    "razon = geo_s[2] / geo_s[1]\n",
    "print(razon)"
   ]
  },
  {
   "cell_type": "markdown",
   "metadata": {
    "id": "9LOCgCSgvKQ_"
   },
   "source": [
    "## Creación arreglos desde archivos en disco\n",
    "\n",
    "Normalmente los arreglos de gran tamaño son creados desde archivos en disco. Numpy provee estas funciones para crear arreglos desde archivos:\n",
    "\n",
    "* [```loadtxt(fname[, dtype, comments, delimiter, …])```](https://docs.scipy.org/doc/numpy/reference/generated/numpy.loadtxt.html#numpy.loadtxt) Carga datos desde un archivo de texto.\n",
    "* [```genfromtxt(fname[, dtype, comments, …])```](https://docs.scipy.org/doc/numpy/reference/generated/numpy.genfromtxt.html#numpy.genfromtxt) Carga datos desde un archivo de texto, permite el manejo de datos faltantes."
   ]
  },
  {
   "cell_type": "markdown",
   "metadata": {
    "id": "Yzf4dvI-Ulau"
   },
   "source": [
    "Un archivo pre-cargado en colab."
   ]
  },
  {
   "cell_type": "code",
   "execution_count": 118,
   "metadata": {
    "id": "08Df9Y-NUCBk"
   },
   "outputs": [
    {
     "name": "stderr",
     "output_type": "stream",
     "text": [
      "\"head\" no se reconoce como un comando interno o externo,\n",
      "programa o archivo por lotes ejecutable.\n"
     ]
    }
   ],
   "source": [
    "!head -n 3 sample_data/mnist_test.csv"
   ]
  },
  {
   "cell_type": "code",
   "execution_count": 119,
   "metadata": {
    "id": "LjPBu8YatUH3"
   },
   "outputs": [
    {
     "ename": "OSError",
     "evalue": "/content/sample_data/mnist_test.csv not found.",
     "output_type": "error",
     "traceback": [
      "\u001b[1;31m---------------------------------------------------------------------------\u001b[0m",
      "\u001b[1;31mOSError\u001b[0m                                   Traceback (most recent call last)",
      "\u001b[1;32m<ipython-input-119-7e314d9540d5>\u001b[0m in \u001b[0;36m<module>\u001b[1;34m\u001b[0m\n\u001b[0;32m      1\u001b[0m \u001b[1;31m#Cargando el archivo a un arreglo de numpy usando coma como delimitador\u001b[0m\u001b[1;33m\u001b[0m\u001b[1;33m\u001b[0m\u001b[1;33m\u001b[0m\u001b[0m\n\u001b[1;32m----> 2\u001b[1;33m \u001b[0mdataset\u001b[0m \u001b[1;33m=\u001b[0m \u001b[0mnp\u001b[0m\u001b[1;33m.\u001b[0m\u001b[0mloadtxt\u001b[0m\u001b[1;33m(\u001b[0m\u001b[1;34m\"/content/sample_data/mnist_test.csv\"\u001b[0m\u001b[1;33m,\u001b[0m \u001b[0mdelimiter\u001b[0m\u001b[1;33m=\u001b[0m\u001b[1;34m\",\"\u001b[0m\u001b[1;33m)\u001b[0m\u001b[1;33m\u001b[0m\u001b[1;33m\u001b[0m\u001b[0m\n\u001b[0m\u001b[0;32m      3\u001b[0m \u001b[0mprint\u001b[0m\u001b[1;33m(\u001b[0m\u001b[0mdataset\u001b[0m\u001b[1;33m)\u001b[0m\u001b[1;33m\u001b[0m\u001b[1;33m\u001b[0m\u001b[0m\n",
      "\u001b[1;32m~\\anaconda3\\lib\\site-packages\\numpy\\lib\\npyio.py\u001b[0m in \u001b[0;36mloadtxt\u001b[1;34m(fname, dtype, comments, delimiter, converters, skiprows, usecols, unpack, ndmin, encoding, max_rows)\u001b[0m\n\u001b[0;32m    959\u001b[0m             \u001b[0mfname\u001b[0m \u001b[1;33m=\u001b[0m \u001b[0mos_fspath\u001b[0m\u001b[1;33m(\u001b[0m\u001b[0mfname\u001b[0m\u001b[1;33m)\u001b[0m\u001b[1;33m\u001b[0m\u001b[1;33m\u001b[0m\u001b[0m\n\u001b[0;32m    960\u001b[0m         \u001b[1;32mif\u001b[0m \u001b[0m_is_string_like\u001b[0m\u001b[1;33m(\u001b[0m\u001b[0mfname\u001b[0m\u001b[1;33m)\u001b[0m\u001b[1;33m:\u001b[0m\u001b[1;33m\u001b[0m\u001b[1;33m\u001b[0m\u001b[0m\n\u001b[1;32m--> 961\u001b[1;33m             \u001b[0mfh\u001b[0m \u001b[1;33m=\u001b[0m \u001b[0mnp\u001b[0m\u001b[1;33m.\u001b[0m\u001b[0mlib\u001b[0m\u001b[1;33m.\u001b[0m\u001b[0m_datasource\u001b[0m\u001b[1;33m.\u001b[0m\u001b[0mopen\u001b[0m\u001b[1;33m(\u001b[0m\u001b[0mfname\u001b[0m\u001b[1;33m,\u001b[0m \u001b[1;34m'rt'\u001b[0m\u001b[1;33m,\u001b[0m \u001b[0mencoding\u001b[0m\u001b[1;33m=\u001b[0m\u001b[0mencoding\u001b[0m\u001b[1;33m)\u001b[0m\u001b[1;33m\u001b[0m\u001b[1;33m\u001b[0m\u001b[0m\n\u001b[0m\u001b[0;32m    962\u001b[0m             \u001b[0mfencoding\u001b[0m \u001b[1;33m=\u001b[0m \u001b[0mgetattr\u001b[0m\u001b[1;33m(\u001b[0m\u001b[0mfh\u001b[0m\u001b[1;33m,\u001b[0m \u001b[1;34m'encoding'\u001b[0m\u001b[1;33m,\u001b[0m \u001b[1;34m'latin1'\u001b[0m\u001b[1;33m)\u001b[0m\u001b[1;33m\u001b[0m\u001b[1;33m\u001b[0m\u001b[0m\n\u001b[0;32m    963\u001b[0m             \u001b[0mfh\u001b[0m \u001b[1;33m=\u001b[0m \u001b[0miter\u001b[0m\u001b[1;33m(\u001b[0m\u001b[0mfh\u001b[0m\u001b[1;33m)\u001b[0m\u001b[1;33m\u001b[0m\u001b[1;33m\u001b[0m\u001b[0m\n",
      "\u001b[1;32m~\\anaconda3\\lib\\site-packages\\numpy\\lib\\_datasource.py\u001b[0m in \u001b[0;36mopen\u001b[1;34m(path, mode, destpath, encoding, newline)\u001b[0m\n\u001b[0;32m    193\u001b[0m \u001b[1;33m\u001b[0m\u001b[0m\n\u001b[0;32m    194\u001b[0m     \u001b[0mds\u001b[0m \u001b[1;33m=\u001b[0m \u001b[0mDataSource\u001b[0m\u001b[1;33m(\u001b[0m\u001b[0mdestpath\u001b[0m\u001b[1;33m)\u001b[0m\u001b[1;33m\u001b[0m\u001b[1;33m\u001b[0m\u001b[0m\n\u001b[1;32m--> 195\u001b[1;33m     \u001b[1;32mreturn\u001b[0m \u001b[0mds\u001b[0m\u001b[1;33m.\u001b[0m\u001b[0mopen\u001b[0m\u001b[1;33m(\u001b[0m\u001b[0mpath\u001b[0m\u001b[1;33m,\u001b[0m \u001b[0mmode\u001b[0m\u001b[1;33m,\u001b[0m \u001b[0mencoding\u001b[0m\u001b[1;33m=\u001b[0m\u001b[0mencoding\u001b[0m\u001b[1;33m,\u001b[0m \u001b[0mnewline\u001b[0m\u001b[1;33m=\u001b[0m\u001b[0mnewline\u001b[0m\u001b[1;33m)\u001b[0m\u001b[1;33m\u001b[0m\u001b[1;33m\u001b[0m\u001b[0m\n\u001b[0m\u001b[0;32m    196\u001b[0m \u001b[1;33m\u001b[0m\u001b[0m\n\u001b[0;32m    197\u001b[0m \u001b[1;33m\u001b[0m\u001b[0m\n",
      "\u001b[1;32m~\\anaconda3\\lib\\site-packages\\numpy\\lib\\_datasource.py\u001b[0m in \u001b[0;36mopen\u001b[1;34m(self, path, mode, encoding, newline)\u001b[0m\n\u001b[0;32m    533\u001b[0m                                       encoding=encoding, newline=newline)\n\u001b[0;32m    534\u001b[0m         \u001b[1;32melse\u001b[0m\u001b[1;33m:\u001b[0m\u001b[1;33m\u001b[0m\u001b[1;33m\u001b[0m\u001b[0m\n\u001b[1;32m--> 535\u001b[1;33m             \u001b[1;32mraise\u001b[0m \u001b[0mIOError\u001b[0m\u001b[1;33m(\u001b[0m\u001b[1;34m\"%s not found.\"\u001b[0m \u001b[1;33m%\u001b[0m \u001b[0mpath\u001b[0m\u001b[1;33m)\u001b[0m\u001b[1;33m\u001b[0m\u001b[1;33m\u001b[0m\u001b[0m\n\u001b[0m\u001b[0;32m    536\u001b[0m \u001b[1;33m\u001b[0m\u001b[0m\n\u001b[0;32m    537\u001b[0m \u001b[1;33m\u001b[0m\u001b[0m\n",
      "\u001b[1;31mOSError\u001b[0m: /content/sample_data/mnist_test.csv not found."
     ]
    }
   ],
   "source": [
    "#Cargando el archivo a un arreglo de numpy usando coma como delimitador\n",
    "dataset = np.loadtxt(\"/content/sample_data/mnist_test.csv\", delimiter=\",\")\n",
    "print(dataset)"
   ]
  },
  {
   "cell_type": "markdown",
   "metadata": {
    "id": "yPx8hs9Ub7Xs"
   },
   "source": [
    "## Creación arreglos aleatorios\n",
    "\n",
    "El módulo random de Numpy provee capacidades para generar arreglos de números pseudo-aleatorios con las siguientes funciones:\n",
    "\n",
    "**Aleatorios simples**\n",
    "\n",
    "* [integers](https://numpy.org/doc/stable/reference/random/generated/numpy.random.Generator.integers.html#numpy.random.Generator.integers)\n",
    "* [random](https://numpy.org/doc/stable/reference/random/generated/numpy.random.Generator.random.html#numpy.random.Generator.random)\n",
    "* [choice](https://numpy.org/doc/stable/reference/random/generated/numpy.random.Generator.choice.html#numpy.random.Generator.choice)\n",
    "\n",
    "\n",
    "**Permutaciones**\n",
    "\n",
    "* [shuffle](https://numpy.org/doc/stable/reference/random/generated/numpy.random.Generator.shuffle.html#numpy.random.Generator.shuffle)\n",
    "* [permutation](https://numpy.org/doc/stable/reference/random/generated/numpy.random.Generator.permutation.html#numpy.random.Generator.permutation)\n",
    "\n",
    "\n",
    "**[Aleatorios de distribuciones](https://numpy.org/doc/stable/reference/random/generator.html#distributions)**\n",
    "\n",
    "* [normal](https://numpy.org/doc/stable/reference/random/generated/numpy.random.Generator.normal.html#numpy.random.Generator.normal)\n",
    "* [uniform](https://numpy.org/doc/stable/reference/random/generated/numpy.random.Generator.uniform.html#numpy.random.Generator.uniform)\n",
    "* [binomial](https://numpy.org/doc/stable/reference/random/generated/numpy.random.Generator.binomial.html#numpy.random.Generator.binomial)\n"
   ]
  },
  {
   "cell_type": "markdown",
   "metadata": {
    "id": "9EcvEhvWWxfb"
   },
   "source": [
    "### integers"
   ]
  },
  {
   "cell_type": "code",
   "execution_count": null,
   "metadata": {
    "id": "ePu2q87Nb7bx"
   },
   "outputs": [],
   "source": [
    "#generar 10 numeros aleatorios de un rango de 0 a 100\n",
    "r_ints = np.random.randint(0, 100, size = 10)\n",
    "\n",
    "print(r_ints)"
   ]
  },
  {
   "cell_type": "markdown",
   "metadata": {
    "id": "817Ex11ZWx71"
   },
   "source": [
    "### random"
   ]
  },
  {
   "cell_type": "code",
   "execution_count": null,
   "metadata": {
    "id": "oInfKQllWwBt"
   },
   "outputs": [],
   "source": [
    "#Generar  un arreglo con 10 numeros aleatorios flotantes de 0 a 1\n",
    "r_floats = np.random.random(size=10)\n",
    "\n",
    "print(r_floats)"
   ]
  },
  {
   "cell_type": "markdown",
   "metadata": {
    "id": "nzoXWa2UWyil"
   },
   "source": [
    "### choice"
   ]
  },
  {
   "cell_type": "code",
   "execution_count": null,
   "metadata": {
    "id": "P-EpMFgGWwFq"
   },
   "outputs": [],
   "source": [
    "#un arreglo del 0 a 99\n",
    "a = np.arange(100)\n",
    "\n",
    "#10 elementos aleatorios de a\n",
    "r_choice = np.random.choice(a, size = 10)\n",
    "print(r_choice)"
   ]
  },
  {
   "cell_type": "markdown",
   "metadata": {
    "id": "pOvkye9YW7CS"
   },
   "source": [
    "### shuffle"
   ]
  },
  {
   "cell_type": "code",
   "execution_count": null,
   "metadata": {
    "id": "YVyo7jxrW7Ga"
   },
   "outputs": [],
   "source": [
    "#un arreglo del 0 a 99\n",
    "a = np.arange(100)\n",
    "print(a)\n",
    "\n",
    "#mezclar los elementos de a, afecta al arreglo directamente\n",
    "np.random.shuffle(a)\n",
    "print(a)"
   ]
  },
  {
   "cell_type": "markdown",
   "metadata": {
    "id": "bqhh2ONJW7OL"
   },
   "source": [
    "### permutation"
   ]
  },
  {
   "cell_type": "code",
   "execution_count": null,
   "metadata": {
    "id": "YmRdFm_3W7SS"
   },
   "outputs": [],
   "source": [
    "#un arreglo del 0 a 99\n",
    "a = np.arange(100)\n",
    "print(a)\n",
    "\n",
    "#mezclar los elementos de una copia de a, regresa un nuevo arreglo\n",
    "r_permu = np.random.permutation(a)\n",
    "print(r_permu)\n",
    "print(a)"
   ]
  },
  {
   "cell_type": "markdown",
   "metadata": {
    "id": "OHg9beKLW_p4"
   },
   "source": [
    "### normal\n",
    "\n",
    "Genera un arreglo con numeros aleatorios de una distribución normal parametizada por su media (loc) y desviación estándar (scale), con una función de densidad:\n",
    "\n",
    "$$\n",
    "N(x; \\mu, \\sigma^2) = \\dfrac{1}{\\sqrt{2\\pi \\sigma}}\\exp({-\\dfrac{(x-\\mu)^2}{2\\sigma^2}})\n",
    "$$"
   ]
  },
  {
   "cell_type": "code",
   "execution_count": null,
   "metadata": {
    "id": "VRIAPfbgW_vF"
   },
   "outputs": [],
   "source": [
    "#generar 10 numeros aleatorios de una distribucion normal con media 0 y desviacion estandar 1\n",
    "r_normal = np.random.normal(loc = 0, scale = 1, size=10)\n",
    "\n",
    "print(r_normal)"
   ]
  },
  {
   "cell_type": "markdown",
   "metadata": {
    "id": "aH9d7aN6W_4U"
   },
   "source": [
    "### uniform\n",
    "Genera un arreglo con numeros aleatorios de una distribución uniforme en un rango $A$ (low), $B$ (high), con una función de densidad:\n",
    "\n",
    "$$\n",
    "U(x; A, B) = \\begin{cases}\n",
    "\\dfrac{1}{B-A} & A \\leq x \\leq B\\\\\n",
    "0 & \\text{cualquier otro caso.}\\\\\n",
    "\\end{cases}\n",
    "$$"
   ]
  },
  {
   "cell_type": "code",
   "execution_count": null,
   "metadata": {
    "id": "hZA9f4_6W_84"
   },
   "outputs": [],
   "source": [
    "#generar 10 numeros aleatorios en el rango 0 10 con la misma probabilidad de ser elegidos (uniforme)\n",
    "r_uniform = np.random.uniform(low = 0, high = 10, size=10)\n",
    "\n",
    "print(r_uniform)"
   ]
  },
  {
   "cell_type": "markdown",
   "metadata": {
    "id": "te8cFJbEXADm"
   },
   "source": [
    "### binomial\n",
    "\n",
    "Genera un arreglo con numeros aleatorios de una distribución binomial, con una función de masa de probabilidad:\n",
    "\n",
    "$$\n",
    "B(x; n, p) = \\binom{n}{x}p^x (1-p)^{n-x}\n",
    "$$\n",
    "\n",
    "$n$ - número de experimentos.\n",
    "\n",
    "\n",
    "$p$ - probabilidad de experimento exitoso."
   ]
  },
  {
   "cell_type": "code",
   "execution_count": null,
   "metadata": {
    "id": "kmRx0tnmXAIa"
   },
   "outputs": [],
   "source": [
    "#generar 10 numeros aleatorios con distribucion binomial\n",
    "r_binomial = np.random.binomial(n = 10, p = 0.5, size=10)\n",
    "\n",
    "print(r_binomial)"
   ]
  },
  {
   "cell_type": "markdown",
   "metadata": {
    "id": "wdMYjv6unjzq"
   },
   "source": [
    "# Indexación de arreglos Numpy\n",
    "\n",
    "De manera similar a Python, puedes utilizar inidices para seleccionar elementos en los arreglos de numpy, por ejemplo puedes usar la siguiente notación para arreglos 1D:\n",
    "\n",
    "\n",
    "\n",
    "```\n",
    "a[n]\n",
    "```\n",
    "\n",
    "O las siguientes para arreglos con 2 o más dimensiones:\n",
    "\n",
    "\n",
    "\n",
    "```\n",
    "a[n1, n2, ..., nn]\n",
    "```\n",
    "\n",
    "O\n",
    "\n",
    "\n",
    "```\n",
    "a[n1][n2]...[nn]\n",
    "```\n"
   ]
  },
  {
   "cell_type": "code",
   "execution_count": null,
   "metadata": {
    "id": "Pa4fel4lt9wp"
   },
   "outputs": [],
   "source": [
    "#1d\n",
    "a = np.arange(10)\n",
    "\n",
    "print(a[2])"
   ]
  },
  {
   "cell_type": "code",
   "execution_count": null,
   "metadata": {
    "id": "U57ZrSBAV0VW"
   },
   "outputs": [],
   "source": [
    "#2d\n",
    "A = np.arange(9).reshape((3, 3))\n",
    "print(\"A:\")\n",
    "print(A)\n",
    "\n",
    "#dos tipos de indexacion\n",
    "print(\"2,1:\", A[2, 1])\n",
    "print(\"0,2:\", A[0][2])"
   ]
  },
  {
   "cell_type": "markdown",
   "metadata": {
    "id": "B8mfO6vtt93o"
   },
   "source": [
    "## Slicing\n",
    "\n",
    "Al igual que objetos de Python, los arreglos en Numpy pueden utilizar slicing para obtener _vistas_ de los elmentos en los arreglos."
   ]
  },
  {
   "cell_type": "code",
   "execution_count": null,
   "metadata": {
    "id": "sKAMth0Ft9-I"
   },
   "outputs": [],
   "source": [
    "#en 1D\n",
    "a = np.arange(10)\n",
    "\n",
    "print(a[5:])"
   ]
  },
  {
   "cell_type": "code",
   "execution_count": null,
   "metadata": {
    "id": "CcR9wpJZXSWC"
   },
   "outputs": [],
   "source": [
    "#en 2D\n",
    "A = np.arange(9).reshape((3, 3))\n",
    "print(\"A:\")\n",
    "print(A)\n",
    "\n",
    "#slice de todos los elementos de la columna en el indice 2\n",
    "print(\"A[:, 2]:\", A[:,2])"
   ]
  },
  {
   "cell_type": "markdown",
   "metadata": {
    "id": "6bxHc5W8Xw5l"
   },
   "source": [
    "## Indexación Booleana\n",
    "\n",
    "También puedes utilizar expresiones booleanas para seleccionar a elementos de arreglos en numpy."
   ]
  },
  {
   "cell_type": "code",
   "execution_count": null,
   "metadata": {
    "id": "DrXmM_ssX8y5"
   },
   "outputs": [],
   "source": [
    "a = np.arange(10)\n",
    "print(a)\n",
    "\n",
    "print(a[a>6])"
   ]
  },
  {
   "cell_type": "markdown",
   "metadata": {
    "id": "Av5CS0erqFdv"
   },
   "source": [
    "# Constantes\n",
    "\n",
    "Numpy contiene como atributos a algunas variables matemáticas comunmente utilizadas:\n",
    "\n",
    "* np.pi\n",
    "* np.e\n",
    "* np.Infinity\n",
    "* np.NINF\n",
    "* np.NaN"
   ]
  },
  {
   "cell_type": "code",
   "execution_count": null,
   "metadata": {
    "id": "ARspqDohtKgk"
   },
   "outputs": [],
   "source": [
    "print(np.pi)\n",
    "print(np.e)"
   ]
  },
  {
   "cell_type": "markdown",
   "metadata": {
    "id": "xssAbfx47MXY"
   },
   "source": [
    "# Manipulación de arreglos"
   ]
  },
  {
   "cell_type": "markdown",
   "metadata": {
    "id": "5iQLQ-cmYeCJ"
   },
   "source": [
    "## Reshape\n",
    "\n",
    "El método y función ```reshape()``` permite cambiar la \"forma\" de arreglos. Por ejemplo, para convertir un arreglo 1D a uno 2D. Reshape crea nuevos axis donde apareceran en orden original los elementos del arreglo."
   ]
  },
  {
   "cell_type": "code",
   "execution_count": null,
   "metadata": {
    "id": "CA2LqWMesNqS"
   },
   "outputs": [],
   "source": [
    "#un arreglo 1d con nueve elementos\n",
    "a = np.arange(9)\n",
    "print(a)\n",
    "print(a.shape)\n",
    "\n",
    "#cambiar la forma del arreglo a uno con dos dimentiones (una matriz 3x3) con reshape\n",
    "A = np.copy(a.reshape((3, 3)))\n",
    "print(A)\n",
    "print(A.shape)"
   ]
  },
  {
   "cell_type": "markdown",
   "metadata": {
    "id": "wL4gDX_lYeMz"
   },
   "source": [
    "## Ravel\n",
    "\n",
    "El método ravel te permite transformar arreglos con más de una dimensión a arreglos \"planos\" con una sola dimensión."
   ]
  },
  {
   "cell_type": "code",
   "execution_count": null,
   "metadata": {
    "id": "BruLDmd0tOmn"
   },
   "outputs": [],
   "source": [
    "A = np.array([[1, 2, 3], [4, 5, 6]])\n",
    "print(A)\n",
    "print(A.shape)\n",
    "\n",
    "a = np.copy(A.ravel())\n",
    "print(a)\n",
    "print(a.shape)"
   ]
  },
  {
   "cell_type": "markdown",
   "metadata": {
    "id": "q4enO3QMYf7F"
   },
   "source": [
    "## Unión de arreglos\n",
    "\n",
    "Numpy provee las siguientes funciones para concatenar arreglos de diferentes maneras:\n",
    "\n",
    "* [```concatenate((a1, a2, ...), [axis]```)](https://numpy.org/doc/stable/reference/generated/numpy.concatenate.html#numpy.concatenate) Concatenar los elementos de los arreglos usando el axis determinado.\n",
    "\n",
    "* [```vstack((a1, a2))```](https://numpy.org/doc/stable/reference/generated/numpy.vstack.html#numpy.vstack) Concatenar verticalmente (por filas) los elementos de los arreglos.\n",
    "  \n",
    "* [```hstack((a1, a2))```](https://numpy.org/doc/stable/reference/generated/numpy.hstack.html#numpy.hstack) Concatenar horizontalmente (por columnas) los elementos de los arreglos."
   ]
  },
  {
   "cell_type": "code",
   "execution_count": null,
   "metadata": {
    "id": "QaR4V-I1veot"
   },
   "outputs": [],
   "source": [
    "a = np.arange(5)\n",
    "print(a)\n",
    "b = np.arange(6, 10)\n",
    "print(b)\n",
    "\n",
    "ab = np.concatenate((a, b), axis = 0)\n",
    "print(ab)"
   ]
  },
  {
   "cell_type": "code",
   "execution_count": null,
   "metadata": {
    "id": "N4AVfrgbvez7"
   },
   "outputs": [],
   "source": [
    "A = np.arange(9).reshape(3, 3)\n",
    "B = np.arange(9, 18).reshape(3, 3)\n",
    "print(A)\n",
    "print(A.shape)\n",
    "print(B)\n",
    "print(B.shape)\n",
    "\n",
    "print()\n",
    "\n",
    "AB = np.vstack((A, B))\n",
    "print(AB)\n",
    "print(AB.shape)"
   ]
  },
  {
   "cell_type": "code",
   "execution_count": null,
   "metadata": {
    "id": "7E_s3hh-ve8M"
   },
   "outputs": [],
   "source": [
    "A = np.arange(9).reshape(3, 3)\n",
    "ones = np.ones(3).reshape(3, 1)\n",
    "print(A)\n",
    "print(A.shape)\n",
    "print(ones)\n",
    "print(ones.shape)\n",
    "\n",
    "print()\n",
    "\n",
    "A = np.hstack((ones, A))\n",
    "print(A)\n",
    "print(A.shape)"
   ]
  },
  {
   "cell_type": "markdown",
   "metadata": {
    "id": "tT_cuMaGYq7Y"
   },
   "source": [
    "## Splits\n",
    "\n",
    "* [```split()```](https://numpy.org/doc/stable/reference/generated/numpy.split.html#numpy.split) Divide un arreglo en múltiples arreglos.\n",
    "\n",
    "* [```vsplit()```](https://numpy.org/doc/stable/reference/generated/numpy.vsplit.html#numpy.vsplit) Divide un arreglo por filas.\n",
    "\n",
    "* [```hsplit()```](https://numpy.org/doc/stable/reference/generated/numpy.hsplit.html#numpy.hsplit) Divide un arreglo por columnas."
   ]
  },
  {
   "cell_type": "code",
   "execution_count": null,
   "metadata": {
    "id": "YWDKw63GyYRT"
   },
   "outputs": [],
   "source": [
    "a = np.arange(10)\n",
    "\n",
    "#divide en 5 partes iguales\n",
    "print(np.split(a, 5))\n",
    "\n",
    "#divide usando indices\n",
    "print(np.split(a, [3, 6]))"
   ]
  },
  {
   "cell_type": "code",
   "execution_count": null,
   "metadata": {
    "id": "qOLWNa3byYZY"
   },
   "outputs": [],
   "source": [
    "A = np.arange(9).reshape(3, 3)\n",
    "print(\"A:\", A)\n",
    "\n",
    "print()\n",
    "\n",
    "#dividir por filas a dos arreglos usando un indice\n",
    "A1, A2 = np.vsplit(A, [1])\n",
    "print(A1)\n",
    "print()\n",
    "print(A2)"
   ]
  },
  {
   "cell_type": "code",
   "execution_count": null,
   "metadata": {
    "id": "z66uEZlXyYkv"
   },
   "outputs": [],
   "source": [
    "A = np.arange(9).reshape(3, 3)\n",
    "print(\"A:\", A)\n",
    "\n",
    "print()\n",
    "\n",
    "#dividir por columnas a dos arreglos usando un indice\n",
    "A1, A2 = np.hsplit(A, [1])\n",
    "print(A1)\n",
    "print()\n",
    "print(A2)"
   ]
  },
  {
   "cell_type": "markdown",
   "metadata": {
    "id": "EaXS8yQOtMZB"
   },
   "source": [
    "# Salida a archivos\n",
    "\n",
    "Numpy provee algunas funciones para la persistencia en disco de los arreglos de numpy, en particular, las siguientes funciones están disponibles:\n",
    "\n",
    "* [```save(file, arr)```](https://numpy.org/doc/stable/reference/generated/numpy.save.html#numpy.save) Guarda el arreglo de Numpy en disco usando el formato binario de Numpy _.npy_.\n",
    "\n",
    "* [```savetxt(file, arr)```](https://numpy.org/doc/stable/reference/generated/numpy.savetxt.html#numpy.savetxt) Guarda el arreglo de Numpy en disco usando un formato de texto plano."
   ]
  },
  {
   "cell_type": "code",
   "execution_count": null,
   "metadata": {
    "id": "ZpoQZwTQBfVn"
   },
   "outputs": [],
   "source": [
    "a = np.arange(20).reshape(5, 4)\n",
    "\n",
    "#guardar el arreglo en formato binario\n",
    "np.save(\"bina\", a)\n",
    "\n",
    "#guardar en formato de texto\n",
    "np.savetxt(\"texta\", a)"
   ]
  },
  {
   "cell_type": "markdown",
   "metadata": {
    "id": "51pwJOrFB9_3"
   },
   "source": [
    "Usemos la línea de comando de linux para ver los archivos almacenados."
   ]
  },
  {
   "cell_type": "code",
   "execution_count": null,
   "metadata": {
    "id": "5fHXnBztBfb8"
   },
   "outputs": [],
   "source": [
    "!ls"
   ]
  },
  {
   "cell_type": "markdown",
   "metadata": {
    "id": "t9oUOdY2CEXM"
   },
   "source": [
    "Podemos ver directamente el archivo guardado en formato de texto."
   ]
  },
  {
   "cell_type": "code",
   "execution_count": null,
   "metadata": {
    "id": "RsGbgAsnCEc5"
   },
   "outputs": [],
   "source": [
    "!cat texta"
   ]
  },
  {
   "cell_type": "markdown",
   "metadata": {
    "id": "CxPwMJQ0tUlR"
   },
   "source": [
    "# Funciones"
   ]
  },
  {
   "cell_type": "markdown",
   "metadata": {
    "id": "TWuQ7SpRundt"
   },
   "source": [
    "## Aritméticas\n",
    "\n",
    "Numpy permite aplicar [operadores aritméticos](https://numpy.org/doc/stable/reference/routines.math.html#arithmetic-operations) a los arreglos numéricos. Puedes utilizar los siguientes operadores en arreglos múlti-dimensionales:\n",
    "\n",
    "* [```add(x1, x2)```](https://numpy.org/doc/stable/reference/generated/numpy.add.html#numpy.add) y ```+``` suma los elementos de dos arreglos.\n",
    "  \n",
    "* [```subtract(x1, x2)```](https://numpy.org/doc/stable/reference/generated/numpy.subtract.html#numpy.subtract) y ```-```  resta los elementos de dos arreglos.\n",
    "  \n",
    "* [```divide(x1, x2)```](https://numpy.org/doc/stable/reference/generated/numpy.subtract.html#numpy.divide) y ```/``` divide los elementos de dos arreglos.\n",
    "  "
   ]
  },
  {
   "cell_type": "markdown",
   "metadata": {
    "id": "IKDV63fXywFh"
   },
   "source": [
    "* [```multiply(x1, x2)```](https://numpy.org/doc/stable/reference/generated/numpy.multiply.html#numpy.multiply) y ```*``` multiplica los elementos de dos arreglos.\n",
    "  \n",
    "* [```power(x1, x2)```](https://numpy.org/doc/stable/reference/generated/numpy.power.html#numpy.power) eleva a la potencia del segundo arreglo los elementos del primero.\n",
    "  \n",
    "* [```mod(x1, x2)```](https://numpy.org/doc/stable/reference/generated/numpy.mod.html#numpy.mod) calcula el módulo de un arreglo usando el segundo.\n",
    "\n",
    "\n",
    "*Nota: Los operadores son aplicados elemento por elemento en los arreglos Numpy, éstos pueden tener múltiples dimensiones. En otra sección verás **broadcasting** para aplicar operaciones en arreglos con dimensiones diferentes.*"
   ]
  },
  {
   "cell_type": "markdown",
   "metadata": {
    "id": "CXDbSdqQfEvF"
   },
   "source": [
    "### add() y $+$"
   ]
  },
  {
   "cell_type": "code",
   "execution_count": null,
   "metadata": {
    "id": "tyrtTwfhfEzp"
   },
   "outputs": [],
   "source": [
    "#puedes sumar dos arreglos elemento por elemento usando la funcion add o +\n",
    "a = np.arange(5)\n",
    "print(\"a\", a)\n",
    "\n",
    "b = np.arange(6, 11)\n",
    "print(\"b\", b)\n",
    "\n",
    "print(\"add(a, b)\")\n",
    "print(np.add(a, b))\n",
    "\n",
    "#usando + directamente\n",
    "print(\"a + b\")\n",
    "print(a + b)"
   ]
  },
  {
   "cell_type": "code",
   "execution_count": null,
   "metadata": {
    "id": "Stvfs9ragPxX"
   },
   "outputs": [],
   "source": [
    "#las funciones tambien funcionan en arrelgos multidimensionales\n",
    "a = np.ones((3, 3))\n",
    "print(\"a\", a)\n",
    "\n",
    "b = np.full((3, 3), 6)\n",
    "print(\"b\", b)\n",
    "\n",
    "print(\"add(a, b)\")\n",
    "print(np.add(a, b))\n",
    "\n",
    "#usando + directamente\n",
    "print(\"a + b\")\n",
    "print(a + b)"
   ]
  },
  {
   "cell_type": "markdown",
   "metadata": {
    "id": "IsnFru7sfK9r"
   },
   "source": [
    "### subtract() y $-$"
   ]
  },
  {
   "cell_type": "code",
   "execution_count": null,
   "metadata": {
    "id": "v2_GN1DDfLBn"
   },
   "outputs": [],
   "source": [
    "#puedes restar dos arreglos elemento por elemento usando la funcion subtract o -\n",
    "a = np.arange(5)\n",
    "print(\"a\", a)\n",
    "\n",
    "b = np.ones(5)\n",
    "print(\"b\", b)\n",
    "\n",
    "print(\"subtract(a, b)\")\n",
    "print(np.subtract(a, b))\n",
    "\n",
    "#usando - directamente\n",
    "print(\"a - b\")\n",
    "print(a - b)"
   ]
  },
  {
   "cell_type": "markdown",
   "metadata": {
    "id": "umS4W3RBfNAh"
   },
   "source": [
    "### divide() y $/$"
   ]
  },
  {
   "cell_type": "code",
   "execution_count": null,
   "metadata": {
    "id": "LPFS2SlufNFT"
   },
   "outputs": [],
   "source": [
    "#puedes dividir dos arreglos elemento por elemento usando /\n",
    "a = np.arange(10)\n",
    "print(\"a\", a)\n",
    "\n",
    "b = np.full(10, 2)\n",
    "print(\"b\", b)\n",
    "\n",
    "\n",
    "#dividir a / b\n",
    "print(\"a / b\")\n",
    "print(a / b)"
   ]
  },
  {
   "cell_type": "markdown",
   "metadata": {
    "id": "OMuHCWYufPap"
   },
   "source": [
    "### multiply y $*$"
   ]
  },
  {
   "cell_type": "code",
   "execution_count": null,
   "metadata": {
    "id": "KX0vaLnWfPfM"
   },
   "outputs": [],
   "source": [
    "#puedes multuplicar dos arreglos elemento por elemento usando *\n",
    "a = np.arange(10)\n",
    "print(\"a\", a)\n",
    "\n",
    "b = np.full(10, 3)\n",
    "print(\"b\", b)\n",
    "\n",
    "\n",
    "#dividir a * b\n",
    "print(\"a * b\")\n",
    "print(a * b)"
   ]
  },
  {
   "cell_type": "markdown",
   "metadata": {
    "id": "SACuaPz7fR0I"
   },
   "source": [
    "### power()"
   ]
  },
  {
   "cell_type": "code",
   "execution_count": null,
   "metadata": {
    "id": "XFtLZODKfR4k"
   },
   "outputs": [],
   "source": [
    "#puedes elevar los elementos de un arreglo a la potencia de los elementos de otro usando power\n",
    "a = np.full(10, 2)\n",
    "print(\"a\", a)\n",
    "\n",
    "b = np.arange(10)\n",
    "print(\"b\", b)\n",
    "\n",
    "\n",
    "#dividir np.power(a, b)\n",
    "print(\"np.power(a, b)\")\n",
    "print(np.power(a, b))"
   ]
  },
  {
   "cell_type": "markdown",
   "metadata": {
    "id": "vu9MrL4JfR_9"
   },
   "source": [
    "### mod()"
   ]
  },
  {
   "cell_type": "markdown",
   "metadata": {
    "id": "2txAinDsQoml"
   },
   "source": [
    "## Comparación\n",
    "\n",
    "Puedes utilizar los operadores de comparación en arreglos de Numpy:\n",
    "\n",
    "* $==$\n",
    "* $<$\n",
    "* $<=$\n",
    "* $>$\n",
    "* $>=$"
   ]
  },
  {
   "cell_type": "code",
   "execution_count": null,
   "metadata": {
    "id": "hsTjGGgeQou7"
   },
   "outputs": [],
   "source": [
    "a = np.array([1, 2, 3, 4, 5])\n",
    "b = np.array([5, 4, 3, 2, 1])\n",
    "print(\"a:\", a)\n",
    "print(\"b:\", b)\n",
    "\n",
    "print()\n",
    "\n",
    "print(\"a == b\", a == b)\n",
    "print(\"a > b\", a > b)\n",
    "print(\"a >= b\", a >= b)\n",
    "print(\"a < b\", a < b)\n",
    "print(\"a <= b\", a <= b)"
   ]
  },
  {
   "cell_type": "code",
   "execution_count": null,
   "metadata": {
    "id": "VQcGfNHZfSGJ"
   },
   "outputs": [],
   "source": [
    "#puedes aplicar la operacion modulo a los elementos de un arreglo con los de otro\n",
    "a = np.arange(3, 10)\n",
    "print(\"a\", a)\n",
    "\n",
    "b = np.full_like(a, 3)\n",
    "print(\"b\", b)\n",
    "\n",
    "\n",
    "#dividir np.mod(a, b)\n",
    "print(\"np.mod(a, b)\")\n",
    "print(np.mod(a, b))"
   ]
  },
  {
   "cell_type": "markdown",
   "metadata": {
    "id": "Qt6JPJOzvRs5"
   },
   "source": [
    "## Trigonométricas\n",
    "\n",
    "Numpy provee [funciones trigonométricas](https://numpy.org/doc/stable/reference/routines.math.html#trigonometric-functions) que puedes aplicar a los elementos de los arreglos. Algunas de las más comúnes:\n",
    "\n",
    "\n",
    "* [```sin(x)```](https://numpy.org/doc/stable/reference/generated/numpy.sin.html#numpy.sin) función seno aplicada elemento por elemento.\n",
    "\n",
    "* [```cos(x)```](https://numpy.org/doc/stable/reference/generated/numpy.cos.html#numpy.cos) función coseno aplicada elemento por elemento.\n",
    "\n",
    "* [```tan(x)```](https://numpy.org/doc/stable/reference/generated/numpy.tan.html#numpy.tan) función tangente aplicada elemento por elemento."
   ]
  },
  {
   "cell_type": "markdown",
   "metadata": {
    "id": "85pdmi5krrFt"
   },
   "source": [
    "### sin()"
   ]
  },
  {
   "cell_type": "code",
   "execution_count": null,
   "metadata": {
    "id": "99iLRyPNrrJf"
   },
   "outputs": [],
   "source": [
    "a = np.arange(0, 10) * np.pi/2\n",
    "print(\"a\", a)\n",
    "\n",
    "print(\"sin(a)\")\n",
    "print(np.sin(a))"
   ]
  },
  {
   "cell_type": "markdown",
   "metadata": {
    "id": "kFNAv6yXrrRN"
   },
   "source": [
    "### cos()"
   ]
  },
  {
   "cell_type": "code",
   "execution_count": null,
   "metadata": {
    "id": "ENfKdwXarrUh"
   },
   "outputs": [],
   "source": [
    "a = np.arange(0, 10) * np.pi\n",
    "print(\"a\", a)\n",
    "\n",
    "print(\"cos(a)\")\n",
    "print(np.cos(a))"
   ]
  },
  {
   "cell_type": "markdown",
   "metadata": {
    "id": "YOGS6Oh-rram"
   },
   "source": [
    "### tan()"
   ]
  },
  {
   "cell_type": "code",
   "execution_count": null,
   "metadata": {
    "id": "A3mNtXwTrrdi"
   },
   "outputs": [],
   "source": [
    "a = np.arange(0, 10)\n",
    "print(\"a\", a)\n",
    "\n",
    "print(\"tan(a)\")\n",
    "print(np.tan(a))"
   ]
  },
  {
   "cell_type": "markdown",
   "metadata": {
    "id": "efJIa3wru8F7"
   },
   "source": [
    "## Estadísticas\n",
    "\n",
    "Algunas de las [funciones estadísticas](https://numpy.org/doc/stable/reference/routines.statistics.html#statistics) que puedes utilizar con arreglos de Numpy:\n",
    "\n",
    "* [```amin(a, axis=None)```](https://numpy.org/doc/stable/reference/generated/numpy.amin.html#numpy.amin) encuentra el elemento mínimo en un arreglo.\n",
    "  \n",
    "* [```amax(a, axis=None)```](https://numpy.org/doc/stable/reference/generated/numpy.amax.html#numpy.amax) encuentra el elemento máximo en un arreglo.\n",
    "  \n",
    "* [```mean(a, axis=None)```](https://numpy.org/doc/stable/reference/generated/numpy.mean.html#numpy.mean) calcula la media del arreglo.\n",
    "  \n",
    "* [```median(a, axis=None)```](https://numpy.org/doc/stable/reference/generated/numpy.median.html#numpy.median) encuentra la mediana del arreglo.\n"
   ]
  },
  {
   "cell_type": "markdown",
   "metadata": {
    "id": "ntWgJK-bywFo"
   },
   "source": [
    "* [```std(a, axis=None)```](https://numpy.org/doc/stable/reference/generated/numpy.std.html#numpy.std) calcula la desviación estándar del arreglo.\n",
    "\n",
    "* [```var(a, axis=None)```](https://numpy.org/doc/stable/reference/generated/numpy.var.html#numpy.var) calcula la varianza del arreglo."
   ]
  },
  {
   "cell_type": "markdown",
   "metadata": {
    "id": "nekQlgp6ywFo"
   },
   "source": [
    "La siguiente imágen muestra el sentido de la operación al especificar ```axis```:\n",
    "\n",
    "![Numpy axes](https://raw.githubusercontent.com/jhermosillo/DIPLOMADO_CDP/main/01%20Programaci%C3%B3n%20en%20Python/images/axes.png)"
   ]
  },
  {
   "cell_type": "markdown",
   "metadata": {
    "id": "OwEOdlN0zZpl"
   },
   "source": [
    "Puedes especificar el axis en el que quieres calcular la función si tienes arreglos con más de una dimensión. Por defecto, si no se especifica el axis, entonces el cálculo de las funciones estadísticas se hace para todos los elementos del arreglo, como si fuera un arreglo 1D."
   ]
  },
  {
   "cell_type": "markdown",
   "metadata": {
    "id": "KYD4WYpqyaB3"
   },
   "source": [
    "### amin()"
   ]
  },
  {
   "cell_type": "code",
   "execution_count": null,
   "metadata": {
    "id": "aemW8RXFyaGB"
   },
   "outputs": [],
   "source": [
    "a =  np.arange(10)\n",
    "print(a)\n",
    "\n",
    "print(\"np.amin(a)\", np.amin(a))"
   ]
  },
  {
   "cell_type": "code",
   "execution_count": null,
   "metadata": {
    "id": "7RQrkIsZzofc"
   },
   "outputs": [],
   "source": [
    "#funciones especificando axis para una matriz\n",
    "a =  np.arange(10).reshape(2, 5)\n",
    "print(a)\n",
    "print(a.shape)\n",
    "\n",
    "#axis = 0, calcula el minimo de cada columna\n",
    "print(\"np.amin(a, axis = 0)\", np.amin(a, axis = 0))\n",
    "\n",
    "#axis = 1, calcula el minimo de cada fila\n",
    "print(\"np.amin(a, axis = 1)\", np.amin(a, axis = 1))\n",
    "\n",
    "#si no especificas axis entonces regresa el elemento minimo de todo el arreglo 2d\n",
    "print(\"np.amin(a)\", np.amin(a))"
   ]
  },
  {
   "cell_type": "markdown",
   "metadata": {
    "id": "CO_s0O8UyaZL"
   },
   "source": [
    "### amax()"
   ]
  },
  {
   "cell_type": "code",
   "execution_count": null,
   "metadata": {
    "id": "mx7cyUTaybZC"
   },
   "outputs": [],
   "source": [
    "a =  np.arange(10)\n",
    "\n",
    "print(np.amax(a))"
   ]
  },
  {
   "cell_type": "markdown",
   "metadata": {
    "id": "Vrp1OjKFybi_"
   },
   "source": [
    "### mean()\n",
    "\n",
    "La media aritmética de un arreglo.\n",
    "\n",
    "Sin especificar axis:\n",
    "$$\n",
    "\tnp.mean(x) = \\dfrac{np.sum(x)}{n}\n",
    "$$\n",
    "\n",
    "axis = 0, la media de todas las filas (fila promedio):\n",
    "\n",
    "$$\n",
    "\tnp.mean(X, axis = 0) = \\dfrac{np.sum(X[:, j])}{n}\n",
    "$$\n",
    "\n",
    "axis = 1, la media de todas las columnas (columna promedio):\n",
    "\n",
    "$$\n",
    "\tnp.mean(X, axis = 1) = \\dfrac{np.sum(X[i, :])}{n}\n",
    "$$"
   ]
  },
  {
   "cell_type": "code",
   "execution_count": null,
   "metadata": {
    "id": "btyVLLANyboW"
   },
   "outputs": [],
   "source": [
    "#sin especificar axis (la media de todo el arreglo)\n",
    "a =  np.random.normal(0, 1, 100)\n",
    "\n",
    "print(np.mean(a))"
   ]
  },
  {
   "cell_type": "code",
   "execution_count": null,
   "metadata": {
    "id": "jZc15GXE_-jc"
   },
   "outputs": [],
   "source": [
    "#2d, axis = 0\n",
    "A = np.array([[1, 2], [3, 4]])\n",
    "\n",
    "# fila promedio\n",
    "print(np.mean(A, axis=0))"
   ]
  },
  {
   "cell_type": "code",
   "execution_count": null,
   "metadata": {
    "id": "C1IsPUW7_-oT"
   },
   "outputs": [],
   "source": [
    "#2d, axis = 1\n",
    "A = np.array([[1, 2], [3, 4]])\n",
    "\n",
    "# columna promedio\n",
    "np.mean(A, axis=1)"
   ]
  },
  {
   "cell_type": "markdown",
   "metadata": {
    "id": "fdvRVc4YyiDw"
   },
   "source": [
    "### median()\n",
    "\n",
    "Sin especificar axis, la mediana de todo el arreglo:\n",
    "\n",
    "$$\n",
    "\t\\begin{matrix}\n",
    "\tnp.median(x) = x[(n+1)/2] \\quad \\text{ si $n$ impar}, \\qquad & \\dfrac{(x[(n+1)/2] + x[n/2])}{2} \\quad \\text{si $n$ par}\n",
    "\t\\end{matrix}\n",
    "\t$$\n",
    "\n",
    "axis = 0:\n",
    "\n",
    "$$\n",
    "np.median(X[:, j])\n",
    "$$\n",
    "\n",
    "axis = 1:\n",
    "\n",
    "$$\n",
    "np.median(X[i, :])\n",
    "$$"
   ]
  },
  {
   "cell_type": "code",
   "execution_count": null,
   "metadata": {
    "id": "Oy41OgHSyiNF"
   },
   "outputs": [],
   "source": [
    "a =  np.random.normal(0, 1, 100)\n",
    "\n",
    "print(np.median(a))"
   ]
  },
  {
   "cell_type": "code",
   "execution_count": null,
   "metadata": {
    "id": "9qcoTCK8DLin"
   },
   "outputs": [],
   "source": [
    "#2d, axis = 0\n",
    "A = np.array([[1, 2], [3, 4], [5, 6]])\n",
    "\n",
    "print(np.median(A, axis=0))"
   ]
  },
  {
   "cell_type": "code",
   "execution_count": null,
   "metadata": {
    "id": "Qe19OaguDLnq"
   },
   "outputs": [],
   "source": [
    "#2d, axis = 1\n",
    "A = np.array([[1, 2, 3], [4, 5, 6]])\n",
    "\n",
    "np.median(A, axis=1)"
   ]
  },
  {
   "cell_type": "markdown",
   "metadata": {
    "id": "vcuBBxr_yifK"
   },
   "source": [
    "### std()\n",
    "\n",
    "Sin especificar axis, la desviación estándar de todo el arreglo:\n",
    "$$\n",
    "\tnp.std(A) = \\sqrt{\\frac{np.sum(np.pow(x - np.mean(x), 2))}{n}}\n",
    "$$\n",
    "\n",
    "axis = 0:\n",
    "\n",
    "$$\n",
    "\tnp.std(X, axis = 0) = \\sqrt{\\frac{np.sum(np.pow(X[i, :] - np.mean(X[i, :]), 2))}{X.shape[0]}}\n",
    "$$\n",
    "\n",
    "axis = 1:\n",
    "\n",
    "$$\n",
    "\tnp.std(X, axis = 1) = \\sqrt{\\frac{np.sum(np.pow(X[:, j] - np.mean(X[:, j]), 2))}{X.shape[1]}}\n",
    "$$"
   ]
  },
  {
   "cell_type": "code",
   "execution_count": null,
   "metadata": {
    "id": "0AEwuZJ6yimo"
   },
   "outputs": [],
   "source": [
    "a =  np.random.normal(0, 1, 100)\n",
    "\n",
    "print(np.std(a))"
   ]
  },
  {
   "cell_type": "code",
   "execution_count": null,
   "metadata": {
    "id": "cYInpm5zDJkf"
   },
   "outputs": [],
   "source": [
    "#2d, axis = 0\n",
    "A = np.array([[1, 2], [3, 4]])\n",
    "\n",
    "print(np.std(A, axis=0))"
   ]
  },
  {
   "cell_type": "code",
   "execution_count": null,
   "metadata": {
    "id": "ZN7waRurDJqe"
   },
   "outputs": [],
   "source": [
    "#2d, axis = 1\n",
    "A = np.array([[1, 2], [3, 4]])\n",
    "\n",
    "np.std(A, axis=1)"
   ]
  },
  {
   "cell_type": "markdown",
   "metadata": {
    "id": "XIBBBYY0yiuw"
   },
   "source": [
    "### var()\n",
    "\n",
    "Sin especificar axis, la varianza de todo el arreglo:\n",
    "$$\n",
    "\tnp.var(x) = \\frac{np.sum(np.pow(x - np.mean(x), 2))}{n}\n",
    "$$\n",
    "\n",
    "axis = 0:\n",
    "\n",
    "$$\n",
    "\tnp.var(X, axis = 0) = \\frac{np.sum(np.pow(X[i, :] - np.mean(X[i, :]), 2))}{X.shape[0]}\n",
    "$$\n",
    "\n",
    "axis = 1:\n",
    "\n",
    "$$\n",
    "\tnp.var(X, axis = 1) = \\frac{np.sum(np.pow(X[:, j] - np.mean(X[:, j]), 2))}{X.shape[1]}\n",
    "$$"
   ]
  },
  {
   "cell_type": "code",
   "execution_count": null,
   "metadata": {
    "id": "PrfSWjNayi0Y"
   },
   "outputs": [],
   "source": [
    "a =  np.random.normal(0, 1, 100)\n",
    "\n",
    "print(np.var(a))"
   ]
  },
  {
   "cell_type": "code",
   "execution_count": null,
   "metadata": {
    "id": "Uzj8EnTwDKP7"
   },
   "outputs": [],
   "source": [
    "#2d, axis = 0\n",
    "A = np.array([[1, 2], [3, 4]])\n",
    "\n",
    "print(np.var(A, axis=0))"
   ]
  },
  {
   "cell_type": "code",
   "execution_count": null,
   "metadata": {
    "id": "d_TAcb98DKVu"
   },
   "outputs": [],
   "source": [
    "#2d, axis = 1\n",
    "A = np.array([[1, 2], [3, 4]])\n",
    "\n",
    "np.var(A, axis=1)"
   ]
  },
  {
   "cell_type": "markdown",
   "metadata": {
    "id": "au62ss_puqaI"
   },
   "source": [
    "## Álgebra lineal\n",
    "\n",
    "Algunas de las [funciones de álgebra lineal](https://numpy.org/doc/stable/reference/routines.linalg.html#linear-algebra-numpy-linalg) que puedes utilizar en arreglos de Numpy:\n",
    "\n",
    "* [```dot(a, b)```](https://numpy.org/doc/stable/reference/generated/numpy.dot.html#numpy.dot) genera el producto punto de dos arreglos, el tipo de operación (multiplicación de matrices o producto punto) depende de la entrada (2D o 1D).\n",
    "  \n",
    "* [```vdot(a, b)```](https://numpy.org/doc/stable/reference/generated/numpy.vdot.html#numpy.vdot) genera el producto punto de dos vectores (1D). _vdot() permite computar vectores con números complejos._\n",
    "\n",
    "* [```matmul(x1, x2) o @```](https://numpy.org/doc/stable/reference/generated/numpy.matmul.html#numpy.matmul) para la multiplicación de matrices (generalmente 2D)."
   ]
  },
  {
   "cell_type": "markdown",
   "metadata": {
    "id": "ekXDF_VHywFv"
   },
   "source": [
    "* [```inner(a, b)```](https://numpy.org/doc/stable/reference/generated/numpy.inner.html#numpy.inner) genera el producto interno o producto escalar de dos arreglos.\n",
    "  \n",
    "* [```outer(a, b)```](https://numpy.org/doc/stable/reference/generated/numpy.outer.html#numpy.outer) genera el producto externo (tensorial) de dos arreglos.\n",
    "\n",
    "* [```trace(a)```](https://numpy.org/doc/stable/reference/generated/numpy.trace.html#numpy.trace) genera la traza (suma de los elementos en la diagnonal) del arreglo."
   ]
  },
  {
   "cell_type": "markdown",
   "metadata": {
    "id": "qOxrlJYj4GBs"
   },
   "source": [
    "### dot()"
   ]
  },
  {
   "cell_type": "markdown",
   "metadata": {
    "id": "a-UdUEbfOGoA"
   },
   "source": [
    "Para dos vectores (1D), es el producto punto:\n",
    "$$u = [u_1, \\dots, u_n]$$\n",
    "$$v = [v_1, \\dots, v_n]$$\n",
    "$$\n",
    "\tnp.dot(u, v) = u_1 v_1 + u_2 v_2 + \\dots + u_n v_n\n",
    "$$"
   ]
  },
  {
   "cell_type": "code",
   "execution_count": null,
   "metadata": {
    "id": "prV8oEfj4Gal"
   },
   "outputs": [],
   "source": [
    "#cuando recibe dos vectores dot() produce el producto punto\n",
    "a = np.array([2, 3])\n",
    "b = np.array([3, 4])\n",
    "print(\"a:\\n\", a)\n",
    "print(\"b:\\n\", b)\n",
    "\n",
    "print(\"dot(a, b): \", np.dot(a ,b))"
   ]
  },
  {
   "cell_type": "markdown",
   "metadata": {
    "id": "cNLPv4kTQoTg"
   },
   "source": [
    "Para matrices (2D), el producto de matrices:\n",
    "\n",
    "$$\n",
    "\tC = np.dot(A, B) \\Leftrightarrow C[i,j] = np.sum(a[i,:]*b[:,j])\n",
    "$$\n",
    "\n",
    "_Las dimensiones de ambos arreglos deben cumplir los requisitos del producto de matrices, esto es,  el número de columnas en el primero debe ser igual al número de filas en el segundo._"
   ]
  },
  {
   "cell_type": "code",
   "execution_count": null,
   "metadata": {
    "id": "zPF05F6uQnth"
   },
   "outputs": [],
   "source": [
    "#cuando recibe dos arreglos 2d dot() produce la multiplicacion de matrices\n",
    "A = np.array([[2, 0], [0, 2]])\n",
    "B = np.array([[4, 1], [2, 1]])\n",
    "print(\"A:\\n\", A)\n",
    "print(\"B:\\n\", B)\n",
    "\n",
    "print(\"dot(A, B):\\n\", np.dot(A, B))"
   ]
  },
  {
   "cell_type": "markdown",
   "metadata": {
    "id": "vRhi-_rQOvtM"
   },
   "source": [
    "### matmul() o @\n",
    "Para matrices (2D), el producto de matrices:\n",
    "\n",
    "$$\n",
    "\tC = np.matmul(A, B) = A @ B \\Leftrightarrow C[i,j] = np.sum(A[i,:]*B[:,j])\n",
    "$$\n",
    "\n",
    "_Las dimensiones de ambos arreglos deben cumplir los requisitos del producto de matrices, esto es,  el número de columnas en el primero debe ser igual al número de filas en el segundo._"
   ]
  },
  {
   "cell_type": "code",
   "execution_count": null,
   "metadata": {
    "id": "C9JmocBnrfG0"
   },
   "outputs": [],
   "source": [
    "#matmul para el producto de matrices\n",
    "#Las dimensiones deben cumplir los requisitos del producto de matrices\n",
    "A = np.array([[2, 0], [0, 2]])\n",
    "B = np.array([[4, 1], [2, 1]])\n",
    "print(\"A:\\n\", A)\n",
    "print(\"B:\\n\", B)\n",
    "\n",
    "print(\"matmul(A, B):\\n\", np.matmul(A, B))\n",
    "print(\"igual a\")\n",
    "print(\"A @ B:\\n\", A @ B)"
   ]
  },
  {
   "cell_type": "markdown",
   "metadata": {
    "id": "oWTnKQ-H4Gmk"
   },
   "source": [
    "### vdot()\n",
    "\n",
    "Para la multipliación exclusiva de vectores (1D), producto punto:\n",
    "\n",
    "$$u = [u_1, \\dots, u_n]$$\n",
    "$$v = [v_1, \\dots, v_n]$$\n",
    "$$\n",
    "\tnp.vdot(u, v) = u_1 v_1 + u_2 v_2 + \\dots + u_n v_n\n",
    "$$"
   ]
  },
  {
   "cell_type": "code",
   "execution_count": null,
   "metadata": {
    "id": "kWB0aAW_4Gu8"
   },
   "outputs": [],
   "source": [
    "a = np.array([2, 3])\n",
    "b = np.array([3, 4])\n",
    "print(\"a:\\n\", a)\n",
    "print(\"b:\\n\", b)\n",
    "\n",
    "print(\"vdot(a, b): \", np.vdot(a ,b))"
   ]
  },
  {
   "cell_type": "markdown",
   "metadata": {
    "id": "CAgJzAEK4HjM"
   },
   "source": [
    "### inner()\n",
    "\n",
    "Producto punto de vectores (1D):\n",
    "\n",
    "$$u = [u_1, \\dots, u_n]$$\n",
    "$$v = [v_1, \\dots, v_n]$$\n",
    "$$\n",
    "\tnp.inner(u, v) = u_1 v_1 + u_2 v_2 + \\dots + u_n v_n\n",
    "$$"
   ]
  },
  {
   "cell_type": "code",
   "execution_count": null,
   "metadata": {
    "id": "pxccRUxC4HrH"
   },
   "outputs": [],
   "source": [
    "a = np.array([1,2,3])\n",
    "b = np.array([0,1,0])\n",
    "print(\"a:\\n\", a)\n",
    "print(\"b:\\n\", b)\n",
    "\n",
    "print(\"inner(a, b): \", np.inner(a ,b))"
   ]
  },
  {
   "cell_type": "markdown",
   "metadata": {
    "id": "p2M7i3gM4Hz9"
   },
   "source": [
    "### outer()\n",
    "\n",
    "El producto tensorial de dos vectores (1D), genera una matriz:\n",
    "$$u = [u_1, \\dots, u_n]$$\n",
    "$$v = [v_1, \\dots, v_m]$$\n",
    "$$\n",
    "\tnp.outer(u, v) = \\begin{bmatrix}\n",
    "\tu_{1} v_{1} & u_{1} v_{2} & \\dots & u_{1} v_{m}  \\\\\n",
    "\tu_{2} v_{1} & u_{2} v_{2} & \\dots & u_{2} v_{m}  \\\\\n",
    "  \\vdots & \\vdots  & \\dots & \\vdots \\\\\n",
    "\tu_{n} v_{1} & u_{n} v_{2} & \\dots & u_{n} v_{m}  \\\\\n",
    "\t\\end{bmatrix}\n",
    "\t$$"
   ]
  },
  {
   "cell_type": "code",
   "execution_count": null,
   "metadata": {
    "id": "LTBtCnsR4H88"
   },
   "outputs": [],
   "source": [
    "#el producto tensorial de dos vectores produce una matriz\n",
    "a = np.array([1,2,3])\n",
    "b = np.array([1,1,1])\n",
    "print(\"a:\\n\", a)\n",
    "print(\"b:\\n\", b)\n",
    "\n",
    "print(\"outer(a, b): \", np.outer(a ,b))"
   ]
  },
  {
   "cell_type": "markdown",
   "metadata": {
    "id": "b68p17LM4QWf"
   },
   "source": [
    "### trace()\n",
    "\n",
    "Calcula la traza de un arreglo (2D):\n",
    "\n",
    "$$\n",
    "\ttrace(A) = np.sum(A[i,i])\n",
    "$$"
   ]
  },
  {
   "cell_type": "code",
   "execution_count": null,
   "metadata": {
    "id": "tZcvCl8P4Qb5"
   },
   "outputs": [],
   "source": [
    "#para calcular la traza de un arreglo 2d (matriz)\n",
    "#La traza es la suma de los elementos en la diagonal\n",
    "A = np.array([[1, 2, 3], [4, 5, 6], [7, 8, 9]])\n",
    "print(\"A:\\n\", A)\n",
    "\n",
    "print(\"trace(A):\", np.trace(A))"
   ]
  },
  {
   "cell_type": "markdown",
   "metadata": {
    "id": "AkOV6CmixR5I"
   },
   "source": [
    "## Métodos de arreglos\n",
    "\n",
    "Además de las funciones que se encuentran disponibles en los módulos de Numpy, los [ndarrays tienen disponibles métodos](https://numpy.org/doc/stable/reference/generated/numpy.ndarray.html#numpy.ndarray) para calcular diferentes estadísticas (funciones de agregación), entre éstas se encuentran:\n",
    "\n",
    "* [```sum(axis=None)```](https://numpy.org/doc/stable/reference/generated/numpy.ndarray.sum.html#numpy.ndarray.sum) retorna la suma de todos los elementos del arreglo o la suma por axis si es especificado.\n",
    "  \n",
    "* [```min(axis=None)```](https://numpy.org/doc/stable/reference/generated/numpy.ndarray.min.html#numpy.ndarray.min) retorna el elemento mínimo del arreglo o de cada axis si especificado.\n",
    "  \n",
    "* [```max(axis=None)```](https://numpy.org/doc/stable/reference/generated/numpy.ndarray.max.html#numpy.ndarray.max) retorna el elemento máximo del arreglo o de cada axis si especificado"
   ]
  },
  {
   "cell_type": "markdown",
   "metadata": {
    "id": "hoXB82SlywFy"
   },
   "source": [
    "* [```mean(axis=None)```](https://numpy.org/doc/stable/reference/generated/numpy.ndarray.mean.html#numpy.ndarray.mean) retorna la media del arreglo, puede recibir el axis.\n",
    "\n",
    "* [```std(axis=None)```](https://numpy.org/doc/stable/reference/generated/numpy.ndarray.std.html#numpy.ndarray.std) retorna la desviación estándar del arreglo, puede recibir el axis.\n",
    "\n",
    "* [```var(axis=None)```](https://numpy.org/doc/stable/reference/generated/numpy.ndarray.var.html#numpy.ndarray.var) retorna la varianza del arreglo, puede recibir el axis."
   ]
  },
  {
   "cell_type": "markdown",
   "metadata": {
    "id": "FwWEgInaywFy"
   },
   "source": [
    "### sum(), min() y max()"
   ]
  },
  {
   "cell_type": "code",
   "execution_count": null,
   "metadata": {
    "id": "LXcWhwjl6GE3"
   },
   "outputs": [],
   "source": [
    "#metodos para arreglos 1D\n",
    "a = np.arange(10)\n",
    "print(\"a:\", a)\n",
    "\n",
    "print(\"sum(a):\", a.sum())\n",
    "print(\"min(a):\", a.min())\n",
    "print(\"max(a):\", a.max())"
   ]
  },
  {
   "cell_type": "code",
   "execution_count": null,
   "metadata": {
    "id": "swpS4PBi6cmA"
   },
   "outputs": [],
   "source": [
    "#metodos para arreglos 2d especificando axis\n",
    "a = np.arange(10).reshape(2, 5)\n",
    "print(\"a:\", a)\n",
    "\n",
    "\n",
    "print(\"axis = 0\")\n",
    "print(\"a.sum(axis = 0):\", a.sum(axis = 0))\n",
    "print(\"a.min(axis = 0):\", a.min(axis = 0))\n",
    "print(\"a.max(axis = 0):\", a.max(axis = 0))\n",
    "\n",
    "print(\"axis = 1\")\n",
    "print(\"a.sum(axis = 1):\", a.sum(axis = 1))\n",
    "print(\"a.min(axis = 1):\", a.min(axis = 1))\n",
    "print(\"a.max(axis = 1):\", a.max(axis = 1))"
   ]
  },
  {
   "cell_type": "markdown",
   "metadata": {
    "id": "LJoPEaQLywFz"
   },
   "source": [
    "### mean(), std() y var()"
   ]
  },
  {
   "cell_type": "code",
   "execution_count": null,
   "metadata": {
    "id": "7w5rYDS27ZBx"
   },
   "outputs": [],
   "source": [
    "a = np.random.normal(0, 1, 100)\n",
    "#1d\n",
    "print(a.shape)\n",
    "\n",
    "print(\"a.mean():\", a.mean())\n",
    "print(\"a.std():\", a.std())\n",
    "print(\"a.var():\", a.var())\n",
    "\n",
    "print()\n",
    "\n",
    "B = np.vstack((np.random.normal(0, 1, 50), np.random.normal(10, 5, 50)))\n",
    "#2d\n",
    "print(B.shape)\n",
    "\n",
    "print(\"axis = 1\")\n",
    "print(\"B.mean(axis = 1):\", B.mean(axis = 1))\n",
    "print(\"B.std():\", B.std(axis = 1))\n",
    "print(\"B.var():\", B.var(axis = 1))"
   ]
  },
  {
   "cell_type": "markdown",
   "metadata": {
    "id": "u9gvgGPCewB9"
   },
   "source": [
    "## Otras funciones matemáticas\n",
    "\n",
    "Otras [funciones importantes que están disponibles en Numpy](https://numpy.org/doc/stable/reference/routines.math.html):\n",
    "\n",
    "* [```exp(x)```](https://numpy.org/doc/stable/reference/generated/numpy.exp.html#numpy.exp) calcula la función $e^x$ para todos los elementos del arreglo.\n",
    "\n",
    "* [```log(x)```](https://numpy.org/doc/stable/reference/generated/numpy.log.html#numpy.log) calcula el logaritmo natural de todos los elementos del arreglo.\n",
    " \n",
    "* [```sqrt(x)```](https://numpy.org/doc/stable/reference/generated/numpy.sqrt.html#numpy.sqrt) calcula la raíz cuadrada de los elementos del arreglo."
   ]
  },
  {
   "cell_type": "code",
   "execution_count": null,
   "metadata": {
    "id": "Ui9ZKShWewJm"
   },
   "outputs": [],
   "source": [
    "a = np.arange(1, 10)\n",
    "print(\"a:\", a)\n",
    "\n",
    "print(\"exp(a):\", np.exp(a))\n",
    "print(\"log(a):\", np.log(a))\n",
    "print(\"sqrt(a):\", np.sqrt(a))"
   ]
  },
  {
   "cell_type": "markdown",
   "metadata": {
    "id": "JkVvKj-WuzwL"
   },
   "source": [
    "## Ordenamiento\n",
    "\n",
    "La función [```sort(a)```](https://numpy.org/doc/stable/reference/generated/numpy.sort.html#numpy.sort) de Numpy puede ser utilizada para ordenar los elementos de un arreglo."
   ]
  },
  {
   "cell_type": "code",
   "execution_count": null,
   "metadata": {
    "id": "yzSrG3cbvfIY"
   },
   "outputs": [],
   "source": [
    "a = np.random.permutation(np.arange(10))\n",
    "print(\"a:\", a)\n",
    "\n",
    "#ordernar el arreglo con sort\n",
    "print(\"sort(a):\", np.sort(a))"
   ]
  },
  {
   "cell_type": "markdown",
   "metadata": {
    "id": "awaMQBEA13ow"
   },
   "source": [
    "## Búsqueda\n",
    "\n",
    "Algunas funciones útiles para encontrar elementos en arreglos de Numpy:\n",
    "\n",
    "* [```argmax(a, axis=None)```](https://numpy.org/doc/stable/reference/generated/numpy.argmax.html#numpy.argmax) regresa el o los índices del elemento con el valor máximo.\n",
    "  \n",
    "* [```argmin(a, axis=None)```](https://numpy.org/doc/stable/reference/generated/numpy.argmin.html#numpy.argmin) regresa el o los índices del elemento con el valor mínimo.\n",
    "\n",
    "* [```where(condition, x, y)```](https://numpy.org/doc/stable/reference/generated/numpy.where.html#numpy.where) regresa los elementos de $x$ o $y$ dependiendo de la condición.\n",
    "\n"
   ]
  },
  {
   "cell_type": "code",
   "execution_count": null,
   "metadata": {
    "id": "UzuY_VXG13zz"
   },
   "outputs": [],
   "source": [
    "a = np.arange(10)\n",
    "print(a)\n",
    "\n",
    "#argmax\n",
    "print(\"Indice del elemento maximo:\", np.argmax(a))"
   ]
  },
  {
   "cell_type": "code",
   "execution_count": null,
   "metadata": {
    "id": "peIhMTlp3xkn"
   },
   "outputs": [],
   "source": [
    "a = np.arange(10)\n",
    "print(a)\n",
    "\n",
    "#argmin\n",
    "print(\"Indice del elemento minimo:\", np.argmin(a))"
   ]
  },
  {
   "cell_type": "code",
   "execution_count": null,
   "metadata": {
    "id": "zEb_BdcT6mok"
   },
   "outputs": [],
   "source": [
    "#where para seleccionar los elementos de un arreglo basado en una condicion\n",
    "x = np.arange(10)\n",
    "print(\"x:\", x)\n",
    "\n",
    "#where\n",
    "print(\"x>3:\")\n",
    "print(np.where(x > 3))"
   ]
  },
  {
   "cell_type": "code",
   "execution_count": null,
   "metadata": {
    "id": "YhqgYg9U33mQ"
   },
   "outputs": [],
   "source": [
    "#where para seleccionar los elementos de un arreglo o el otro de acuerdo a una condicion\n",
    "x = np.arange(10)\n",
    "print(\"x:\", x)\n",
    "y = np.zeros_like(x)\n",
    "print(\"y:\", y)\n",
    "\n",
    "#where\n",
    "print(\"x<5:\")\n",
    "print(np.where(x < 5, x, y))"
   ]
  },
  {
   "cell_type": "markdown",
   "metadata": {
    "id": "dJmfiY1Z967J"
   },
   "source": [
    "# Broadcasting\n",
    "\n",
    "Numpy permite realizar operaciones aritméticas en arreglos de diferentes tamaños mediante broadcasting. El arreglo de menor tamaño es \"transmitido\" (broadcasted) para que ambos tengan el mismo tamaño y la operación sea válida. \n",
    "Broadcasting permite que este tipo de operaciones entre arreglos sean vectorizadas, lo cual optimiza la ejecución y uso de memoria.\n",
    "\n",
    "El ejemplo más básico de broadcasting es las operaciones escalar con arreglo, por ejemplo:\n",
    "\n",
    "\n",
    "```\n",
    "a = np.array([1.0, 2.0, 3.0])\n",
    "b = 2.0\n",
    "a * b\n",
    "array([ 2.,  4.,  6.])\n",
    "```\n",
    "\n",
    "Es equivalente, pero más eficiente que utilizar:\n",
    "\n",
    "```\n",
    "a = np.array([1.0, 2.0, 3.0])\n",
    "b = np.array([2.0, 2.0, 2.0])\n",
    "a * b\n",
    "array([ 2.,  4.,  6.])\n",
    "```\n",
    "\n"
   ]
  },
  {
   "cell_type": "code",
   "execution_count": null,
   "metadata": {
    "id": "4pGH2pnxLecg"
   },
   "outputs": [],
   "source": [
    "#sumar un escalar a un arreglo usando broadcasting (evita ciclos de python y optimiza el uso de memoria)\n",
    "a = np.array([1.0, 2.0, 3.0])\n",
    "b = 4.0\n",
    "\n",
    "#equivalente a [1.0, 2.0, 3.0] + [4.0, 4.0, 4.0]\n",
    "print(a+b)"
   ]
  },
  {
   "cell_type": "markdown",
   "metadata": {
    "id": "INwtsv1gjeo5"
   },
   "source": [
    "Podemos pensar que el escalar $b$ está siendo estirado a un arreglo con las mismas dimensiones que $a$ durante la operación aritmética. Los elementos del \"nuevo\" $b$ son simples copias del escalar original. Esta analogía es solo conceptual, ya que NumPy usa el valor original sin realizar copias físicas de éste. Esto permite que las operaciones sean eficientes en el uso de memoria y computacionalmente."
   ]
  },
  {
   "cell_type": "markdown",
   "metadata": {
    "id": "ZNZavKyXljMV"
   },
   "source": [
    "Más ejemplos:"
   ]
  },
  {
   "cell_type": "code",
   "execution_count": null,
   "metadata": {
    "id": "pzA5XzNh0zE1"
   },
   "outputs": [],
   "source": [
    "#broadcasting un arreglo (vector fila) a una matriz\n",
    "A = np.arange(9).reshape(3, 3)\n",
    "b = np.array([1, 2, 3])\n",
    "print(\"A\", A)\n",
    "print(\"b\", b)\n",
    "\n",
    "print(b*A)"
   ]
  },
  {
   "cell_type": "code",
   "execution_count": null,
   "metadata": {
    "id": "E-Mu41Dk2Ng1"
   },
   "outputs": [],
   "source": [
    "#broadcasting un arreglo (vector columna) a una matriz\n",
    "A = np.arange(9).reshape(3, 3)\n",
    "b = np.array([1, 2, 3]).reshape(3, 1)\n",
    "print(\"A\", A)\n",
    "print(\"b\", b)\n",
    "\n",
    "print(b*A)"
   ]
  },
  {
   "cell_type": "markdown",
   "metadata": {
    "id": "IhqlnNQnjeoa"
   },
   "source": [
    "# Más sobre vectorización\n",
    "\n",
    "La vectorización, es el proceso de convertir un algoritmo que opera en un solo valor a la vez, a un algoritmo que opera en un conjunto de valores a la vez. Los CPUs modernos proveen instrucciones para llevar a cabo operaciones vectorizadas que permiten aplicar una misma instrucción a múltiples datos ([SIMD: Single instruction, multiple data](https://es.wikipedia.org/wiki/SIMD)).\n",
    "\n",
    "\n",
    "En general utilizar vectorización permite:\n",
    "\n",
    "- Aprovechar las arquitecturas múlti-núcleo de los CPUs/GPUs.\n",
    "- Aprovechar la arquitectura optimizada para la vectorización del hardware (SIMD).\n",
    "- Obtener código más conciso.\n"
   ]
  },
  {
   "cell_type": "code",
   "execution_count": null,
   "metadata": {
    "id": "jqJE1rXRjeoe"
   },
   "outputs": [],
   "source": [
    "import time"
   ]
  },
  {
   "cell_type": "markdown",
   "metadata": {
    "id": "dgO6tXhJG2fW"
   },
   "source": [
    "## Primer ejemplo, sumando un escalar a un arreglo grande"
   ]
  },
  {
   "cell_type": "code",
   "execution_count": null,
   "metadata": {
    "id": "j4kBm3gzG2mv"
   },
   "outputs": [],
   "source": [
    "print(\"Sumando un escalar a todos los elementos de un arreglo\")\n",
    "\n",
    "a = np.random.rand(1000)\n",
    "b = 4.0\n",
    "\n",
    "tic = time.time()\n",
    "a = a + b\n",
    "toc = time.time()\n",
    "\n",
    "print(\"\\nResultado:\")\n",
    "print(a[:10], \",...\")\n",
    "print(\"Tiempo solucion vectorizada: \" + str(1000*(toc-tic)) + \"ms\")\n",
    "\n",
    "tic = time.time()\n",
    "for i in range(1000):\n",
    "  a[i] += b\n",
    "toc = time.time()\n",
    "\n",
    "print(\"\\nResultado:\")\n",
    "print(a[:10], \",...\")\n",
    "print(\"Tiempo en ciclo for: \" + str(1000*(toc-tic))+\"ms\")"
   ]
  },
  {
   "cell_type": "markdown",
   "metadata": {
    "id": "IO2zm74vjeon"
   },
   "source": [
    "### Un ejemplo, multiplicando dos vectores con una gran cantidad de datos."
   ]
  },
  {
   "cell_type": "code",
   "execution_count": null,
   "metadata": {
    "id": "FCaPyl73jeoo"
   },
   "outputs": [],
   "source": [
    "print(\"Producto punto de dos vectores\")\n",
    "\n",
    "a = np.random.rand(1000)\n",
    "b = np.random.rand(1000)\n",
    "\n",
    "print(\"a.shape:\")\n",
    "print(a.shape)\n",
    "print(\"b.shape\")\n",
    "print(b.shape)\n",
    "\n",
    "\n",
    "tic = time.time()\n",
    "c = np.dot(a,b)\n",
    "toc = time.time()\n",
    "\n",
    "print(\"\\nResultado:\")\n",
    "print(c)\n",
    "print(\"Tiempo solucion vectorizada: \" + str(1000*(toc-tic)) + \"ms\")\n",
    "\n",
    "tic = time.time()\n",
    "c = 0\n",
    "for i in range(1000):\n",
    "    c += a[i]*b[i]\n",
    "toc = time.time()\n",
    "\n",
    "print(\"\\nResultado:\")\n",
    "print(c)\n",
    "print(\"Tiempo en ciclo for: \" + str(1000*(toc-tic))+\"ms\")"
   ]
  },
  {
   "cell_type": "markdown",
   "metadata": {
    "id": "A8fF60Lujeos"
   },
   "source": [
    "## Comparemos código tradicional con ciclos `for` vs vectorización con `np.dot` para la multiplicación de matrices"
   ]
  },
  {
   "cell_type": "code",
   "execution_count": null,
   "metadata": {
    "id": "R2zPS17IywF5"
   },
   "outputs": [],
   "source": [
    "A = np.random.rand(100000, 10)\n",
    "B = np.random.rand(10, 1)\n",
    "\n",
    "print(\"Dimensiones de las matrices A, B\")\n",
    "print(\"A.shape:\")\n",
    "print(A.shape)\n",
    "print(\"B.shape\")\n",
    "print(B.shape)"
   ]
  },
  {
   "cell_type": "code",
   "execution_count": null,
   "metadata": {
    "id": "iCaqP9Fjjeou"
   },
   "outputs": [],
   "source": [
    "#Solucion no vectorizada\n",
    "tic = time.time()\n",
    "C = [[0 for j in range(B.shape[1])] for i in range(A.shape[0])]\n",
    "for i in range(A.shape[0]):#numero de filas en A\n",
    "    for j in range(B.shape[1]):#numero de columnas en B\n",
    "        for k in range(B.shape[0]):#numero de filas en B == numero de columnas en A\n",
    "            #fila i en A por columna j en B (vectores)\n",
    "            C[i][j] += A[i][k] * B[k][j]\n",
    "toc = time.time()\n",
    "\n",
    "print(\"\\nResultado:\")\n",
    "for el in C[:3]:\n",
    "    print(el)\n",
    "print(\"...\")\n",
    "for el in C[-3:]:\n",
    "    print(el)\n",
    "\n",
    "print(\"Tiempo en ciclo for: \" + str(1000*(toc-tic))+\"ms\")"
   ]
  },
  {
   "cell_type": "code",
   "execution_count": null,
   "metadata": {
    "id": "ZC_OhGvXywF5"
   },
   "outputs": [],
   "source": [
    "#vectorizado usando numpy\n",
    "tic = time.time()\n",
    "C = np.dot(A, B)\n",
    "toc = time.time()\n",
    "\n",
    "print(\"\\nResultado:\")\n",
    "print(C)\n",
    "print(\"Tiempo solucion vectorizada: \" + str(1000*(toc-tic)) + \"ms\")"
   ]
  }
 ],
 "metadata": {
  "colab": {
   "collapsed_sections": [],
   "include_colab_link": true,
   "name": "Numpy.ipynb",
   "provenance": [],
   "toc_visible": true
  },
  "kernelspec": {
   "display_name": "Python 3",
   "language": "python",
   "name": "python3"
  },
  "language_info": {
   "codemirror_mode": {
    "name": "ipython",
    "version": 3
   },
   "file_extension": ".py",
   "mimetype": "text/x-python",
   "name": "python",
   "nbconvert_exporter": "python",
   "pygments_lexer": "ipython3",
   "version": "3.8.5"
  }
 },
 "nbformat": 4,
 "nbformat_minor": 4
}
