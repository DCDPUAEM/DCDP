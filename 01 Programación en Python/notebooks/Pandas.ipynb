{
 "cells": [
  {
   "cell_type": "markdown",
   "metadata": {
    "colab_type": "text",
    "id": "view-in-github"
   },
   "source": [
    "<a href=\"https://colab.research.google.com/github/DCDPUAEM/DCDP/blob/main/01%20Programaci%C3%B3n%20en%20Python/notebooks/Pandas.ipynb\" target=\"_parent\"><img src=\"https://colab.research.google.com/assets/colab-badge.svg\" alt=\"Open In Colab\"/></a>"
   ]
  },
  {
   "cell_type": "markdown",
   "metadata": {
    "id": "CcO06esNJc49"
   },
   "source": [
    "# Pandas\n",
    "\n",
    "Pandas es un paquete de Python que provee dos estructuras de datos para el análisis de datos \"relacionales\" de manera rápida, flexible y expresiva. Pandas está construido sobre Numpy, por lo que muchas de las ventajas de utilizar Numpy se trasladan a Pandas.\n",
    "\n",
    "Pandas puede ser utilizado para trabajar con diferentes tipos de datos:\n",
    "\n",
    "* Tabulares, con datos en columnas que comparten un mismo tipo (por ejemplo, tablas de una base de datos y hojas de Excel).\n",
    "* Series de tiempo.\n",
    "* Matrices con columnas y filas etiquetadas.\n",
    "* Datos de experimentos estadísticos en general.\n"
   ]
  },
  {
   "cell_type": "code",
   "execution_count": 1,
   "metadata": {
    "id": "3PmEICGYLh4Q"
   },
   "outputs": [],
   "source": [
    "#pd es el alias comun de pandas\n",
    "import pandas as pd\n",
    "import numpy as np"
   ]
  },
  {
   "cell_type": "markdown",
   "metadata": {
    "id": "OTXIJU1jJoJx"
   },
   "source": [
    "# Estructuras"
   ]
  },
  {
   "cell_type": "markdown",
   "metadata": {
    "id": "95kIZu4KJf14"
   },
   "source": [
    "## Series\n",
    "\n",
    "La primera estructura de datos de Pandas son las [Series](https://pandas.pydata.org/pandas-docs/stable/reference/series.html#series). Una Serie es utilizada para arreglos 1D etiquetados con un mismo tipo de dato en todos sus elementos. Una serie es un arreglo 1D donde cada elemento tiene asignado un índice:\n",
    "\n",
    "\n",
    "| index   || |\n",
    "|---||----|\n",
    "| a || s1 |\n",
    "| b || s2 |\n",
    "| c || s3 |\n",
    "| ... || ... |"
   ]
  },
  {
   "cell_type": "code",
   "execution_count": null,
   "metadata": {
    "id": "_lshPHLAJf_f"
   },
   "outputs": [],
   "source": [
    "#un objeto series desde una lista\n",
    "s1 = pd.Series(data=[1, 1, 2, 3, 5], index=[\"a\", \"b\", \"c\", \"d\", \"e\"])\n",
    "s1"
   ]
  },
  {
   "cell_type": "markdown",
   "metadata": {
    "id": "EIblWSe0JgIb"
   },
   "source": [
    "## Dataframe\n",
    "\n",
    "Los [Dataframes](https://pandas.pydata.org/pandas-docs/stable/reference/frame.html#dataframe) son la segunda estructura en Pandas, éstos son utilizados para datos 2D etiquetados (columnas con nombres generalmente). Las columnas de un Dataframe pueden tener tipos de dato diferentes. Puedes pensar en un Dataframe  como un contenedor de Series, donde cada columna es una Serie (arreglo 1D con etiquetas). Un Dataframe puede representarse como una tabla donde cada fila tiene asignado un índice y cada columna un nombre:\n",
    "\n",
    "| index\\columns  || A  | B  | C  | D  |\n",
    "|---||----|----|----|----|\n",
    "| 1 || a1 | b1 | c1 | d1 |\n",
    "| 2 || a2 | b2 | c2 | d2 |\n",
    "| 3 || a3 | b3 | c3 | d3 |"
   ]
  },
  {
   "cell_type": "code",
   "execution_count": null,
   "metadata": {
    "id": "6BdTW6AVJgPx"
   },
   "outputs": [],
   "source": [
    "#un dataframe aleatorio con numpy random\n",
    "df = pd.DataFrame(np.random.randn(6, 4), columns=[\"A\", \"B\", \"C\", \"D\"])\n",
    "df"
   ]
  },
  {
   "cell_type": "markdown",
   "metadata": {
    "id": "YACVLPqmEIgV"
   },
   "source": [
    "### Axes\n",
    "\n",
    "Recuerda que los axes de un Dataframe (una tabla 2D), son los siguientes:\n",
    "\n",
    "![Numpy/Pandas axes](https://raw.githubusercontent.com/jhermosillo/DIPLOMADO_CDP/main/01%20Programaci%C3%B3n%20en%20Python/images/axes.png)"
   ]
  },
  {
   "cell_type": "markdown",
   "metadata": {
    "id": "amSx3Uy5Jgs_"
   },
   "source": [
    "# Creación y almacenamiento"
   ]
  },
  {
   "cell_type": "markdown",
   "metadata": {
    "id": "Efe8EN4EUNr6",
    "tags": []
   },
   "source": [
    "## Creación desde diccionarios de listas"
   ]
  },
  {
   "cell_type": "code",
   "execution_count": null,
   "metadata": {
    "id": "W3sLNcoIKZ5t"
   },
   "outputs": [],
   "source": [
    "#Un diccionario de python\n",
    "dict1 = {'pais': ['Mexico',\n",
    "'EUA', \"Francia\"], 'continente': [\"America\", \"America\", \"Europa\"], 'poblacion': [129, 325, 67]}\n",
    "\n",
    "paises = pd.DataFrame(dict1)\n",
    "paises"
   ]
  },
  {
   "cell_type": "markdown",
   "metadata": {
    "id": "t0IUUYdWKaQ7"
   },
   "source": [
    "## Creación desde diccionario anidado"
   ]
  },
  {
   "cell_type": "code",
   "execution_count": null,
   "metadata": {
    "id": "oPN4K2gSMH8U"
   },
   "outputs": [],
   "source": [
    "#Un diccionario anidado de python\n",
    "#las claves anidadas especifican el indice de las filas\n",
    "dict2 = {'pais': {\"p1\": 'Mexico',\n",
    "\"p2\": 'EUA', \"p3\": \"Francia\"}, 'continente': {\"p1\": \"America\", \"p2\": \"America\", \"p3\": \"Europa\"}, 'poblacion': {\"p1\": 129, \"p2\": 325, \"p3\": 67}}\n",
    "\n",
    "paises = pd.DataFrame(dict2)\n",
    "paises"
   ]
  },
  {
   "cell_type": "markdown",
   "metadata": {
    "id": "vEl2HU6hUKBk"
   },
   "source": [
    "## Creación desde archivos csv"
   ]
  },
  {
   "cell_type": "code",
   "execution_count": null,
   "metadata": {
    "id": "zYIeBGnrNupt"
   },
   "outputs": [],
   "source": [
    "!ls sample_data/"
   ]
  },
  {
   "cell_type": "code",
   "execution_count": 3,
   "metadata": {
    "id": "SW7PjbOONhIn"
   },
   "outputs": [
    {
     "data": {
      "text/html": [
       "<div>\n",
       "<style scoped>\n",
       "    .dataframe tbody tr th:only-of-type {\n",
       "        vertical-align: middle;\n",
       "    }\n",
       "\n",
       "    .dataframe tbody tr th {\n",
       "        vertical-align: top;\n",
       "    }\n",
       "\n",
       "    .dataframe thead th {\n",
       "        text-align: right;\n",
       "    }\n",
       "</style>\n",
       "<table border=\"1\" class=\"dataframe\">\n",
       "  <thead>\n",
       "    <tr style=\"text-align: right;\">\n",
       "      <th></th>\n",
       "      <th>longitude</th>\n",
       "      <th>latitude</th>\n",
       "      <th>housing_median_age</th>\n",
       "      <th>total_rooms</th>\n",
       "      <th>total_bedrooms</th>\n",
       "      <th>population</th>\n",
       "      <th>households</th>\n",
       "      <th>median_income</th>\n",
       "      <th>median_house_value</th>\n",
       "    </tr>\n",
       "  </thead>\n",
       "  <tbody>\n",
       "    <tr>\n",
       "      <td>0</td>\n",
       "      <td>-122.05</td>\n",
       "      <td>37.37</td>\n",
       "      <td>27.0</td>\n",
       "      <td>3885.0</td>\n",
       "      <td>661.0</td>\n",
       "      <td>1537.0</td>\n",
       "      <td>606.0</td>\n",
       "      <td>6.6085</td>\n",
       "      <td>344700.0</td>\n",
       "    </tr>\n",
       "    <tr>\n",
       "      <td>1</td>\n",
       "      <td>-118.30</td>\n",
       "      <td>34.26</td>\n",
       "      <td>43.0</td>\n",
       "      <td>1510.0</td>\n",
       "      <td>310.0</td>\n",
       "      <td>809.0</td>\n",
       "      <td>277.0</td>\n",
       "      <td>3.5990</td>\n",
       "      <td>176500.0</td>\n",
       "    </tr>\n",
       "    <tr>\n",
       "      <td>2</td>\n",
       "      <td>-117.81</td>\n",
       "      <td>33.78</td>\n",
       "      <td>27.0</td>\n",
       "      <td>3589.0</td>\n",
       "      <td>507.0</td>\n",
       "      <td>1484.0</td>\n",
       "      <td>495.0</td>\n",
       "      <td>5.7934</td>\n",
       "      <td>270500.0</td>\n",
       "    </tr>\n",
       "    <tr>\n",
       "      <td>3</td>\n",
       "      <td>-118.36</td>\n",
       "      <td>33.82</td>\n",
       "      <td>28.0</td>\n",
       "      <td>67.0</td>\n",
       "      <td>15.0</td>\n",
       "      <td>49.0</td>\n",
       "      <td>11.0</td>\n",
       "      <td>6.1359</td>\n",
       "      <td>330000.0</td>\n",
       "    </tr>\n",
       "    <tr>\n",
       "      <td>4</td>\n",
       "      <td>-119.67</td>\n",
       "      <td>36.33</td>\n",
       "      <td>19.0</td>\n",
       "      <td>1241.0</td>\n",
       "      <td>244.0</td>\n",
       "      <td>850.0</td>\n",
       "      <td>237.0</td>\n",
       "      <td>2.9375</td>\n",
       "      <td>81700.0</td>\n",
       "    </tr>\n",
       "    <tr>\n",
       "      <td>5</td>\n",
       "      <td>-119.56</td>\n",
       "      <td>36.51</td>\n",
       "      <td>37.0</td>\n",
       "      <td>1018.0</td>\n",
       "      <td>213.0</td>\n",
       "      <td>663.0</td>\n",
       "      <td>204.0</td>\n",
       "      <td>1.6635</td>\n",
       "      <td>67000.0</td>\n",
       "    </tr>\n",
       "    <tr>\n",
       "      <td>6</td>\n",
       "      <td>-121.43</td>\n",
       "      <td>38.63</td>\n",
       "      <td>43.0</td>\n",
       "      <td>1009.0</td>\n",
       "      <td>225.0</td>\n",
       "      <td>604.0</td>\n",
       "      <td>218.0</td>\n",
       "      <td>1.6641</td>\n",
       "      <td>67000.0</td>\n",
       "    </tr>\n",
       "    <tr>\n",
       "      <td>7</td>\n",
       "      <td>-120.65</td>\n",
       "      <td>35.48</td>\n",
       "      <td>19.0</td>\n",
       "      <td>2310.0</td>\n",
       "      <td>471.0</td>\n",
       "      <td>1341.0</td>\n",
       "      <td>441.0</td>\n",
       "      <td>3.2250</td>\n",
       "      <td>166900.0</td>\n",
       "    </tr>\n",
       "    <tr>\n",
       "      <td>8</td>\n",
       "      <td>-122.84</td>\n",
       "      <td>38.40</td>\n",
       "      <td>15.0</td>\n",
       "      <td>3080.0</td>\n",
       "      <td>617.0</td>\n",
       "      <td>1446.0</td>\n",
       "      <td>599.0</td>\n",
       "      <td>3.6696</td>\n",
       "      <td>194400.0</td>\n",
       "    </tr>\n",
       "    <tr>\n",
       "      <td>9</td>\n",
       "      <td>-118.02</td>\n",
       "      <td>34.08</td>\n",
       "      <td>31.0</td>\n",
       "      <td>2402.0</td>\n",
       "      <td>632.0</td>\n",
       "      <td>2830.0</td>\n",
       "      <td>603.0</td>\n",
       "      <td>2.3333</td>\n",
       "      <td>164200.0</td>\n",
       "    </tr>\n",
       "  </tbody>\n",
       "</table>\n",
       "</div>"
      ],
      "text/plain": [
       "   longitude  latitude  housing_median_age  total_rooms  total_bedrooms  \\\n",
       "0    -122.05     37.37                27.0       3885.0           661.0   \n",
       "1    -118.30     34.26                43.0       1510.0           310.0   \n",
       "2    -117.81     33.78                27.0       3589.0           507.0   \n",
       "3    -118.36     33.82                28.0         67.0            15.0   \n",
       "4    -119.67     36.33                19.0       1241.0           244.0   \n",
       "5    -119.56     36.51                37.0       1018.0           213.0   \n",
       "6    -121.43     38.63                43.0       1009.0           225.0   \n",
       "7    -120.65     35.48                19.0       2310.0           471.0   \n",
       "8    -122.84     38.40                15.0       3080.0           617.0   \n",
       "9    -118.02     34.08                31.0       2402.0           632.0   \n",
       "\n",
       "   population  households  median_income  median_house_value  \n",
       "0      1537.0       606.0         6.6085            344700.0  \n",
       "1       809.0       277.0         3.5990            176500.0  \n",
       "2      1484.0       495.0         5.7934            270500.0  \n",
       "3        49.0        11.0         6.1359            330000.0  \n",
       "4       850.0       237.0         2.9375             81700.0  \n",
       "5       663.0       204.0         1.6635             67000.0  \n",
       "6       604.0       218.0         1.6641             67000.0  \n",
       "7      1341.0       441.0         3.2250            166900.0  \n",
       "8      1446.0       599.0         3.6696            194400.0  \n",
       "9      2830.0       603.0         2.3333            164200.0  "
      ]
     },
     "execution_count": 3,
     "metadata": {},
     "output_type": "execute_result"
    }
   ],
   "source": [
    "#leamos un archivo csv almacenado por colab\n",
    "cali_housing = pd.read_csv(\"./sample_data/california_housing_test.csv\", nrows=10)\n",
    "cali_housing"
   ]
  },
  {
   "cell_type": "markdown",
   "metadata": {
    "id": "2elveR7cNUJW"
   },
   "source": [
    "## Creación desde archivos excel"
   ]
  },
  {
   "cell_type": "code",
   "execution_count": null,
   "metadata": {},
   "outputs": [],
   "source": [
    "# Cargar un archivo de excel a colab desde github\n",
    "!wget -O california_housing_test.xlsx \"https://github.com/DCDPUAEM/DCDP/raw/main/01%20Programaci%C3%B3n%20en%20Python/data/california_housing_test.xlsx\""
   ]
  },
  {
   "cell_type": "code",
   "execution_count": null,
   "metadata": {},
   "outputs": [],
   "source": [
    "# En caso de ser necesario\n",
    "#!pip install openpyxl --upgrade --pre"
   ]
  },
  {
   "cell_type": "code",
   "execution_count": null,
   "metadata": {
    "id": "-13jjqLENhe1"
   },
   "outputs": [],
   "source": [
    "#cargar el archivo en formato xls a un pandas dataframe\n",
    "cali_housing = pd.read_excel(\"california_housing_test.xlsx\", index_col=0)\n",
    "cali_housing"
   ]
  },
  {
   "cell_type": "markdown",
   "metadata": {
    "id": "PDkNmW3rUKFD"
   },
   "source": [
    "## Persistencia a disco"
   ]
  },
  {
   "cell_type": "code",
   "execution_count": null,
   "metadata": {
    "id": "Tiz6wLPAJgx3"
   },
   "outputs": [],
   "source": [
    "cali_housing.to_csv(\"cali_housing.csv\")\n",
    "#o en formato de excel:\n",
    "cali_housing.to_excel(\"cali_housing.xlsx\")"
   ]
  },
  {
   "cell_type": "markdown",
   "metadata": {
    "id": "J9cBi012RwX2"
   },
   "source": [
    "Ahora se crearon dos archivos en colab"
   ]
  },
  {
   "cell_type": "code",
   "execution_count": null,
   "metadata": {
    "id": "vA-S4UqPRtaB"
   },
   "outputs": [],
   "source": [
    "!ls"
   ]
  },
  {
   "cell_type": "markdown",
   "metadata": {
    "id": "2Aa7Hoa69D2P"
   },
   "source": [
    "## Otros formatos\n",
    "\n",
    "Además de los ya mencionados, Pandas permite leer y escribir en formatos comúnes como:\n",
    "\n",
    "* JSON\n",
    "* HTML\n",
    "* Parquet\n",
    "* SQL\n",
    "* BigQuery\n",
    "\n",
    "Puedes ver la lista completa en la [documentación de Pandas](https://pandas.pydata.org/pandas-docs/stable/user_guide/io.html#io-tools-text-csv-hdf5)."
   ]
  },
  {
   "cell_type": "markdown",
   "metadata": {
    "id": "BIZpbhUppe62"
   },
   "source": [
    "# Accediendo a los datos"
   ]
  },
  {
   "cell_type": "markdown",
   "metadata": {
    "id": "YYvyNYxymZcV"
   },
   "source": [
    "## info()\n",
    "\n",
    "El método [```info()```](https://pandas.pydata.org/pandas-docs/stable/reference/api/pandas.DataFrame.info.html) puede usarse para mostrar la información general del objeto de Pandas, como el índice y los tipos de datos usados."
   ]
  },
  {
   "cell_type": "code",
   "execution_count": 4,
   "metadata": {
    "id": "W2IlfVfaQdb4"
   },
   "outputs": [
    {
     "name": "stdout",
     "output_type": "stream",
     "text": [
      "<class 'pandas.core.frame.DataFrame'>\n",
      "RangeIndex: 10 entries, 0 to 9\n",
      "Data columns (total 9 columns):\n",
      "longitude             10 non-null float64\n",
      "latitude              10 non-null float64\n",
      "housing_median_age    10 non-null float64\n",
      "total_rooms           10 non-null float64\n",
      "total_bedrooms        10 non-null float64\n",
      "population            10 non-null float64\n",
      "households            10 non-null float64\n",
      "median_income         10 non-null float64\n",
      "median_house_value    10 non-null float64\n",
      "dtypes: float64(9)\n",
      "memory usage: 848.0 bytes\n"
     ]
    }
   ],
   "source": [
    "cali_housing.info()"
   ]
  },
  {
   "cell_type": "markdown",
   "metadata": {
    "id": "wboMyaQ4ltYo"
   },
   "source": [
    "## head() y tail()\n",
    "\n",
    "Los métodos [```head()```](https://pandas.pydata.org/pandas-docs/stable/reference/api/pandas.DataFrame.head.html) y [```tail()```](https://pandas.pydata.org/pandas-docs/stable/reference/api/pandas.DataFrame.tail.html#pandas.DataFrame.tail) devuelven una pequeña muestra de los primeros o últimos elementos de un objeto Series o Dataframe. Ambas pueden recibir como parámetro el número de elementos que se desean visualizar, por defecto es igual a 5."
   ]
  },
  {
   "cell_type": "code",
   "execution_count": 5,
   "metadata": {
    "id": "8w1nVek4ltdb"
   },
   "outputs": [
    {
     "data": {
      "text/html": [
       "<div>\n",
       "<style scoped>\n",
       "    .dataframe tbody tr th:only-of-type {\n",
       "        vertical-align: middle;\n",
       "    }\n",
       "\n",
       "    .dataframe tbody tr th {\n",
       "        vertical-align: top;\n",
       "    }\n",
       "\n",
       "    .dataframe thead th {\n",
       "        text-align: right;\n",
       "    }\n",
       "</style>\n",
       "<table border=\"1\" class=\"dataframe\">\n",
       "  <thead>\n",
       "    <tr style=\"text-align: right;\">\n",
       "      <th></th>\n",
       "      <th>longitude</th>\n",
       "      <th>latitude</th>\n",
       "      <th>housing_median_age</th>\n",
       "      <th>total_rooms</th>\n",
       "      <th>total_bedrooms</th>\n",
       "      <th>population</th>\n",
       "      <th>households</th>\n",
       "      <th>median_income</th>\n",
       "      <th>median_house_value</th>\n",
       "    </tr>\n",
       "  </thead>\n",
       "  <tbody>\n",
       "    <tr>\n",
       "      <td>0</td>\n",
       "      <td>-122.05</td>\n",
       "      <td>37.37</td>\n",
       "      <td>27.0</td>\n",
       "      <td>3885.0</td>\n",
       "      <td>661.0</td>\n",
       "      <td>1537.0</td>\n",
       "      <td>606.0</td>\n",
       "      <td>6.6085</td>\n",
       "      <td>344700.0</td>\n",
       "    </tr>\n",
       "    <tr>\n",
       "      <td>1</td>\n",
       "      <td>-118.30</td>\n",
       "      <td>34.26</td>\n",
       "      <td>43.0</td>\n",
       "      <td>1510.0</td>\n",
       "      <td>310.0</td>\n",
       "      <td>809.0</td>\n",
       "      <td>277.0</td>\n",
       "      <td>3.5990</td>\n",
       "      <td>176500.0</td>\n",
       "    </tr>\n",
       "    <tr>\n",
       "      <td>2</td>\n",
       "      <td>-117.81</td>\n",
       "      <td>33.78</td>\n",
       "      <td>27.0</td>\n",
       "      <td>3589.0</td>\n",
       "      <td>507.0</td>\n",
       "      <td>1484.0</td>\n",
       "      <td>495.0</td>\n",
       "      <td>5.7934</td>\n",
       "      <td>270500.0</td>\n",
       "    </tr>\n",
       "    <tr>\n",
       "      <td>3</td>\n",
       "      <td>-118.36</td>\n",
       "      <td>33.82</td>\n",
       "      <td>28.0</td>\n",
       "      <td>67.0</td>\n",
       "      <td>15.0</td>\n",
       "      <td>49.0</td>\n",
       "      <td>11.0</td>\n",
       "      <td>6.1359</td>\n",
       "      <td>330000.0</td>\n",
       "    </tr>\n",
       "    <tr>\n",
       "      <td>4</td>\n",
       "      <td>-119.67</td>\n",
       "      <td>36.33</td>\n",
       "      <td>19.0</td>\n",
       "      <td>1241.0</td>\n",
       "      <td>244.0</td>\n",
       "      <td>850.0</td>\n",
       "      <td>237.0</td>\n",
       "      <td>2.9375</td>\n",
       "      <td>81700.0</td>\n",
       "    </tr>\n",
       "  </tbody>\n",
       "</table>\n",
       "</div>"
      ],
      "text/plain": [
       "   longitude  latitude  housing_median_age  total_rooms  total_bedrooms  \\\n",
       "0    -122.05     37.37                27.0       3885.0           661.0   \n",
       "1    -118.30     34.26                43.0       1510.0           310.0   \n",
       "2    -117.81     33.78                27.0       3589.0           507.0   \n",
       "3    -118.36     33.82                28.0         67.0            15.0   \n",
       "4    -119.67     36.33                19.0       1241.0           244.0   \n",
       "\n",
       "   population  households  median_income  median_house_value  \n",
       "0      1537.0       606.0         6.6085            344700.0  \n",
       "1       809.0       277.0         3.5990            176500.0  \n",
       "2      1484.0       495.0         5.7934            270500.0  \n",
       "3        49.0        11.0         6.1359            330000.0  \n",
       "4       850.0       237.0         2.9375             81700.0  "
      ]
     },
     "execution_count": 5,
     "metadata": {},
     "output_type": "execute_result"
    }
   ],
   "source": [
    "cali_housing.head()"
   ]
  },
  {
   "cell_type": "code",
   "execution_count": 6,
   "metadata": {
    "id": "jXLeXz3SmL2g"
   },
   "outputs": [
    {
     "data": {
      "text/html": [
       "<div>\n",
       "<style scoped>\n",
       "    .dataframe tbody tr th:only-of-type {\n",
       "        vertical-align: middle;\n",
       "    }\n",
       "\n",
       "    .dataframe tbody tr th {\n",
       "        vertical-align: top;\n",
       "    }\n",
       "\n",
       "    .dataframe thead th {\n",
       "        text-align: right;\n",
       "    }\n",
       "</style>\n",
       "<table border=\"1\" class=\"dataframe\">\n",
       "  <thead>\n",
       "    <tr style=\"text-align: right;\">\n",
       "      <th></th>\n",
       "      <th>longitude</th>\n",
       "      <th>latitude</th>\n",
       "      <th>housing_median_age</th>\n",
       "      <th>total_rooms</th>\n",
       "      <th>total_bedrooms</th>\n",
       "      <th>population</th>\n",
       "      <th>households</th>\n",
       "      <th>median_income</th>\n",
       "      <th>median_house_value</th>\n",
       "    </tr>\n",
       "  </thead>\n",
       "  <tbody>\n",
       "    <tr>\n",
       "      <td>7</td>\n",
       "      <td>-120.65</td>\n",
       "      <td>35.48</td>\n",
       "      <td>19.0</td>\n",
       "      <td>2310.0</td>\n",
       "      <td>471.0</td>\n",
       "      <td>1341.0</td>\n",
       "      <td>441.0</td>\n",
       "      <td>3.2250</td>\n",
       "      <td>166900.0</td>\n",
       "    </tr>\n",
       "    <tr>\n",
       "      <td>8</td>\n",
       "      <td>-122.84</td>\n",
       "      <td>38.40</td>\n",
       "      <td>15.0</td>\n",
       "      <td>3080.0</td>\n",
       "      <td>617.0</td>\n",
       "      <td>1446.0</td>\n",
       "      <td>599.0</td>\n",
       "      <td>3.6696</td>\n",
       "      <td>194400.0</td>\n",
       "    </tr>\n",
       "    <tr>\n",
       "      <td>9</td>\n",
       "      <td>-118.02</td>\n",
       "      <td>34.08</td>\n",
       "      <td>31.0</td>\n",
       "      <td>2402.0</td>\n",
       "      <td>632.0</td>\n",
       "      <td>2830.0</td>\n",
       "      <td>603.0</td>\n",
       "      <td>2.3333</td>\n",
       "      <td>164200.0</td>\n",
       "    </tr>\n",
       "  </tbody>\n",
       "</table>\n",
       "</div>"
      ],
      "text/plain": [
       "   longitude  latitude  housing_median_age  total_rooms  total_bedrooms  \\\n",
       "7    -120.65     35.48                19.0       2310.0           471.0   \n",
       "8    -122.84     38.40                15.0       3080.0           617.0   \n",
       "9    -118.02     34.08                31.0       2402.0           632.0   \n",
       "\n",
       "   population  households  median_income  median_house_value  \n",
       "7      1341.0       441.0         3.2250            166900.0  \n",
       "8      1446.0       599.0         3.6696            194400.0  \n",
       "9      2830.0       603.0         2.3333            164200.0  "
      ]
     },
     "execution_count": 6,
     "metadata": {},
     "output_type": "execute_result"
    }
   ],
   "source": [
    "cali_housing.tail(3)"
   ]
  },
  {
   "cell_type": "markdown",
   "metadata": {
    "id": "0noSgAwmbj6S"
   },
   "source": [
    "## sample()\n",
    "\n",
    "[```df.sample()```](https://pandas.pydata.org/pandas-docs/stable/reference/api/pandas.DataFrame.sample.html) retorna una muestra aleatoria del objeto."
   ]
  },
  {
   "cell_type": "code",
   "execution_count": 7,
   "metadata": {
    "id": "Zs2159iMbkAL"
   },
   "outputs": [
    {
     "data": {
      "text/html": [
       "<div>\n",
       "<style scoped>\n",
       "    .dataframe tbody tr th:only-of-type {\n",
       "        vertical-align: middle;\n",
       "    }\n",
       "\n",
       "    .dataframe tbody tr th {\n",
       "        vertical-align: top;\n",
       "    }\n",
       "\n",
       "    .dataframe thead th {\n",
       "        text-align: right;\n",
       "    }\n",
       "</style>\n",
       "<table border=\"1\" class=\"dataframe\">\n",
       "  <thead>\n",
       "    <tr style=\"text-align: right;\">\n",
       "      <th></th>\n",
       "      <th>longitude</th>\n",
       "      <th>latitude</th>\n",
       "      <th>housing_median_age</th>\n",
       "      <th>total_rooms</th>\n",
       "      <th>total_bedrooms</th>\n",
       "      <th>population</th>\n",
       "      <th>households</th>\n",
       "      <th>median_income</th>\n",
       "      <th>median_house_value</th>\n",
       "    </tr>\n",
       "  </thead>\n",
       "  <tbody>\n",
       "    <tr>\n",
       "      <td>3</td>\n",
       "      <td>-118.36</td>\n",
       "      <td>33.82</td>\n",
       "      <td>28.0</td>\n",
       "      <td>67.0</td>\n",
       "      <td>15.0</td>\n",
       "      <td>49.0</td>\n",
       "      <td>11.0</td>\n",
       "      <td>6.1359</td>\n",
       "      <td>330000.0</td>\n",
       "    </tr>\n",
       "    <tr>\n",
       "      <td>8</td>\n",
       "      <td>-122.84</td>\n",
       "      <td>38.40</td>\n",
       "      <td>15.0</td>\n",
       "      <td>3080.0</td>\n",
       "      <td>617.0</td>\n",
       "      <td>1446.0</td>\n",
       "      <td>599.0</td>\n",
       "      <td>3.6696</td>\n",
       "      <td>194400.0</td>\n",
       "    </tr>\n",
       "    <tr>\n",
       "      <td>6</td>\n",
       "      <td>-121.43</td>\n",
       "      <td>38.63</td>\n",
       "      <td>43.0</td>\n",
       "      <td>1009.0</td>\n",
       "      <td>225.0</td>\n",
       "      <td>604.0</td>\n",
       "      <td>218.0</td>\n",
       "      <td>1.6641</td>\n",
       "      <td>67000.0</td>\n",
       "    </tr>\n",
       "  </tbody>\n",
       "</table>\n",
       "</div>"
      ],
      "text/plain": [
       "   longitude  latitude  housing_median_age  total_rooms  total_bedrooms  \\\n",
       "3    -118.36     33.82                28.0         67.0            15.0   \n",
       "8    -122.84     38.40                15.0       3080.0           617.0   \n",
       "6    -121.43     38.63                43.0       1009.0           225.0   \n",
       "\n",
       "   population  households  median_income  median_house_value  \n",
       "3        49.0        11.0         6.1359            330000.0  \n",
       "8      1446.0       599.0         3.6696            194400.0  \n",
       "6       604.0       218.0         1.6641             67000.0  "
      ]
     },
     "execution_count": 7,
     "metadata": {},
     "output_type": "execute_result"
    }
   ],
   "source": [
    "cali_housing.sample(n=3)"
   ]
  },
  {
   "cell_type": "markdown",
   "metadata": {
    "id": "9rFDtUgonaCT"
   },
   "source": [
    "## index\n",
    "\n",
    "El atributo [```df.index```](https://pandas.pydata.org/pandas-docs/stable/reference/api/pandas.DataFrame.index.html) regresa el índice del objeto de Pandas."
   ]
  },
  {
   "cell_type": "code",
   "execution_count": null,
   "metadata": {
    "id": "Apbkp5B-naHD"
   },
   "outputs": [],
   "source": [
    "cali_housing.index"
   ]
  },
  {
   "cell_type": "markdown",
   "metadata": {
    "id": "HDC-5YyqnaOV"
   },
   "source": [
    "## df.columns\n",
    "\n",
    "El atributo [```df.columns```](https://pandas.pydata.org/pandas-docs/stable/reference/api/pandas.DataFrame.columns.html) de un DataFrame devuelve las columnas del mismo."
   ]
  },
  {
   "cell_type": "code",
   "execution_count": null,
   "metadata": {
    "id": "sNVXAfLQnaSS"
   },
   "outputs": [],
   "source": [
    "cali_housing.columns"
   ]
  },
  {
   "cell_type": "markdown",
   "metadata": {
    "id": "9WdqAWo7oDwj"
   },
   "source": [
    "## df.describe()\n",
    "\n",
    "El método [```describe()```](https://pandas.pydata.org/pandas-docs/stable/reference/api/pandas.DataFrame.describe.html) regresa un resúmen estadístico del objeto."
   ]
  },
  {
   "cell_type": "code",
   "execution_count": null,
   "metadata": {
    "id": "qwaMTDgKoD1D"
   },
   "outputs": [],
   "source": [
    "cali_housing.describe()"
   ]
  },
  {
   "cell_type": "markdown",
   "metadata": {
    "id": "AqJUI2dwQdL-"
   },
   "source": [
    "# Selección - asignación"
   ]
  },
  {
   "cell_type": "markdown",
   "metadata": {
    "id": "aStR2xhVs5oo"
   },
   "source": [
    "## Seleccionando columnas\n",
    "\n",
    "Puedes usar dos notaciones para seleccionar una columna de un DataFrame, cualquiera de éstas devolverá un objeto Series.\n",
    "\n",
    "\n",
    "\n",
    "```\n",
    "df.[\"A\"]\n",
    "```\n",
    "\n",
    "o\n",
    "\n",
    "\n",
    "\n",
    "```\n",
    "df.A\n",
    "```\n",
    "\n",
    "\n",
    "\n"
   ]
  },
  {
   "cell_type": "code",
   "execution_count": null,
   "metadata": {
    "id": "AoTIBTUas5sm"
   },
   "outputs": [],
   "source": [
    "#seleccionar la columna devuelve un objeto Series\n",
    "cali_housing[\"latitude\"]"
   ]
  },
  {
   "cell_type": "code",
   "execution_count": null,
   "metadata": {
    "id": "R5__s0jktINE"
   },
   "outputs": [],
   "source": [
    "#usa segunda opcion para seleccionar columnas\n",
    "cali_housing.latitude"
   ]
  },
  {
   "cell_type": "code",
   "execution_count": null,
   "metadata": {
    "id": "aL5laUlqKL6F"
   },
   "outputs": [],
   "source": [
    "#seleccionando una columna como un dataframe\n",
    "cali_housing[[\"latitude\"]]"
   ]
  },
  {
   "cell_type": "markdown",
   "metadata": {
    "id": "CjqwQ2SFvO8-"
   },
   "source": [
    "Seleccionando múltiples columnas\n",
    "\n",
    "\n",
    "\n",
    "```\n",
    "df[[\"A\", ...]]\n",
    "```\n",
    "\n"
   ]
  },
  {
   "cell_type": "code",
   "execution_count": null,
   "metadata": {
    "id": "VvnPz531vPDZ"
   },
   "outputs": [],
   "source": [
    "cali_housing[[\"longitude\", \"latitude\"]]"
   ]
  },
  {
   "cell_type": "markdown",
   "metadata": {
    "id": "CxB5qTZys52B"
   },
   "source": [
    "## Seleccionando filas con slicing"
   ]
  },
  {
   "cell_type": "code",
   "execution_count": null,
   "metadata": {
    "id": "t10uKI8Ss56d"
   },
   "outputs": [],
   "source": [
    "cali_housing[0:3]"
   ]
  },
  {
   "cell_type": "markdown",
   "metadata": {
    "id": "jsZdWJbmu55Y"
   },
   "source": [
    "## Selección con etiquetas loc"
   ]
  },
  {
   "cell_type": "code",
   "execution_count": null,
   "metadata": {
    "id": "cAFiM2puu5-4"
   },
   "outputs": [],
   "source": [
    "cali_housing.loc[:, \"total_rooms\":\"households\"]"
   ]
  },
  {
   "cell_type": "markdown",
   "metadata": {
    "id": "oCHwl3yuvCch"
   },
   "source": [
    "## Selección con enteros iloc"
   ]
  },
  {
   "cell_type": "code",
   "execution_count": null,
   "metadata": {
    "id": "zYt4MKkUvCi2"
   },
   "outputs": [],
   "source": [
    "cali_housing.iloc[:, 6:]"
   ]
  },
  {
   "cell_type": "markdown",
   "metadata": {
    "id": "dj7r1S5_o7Mw"
   },
   "source": [
    "## Asignación por rango"
   ]
  },
  {
   "cell_type": "code",
   "execution_count": null,
   "metadata": {
    "id": "MRN2Ykxzo_Rv"
   },
   "outputs": [],
   "source": [
    "#primero agregamos una columna random inicializada a 0\n",
    "cali_housing[\"random\"] = 0.0\n",
    "#reasignamos usando np.random\n",
    "cali_housing.loc[:, \"random\"] = np.random.randn(cali_housing.shape[0])\n",
    "cali_housing"
   ]
  },
  {
   "cell_type": "markdown",
   "metadata": {
    "id": "CHV9n0JBAUr_"
   },
   "source": [
    "## Selección con indexación booleana"
   ]
  },
  {
   "cell_type": "code",
   "execution_count": null,
   "metadata": {
    "id": "jT8B09O6AUwh"
   },
   "outputs": [],
   "source": [
    "cali_housing[cali_housing[\"population\"] > 1000]"
   ]
  },
  {
   "cell_type": "markdown",
   "metadata": {
    "id": "PDy5UYHRDQQ9"
   },
   "source": [
    "## Selección de celdas con at y iat"
   ]
  },
  {
   "cell_type": "markdown",
   "metadata": {
    "id": "TXG-TXOBKiWz"
   },
   "source": [
    "[```at```](https://pandas.pydata.org/pandas-docs/stable/reference/api/pandas.DataFrame.at.html) utiliza etiquetas para seleccionar elementos:"
   ]
  },
  {
   "cell_type": "code",
   "execution_count": null,
   "metadata": {
    "id": "is4bKkN9DQYE"
   },
   "outputs": [],
   "source": [
    "cali_housing.at[0, \"housing_median_age\"]"
   ]
  },
  {
   "cell_type": "markdown",
   "metadata": {
    "id": "QvT-XktzKjHr"
   },
   "source": [
    "[```iat```](https://pandas.pydata.org/pandas-docs/stable/reference/api/pandas.DataFrame.iat.html#pandas.DataFrame.iat) utiliza enteros para seleccionar elementos:"
   ]
  },
  {
   "cell_type": "code",
   "execution_count": null,
   "metadata": {
    "id": "LdKMvBAHKrtI"
   },
   "outputs": [],
   "source": [
    "cali_housing.iat[1, 4]"
   ]
  },
  {
   "cell_type": "markdown",
   "metadata": {
    "id": "-KhyFcrLo102"
   },
   "source": [
    "## Asignación elemento"
   ]
  },
  {
   "cell_type": "markdown",
   "metadata": {
    "id": "mbKBHIY1Pvc2"
   },
   "source": [
    "También puedes cambir el contenido de las celdas directamente mediante asignación:"
   ]
  },
  {
   "cell_type": "code",
   "execution_count": null,
   "metadata": {
    "id": "B-pJidvUP5BL"
   },
   "outputs": [],
   "source": [
    "cali_housing.iat[1, 4] = 200.0\n",
    "cali_housing"
   ]
  },
  {
   "cell_type": "markdown",
   "metadata": {
    "id": "I9ok7Tv_9_Fo"
   },
   "source": [
    "## Otros\n",
    "Otros métodos de selección que podrían ser útiles:\n",
    "\n",
    "* [```idxmax()```](https://pandas.pydata.org/pandas-docs/stable/reference/api/pandas.DataFrame.idxmax.html)\n",
    "* [```idxmin()```](https://pandas.pydata.org/pandas-docs/stable/reference/api/pandas.DataFrame.idxmin.html#pandas.DataFrame.idxmin)\n",
    "* [```filter()```](https://pandas.pydata.org/pandas-docs/stable/reference/api/pandas.DataFrame.filter.html)\n",
    "* [```take()```](https://pandas.pydata.org/pandas-docs/stable/reference/api/pandas.DataFrame.take.html)\n",
    "* [```truncate()```](https://pandas.pydata.org/pandas-docs/stable/reference/api/pandas.DataFrame.truncate.html)\n",
    "\n",
    "Puedes ver la lista completa de métodos para la selección, re-indexado y manipulación de etiquetas en la [documentación de Pandas](https://pandas.pydata.org/docs/reference/frame.html#reindexing-selection-label-manipulation)."
   ]
  },
  {
   "cell_type": "markdown",
   "metadata": {
    "id": "XS-y991zSHto"
   },
   "source": [
    "# Atributos\n",
    "\n",
    "* [```df.T```](https://pandas.pydata.org/pandas-docs/stable/reference/api/pandas.DataFrame.T.html)\n",
    "* [```df.axes```](https://pandas.pydata.org/pandas-docs/stable/reference/api/pandas.DataFrame.axes.html#pandas.DataFrame.axes)\n",
    "* [```df.dtypes```](https://pandas.pydata.org/pandas-docs/stable/reference/api/pandas.DataFrame.dtypes.html#pandas.DataFrame.dtypes)\n",
    "* [```df.shape```](https://pandas.pydata.org/pandas-docs/stable/reference/api/pandas.DataFrame.shape.html#pandas.DataFrame.shape)\n",
    "* [```df.size```](https://pandas.pydata.org/pandas-docs/stable/reference/api/pandas.DataFrame.size.html#pandas.DataFrame.size)\n",
    "* [```df.values```](https://pandas.pydata.org/pandas-docs/stable/reference/api/pandas.DataFrame.values.html#pandas.DataFrame.values)"
   ]
  },
  {
   "cell_type": "markdown",
   "metadata": {
    "id": "Od7ystmNLEZ2"
   },
   "source": [
    "## df.T\n",
    "\n",
    "La transpuesta de df (filas y columnas intercambiadas):"
   ]
  },
  {
   "cell_type": "code",
   "execution_count": null,
   "metadata": {
    "id": "T-geuTelA-kY"
   },
   "outputs": [],
   "source": [
    "#Los indices pasan a ser los nombres de las columnas, las columnas a indices\n",
    "cali_housing.T"
   ]
  },
  {
   "cell_type": "markdown",
   "metadata": {
    "id": "7jTK7OIILPGv"
   },
   "source": [
    "## df.axes\n",
    "\n",
    "Retorna información sobre los axes que componen al objeto:\n"
   ]
  },
  {
   "cell_type": "code",
   "execution_count": null,
   "metadata": {
    "id": "DFBm4zEvLezZ"
   },
   "outputs": [],
   "source": [
    "cali_housing.axes"
   ]
  },
  {
   "cell_type": "markdown",
   "metadata": {
    "id": "yWLJ_QrBLPNg"
   },
   "source": [
    "## df.dtypes\n",
    "\n",
    "Retorna los tipos de datos utilizados por el objeto:"
   ]
  },
  {
   "cell_type": "code",
   "execution_count": null,
   "metadata": {
    "id": "VmixPgzyLw2s"
   },
   "outputs": [],
   "source": [
    "cali_housing.dtypes"
   ]
  },
  {
   "cell_type": "markdown",
   "metadata": {
    "id": "UM0jUGlRLUIi"
   },
   "source": [
    "## df.shape\n",
    "\n",
    "La forma del objeto (número de filas y columnas en un DataFrame):"
   ]
  },
  {
   "cell_type": "code",
   "execution_count": null,
   "metadata": {
    "id": "W8GN4lewL48N"
   },
   "outputs": [],
   "source": [
    "cali_housing.shape"
   ]
  },
  {
   "cell_type": "markdown",
   "metadata": {
    "id": "FfWUXPnoLUM0"
   },
   "source": [
    "## df.size\n",
    "\n",
    "El número de elementos en el objeto (número de celdas en un DataFrame):"
   ]
  },
  {
   "cell_type": "code",
   "execution_count": null,
   "metadata": {
    "id": "g094BaXSL73J"
   },
   "outputs": [],
   "source": [
    "cali_housing.size"
   ]
  },
  {
   "cell_type": "markdown",
   "metadata": {
    "id": "W3JaXU6jLcnB"
   },
   "source": [
    "## df.values\n",
    "\n",
    "Retorna el objeto de Pandas como un arreglo de Numpy:"
   ]
  },
  {
   "cell_type": "code",
   "execution_count": null,
   "metadata": {
    "id": "zkLZjQPnL-Vo"
   },
   "outputs": [],
   "source": [
    "cali_housing.values"
   ]
  },
  {
   "cell_type": "markdown",
   "metadata": {
    "id": "xhUkS2LaQgJb"
   },
   "source": [
    "# Eliminación\n"
   ]
  },
  {
   "cell_type": "markdown",
   "metadata": {
    "id": "RQqR-sPNRM-t"
   },
   "source": [
    "## Remover filas o columnas con df.drop()\n",
    "\n",
    "El método [```drop()```](https://pandas.pydata.org/pandas-docs/stable/reference/api/pandas.DataFrame.drop.html) permite eliminar filas o columnas al especificar el axis correspondiente, puedes eliminar más de una usando una lista como parámetro:"
   ]
  },
  {
   "cell_type": "code",
   "execution_count": null,
   "metadata": {
    "id": "9P80knKTRNLQ"
   },
   "outputs": [],
   "source": [
    "#primero agregamos dos nuevas columnas\n",
    "cali_housing[\"temp\"] = \"temp\"\n",
    "cali_housing[\"temp2\"] = cali_housing[\"temp\"] + \"2\"\n",
    "cali_housing"
   ]
  },
  {
   "cell_type": "markdown",
   "metadata": {
    "id": "ZZ2h7ayddnQ-"
   },
   "source": [
    "Eliminar columnas con axis = 1"
   ]
  },
  {
   "cell_type": "code",
   "execution_count": null,
   "metadata": {
    "id": "5jwbMO9Xdnen"
   },
   "outputs": [],
   "source": [
    "#drop devuelve un nuevo dataframe sin la columna\n",
    "df = cali_housing.drop([\"temp\", \"temp2\"], axis=1)\n",
    "df"
   ]
  },
  {
   "cell_type": "markdown",
   "metadata": {
    "id": "4skGg56odnlF"
   },
   "source": [
    "Eliminar filas con axis = 0"
   ]
  },
  {
   "cell_type": "code",
   "execution_count": null,
   "metadata": {
    "id": "8ygP00w8dnsS"
   },
   "outputs": [],
   "source": [
    "#drop devuelve un nuevo dataframe sin la fila\n",
    "df = cali_housing.drop([5,7,9], axis=0)\n",
    "df"
   ]
  },
  {
   "cell_type": "markdown",
   "metadata": {
    "id": "93ha10yDA-fF"
   },
   "source": [
    "## Remover columnas con ```del```\n",
    "\n",
    "Puedes usar la notación _del df[col_name]_ para eliminar una columna directamente de un DataFrame:"
   ]
  },
  {
   "cell_type": "code",
   "execution_count": null,
   "metadata": {
    "id": "bwpoq_9TQgPF"
   },
   "outputs": [],
   "source": [
    "#el dataframe original no ha sido alterado\n",
    "#aun contiene las columnas temporales\n",
    "cali_housing"
   ]
  },
  {
   "cell_type": "code",
   "execution_count": null,
   "metadata": {
    "id": "pmVacTmiQg-j"
   },
   "outputs": [],
   "source": [
    "#eliminamos la nueva columna temp con del directamente en el df\n",
    "del cali_housing[\"temp\"]\n",
    "cali_housing"
   ]
  },
  {
   "cell_type": "code",
   "execution_count": null,
   "metadata": {
    "id": "sr9fkAPWhwhd"
   },
   "outputs": [],
   "source": [
    "#del elimina una columna a la vez\n",
    "# llamemos del una segunda vez para eliminar temp2\n",
    "del cali_housing[\"temp2\"]\n",
    "cali_housing"
   ]
  },
  {
   "cell_type": "markdown",
   "metadata": {
    "id": "Dkzdjyk3VZL_"
   },
   "source": [
    "# Datos faltantes"
   ]
  },
  {
   "cell_type": "markdown",
   "metadata": {
    "id": "ySNj8BT8qkI0"
   },
   "source": [
    "En Pandas, los [```valores faltantes```](https://pandas.pydata.org/pandas-docs/stable/user_guide/missing_data.html) son representado con el valor NaN (de Not a Number). Cuando existen valores faltantes, muchas veces es necesario eliminarlar las entradas que los contienen o reemplazarlos por valores antes de empezar a trabajar con los datos. Pandas provee algunos métodos para realizar este tipo de tareas."
   ]
  },
  {
   "cell_type": "code",
   "execution_count": null,
   "metadata": {
    "id": "iymXcdS3uvTB"
   },
   "outputs": [],
   "source": [
    "#creando un dataframe con datos faltantes\n",
    "df = pd.DataFrame(np.random.randn(5, 3), index=['a', 'c', 'e', 'f', 'h'], columns=['A', 'B', 'C'])\n",
    "df['D'] = df['A'] > 0\n",
    "df = df.reindex(['a', 'b', 'c', 'd', 'e', 'f', 'g', 'h'])\n",
    "df"
   ]
  },
  {
   "cell_type": "markdown",
   "metadata": {
    "id": "JOQ6eWscx3Zm"
   },
   "source": [
    "## df.isna()\n",
    "\n",
    "El método [```df.isna()```](https://pandas.pydata.org/pandas-docs/stable/reference/api/pandas.DataFrame.isna.html) funciona para conocer si el objeto contiene valores faltantes. Regresa un objeto con elementos booleanos que indican la existencia de datos faltantes."
   ]
  },
  {
   "cell_type": "code",
   "execution_count": null,
   "metadata": {
    "id": "Cvk6XMVSx3eN"
   },
   "outputs": [],
   "source": [
    "df.isna()"
   ]
  },
  {
   "cell_type": "markdown",
   "metadata": {
    "id": "4k7fCgEYqkav"
   },
   "source": [
    "## df.dropna()\n",
    "\n",
    "El método [```dropna()```](https://pandas.pydata.org/pandas-docs/stable/reference/api/pandas.DataFrame.dropna.html) permite eliminar del DataFrame las filas o columnas que contienen uno o más elementos NaN.\n",
    "\n",
    "Los principales parámetros de dropna():\n",
    "\n",
    "```\n",
    "axis : {0 o 'index', 1 o 'columns'}, por defecto 0\n",
    "        Determina si elimina filas o columnas que contienen\n",
    "        valores faltantes.\n",
    "    \n",
    "how : {'any', 'all'}, por defecto 'any'\n",
    "    Determina si se elimina la fila o columna cuando contiene al menos un valor faltante o solo si todos sus valores son faltantes.\n",
    "\n",
    "    * 'any' : Si hay un valor faltante, elimina la fila o columna.\n",
    "    * 'all' : Si todos los valores son faltantes, elimina la fila o columna.\n",
    "    \n",
    "thresh : int, opcional\n",
    "    Requirir al menos ese número de valores faltantes para eliminar la fila o columna.\n",
    "```\n",
    "\n"
   ]
  },
  {
   "cell_type": "code",
   "execution_count": null,
   "metadata": {
    "id": "FlsVq2-fBpXE"
   },
   "outputs": [],
   "source": [
    "df.dropna(axis=0, how='any')"
   ]
  },
  {
   "cell_type": "code",
   "execution_count": null,
   "metadata": {
    "id": "efPiUeddzm4H"
   },
   "outputs": [],
   "source": [
    "#insertando un nuevo nan\n",
    "df.iat[0, 0] = np.nan"
   ]
  },
  {
   "cell_type": "markdown",
   "metadata": {
    "id": "_zrR_L4g7r_5"
   },
   "source": [
    "Usando ```all``` con ```axis=0``` elimina filas donde todos los elementos faltan:"
   ]
  },
  {
   "cell_type": "code",
   "execution_count": null,
   "metadata": {
    "id": "byjfnMF0zkyG"
   },
   "outputs": [],
   "source": [
    "df.dropna(axis = 0, how='all')"
   ]
  },
  {
   "cell_type": "markdown",
   "metadata": {
    "id": "hQPlZclY7iLP"
   },
   "source": [
    "Usando ```any``` con axis=0, elimina las filas con uno o más faltantes:"
   ]
  },
  {
   "cell_type": "code",
   "execution_count": null,
   "metadata": {
    "id": "uBrcxqKn7lMM"
   },
   "outputs": [],
   "source": [
    "df.dropna(axis=0, how=\"any\")"
   ]
  },
  {
   "cell_type": "markdown",
   "metadata": {
    "id": "UKjCKWaO8Avy"
   },
   "source": [
    "Agregamos una nueva columna con todos los elementos ```NaN```:"
   ]
  },
  {
   "cell_type": "code",
   "execution_count": null,
   "metadata": {
    "id": "DWBwmsi58BYR"
   },
   "outputs": [],
   "source": [
    "df[\"empty_col\"] = np.nan\n",
    "df"
   ]
  },
  {
   "cell_type": "markdown",
   "metadata": {
    "id": "VPZBTo1-8SFj"
   },
   "source": [
    "Eliminando la columna con ```axis=1``` y ```how=all```:"
   ]
  },
  {
   "cell_type": "code",
   "execution_count": null,
   "metadata": {
    "id": "0hnbfM_G8aZ_"
   },
   "outputs": [],
   "source": [
    "# La columna con solo ```NaN``` sera eliminada por completo\n",
    "df.dropna(axis=1, how=\"all\")"
   ]
  },
  {
   "cell_type": "markdown",
   "metadata": {
    "id": "NHj2kDTSqk35"
   },
   "source": [
    "## df.fillna()\n",
    "\n",
    "El método [```df.fillna()```](https://pandas.pydata.org/pandas-docs/stable/reference/api/pandas.DataFrame.fillna.html) permite reemplazar los valores faltantes en un DataFrame por otro valor.\n",
    "\n",
    "Los principales parámetros de fillna():\n",
    "\n",
    "```\n",
    "value : escalar, diccionario, Series, o un DataFrame\n",
    "    El valor utilizado para reemplazar los faltantes.\n",
    "    Si es un diccionario, una serie o un dataframe, entonces\n",
    "    se utiliza el valor asociado a la clave, indice o columna asociada.\n",
    "\n",
    "method : {'backfill', 'bfill', 'pad', 'ffill', None}, por defecto None\n",
    "    El método utilizado para rellenar los espacios vacios.\n",
    "    * pad / ffill: usa el ultimo valor valido para rellenar \n",
    "    hacia adelante hasta el siguiente valor valido.\n",
    "    * backfill / bfill: utilizar la siguiente observacion \n",
    "    valida para rellenar.\n",
    "\n",
    "axis : {0 or 'index', 1 or 'columns'}\n",
    "```\n",
    "\n"
   ]
  },
  {
   "cell_type": "markdown",
   "metadata": {
    "id": "k6qhxeg1_Lg3"
   },
   "source": [
    "Reemplazar todos los faltantes por un escalar:"
   ]
  },
  {
   "cell_type": "code",
   "execution_count": null,
   "metadata": {
    "id": "_jBS1p9SqlHi"
   },
   "outputs": [],
   "source": [
    "# fillna con escalar\n",
    "df.fillna(0.0)"
   ]
  },
  {
   "cell_type": "markdown",
   "metadata": {
    "id": "uP56VW9L_QPm"
   },
   "source": [
    "Reemplazar usando un dicccionario para las columnas de un Dataframe:"
   ]
  },
  {
   "cell_type": "code",
   "execution_count": null,
   "metadata": {
    "id": "ijAQd576yuK6"
   },
   "outputs": [],
   "source": [
    "# usando un diccionario para reemplazar con un valor diferente cada columna\n",
    "df.fillna({'A': 0.0, 'B': 0.0, 'C': 0.0, 'D': False})"
   ]
  },
  {
   "cell_type": "markdown",
   "metadata": {
    "id": "yFhnS9mT_VRM"
   },
   "source": [
    "Con un diccionario para los índices de una Serie:"
   ]
  },
  {
   "cell_type": "code",
   "execution_count": null,
   "metadata": {
    "id": "VgD276Pt_XWA"
   },
   "outputs": [],
   "source": [
    "df[\"A\"].fillna({'a':0.0, 'b':1.0, 'c':2.0})"
   ]
  },
  {
   "cell_type": "markdown",
   "metadata": {
    "id": "fBPVGWfIBbgC"
   },
   "source": [
    "Forward Fill:"
   ]
  },
  {
   "cell_type": "markdown",
   "metadata": {
    "id": "Vp8Q7xQKBi4-"
   },
   "source": [
    "```axis = 0``` por defecto (por columnas, siguiendo el index):"
   ]
  },
  {
   "cell_type": "code",
   "execution_count": null,
   "metadata": {
    "id": "QVYrcfyTBhcc"
   },
   "outputs": [],
   "source": [
    "df.fillna(method='ffill',)"
   ]
  },
  {
   "cell_type": "markdown",
   "metadata": {
    "id": "KtUz5njNBjVv"
   },
   "source": [
    "```axis=1``` (por filas, todas las columnas):"
   ]
  },
  {
   "cell_type": "code",
   "execution_count": null,
   "metadata": {
    "id": "fXk8JZpHCDGr"
   },
   "outputs": [],
   "source": [
    "# un nuevo elemento faltante en la fila c columnas C\n",
    "df.iat[2, 2] = np.NaN\n",
    "df"
   ]
  },
  {
   "cell_type": "code",
   "execution_count": null,
   "metadata": {
    "id": "qiJaI1CCxnU0"
   },
   "outputs": [],
   "source": [
    "# rellenando de izq a der por filas\n",
    "df.fillna(method='ffill', axis=1)"
   ]
  },
  {
   "cell_type": "markdown",
   "metadata": {
    "id": "ZQZk68YQBeNa"
   },
   "source": [
    "Back Fill:"
   ]
  },
  {
   "cell_type": "markdown",
   "metadata": {
    "id": "aXncjc8ECcFK"
   },
   "source": [
    "```axis=0``` por defecto (por columnas):"
   ]
  },
  {
   "cell_type": "code",
   "execution_count": null,
   "metadata": {
    "id": "-jsnbmSbxncu"
   },
   "outputs": [],
   "source": [
    "# rellena de abajo hacia arriba por columnas\n",
    "df.fillna(method='bfill')"
   ]
  },
  {
   "cell_type": "markdown",
   "metadata": {
    "id": "Dal0eOCkCj5s"
   },
   "source": [
    "```axis=1``` (por filas):"
   ]
  },
  {
   "cell_type": "code",
   "execution_count": null,
   "metadata": {
    "id": "XieYa65XCkYN"
   },
   "outputs": [],
   "source": [
    "# rellena de der a izq por filas\n",
    "df.fillna(method='bfill', axis=1)"
   ]
  },
  {
   "cell_type": "markdown",
   "metadata": {
    "id": "7orBVhvQSHzT"
   },
   "source": [
    "# Métodos Utilitarios\n",
    "\n",
    "* [```df.copy()```](https://pandas.pydata.org/pandas-docs/stable/reference/api/pandas.DataFrame.copy.html)\n",
    "* [```df.sort_values([ascending=True|False])```](https://pandas.pydata.org/pandas-docs/stable/reference/api/pandas.DataFrame.sort_values.html)\n",
    "* [```df.sort_index([ascending=True|False])```](https://pandas.pydata.org/pandas-docs/stable/reference/api/pandas.DataFrame.sort_index.html#pandas.DataFrame.sort_index)"
   ]
  },
  {
   "cell_type": "markdown",
   "metadata": {
    "id": "aUdj9iOdjSsF"
   },
   "source": [
    "## df.copy()\n",
    "\n",
    "Crea una copia profunda (por defecto) del objeto:"
   ]
  },
  {
   "cell_type": "code",
   "execution_count": null,
   "metadata": {
    "id": "_ylxot4wjMrA"
   },
   "outputs": [],
   "source": [
    "df = cali_housing.copy()\n",
    "df.head()"
   ]
  },
  {
   "cell_type": "markdown",
   "metadata": {
    "id": "FEV5a_-5DEZg"
   },
   "source": [
    "Ahora modificar ```df``` no afectará a ```cali_housing``` y viceversa."
   ]
  },
  {
   "cell_type": "markdown",
   "metadata": {
    "id": "5W8QRU4ajQCl"
   },
   "source": [
    "## df.sort_values()\n",
    "\n",
    "Ordenar usando los valores en el Dataframe:"
   ]
  },
  {
   "cell_type": "code",
   "execution_count": null,
   "metadata": {
    "id": "I5dyrY1xjQLY"
   },
   "outputs": [],
   "source": [
    "df.sort_values(\"housing_median_age\")"
   ]
  },
  {
   "cell_type": "markdown",
   "metadata": {
    "id": "-VLNFaxjC3F3"
   },
   "source": [
    "Ordenar usando más de una columna:"
   ]
  },
  {
   "cell_type": "code",
   "execution_count": null,
   "metadata": {
    "id": "y0yV-eAvC3eo"
   },
   "outputs": [],
   "source": [
    "df.sort_values([\"housing_median_age\", \"households\"])"
   ]
  },
  {
   "cell_type": "markdown",
   "metadata": {
    "id": "Zet4Wt7DjQaP"
   },
   "source": [
    "## df.sort_index()\n",
    "\n",
    "Ordenar usando los índices del Dataframe/Series:"
   ]
  },
  {
   "cell_type": "code",
   "execution_count": null,
   "metadata": {
    "id": "E0eodMQRjQgb"
   },
   "outputs": [],
   "source": [
    "#una muestra aleatoria\n",
    "df = cali_housing.sample(5)\n",
    "df"
   ]
  },
  {
   "cell_type": "code",
   "execution_count": null,
   "metadata": {
    "id": "z5hZDIeATSuy"
   },
   "outputs": [],
   "source": [
    "# ordenar por index\n",
    "df.sort_index()"
   ]
  },
  {
   "cell_type": "markdown",
   "metadata": {
    "id": "zjvZYHkIDzR3"
   },
   "source": [
    "Para un objeto Series:"
   ]
  },
  {
   "cell_type": "code",
   "execution_count": null,
   "metadata": {
    "id": "hml6pB_gD1xM"
   },
   "outputs": [],
   "source": [
    "s = cali_housing[\"total_rooms\"].sample(5)\n",
    "s"
   ]
  },
  {
   "cell_type": "code",
   "execution_count": null,
   "metadata": {
    "id": "6dbg9193EBua"
   },
   "outputs": [],
   "source": [
    "s.sort_index()"
   ]
  },
  {
   "cell_type": "markdown",
   "metadata": {
    "id": "WpFJKTtLSH6q"
   },
   "source": [
    "# Métodos matemáticos\n",
    "\n",
    "[Operaciones binarias](https://pandas.pydata.org/docs/reference/frame.html#binary-operator-functions):\n",
    "\n",
    "* [```add(other)```](https://pandas.pydata.org/pandas-docs/stable/reference/api/pandas.DataFrame.add.html), suma elemento por elemento un DataFrames/Series y other.\n",
    "* [```sub(other)```](https://pandas.pydata.org/pandas-docs/stable/reference/api/pandas.DataFrame.sub.html#pandas.DataFrame.sub), resta elemento por elemento un DataFrames/Series y other.\n",
    "* [```mul(other)```](https://pandas.pydata.org/pandas-docs/stable/reference/api/pandas.DataFrame.mul.html#pandas.DataFrame.mul), multiplicación elemento por elemento de un DataFrames/Series por other.\n",
    "* [```div(other)```](https://pandas.pydata.org/pandas-docs/stable/reference/api/pandas.DataFrame.div.html#pandas.DataFrame.div), divide elemento por elemento un DataFrames/Series entre other.\n",
    "* [```mod(other)```](https://pandas.pydata.org/pandas-docs/stable/reference/api/pandas.DataFrame.mod.html#pandas.DataFrame.mod), calcula el módulo de un DataFrame/Series usando other.\n",
    "* [```pow(other)```](https://pandas.pydata.org/pandas-docs/stable/reference/api/pandas.DataFrame.pow.html#pandas.DataFrame.pow), calcula el exponente elemento por elemento de un DataFrame/Series elevado a la potencia de other.\n",
    "* [```dot(other)```](https://pandas.pydata.org/pandas-docs/stable/reference/api/pandas.DataFrame.dot.html), producto punto o de matrices entre dos Series/DataFrames respectivamente.\n",
    "\n",
    "_Las operaciones binarias pueden utilizar broadcasting, entonces pueden recibir escalares, Dataframes o Series._\n",
    "\n",
    "\n",
    "[Operaciones estadísticas](https://pandas.pydata.org/docs/reference/frame.html#computations-descriptive-stats):\n",
    "* [```abs()```](https://pandas.pydata.org/pandas-docs/stable/reference/api/pandas.DataFrame.abs.html), valor absoluto de los elementos.\n",
    "* [```count(axis)```](https://pandas.pydata.org/pandas-docs/stable/reference/api/pandas.DataFrame.count.html), cuenta el número de elementos no-nulos en las filas o columnas. \n",
    "* [```max(axis)```](https://pandas.pydata.org/pandas-docs/stable/reference/api/pandas.DataFrame.max.html), retorna el valor máximo encontrado por filas o columnas.\n",
    "* [```min(axis)```](https://pandas.pydata.org/pandas-docs/stable/reference/api/pandas.DataFrame.min.html#pandas.DataFrame.min), retorna el valor mínimo encontrado por filas o columnas.\n",
    "* [```mean(axis)```](https://pandas.pydata.org/pandas-docs/stable/reference/api/pandas.DataFrame.mean.html), retorna la media de los elementos por filas o columnas.\n",
    "* [```median(axis)```](https://pandas.pydata.org/pandas-docs/stable/reference/api/pandas.DataFrame.median.html), retorna la mediana de los elementos de las filas o columnas.\n",
    "* [```sum(axis)```](https://pandas.pydata.org/pandas-docs/stable/reference/api/pandas.DataFrame.sum.html), retorna la suma de todos los elementos de las filas o columnas.\n",
    "* [```std(axis)```](https://pandas.pydata.org/pandas-docs/stable/reference/api/pandas.DataFrame.std.html), retorna la desviación estándar de las filas o columnas.\n",
    "* [```var(axis)```](https://pandas.pydata.org/pandas-docs/stable/reference/api/pandas.DataFrame.var.html),retorna la varianza de las filas o columnas."
   ]
  },
  {
   "cell_type": "markdown",
   "metadata": {
    "id": "GIymgx0GKjyI"
   },
   "source": [
    "## Operaciones binarias"
   ]
  },
  {
   "cell_type": "code",
   "execution_count": null,
   "metadata": {
    "id": "t8jB4PTpLlwL"
   },
   "outputs": [],
   "source": [
    "#creamos un dataframe para ejemplificar las funciones\n",
    "df = pd.DataFrame({'angles': [0, 3, 4], 'degrees': [360, 180, 360]}, index=['circle', 'triangle', 'rectangle'])\n",
    "df"
   ]
  },
  {
   "cell_type": "markdown",
   "metadata": {
    "id": "kYiT5W6xKsVt"
   },
   "source": [
    "### add(), sub(), mul() y div()"
   ]
  },
  {
   "cell_type": "code",
   "execution_count": null,
   "metadata": {
    "id": "IEyrVIZ1hLEY"
   },
   "outputs": [],
   "source": [
    "df.add(1)"
   ]
  },
  {
   "cell_type": "markdown",
   "metadata": {
    "id": "w0ALFEcSx5RJ"
   },
   "source": [
    "o"
   ]
  },
  {
   "cell_type": "code",
   "execution_count": null,
   "metadata": {
    "id": "cONCG3nlxfaB"
   },
   "outputs": [],
   "source": [
    "df + 1"
   ]
  },
  {
   "cell_type": "code",
   "execution_count": null,
   "metadata": {
    "id": "VdD5jMxxL9UO"
   },
   "outputs": [],
   "source": [
    "df.mul(2)"
   ]
  },
  {
   "cell_type": "markdown",
   "metadata": {
    "id": "XrvVPJtkx7a7"
   },
   "source": [
    "o"
   ]
  },
  {
   "cell_type": "code",
   "execution_count": null,
   "metadata": {
    "id": "J0T9xkxbx9Q2"
   },
   "outputs": [],
   "source": [
    "df * 2"
   ]
  },
  {
   "cell_type": "code",
   "execution_count": null,
   "metadata": {
    "id": "uYU8Nj9HL-ys"
   },
   "outputs": [],
   "source": [
    "df.div(2)"
   ]
  },
  {
   "cell_type": "markdown",
   "metadata": {
    "id": "8IC8hg-tx_x_"
   },
   "source": [
    "o"
   ]
  },
  {
   "cell_type": "code",
   "execution_count": null,
   "metadata": {
    "id": "SnIJAbm2yAuh"
   },
   "outputs": [],
   "source": [
    "df / 2"
   ]
  },
  {
   "cell_type": "markdown",
   "metadata": {
    "id": "X0eCoCPzKwTT"
   },
   "source": [
    "### mod() y pow()"
   ]
  },
  {
   "cell_type": "code",
   "execution_count": null,
   "metadata": {
    "id": "N2LKPhushLmc"
   },
   "outputs": [],
   "source": [
    "df.mod(2)"
   ]
  },
  {
   "cell_type": "markdown",
   "metadata": {
    "id": "gmHFy-Wiyii-"
   },
   "source": [
    "o"
   ]
  },
  {
   "cell_type": "code",
   "execution_count": null,
   "metadata": {
    "id": "YGa471AJyjqk"
   },
   "outputs": [],
   "source": [
    "df % 2"
   ]
  },
  {
   "cell_type": "code",
   "execution_count": null,
   "metadata": {
    "id": "ZtqiK_x9MP9z"
   },
   "outputs": [],
   "source": [
    "df.pow(3)"
   ]
  },
  {
   "cell_type": "markdown",
   "metadata": {
    "id": "1z_r3MsVyndb"
   },
   "source": [
    "o"
   ]
  },
  {
   "cell_type": "code",
   "execution_count": null,
   "metadata": {
    "id": "uCadw7BxynvV"
   },
   "outputs": [],
   "source": [
    "df ** 3"
   ]
  },
  {
   "cell_type": "markdown",
   "metadata": {
    "id": "d9BNaw_GK01I"
   },
   "source": [
    "### dot()"
   ]
  },
  {
   "cell_type": "code",
   "execution_count": null,
   "metadata": {
    "id": "7CjDky-LMcQN"
   },
   "outputs": [],
   "source": [
    "#un nuevo dataframe para ejemplificar dot\n",
    "df = pd.DataFrame([[0, 1, -2, -1], [1, 1, 1, 1]])\n",
    "df"
   ]
  },
  {
   "cell_type": "code",
   "execution_count": null,
   "metadata": {
    "id": "GdKKQyURK08h"
   },
   "outputs": [],
   "source": [
    "#dot usando una serie\n",
    "s = pd.Series([1, 1, 2, 1])\n",
    "df.dot(s)"
   ]
  },
  {
   "cell_type": "code",
   "execution_count": null,
   "metadata": {
    "id": "jLvzQjZOMuJR"
   },
   "outputs": [],
   "source": [
    "#dot de dos matrices\n",
    "other = pd.DataFrame([[0, 1], [1, 2], [-1, -1], [2, 0]])\n",
    "df.dot(other)"
   ]
  },
  {
   "cell_type": "markdown",
   "metadata": {
    "id": "gW9WU9a4yCsT"
   },
   "source": [
    "*Nota: Las operaciones binarias pueden aplicarse usando escalares, series u otros dataframes.*"
   ]
  },
  {
   "cell_type": "markdown",
   "metadata": {
    "id": "hN3IC4dlKnUI"
   },
   "source": [
    "## Operaciones estadísticas"
   ]
  },
  {
   "cell_type": "markdown",
   "metadata": {
    "id": "giITZgImLK05"
   },
   "source": [
    "### abs()"
   ]
  },
  {
   "cell_type": "code",
   "execution_count": null,
   "metadata": {
    "id": "qR_CH7C6jMFk"
   },
   "outputs": [],
   "source": [
    "#un df con valores negativos\n",
    "df = pd.DataFrame({'a': [4, -5, -6, 7], 'b': [-10, 20, 30, -40], 'c': [100, 50, -30, -50]})\n",
    "df"
   ]
  },
  {
   "cell_type": "code",
   "execution_count": null,
   "metadata": {
    "id": "6Fvi1UeOmQZI"
   },
   "outputs": [],
   "source": [
    "df.abs()"
   ]
  },
  {
   "cell_type": "markdown",
   "metadata": {
    "id": "1Qpx3o7tLO2L"
   },
   "source": [
    "### count()"
   ]
  },
  {
   "cell_type": "code",
   "execution_count": null,
   "metadata": {
    "id": "TRQ1-i_MLO6R"
   },
   "outputs": [],
   "source": [
    "#un dataframe con valores no-nulos y nuelos\n",
    "df = pd.DataFrame({\"Person\":[\"John\", \"Myla\", \"Lewis\", \"John\", \"Myla\"],\n",
    "                    \"Age\": [24., np.nan, 21., 33, 26],\n",
    "                    \"Single\": [False, True, True, np.nan, np.nan]})\n",
    "df"
   ]
  },
  {
   "cell_type": "markdown",
   "metadata": {
    "id": "bhRjhAwsoc3i"
   },
   "source": [
    "Count para cada columna (por defecto ```axis=0```):"
   ]
  },
  {
   "cell_type": "code",
   "execution_count": null,
   "metadata": {
    "id": "b9UZfmFrmuxM"
   },
   "outputs": [],
   "source": [
    "df.count()"
   ]
  },
  {
   "cell_type": "markdown",
   "metadata": {
    "id": "rm_XPyieodTa"
   },
   "source": [
    "Count para cada fila (```axis=1```)"
   ]
  },
  {
   "cell_type": "code",
   "execution_count": null,
   "metadata": {
    "id": "xIecQd5aodY3"
   },
   "outputs": [],
   "source": [
    "df.count(axis=1)"
   ]
  },
  {
   "cell_type": "markdown",
   "metadata": {
    "id": "sYkKe0CeLQj9"
   },
   "source": [
    "### max() y min()"
   ]
  },
  {
   "cell_type": "code",
   "execution_count": null,
   "metadata": {
    "id": "i8ASz2GHm0oN"
   },
   "outputs": [],
   "source": [
    "#creamos un dataframe para ejemplificar las funciones\n",
    "df = pd.DataFrame({'angles': [0, 3, 4], 'degrees': [360, 180, 360]}, index=['circle', 'triangle', 'rectangle'])\n",
    "df"
   ]
  },
  {
   "cell_type": "markdown",
   "metadata": {
    "id": "bQavGGrFnH1l"
   },
   "source": [
    "Para cada columna (por defecto ```axis=0```):"
   ]
  },
  {
   "cell_type": "code",
   "execution_count": null,
   "metadata": {
    "id": "voNH4Yf5csuy"
   },
   "outputs": [],
   "source": [
    "df.max(axis=0)"
   ]
  },
  {
   "cell_type": "code",
   "execution_count": null,
   "metadata": {
    "id": "LtId7n9PnEyr"
   },
   "outputs": [],
   "source": [
    "# axis = 0 por defecto\n",
    "df.min()"
   ]
  },
  {
   "cell_type": "markdown",
   "metadata": {
    "id": "e4JTvqUnnMr8"
   },
   "source": [
    "Para cada fila (```axis=1```):"
   ]
  },
  {
   "cell_type": "code",
   "execution_count": null,
   "metadata": {
    "id": "6D5arL57nO43"
   },
   "outputs": [],
   "source": [
    "df.max(axis=1)"
   ]
  },
  {
   "cell_type": "code",
   "execution_count": null,
   "metadata": {
    "id": "ZGo4traHnPTu"
   },
   "outputs": [],
   "source": [
    "df.min(axis=1)"
   ]
  },
  {
   "cell_type": "markdown",
   "metadata": {
    "id": "rN6bfSoILUzq"
   },
   "source": [
    "### mean() y median()"
   ]
  },
  {
   "cell_type": "markdown",
   "metadata": {
    "id": "2VYzRogro2FS"
   },
   "source": [
    "Para cada columna (por defecto ```axis=0```)"
   ]
  },
  {
   "cell_type": "code",
   "execution_count": null,
   "metadata": {
    "id": "mzy5zOQ5o22-"
   },
   "outputs": [],
   "source": [
    "df.mean()"
   ]
  },
  {
   "cell_type": "code",
   "execution_count": null,
   "metadata": {
    "id": "aVCiWZimpA01"
   },
   "outputs": [],
   "source": [
    "df.median()"
   ]
  },
  {
   "cell_type": "markdown",
   "metadata": {
    "id": "zaBNhyVWo2-v"
   },
   "source": [
    "Para cada fila (```axis=1```):"
   ]
  },
  {
   "cell_type": "code",
   "execution_count": null,
   "metadata": {
    "id": "KfQwjwIYLakL"
   },
   "outputs": [],
   "source": [
    "df.mean(axis=1)"
   ]
  },
  {
   "cell_type": "code",
   "execution_count": null,
   "metadata": {
    "id": "2Hfdph4hpQ_c"
   },
   "outputs": [],
   "source": [
    "df.median(axis=1)"
   ]
  },
  {
   "cell_type": "markdown",
   "metadata": {
    "id": "HPTgv9gBLaqN"
   },
   "source": [
    "### sum()"
   ]
  },
  {
   "cell_type": "markdown",
   "metadata": {
    "id": "44usShNUpbb3"
   },
   "source": [
    "Para cada columna columna (por defecto ```axis=0```):"
   ]
  },
  {
   "cell_type": "code",
   "execution_count": null,
   "metadata": {
    "id": "cGGOiXdwLawP"
   },
   "outputs": [],
   "source": [
    "df.sum()"
   ]
  },
  {
   "cell_type": "markdown",
   "metadata": {
    "id": "8Wkp93t_pb75"
   },
   "source": [
    "Para cada fila (```axis=1```):"
   ]
  },
  {
   "cell_type": "code",
   "execution_count": null,
   "metadata": {
    "id": "g_fIp2cXpcA-"
   },
   "outputs": [],
   "source": [
    "df.sum(axis=1)"
   ]
  },
  {
   "cell_type": "markdown",
   "metadata": {
    "id": "Ep_iABKeLcN2"
   },
   "source": [
    "### std() y var()"
   ]
  },
  {
   "cell_type": "markdown",
   "metadata": {
    "id": "cqDKnpRlpzD4"
   },
   "source": [
    "Para cada columna (por defecto ```axis=0```):"
   ]
  },
  {
   "cell_type": "code",
   "execution_count": null,
   "metadata": {
    "id": "wvQx0krDLcUZ"
   },
   "outputs": [],
   "source": [
    "df.std()"
   ]
  },
  {
   "cell_type": "code",
   "execution_count": null,
   "metadata": {
    "id": "ZMP8viIvp-54"
   },
   "outputs": [],
   "source": [
    "df.var()"
   ]
  },
  {
   "cell_type": "markdown",
   "metadata": {
    "id": "wk7PNbHnpzoY"
   },
   "source": [
    "Para cada fila (```axis=1```):"
   ]
  },
  {
   "cell_type": "code",
   "execution_count": null,
   "metadata": {
    "id": "ePFAQ62DpztQ"
   },
   "outputs": [],
   "source": [
    "df.std(axis=1)"
   ]
  },
  {
   "cell_type": "code",
   "execution_count": null,
   "metadata": {
    "id": "0dzqX_njqDGZ"
   },
   "outputs": [],
   "source": [
    "df.var(axis=1)"
   ]
  },
  {
   "cell_type": "markdown",
   "metadata": {
    "id": "Z4ZjI7Xzcr91"
   },
   "source": [
    "# Aplicando funciones propias"
   ]
  },
  {
   "cell_type": "markdown",
   "metadata": {
    "id": "rLqL8hxHcvhp"
   },
   "source": [
    "## apply()\n",
    "\n",
    "[```df.apply()```](https://pandas.pydata.org/pandas-docs/stable/reference/api/pandas.DataFrame.apply.html) recibe una función y la aplica a todas las filas o columnas según el axis indicado."
   ]
  },
  {
   "cell_type": "markdown",
   "metadata": {
    "id": "YOn9rei70eoL"
   },
   "source": [
    "```axis=0``` aplica la función por columnas:"
   ]
  },
  {
   "cell_type": "code",
   "execution_count": 8,
   "metadata": {
    "id": "ik_aP1hjT-PU"
   },
   "outputs": [
    {
     "data": {
      "text/html": [
       "<div>\n",
       "<style scoped>\n",
       "    .dataframe tbody tr th:only-of-type {\n",
       "        vertical-align: middle;\n",
       "    }\n",
       "\n",
       "    .dataframe tbody tr th {\n",
       "        vertical-align: top;\n",
       "    }\n",
       "\n",
       "    .dataframe thead th {\n",
       "        text-align: right;\n",
       "    }\n",
       "</style>\n",
       "<table border=\"1\" class=\"dataframe\">\n",
       "  <thead>\n",
       "    <tr style=\"text-align: right;\">\n",
       "      <th></th>\n",
       "      <th>longitude</th>\n",
       "      <th>latitude</th>\n",
       "      <th>housing_median_age</th>\n",
       "      <th>total_rooms</th>\n",
       "      <th>total_bedrooms</th>\n",
       "      <th>population</th>\n",
       "      <th>households</th>\n",
       "      <th>median_income</th>\n",
       "      <th>median_house_value</th>\n",
       "    </tr>\n",
       "  </thead>\n",
       "  <tbody>\n",
       "    <tr>\n",
       "      <td>0</td>\n",
       "      <td>-0.673091</td>\n",
       "      <td>0.430967</td>\n",
       "      <td>-0.019771</td>\n",
       "      <td>0.001205</td>\n",
       "      <td>0.005674</td>\n",
       "      <td>0.000655</td>\n",
       "      <td>0.005481</td>\n",
       "      <td>0.861876</td>\n",
       "      <td>1.528686e-05</td>\n",
       "    </tr>\n",
       "    <tr>\n",
       "      <td>1</td>\n",
       "      <td>0.484218</td>\n",
       "      <td>-0.460195</td>\n",
       "      <td>0.146722</td>\n",
       "      <td>-0.000322</td>\n",
       "      <td>-0.001661</td>\n",
       "      <td>-0.000614</td>\n",
       "      <td>-0.002131</td>\n",
       "      <td>-0.049668</td>\n",
       "      <td>-9.447532e-07</td>\n",
       "    </tr>\n",
       "    <tr>\n",
       "      <td>2</td>\n",
       "      <td>0.635440</td>\n",
       "      <td>-0.597737</td>\n",
       "      <td>-0.019771</td>\n",
       "      <td>0.001014</td>\n",
       "      <td>0.002455</td>\n",
       "      <td>0.000563</td>\n",
       "      <td>0.002913</td>\n",
       "      <td>0.614991</td>\n",
       "      <td>8.126422e-06</td>\n",
       "    </tr>\n",
       "    <tr>\n",
       "      <td>3</td>\n",
       "      <td>0.465701</td>\n",
       "      <td>-0.586276</td>\n",
       "      <td>-0.009365</td>\n",
       "      <td>-0.001250</td>\n",
       "      <td>-0.007826</td>\n",
       "      <td>-0.001940</td>\n",
       "      <td>-0.008286</td>\n",
       "      <td>0.718731</td>\n",
       "      <td>1.386828e-05</td>\n",
       "    </tr>\n",
       "    <tr>\n",
       "      <td>4</td>\n",
       "      <td>0.061415</td>\n",
       "      <td>0.132958</td>\n",
       "      <td>-0.103018</td>\n",
       "      <td>-0.000495</td>\n",
       "      <td>-0.003041</td>\n",
       "      <td>-0.000543</td>\n",
       "      <td>-0.003057</td>\n",
       "      <td>-0.250029</td>\n",
       "      <td>-1.009313e-05</td>\n",
       "    </tr>\n",
       "    <tr>\n",
       "      <td>5</td>\n",
       "      <td>0.095362</td>\n",
       "      <td>0.184536</td>\n",
       "      <td>0.084287</td>\n",
       "      <td>-0.000638</td>\n",
       "      <td>-0.003688</td>\n",
       "      <td>-0.000869</td>\n",
       "      <td>-0.003820</td>\n",
       "      <td>-0.635909</td>\n",
       "      <td>-1.151171e-05</td>\n",
       "    </tr>\n",
       "    <tr>\n",
       "      <td>6</td>\n",
       "      <td>-0.481749</td>\n",
       "      <td>0.792016</td>\n",
       "      <td>0.146722</td>\n",
       "      <td>-0.000644</td>\n",
       "      <td>-0.003438</td>\n",
       "      <td>-0.000972</td>\n",
       "      <td>-0.003496</td>\n",
       "      <td>-0.635727</td>\n",
       "      <td>-1.151171e-05</td>\n",
       "    </tr>\n",
       "    <tr>\n",
       "      <td>7</td>\n",
       "      <td>-0.241029</td>\n",
       "      <td>-0.110607</td>\n",
       "      <td>-0.103018</td>\n",
       "      <td>0.000192</td>\n",
       "      <td>0.001703</td>\n",
       "      <td>0.000313</td>\n",
       "      <td>0.001664</td>\n",
       "      <td>-0.162948</td>\n",
       "      <td>-1.871171e-06</td>\n",
       "    </tr>\n",
       "    <tr>\n",
       "      <td>8</td>\n",
       "      <td>-0.916897</td>\n",
       "      <td>0.726111</td>\n",
       "      <td>-0.144641</td>\n",
       "      <td>0.000687</td>\n",
       "      <td>0.004754</td>\n",
       "      <td>0.000497</td>\n",
       "      <td>0.005320</td>\n",
       "      <td>-0.028284</td>\n",
       "      <td>7.826301e-07</td>\n",
       "    </tr>\n",
       "    <tr>\n",
       "      <td>9</td>\n",
       "      <td>0.570630</td>\n",
       "      <td>-0.511773</td>\n",
       "      <td>0.021852</td>\n",
       "      <td>0.000251</td>\n",
       "      <td>0.005068</td>\n",
       "      <td>0.002910</td>\n",
       "      <td>0.005412</td>\n",
       "      <td>-0.433034</td>\n",
       "      <td>-2.131726e-06</td>\n",
       "    </tr>\n",
       "  </tbody>\n",
       "</table>\n",
       "</div>"
      ],
      "text/plain": [
       "   longitude  latitude  housing_median_age  total_rooms  total_bedrooms  \\\n",
       "0  -0.673091  0.430967           -0.019771     0.001205        0.005674   \n",
       "1   0.484218 -0.460195            0.146722    -0.000322       -0.001661   \n",
       "2   0.635440 -0.597737           -0.019771     0.001014        0.002455   \n",
       "3   0.465701 -0.586276           -0.009365    -0.001250       -0.007826   \n",
       "4   0.061415  0.132958           -0.103018    -0.000495       -0.003041   \n",
       "5   0.095362  0.184536            0.084287    -0.000638       -0.003688   \n",
       "6  -0.481749  0.792016            0.146722    -0.000644       -0.003438   \n",
       "7  -0.241029 -0.110607           -0.103018     0.000192        0.001703   \n",
       "8  -0.916897  0.726111           -0.144641     0.000687        0.004754   \n",
       "9   0.570630 -0.511773            0.021852     0.000251        0.005068   \n",
       "\n",
       "   population  households  median_income  median_house_value  \n",
       "0    0.000655    0.005481       0.861876        1.528686e-05  \n",
       "1   -0.000614   -0.002131      -0.049668       -9.447532e-07  \n",
       "2    0.000563    0.002913       0.614991        8.126422e-06  \n",
       "3   -0.001940   -0.008286       0.718731        1.386828e-05  \n",
       "4   -0.000543   -0.003057      -0.250029       -1.009313e-05  \n",
       "5   -0.000869   -0.003820      -0.635909       -1.151171e-05  \n",
       "6   -0.000972   -0.003496      -0.635727       -1.151171e-05  \n",
       "7    0.000313    0.001664      -0.162948       -1.871171e-06  \n",
       "8    0.000497    0.005320      -0.028284        7.826301e-07  \n",
       "9    0.002910    0.005412      -0.433034       -2.131726e-06  "
      ]
     },
     "execution_count": 8,
     "metadata": {},
     "output_type": "execute_result"
    }
   ],
   "source": [
    "f = lambda x: (x - x.mean())/x.var()\n",
    "\n",
    "#aplica la funcion a todas las filas, columna por columna\n",
    "cali_housing.apply(f, axis=0)"
   ]
  },
  {
   "cell_type": "markdown",
   "metadata": {
    "id": "r0nPxa8k0nJ7"
   },
   "source": [
    "```axis = 1``` aplica la función por filas:"
   ]
  },
  {
   "cell_type": "code",
   "execution_count": null,
   "metadata": {
    "id": "YicJc0p2hGTw"
   },
   "outputs": [],
   "source": [
    "#aplica la funcion a todas las filas\n",
    "cali_housing.apply(f, axis=1)"
   ]
  },
  {
   "cell_type": "markdown",
   "metadata": {
    "id": "874C05ZNcwDB"
   },
   "source": [
    "## applymap()\n",
    "\n",
    "[```df.applymap()```](https://pandas.pydata.org/pandas-docs/stable/reference/api/pandas.DataFrame.applymap.html#pandas.DataFrame.applymap) aplica una función elemento por elemento al objeto de Pandas."
   ]
  },
  {
   "cell_type": "code",
   "execution_count": null,
   "metadata": {
    "id": "GOaAV64ncwKT"
   },
   "outputs": [],
   "source": [
    "f = lambda x: round(x)\n",
    "\n",
    "#aplica la funcion a todos los elementos\n",
    "cali_housing.map(f)"
   ]
  },
  {
   "cell_type": "markdown",
   "metadata": {
    "id": "rH43oj20UmsY"
   },
   "source": [
    "# Operaciones en columnas\n",
    "\n",
    "Puedes realizar operaciones directamente en las columnas de un DataFrame para obtener resultados como una Serie o para crear nuevas columnas.  Por ejemplo:\n",
    "\n",
    "* Relizar operaciones binarias entre columnas. (suma, resta, multiplicación, etc.).\n",
    "* Aplicar métodos estadísticos en las columnas. (sum(), mean(), var(), etc.).\n",
    "* Una mezcla de operaciones binarias y métodos."
   ]
  },
  {
   "cell_type": "code",
   "execution_count": null,
   "metadata": {
    "id": "O3KKVANJUrDx"
   },
   "outputs": [],
   "source": [
    "#creando un dataframe\n",
    "df = pd.DataFrame({\"A\":[1, 2, 3], \"B\":[2, 2, 2]})\n",
    "df"
   ]
  },
  {
   "cell_type": "code",
   "execution_count": null,
   "metadata": {
    "id": "s5NCuK2LbE8y"
   },
   "outputs": [],
   "source": [
    "#operaciones entre columna regresan una serie\n",
    "df[\"A\"] * df[\"B\"]"
   ]
  },
  {
   "cell_type": "code",
   "execution_count": null,
   "metadata": {
    "id": "LcpfXx-mb2-f"
   },
   "outputs": [],
   "source": [
    "#generar una nueva columna desde una operacion\n",
    "df[\"A^B\"] = df[\"A\"].pow(df[\"B\"])\n",
    "df "
   ]
  },
  {
   "cell_type": "code",
   "execution_count": null,
   "metadata": {
    "id": "NR78G-lZcPEb"
   },
   "outputs": [],
   "source": [
    "#aplicar un metodo estadistico a una columna genera un valor\n",
    "df[\"A\"].sum()"
   ]
  },
  {
   "cell_type": "code",
   "execution_count": null,
   "metadata": {
    "id": "I7L1MVTIcl99"
   },
   "outputs": [],
   "source": [
    "#generando una nueva columna con la suma de las filas\n",
    "df[\"suma\"] = df.sum(axis=1)\n",
    "df"
   ]
  },
  {
   "cell_type": "markdown",
   "metadata": {
    "id": "kQX4ek7hVAuu"
   },
   "source": [
    "# Funciones por grupos y agregación"
   ]
  },
  {
   "cell_type": "markdown",
   "metadata": {
    "id": "3kP0btfyqbvP"
   },
   "source": [
    "## aggregate()/agg()\n",
    "\n",
    "La agregación de datos es una transformación que produce un valor escalar a partir de un arreglo, por ejemplo, las funciones/métodos \"sum\" y \"mean\". Los métodos [```aggregate()```](https://pandas.pydata.org/pandas-docs/stable/reference/api/pandas.DataFrame.aggregate.html) y su alias [```agg()```](https://pandas.pydata.org/pandas-docs/stable/reference/api/pandas.DataFrame.agg.html) permiten aplicar una o más funciones de agregación a los objetos de Pandas. \n",
    "\n",
    "Los parámetros principales son:\n",
    "\n",
    "\n",
    "\n",
    "```\n",
    "func : funcion, str, list o dict\n",
    "  La funcion o funciones utilizadas para la agregacion de los datos.\n",
    "\n",
    "  Las combinaciones aceptadas:\n",
    "\n",
    "  * funcion\n",
    "  * cadena con el nombre de la funcion\n",
    "  * lista de funciones y/o nombre de las funciones (ej, [np.sum, 'mean'])\n",
    "  * diccionario de etiquetas del axis que mapean a:\n",
    "      - las funciones.\n",
    "      - nombre de funciones.\n",
    "      - lista de funciones.\n",
    "\n",
    "axis : {0 or ‘index’, 1 or ‘columns’}, por defecto 0\n",
    "  Si axis=0 o ‘index’: aplica la funcion sobre todas las filas por cada columna.\n",
    "  Si axis=1 o ‘columns’: aplica la funcion sobre cada fila para todas las columnas.\n",
    "```\n",
    "\n"
   ]
  },
  {
   "cell_type": "code",
   "execution_count": null,
   "metadata": {
    "id": "n7WDkeCDh9Ne"
   },
   "outputs": [],
   "source": [
    "df = pd.DataFrame([[1, 2, 3],\n",
    "                   [4, 5, 6],\n",
    "                   [7, 8, 9]],\n",
    "                  columns=['A', 'B', 'C'])\n",
    "df"
   ]
  },
  {
   "cell_type": "markdown",
   "metadata": {
    "id": "UAmPy6H_kEV1"
   },
   "source": [
    "Por columna (por defecto axis=0):"
   ]
  },
  {
   "cell_type": "code",
   "execution_count": null,
   "metadata": {
    "id": "F4qbT9ESeVG-"
   },
   "outputs": [],
   "source": [
    "#funcion de agregacion para calcular varios estadisticos a las columnas\n",
    "df.agg([\"min\", \"max\"])"
   ]
  },
  {
   "cell_type": "markdown",
   "metadata": {
    "id": "0h2JljwtkIYQ"
   },
   "source": [
    "Por filas (axis=1):"
   ]
  },
  {
   "cell_type": "code",
   "execution_count": null,
   "metadata": {
    "id": "uTuA399VkIcC"
   },
   "outputs": [],
   "source": [
    "#funcion de agregacion para calcular varios estadisticos a las filas\n",
    "df.agg([\"min\", \"max\"], axis=1)"
   ]
  },
  {
   "cell_type": "markdown",
   "metadata": {
    "id": "3yyCfud-kTdn"
   },
   "source": [
    "Usando un diccionario como parámetro:"
   ]
  },
  {
   "cell_type": "code",
   "execution_count": null,
   "metadata": {
    "id": "8qrOoj_7kUQs"
   },
   "outputs": [],
   "source": [
    "df.agg({\"A\": np.min, \"B\": np.max, \"C\": [np.mean, np.std]})"
   ]
  },
  {
   "cell_type": "markdown",
   "metadata": {
    "id": "C7R7riKcVDt6"
   },
   "source": [
    "## groupby()\n",
    "\n",
    "El método [```df.groupby()```](https://pandas.pydata.org/pandas-docs/stable/reference/api/pandas.DataFrame.groupby.html) permite generar grupos de datos usando una o más columnas para aplicar funciones de transformación o de agregación. \n",
    "\n",
    "Groupby es útil para contestar preguntas tipo: ¿cuál es la media de altura en hombres y mujeres? o ¿cúal es estado con menor población para cada país?"
   ]
  },
  {
   "cell_type": "code",
   "execution_count": null,
   "metadata": {
    "id": "Ba0EwO9GVCsO"
   },
   "outputs": [],
   "source": [
    "DataFrame({\"Sexo\": [\"M\", \"F\", \"F\", \"M\", \"F\"], \"Altura\": [1.68, 1.55, 1.75, 1.82, 1.65], \"Peso\": [70, 50, 68, 72, 60]})\n",
    "df"
   ]
  },
  {
   "cell_type": "code",
   "execution_count": null,
   "metadata": {
    "id": "4SjCIZ6Cm2RN"
   },
   "outputs": [],
   "source": [
    "#generar un dataframe argupado por una columna\n",
    "df.groupby(\"Sexo\")"
   ]
  },
  {
   "cell_type": "markdown",
   "metadata": {
    "id": "Qkxna7JlnIbD"
   },
   "source": [
    "groupby() por si solo no resulta en la salida esperada.\n",
    "\n",
    "Hay que aplicar una función:"
   ]
  },
  {
   "cell_type": "code",
   "execution_count": null,
   "metadata": {
    "id": "uw0pANH5nans"
   },
   "outputs": [],
   "source": [
    "#la media de las columnas\n",
    "df.groupby(\"Sexo\").mean()"
   ]
  },
  {
   "cell_type": "code",
   "execution_count": null,
   "metadata": {
    "id": "jlBYy_eWnrm9"
   },
   "outputs": [],
   "source": [
    "#seleccionando una sola columna para la agregacion\n",
    "df.groupby(\"Sexo\")[\"Altura\"].mean()"
   ]
  },
  {
   "cell_type": "markdown",
   "metadata": {
    "id": "j7H3MQN3hrSB"
   },
   "source": [
    "**groupby() y agg()**\n",
    "\n",
    "Puedes mezclar groupby() con agg() para aplicar más de una función. "
   ]
  },
  {
   "cell_type": "code",
   "execution_count": null,
   "metadata": {
    "id": "9l3IAtYBhrv8"
   },
   "outputs": [],
   "source": [
    "df.groupby(\"Sexo\").agg([\"mean\", \"std\"])"
   ]
  },
  {
   "cell_type": "markdown",
   "metadata": {
    "id": "WNskBq1do9g5"
   },
   "source": [
    "**Agrupando con más de una columna**"
   ]
  },
  {
   "cell_type": "code",
   "execution_count": null,
   "metadata": {
    "id": "aqA4S2dPo97J"
   },
   "outputs": [],
   "source": [
    "#agregar una nueva columna al df\n",
    "df[\"Estado\"] = [\"Morelos\", \"DF\", \"Morelos\", \"DF\", \"DF\"]\n",
    "df"
   ]
  },
  {
   "cell_type": "code",
   "execution_count": null,
   "metadata": {
    "id": "bA7HP3yLpY9N"
   },
   "outputs": [],
   "source": [
    "#usando mas de una clave para la agrupacion\n",
    "df.groupby([\"Sexo\", \"Estado\"]).agg(\"mean\")"
   ]
  },
  {
   "cell_type": "markdown",
   "metadata": {
    "id": "tn76gw-kVIX5"
   },
   "source": [
    "# Combinar Dataframes"
   ]
  },
  {
   "cell_type": "markdown",
   "metadata": {
    "id": "QTjnCTA0oKOZ"
   },
   "source": [
    "## append()\n",
    "\n",
    "[```df.append()```](https://pandas.pydata.org/pandas-docs/stable/reference/api/pandas.DataFrame.append.html) concatena las filas de un DataFrame a otro usando las columnas que coinciden. Columnas que no coinciden son agregadas al DataFrame resultante."
   ]
  },
  {
   "cell_type": "code",
   "execution_count": null,
   "metadata": {
    "id": "H3iFTLk7VKbK"
   },
   "outputs": [],
   "source": [
    "df = pd.DataFrame([[1, 2], [3, 4]], columns=[\"A\", \"B\"])\n",
    "df"
   ]
  },
  {
   "cell_type": "code",
   "execution_count": null,
   "metadata": {
    "id": "l6w99m9aqLaO"
   },
   "outputs": [],
   "source": [
    "df2 = pd.DataFrame([[5, 6], [7, 8]], columns=[\"A\", \"B\"])\n",
    "df2"
   ]
  },
  {
   "cell_type": "code",
   "execution_count": null,
   "metadata": {
    "id": "37SLtmNhrfPi"
   },
   "outputs": [],
   "source": [
    "df.append(df2)"
   ]
  },
  {
   "cell_type": "markdown",
   "metadata": {
    "id": "9exwc3KToKoF"
   },
   "source": [
    "## merge() y join()\n",
    "\n",
    "[```df.merge()```](https://pandas.pydata.org/pandas-docs/stable/reference/api/pandas.DataFrame.merge.html) y [```df.join()```](https://pandas.pydata.org/pandas-docs/stable/reference/api/pandas.DataFrame.join.html) permiten joins de dataframes al estilo SQL.\n",
    "\n",
    "Si no conoces SQL visita este sitio para darte una idea de los tipos de joins disponibles: https://www.w3schools.com/sql/sql_join.asp\n",
    "\n",
    "![wikipedia](https://upload.wikimedia.org/wikipedia/commons/c/c9/Joins_del_SQL.svg)"
   ]
  },
  {
   "cell_type": "markdown",
   "metadata": {
    "id": "p7okKBKWtsea"
   },
   "source": [
    "**merge()** \n",
    "\n",
    "Permite la unión de Dataframes o Series al estilo base de datos.\n",
    "\n",
    "Parámetros principales:\n",
    "\n",
    "\n",
    "```\n",
    "right : DataFrame o  Series\n",
    "  Objeto con quien realizar merge()\n",
    "\n",
    "how:{‘left’, ‘right’, ‘outer’, ‘inner’}, Por defecto ‘inner’\n",
    "  Type of merge to be performed.\n",
    "\n",
    "  left: similar a un left outer join de SQL.\n",
    "  right: similar a un  right outer join SQL.\n",
    "  outer:  similar a un full outer join SQL.\n",
    "  inner: similar a un inner join de SQL.\n",
    "\n",
    "on : etiqueta o lista de etiquetas\n",
    "  Columnas o indices para unir. Deben estar en ambos DataFrames.\n",
    "\n",
    "left_on : etiqueta, lista de etiquetas\n",
    "  Columnas o indices para unir del DataFrame de la izquierda.\n",
    "\n",
    "right_on : etiqueta, lista de etiquetas\n",
    "  Columnas o indices para unir del DataFrame de la derecha.\n",
    "```\n"
   ]
  },
  {
   "cell_type": "code",
   "execution_count": null,
   "metadata": {
    "id": "2Du2Y5qHqOOK"
   },
   "outputs": [],
   "source": [
    "# df1 tiene un elemento unico u1 que df2 no tiene\n",
    "df1 = pd.DataFrame({'key': ['a', 'b', 'u1', 'a'], 'value': [1, 2, 3, 5]})\n",
    "df1"
   ]
  },
  {
   "cell_type": "code",
   "execution_count": null,
   "metadata": {
    "id": "Cj-XgVtqtYA7"
   },
   "outputs": [],
   "source": [
    "# df2 tiene un elemento unico u2 que no df1 no tiene\n",
    "df2 = pd.DataFrame({'key': ['a', 'b', 'u2', 'a'], 'value': [5, 6, 7, 8]})\n",
    "df2"
   ]
  },
  {
   "cell_type": "markdown",
   "metadata": {
    "id": "GCpWIW2A1iEV"
   },
   "source": [
    "Inner\n",
    "\n",
    "```\n",
    "df1.merge(df2, how=\"inner\", on=\"key\")\n",
    "```\n",
    "\n",
    "Mantiene las llaves ```key``` que coinciden en ambos dataframes.\n",
    "\n",
    "\n",
    "| df1   || coincide en ```key``` de df2|\n",
    "|---||----|\n",
    "| (a, 1) || (a, 5) y (a, 8) |\n",
    "| (a, 5) || (a, 5) y (a, 8) |\n",
    "| (b, 2) || (b, 6) |"
   ]
  },
  {
   "cell_type": "code",
   "execution_count": null,
   "metadata": {
    "id": "nC1dlsPztc-I"
   },
   "outputs": [],
   "source": [
    "df1.merge(df2, how=\"inner\", on=\"key\")"
   ]
  },
  {
   "cell_type": "markdown",
   "metadata": {
    "id": "5dJcT9MD1jVL"
   },
   "source": [
    "Outer\n",
    "\n",
    "Mantiene las filas de ambos Dataframes, sin importar si existe o no existe un mapeo entre las llaves ```key```.\n",
    "\n",
    "| df1   || df2|\n",
    "|---||----|\n",
    "| (a, 1) || (a, 5) y (a, 8) |\n",
    "| (a, 5) || (a, 5) y (a, 8) |\n",
    "| (b, 2) || (b, 6) |\n",
    "| (u1, 3)|| NaN |\n",
    "| NaN || (u2, 7)|"
   ]
  },
  {
   "cell_type": "code",
   "execution_count": null,
   "metadata": {
    "id": "a4KVmbhp1lNu"
   },
   "outputs": [],
   "source": [
    "df1.merge(df2, how=\"outer\", on=\"key\")"
   ]
  },
  {
   "cell_type": "markdown",
   "metadata": {
    "id": "UfMmCgEn1lfT"
   },
   "source": [
    "Left\n",
    "\n",
    "Mantiene todas las filas del Dataframe de la izquierda y en las que existe un match en ```key``` en el Dataframe de la derecha.\n",
    "\n",
    "| df1 (left)   || df2 (right)|\n",
    "|---||----|\n",
    "| (a, 1) || (a, 5) y (a, 8) |\n",
    "| (a, 5) || (a, 5) y (a, 8) |\n",
    "| (b, 2) || (b, 6) |\n",
    "| (u1, 3)|| NaN |"
   ]
  },
  {
   "cell_type": "code",
   "execution_count": null,
   "metadata": {
    "id": "8yl-C27B1lzo"
   },
   "outputs": [],
   "source": [
    "df1.merge(df2, how=\"left\", on=\"key\")"
   ]
  },
  {
   "cell_type": "markdown",
   "metadata": {
    "id": "pWfriTKA1mJG"
   },
   "source": [
    "Right\n",
    "\n",
    "Mantiene todas las filas del Dataframe de la derecha y en las que existe un match en ```key``` en el Dataframe de la izquierda.\n",
    "\n",
    "| df1 (left)   || df2 (right)|\n",
    "|---||----|\n",
    "| (a, 1) || (a, 5) y (a, 8) |\n",
    "| (a, 5) || (a, 5) y (a, 8) |\n",
    "| (b, 2) || (b, 6) |\n",
    "| NaN || (u2, 7) |"
   ]
  },
  {
   "cell_type": "code",
   "execution_count": null,
   "metadata": {
    "id": "I1bNQtDH1mgL"
   },
   "outputs": [],
   "source": [
    "df1.merge(df2, how=\"right\", on=\"key\")"
   ]
  },
  {
   "cell_type": "markdown",
   "metadata": {
    "id": "RcwPQghivj8S"
   },
   "source": [
    "**join()**\n",
    "\n",
    "Permite unir las columnas de uno o más objetos usando su índice o usando una columna como clave.\n",
    "\n",
    "\n",
    "Parámetros:\n",
    "```\n",
    "other : DataFrame, Series, o lista de DataFrames\n",
    "\n",
    "on : str o lista de str, opcional (por defecto usa los indices)\n",
    "\n",
    "how:{‘left’, ‘right’, ‘outer’, ‘inner’}, Por defecto ‘inner’\n",
    "  Type of merge to be performed.\n",
    "\n",
    "  left: usar el indice del DataFrame que llama al metodo.\n",
    "  right: usar el indice de other.\n",
    "  outer:  union de los indices.\n",
    "  inner: interseccion de los indices.\n",
    "\n",
    "lsuffix : str, por defecto ‘’\n",
    "  sufijo a utilizar del dataframe izq para la columnas sobrelapadas.\n",
    "\n",
    "rsuffix : str, default ‘’\n",
    "  sufijo a utilizar del dataframe der para la columnas sobrelapadas.\n",
    "```\n",
    "\n"
   ]
  },
  {
   "cell_type": "code",
   "execution_count": null,
   "metadata": {
    "id": "OPJ0nnz0w_Sk"
   },
   "outputs": [],
   "source": [
    "df1 = pd.DataFrame({'key': ['foo', 'bar', 'baz', 'foo'], 'value': [1, 2, 3, 5]}).set_index(\"key\")\n",
    "df1"
   ]
  },
  {
   "cell_type": "code",
   "execution_count": null,
   "metadata": {
    "id": "s1NKoBucw_b2"
   },
   "outputs": [],
   "source": [
    "df2 = pd.DataFrame({'key': ['foo', 'bar', 'baz', 'foo'], 'value': [5, 6, 7, 8]}).set_index(\"key\")\n",
    "df2"
   ]
  },
  {
   "cell_type": "code",
   "execution_count": null,
   "metadata": {
    "id": "XxGont_ExMFH"
   },
   "outputs": [],
   "source": [
    "df1.join(df2, lsuffix=\"_l\", rsuffix=\"_r\")"
   ]
  },
  {
   "cell_type": "markdown",
   "metadata": {
    "id": "_L-No5v8Vm2a"
   },
   "source": [
    "# Cadenas\n",
    "\n",
    "Muchas de los métodos/funciones de Python para variables string, tienen un [método equivalente](https://pandas.pydata.org/pandas-docs/stable/user_guide/text.html#text-data-types) en los objetos Series y DataFrames de Pandas.\n",
    "\n",
    "Métodos principales para cadenas:\n",
    "\n",
    "* str.cat(other, sep), concatenta sep y other a cada str en el objeto.\n",
    "* str.split(str), divide la cadena usando el separador especificado.\n",
    "* str.replace(patt, repl), reemplaza en la cadena patt por repl.\n",
    "* str.lower() y str.upper(), para convertir cadenas a minúsculas o mayúsculas.\n",
    "* str.len(), calcula la longitud de la cadena.\n",
    "* str.count(str), cuenta el número de apariciones de str en la cadena.\n",
    "* str.strip(str), elimina str al inicio y final de la cadena.\n",
    "\n",
    "Visita la documentación para la lista completa de [métodos para cadenas de texto de Pandas](https://pandas.pydata.org/pandas-docs/stable/user_guide/text.html#method-summary).\n"
   ]
  },
  {
   "cell_type": "code",
   "execution_count": null,
   "metadata": {
    "id": "x6OD5UjjVRgL"
   },
   "outputs": [],
   "source": [
    "s1 = pd.Series([\"A\", \"B\", \"C\"])\n",
    "s1"
   ]
  },
  {
   "cell_type": "code",
   "execution_count": null,
   "metadata": {
    "id": "MxstMIglhypx"
   },
   "outputs": [],
   "source": [
    "s2 = pd.Series([\"1\", \"2\", \"3\"])\n",
    "s2"
   ]
  },
  {
   "cell_type": "code",
   "execution_count": null,
   "metadata": {
    "id": "x9F2lAoyg765"
   },
   "outputs": [],
   "source": [
    "#concatenando s1 y s2 generando s3\n",
    "s3 = s1.str.cat(s2, sep=\"-\")\n",
    "s3"
   ]
  },
  {
   "cell_type": "code",
   "execution_count": null,
   "metadata": {
    "id": "BHPmiTLFiG4a"
   },
   "outputs": [],
   "source": [
    "#str split\n",
    "s3.str.split(\"-\")"
   ]
  },
  {
   "cell_type": "code",
   "execution_count": null,
   "metadata": {
    "id": "p5UZmIieiOYh"
   },
   "outputs": [],
   "source": [
    "#str.replace\n",
    "s3.str.replace(pat=\"-\", repl=\"_\")"
   ]
  },
  {
   "cell_type": "code",
   "execution_count": null,
   "metadata": {
    "id": "EA3DyWgOiAen"
   },
   "outputs": [],
   "source": [
    "#un nuevo df\n",
    "s = pd.Series([\"gato\", \"perro\", \"elefante\"])"
   ]
  },
  {
   "cell_type": "code",
   "execution_count": null,
   "metadata": {
    "id": "DwtQJJwriluM"
   },
   "outputs": [],
   "source": [
    "#upper\n",
    "s.str.upper()"
   ]
  },
  {
   "cell_type": "code",
   "execution_count": null,
   "metadata": {
    "id": "ISoIjll3ir8W"
   },
   "outputs": [],
   "source": [
    "#len\n",
    "s.str.len()"
   ]
  },
  {
   "cell_type": "code",
   "execution_count": null,
   "metadata": {
    "id": "1axpUP6vivRY"
   },
   "outputs": [],
   "source": [
    "#count\n",
    "s.str.count(\"o\")"
   ]
  },
  {
   "cell_type": "code",
   "execution_count": null,
   "metadata": {
    "id": "4AfZk9Pyi42j"
   },
   "outputs": [],
   "source": [
    "#un nuevo df\n",
    "s4 = pd.Series([\"_A_\", \"_B_\", \"_C_\", \"_D_\"])\n",
    "s4"
   ]
  },
  {
   "cell_type": "code",
   "execution_count": null,
   "metadata": {
    "id": "xGUWuWAkjJGM"
   },
   "outputs": [],
   "source": [
    "s4.str.strip(\"_\")"
   ]
  },
  {
   "cell_type": "markdown",
   "metadata": {
    "id": "k3f__tkwckYx"
   },
   "source": [
    "# Series de tiempo\n",
    "\n",
    "Pandas utiliza el tipo de dato \"Timestamp\" para el manejo de fechas y tiempo."
   ]
  },
  {
   "cell_type": "markdown",
   "metadata": {
    "id": "f8dQbtFPg0RI"
   },
   "source": [
    "## String a Timestamp"
   ]
  },
  {
   "cell_type": "code",
   "execution_count": null,
   "metadata": {
    "id": "00MB65mOckiQ"
   },
   "outputs": [],
   "source": [
    "# Convención norteamericana\n",
    "ts_index = pd.to_datetime([\"10/09/2006\", \"11/09/2006\", \"12/09/2006\"])\n",
    "ts_index"
   ]
  },
  {
   "cell_type": "code",
   "execution_count": null,
   "metadata": {},
   "outputs": [],
   "source": [
    "# Convención mexicana\n",
    "ts_index = pd.to_datetime([\"10/09/2006\", \"11/09/2006\", \"12/09/2006\"],dayfirst=True)\n",
    "ts_index"
   ]
  },
  {
   "cell_type": "markdown",
   "metadata": {},
   "source": [
    "De vuelta a string:\n",
    "1. Conversión usando astype()\n",
    "2. Conversión usando strftime()"
   ]
  },
  {
   "cell_type": "code",
   "execution_count": null,
   "metadata": {},
   "outputs": [],
   "source": [
    "# usando astype()\n",
    "ts_index.astype(str)"
   ]
  },
  {
   "cell_type": "code",
   "execution_count": null,
   "metadata": {},
   "outputs": [],
   "source": [
    "# usando strftime()\n",
    "ts_index.strftime(\"%d/%m/%y\")"
   ]
  },
  {
   "cell_type": "markdown",
   "metadata": {},
   "source": [
    "Lapso entre tiempos"
   ]
  },
  {
   "cell_type": "code",
   "execution_count": null,
   "metadata": {},
   "outputs": [],
   "source": [
    "ts_index = pd.to_datetime([\"10/09/2006 23:59:00\", \"11/09/2006 00:01:00\", \"12/09/2006 13:15:45\"],dayfirst=True)\n",
    "\n",
    "lapso = pd.to_timedelta([ts_index[1]-ts_index[0],ts_index[2]-ts_index[1]])\n",
    "print(lapso)\n",
    "lapso_en_segundos = lapso.seconds\n",
    "print(lapso_en_segundos)"
   ]
  },
  {
   "cell_type": "markdown",
   "metadata": {
    "id": "OAwU2ETlg7Aq"
   },
   "source": [
    "Creando una serie de tiempo desde objetos:"
   ]
  },
  {
   "cell_type": "code",
   "execution_count": null,
   "metadata": {
    "id": "oXrkDmylg7KB"
   },
   "outputs": [],
   "source": [
    "ts = pd.Series([\"5\", \"10\", \"15\"], index=ts_index)\n",
    "ts"
   ]
  },
  {
   "cell_type": "markdown",
   "metadata": {
    "id": "tc8pIQAMmods"
   },
   "source": [
    "Creando una serie de tiempo usando aleatoriamente usando Numpy y date_range de Pandas:"
   ]
  },
  {
   "cell_type": "code",
   "execution_count": null,
   "metadata": {
    "id": "I-g0NLy4moi6"
   },
   "outputs": [],
   "source": [
    "ts = pd.Series(np.random.normal(0, 1, 100), index=pd.date_range(start=\"2006-01-01\", periods=100, freq=\"D\"))\n",
    "ts.head(10)"
   ]
  },
  {
   "cell_type": "markdown",
   "metadata": {
    "id": "oRuwhTMRmdNM"
   },
   "source": [
    "## Indexing\n",
    "\n",
    "Puedes utilizar fechas para indexar una serie de tiempo:"
   ]
  },
  {
   "cell_type": "code",
   "execution_count": null,
   "metadata": {
    "id": "wGH6izcRl4q_"
   },
   "outputs": [],
   "source": [
    "#usando el anio y mes como indice\n",
    "ts[\"2006-02\"]"
   ]
  },
  {
   "cell_type": "code",
   "execution_count": null,
   "metadata": {
    "id": "3Ap7AU9bunh_"
   },
   "outputs": [],
   "source": [
    "#una rebanada entre fechas\n",
    "ts[\"2006-02-20\": \"2006-03-10\"]"
   ]
  },
  {
   "cell_type": "markdown",
   "metadata": {
    "id": "OhcR1uS6n2py"
   },
   "source": [
    "## Resampling / agregación\n",
    "\n",
    "Permite obtener desde una serie de tiempo una nueva serie de tiempo a una frecuencia de tiempo menor al agregar los datos."
   ]
  },
  {
   "cell_type": "code",
   "execution_count": null,
   "metadata": {
    "id": "jwU6jpz0n41e"
   },
   "outputs": [],
   "source": [
    "#De frecuencia por dias a semanas\n",
    "ts.resample(\"W\").mean()"
   ]
  },
  {
   "cell_type": "markdown",
   "metadata": {
    "id": "-xUm9dhkn5RX"
   },
   "source": [
    "## Ventanas\n",
    "\n",
    "Puedes aplicar [ventanas deslizantes a series de tiempo](https://pandas.pydata.org/pandas-docs/stable/reference/window.html#window) para calcular distintos estadísticos."
   ]
  },
  {
   "cell_type": "code",
   "execution_count": null,
   "metadata": {
    "id": "DCVmpAFTn5e6"
   },
   "outputs": [],
   "source": [
    "ts.rolling(window=7).mean().head(14)"
   ]
  }
 ],
 "metadata": {
  "colab": {
   "collapsed_sections": [],
   "include_colab_link": true,
   "name": "Pandas.ipynb",
   "provenance": []
  },
  "kernelspec": {
   "display_name": "Python 3 (ipykernel)",
   "language": "python",
   "name": "python3"
  },
  "language_info": {
   "codemirror_mode": {
    "name": "ipython",
    "version": 3
   },
   "file_extension": ".py",
   "mimetype": "text/x-python",
   "name": "python",
   "nbconvert_exporter": "python",
   "pygments_lexer": "ipython3",
   "version": "3.11.7"
  }
 },
 "nbformat": 4,
 "nbformat_minor": 4
}
