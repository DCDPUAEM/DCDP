{
 "cells": [
  {
   "cell_type": "markdown",
   "metadata": {
    "colab_type": "text",
    "id": "view-in-github"
   },
   "source": [
    "<a href=\"https://colab.research.google.com/github/DCDPUAEM/DCDP_2022/blob/main/01%20Programaci%C3%B3n%20en%20Python/notebooks/Modulos_y_Programacion_Orientada_a_Objetos.ipynb\" target=\"_parent\"><img src=\"https://colab.research.google.com/assets/colab-badge.svg\" alt=\"Open In Colab\"/></a>"
   ]
  },
  {
   "cell_type": "markdown",
   "metadata": {
    "id": "33vbQPGhm3lh"
   },
   "source": [
    "# Módulos\n",
    "Mientras escribes programas, encontrarás situaciones en la cuales deberás dividir la lógica de tu programa en distintos archivos. También es posible que quieras reutilizar funciones que escribiste anteriormente en un nuevo programa sin tener que copiar el código.\n",
    "\n",
    "\n",
    "En python, puedes escribir definiciones en un archivo y usarlas durante otro programa. A este tipo de archivos se le conoce como módulos. Las definiciones en un módulo puede ser \"importadas\" a otros módulos o a un programa principal.\n",
    "\n",
    "El archivo de un módulo llevará como nombre el nombre del módulo concatenado con el sufijo ```.py```. El archivo contendrá las respectivas definiciones y declaraciones.\n",
    "\n",
    "Python por defecto incluye una librería de módulos, conocidos como módulos estándar. Además, algunas plataformas de python contienen una gran variedad de módulos instalados por defecto. Los módulos permite extender las funcionalidades de python y llevar a cabo una gran variedad de tareas."
   ]
  },
  {
   "cell_type": "markdown",
   "metadata": {
    "id": "ywJDb77Hr-ev"
   },
   "source": [
    "## Importando módulos estándar\n",
    "\n",
    "Python provee una librería de módulos estándar que puedes importar y utilizar. Por ejemplo, el módulo math contiene múltiples funciones matemáticas.\n",
    "\n",
    "Para utilizar los módulos, debes importarlos usando la palabra ```import``` seguida del nombre del módulo:\n",
    "\n",
    "\n",
    "```\n",
    "import <nombre_del_modulo>\n",
    "```\n",
    "\n"
   ]
  },
  {
   "cell_type": "code",
   "execution_count": 1,
   "metadata": {
    "id": "4sLV9cO0xzrq"
   },
   "outputs": [],
   "source": [
    "#Import el modulo math\n",
    "import math"
   ]
  },
  {
   "cell_type": "markdown",
   "metadata": {
    "id": "6dO3UGgLyWlK"
   },
   "source": [
    "Una vez que el módulo ha sido importado durante la sesión, podrás utilizarlo durante el programa (en cualquier celda de la notebook). "
   ]
  },
  {
   "cell_type": "code",
   "execution_count": 2,
   "metadata": {
    "id": "Hh4TuE-JyVHt"
   },
   "outputs": [
    {
     "name": "stdout",
     "output_type": "stream",
     "text": [
      "1.0\n"
     ]
    }
   ],
   "source": [
    "#Usando la definicion de coseno del modulo math\n",
    "print(math.cos(0))"
   ]
  },
  {
   "cell_type": "markdown",
   "metadata": {
    "id": "yUwakCSqx1ka"
   },
   "source": [
    "Puedes usar la función pre-definida ```dir(<modulo>)``` para listar todos los nombres definidos por el módulo."
   ]
  },
  {
   "cell_type": "code",
   "execution_count": 3,
   "metadata": {
    "id": "rBUJoe0NyCzS"
   },
   "outputs": [
    {
     "data": {
      "text/plain": [
       "['__doc__',\n",
       " '__loader__',\n",
       " '__name__',\n",
       " '__package__',\n",
       " '__spec__',\n",
       " 'acos',\n",
       " 'acosh',\n",
       " 'asin',\n",
       " 'asinh',\n",
       " 'atan',\n",
       " 'atan2',\n",
       " 'atanh',\n",
       " 'ceil',\n",
       " 'comb',\n",
       " 'copysign',\n",
       " 'cos',\n",
       " 'cosh',\n",
       " 'degrees',\n",
       " 'dist',\n",
       " 'e',\n",
       " 'erf',\n",
       " 'erfc',\n",
       " 'exp',\n",
       " 'expm1',\n",
       " 'fabs',\n",
       " 'factorial',\n",
       " 'floor',\n",
       " 'fmod',\n",
       " 'frexp',\n",
       " 'fsum',\n",
       " 'gamma',\n",
       " 'gcd',\n",
       " 'hypot',\n",
       " 'inf',\n",
       " 'isclose',\n",
       " 'isfinite',\n",
       " 'isinf',\n",
       " 'isnan',\n",
       " 'isqrt',\n",
       " 'ldexp',\n",
       " 'lgamma',\n",
       " 'log',\n",
       " 'log10',\n",
       " 'log1p',\n",
       " 'log2',\n",
       " 'modf',\n",
       " 'nan',\n",
       " 'perm',\n",
       " 'pi',\n",
       " 'pow',\n",
       " 'prod',\n",
       " 'radians',\n",
       " 'remainder',\n",
       " 'sin',\n",
       " 'sinh',\n",
       " 'sqrt',\n",
       " 'tan',\n",
       " 'tanh',\n",
       " 'tau',\n",
       " 'trunc']"
      ]
     },
     "execution_count": 3,
     "metadata": {},
     "output_type": "execute_result"
    }
   ],
   "source": [
    "dir(math)"
   ]
  },
  {
   "cell_type": "markdown",
   "metadata": {
    "id": "kkxyMCAWzfta"
   },
   "source": [
    "## Usando un alias para módulos\n",
    "\n",
    "Al importar un módulo, puedes utilizar un alias para cambiar el nombre con el que lo llamarás durante el código. Para asignar un alias, utiliza la palabra ```as``` seguida del alias. Una vez que se ha importado un módulo con un alias, deberás usar el alias en el código.\n",
    "\n",
    "```\n",
    "import <modulo> as <alias>\n",
    "```"
   ]
  },
  {
   "cell_type": "code",
   "execution_count": 4,
   "metadata": {
    "id": "4apc1Le8zgFa"
   },
   "outputs": [
    {
     "name": "stdout",
     "output_type": "stream",
     "text": [
      "1.0\n"
     ]
    }
   ],
   "source": [
    "import math as pymath\n",
    "\n",
    "print(pymath.cos(0))"
   ]
  },
  {
   "cell_type": "markdown",
   "metadata": {
    "id": "XMMxjteizTpZ"
   },
   "source": [
    "## Importar definiciones\n",
    "A veces únicamente es necesario importar algunas de las definiciones de un módulo. Puedes importar definiciones directamente usando la palabra ```from```:\n",
    "\n",
    "\n",
    "\n",
    "```\n",
    "from <modulo> import <<nombre_definicion1>, ...>\n",
    "```\n",
    "\n",
    "Puedes importar más de una definición separandolas mediante comas. Una vez importadas las definiciones, puedes usarlas directamente desde el código, sin necesidad de anteponer el nombre del módulo."
   ]
  },
  {
   "cell_type": "code",
   "execution_count": 5,
   "metadata": {
    "id": "Ct7PjIpuzS3D"
   },
   "outputs": [
    {
     "name": "stdout",
     "output_type": "stream",
     "text": [
      "1.0\n"
     ]
    }
   ],
   "source": [
    "#importar una definicion del modulo math\n",
    "from math import sin\n",
    "\n",
    "#ahora puedes usar la funcion \"sin\" directamente en el codigo\n",
    "print(sin(3.14159265/2))"
   ]
  },
  {
   "cell_type": "code",
   "execution_count": 6,
   "metadata": {
    "id": "aAk3t3cX1Jxz"
   },
   "outputs": [
    {
     "name": "stdout",
     "output_type": "stream",
     "text": [
      "1.0\n",
      "-1.0\n"
     ]
    }
   ],
   "source": [
    "#tambien puedes importar multiples definiciones a la vez\n",
    "from math import pi, sin, cos\n",
    "\n",
    "print(sin(pi/2))\n",
    "print(cos(pi))"
   ]
  },
  {
   "cell_type": "markdown",
   "metadata": {
    "id": "iuc1xdfGzZhq"
   },
   "source": [
    "## Importar todas las definiciones\n",
    "\n",
    "Si necesitas importar todas las definiciones en un módulo, utiliza * en lugar de el nombre de las definiciones:\n",
    "\n",
    "```\n",
    "from <modulo> import *\n",
    "```"
   ]
  },
  {
   "cell_type": "code",
   "execution_count": 7,
   "metadata": {
    "id": "2clDfUHazZu_"
   },
   "outputs": [
    {
     "name": "stdout",
     "output_type": "stream",
     "text": [
      "120\n",
      "10\n"
     ]
    }
   ],
   "source": [
    "#importar todas las definiciones en math\n",
    "from math import *\n",
    "\n",
    "#ahora puedes llamarlas directamente desde el codigo\n",
    "print(factorial(5))\n",
    "print(floor(10.85))"
   ]
  },
  {
   "cell_type": "markdown",
   "metadata": {
    "id": "tUk0WHfDr12A"
   },
   "source": [
    "## Agregar e importar un módulo propio\n",
    "\n",
    "Si buscas crear e importar un módulo propio para usarlo en diferentes programas, deberás crear tu propio archivo .py y almacenarlo en la misma carpeta donde quieras utilizarlo, en el path de python (PYTHONPATH) o en la carpeta por defecto de tu instalación.\n",
    "\n",
    "Para esta notebook hemos generado un módulo básico para demostrar la funcionalidad. Si estás usando colab deberás cargarlo ejecutando la siguiente celda:"
   ]
  },
  {
   "cell_type": "code",
   "execution_count": 8,
   "metadata": {
    "id": "IjDSAEoB5vTf"
   },
   "outputs": [
    {
     "name": "stdout",
     "output_type": "stream",
     "text": [
      "# Fibonacci numbers module\n"
     ]
    },
    {
     "name": "stderr",
     "output_type": "stream",
     "text": [
      "  % Total    % Received % Xferd  Average Speed   Time    Time     Time  Current\n",
      "                                 Dload  Upload   Total   Spent    Left  Speed\n",
      "\n",
      "  0     0    0     0    0     0      0      0 --:--:-- --:--:-- --:--:--     0\n",
      "  0     0    0     0    0     0      0      0 --:--:-- --:--:-- --:--:--     0\n",
      "  0     0    0     0    0     0      0      0 --:--:--  0:00:01 --:--:--     0\n",
      "  0     0    0     0    0     0      0      0 --:--:--  0:00:02 --:--:--     0curl: (6) Could not resolve host: application\n",
      "  % Total    % Received % Xferd  Average Speed   Time    Time     Time  Current\n",
      "                                 Dload  Upload   Total   Spent    Left  Speed\n",
      "\n",
      "  0     0    0     0    0     0      0      0 --:--:-- --:--:-- --:--:--     0\n",
      "100   349  100   349    0     0   1003      0 --:--:-- --:--:-- --:--:--  1008\n"
     ]
    },
    {
     "name": "stdout",
     "output_type": "stream",
     "text": [
      "\n",
      "def printFibonacci(n):    # write Fibonacci series up to n\n",
      "    a, b = 0, 1\n",
      "    while a < n:\n",
      "        print(a, end=' ')\n",
      "        a, b = b, a+b\n",
      "    print()\n",
      "\n",
      "def fibonacci(n):   # return Fibonacci series up to n\n",
      "    result = []\n",
      "    a, b = 0, 1\n",
      "    while a < n:\n",
      "        result.append(a)\n",
      "        a, b = b, a+b\n",
      "    return result\n"
     ]
    }
   ],
   "source": [
    "# Cargar el modulo desde el repositorio de github\n",
    "!curl --remote-name \\\n",
    "     -H 'Accept: application/vnd.github.v3.raw' \\\n",
    "     --location https://raw.githubusercontent.com/DCDPUAEM/DCDP_2022/main/01%20Programaci%C3%B3n%20en%20Python/notebooks/fibo.py"
   ]
  },
  {
   "cell_type": "markdown",
   "metadata": {
    "id": "hlAVYaeQqdnO"
   },
   "source": [
    "Mostremos el contenido del módulo:"
   ]
  },
  {
   "cell_type": "code",
   "execution_count": 9,
   "metadata": {
    "id": "sv6YlJ-KqQig"
   },
   "outputs": [
    {
     "name": "stderr",
     "output_type": "stream",
     "text": [
      "\"cat\" no se reconoce como un comando interno o externo,\n",
      "programa o archivo por lotes ejecutable.\n"
     ]
    }
   ],
   "source": [
    "!cat fibo.py"
   ]
  },
  {
   "cell_type": "code",
   "execution_count": 21,
   "metadata": {
    "id": "BKdmS0mu59c_"
   },
   "outputs": [
    {
     "name": "stdout",
     "output_type": "stream",
     "text": [
      "0 1 1 2 3 5 8 13 21 34 \n",
      "[0, 1, 1, 2, 3, 5, 8, 13, 21, 34, 55, 89]\n"
     ]
    }
   ],
   "source": [
    "import fibo\n",
    "\n",
    "fibo.printFibonacci(50)\n",
    "\n",
    "fib_num = fibo.fibonacci(100)\n",
    "print(fib_num)"
   ]
  },
  {
   "cell_type": "markdown",
   "metadata": {
    "id": "8m-jYJk16zqe"
   },
   "source": [
    "## Paquetes\n",
    "\n",
    "Un paquete es una forma de estructurar módulos. Cuando un módulo contiene otros sub-módulos, éstos podrán ser referidos usando puntos.\n",
    "\n",
    "\n",
    "\n",
    "```\n",
    "from <<modulo>.<sub-modulo1>...> import <definiciones>\n",
    "```\n"
   ]
  },
  {
   "cell_type": "code",
   "execution_count": 22,
   "metadata": {
    "id": "M6JBqMNm9HNm"
   },
   "outputs": [],
   "source": [
    "#Un ejemplo de un paquete con varios modulos\n",
    "from matplotlib.pyplot import *"
   ]
  },
  {
   "cell_type": "markdown",
   "metadata": {
    "id": "-mO3lCWrKvY-"
   },
   "source": [
    "# Programación Orientada a Objetos\n",
    "\n",
    "Python es un lenguaje de programación multi-paradigma, lo que permite que puedas expresar programas de diferentes formas. En la programación imperativa, utilizas secuencias de declaraciones, condicionales y ciclos para expresar los programas. En el enfoque orientado a objetos, usas clases para definir los atributos y métodos de entidades.\n",
    "\n",
    "Muchos de los módulos existentes en python están escritos bajo este paradigma, por lo que es importante que comprendas las bases de la programación orientada a objetos."
   ]
  },
  {
   "cell_type": "markdown",
   "metadata": {
    "id": "WjFJH0a6Ii7F"
   },
   "source": [
    "**Un ejemplo del paradigma orientado a objetos**\n",
    "\n",
    "Imagina que estás desarrollando un programa para administrar una escuela. El programa deberá almacenar los datos de los estudiantes y profesores. Tanto estudiantes como profesores son personas, como personas comparten atributos, tienen un nombre, apellidos, una fecha de nacimiento, etc. Bajo un paradigma orientado a objetos, podrías representar a ambos mediante una clase Persona.\n",
    "\n",
    "Los atributos de una persona podrían ser utilizados para generar nueva información. Por ejemplo, podrías utilizar la fecha de nacimiento para generar la edad actual de la persona mediante una función. A esta función que se desarrolla dentro de una clase se le llama método.\n",
    "\n",
    "Por otro lado, los estudiantes y profesores en una escuela tienen atributos que **NO** comparten entre si:\n",
    "\n",
    "* Los estudiantes tienen una matrícula, los profesores no\n",
    "* Los proferores tienen un salario, los alumnos no.\n",
    "\n",
    "Aún cuando ambos son personas, podríamos utilizar una clase Alumno y una Profesor. Estas clases podrían heredar los atributos y métodos que hemos definido en la clase Persona."
   ]
  },
  {
   "cell_type": "markdown",
   "metadata": {
    "id": "G9YMFyRfm0vA"
   },
   "source": [
    "## Clases y objetos\n",
    "\n",
    "### Clases\n",
    "\n",
    "Una clase puede ser considerada como la definición de un nuevo tipo de dato. En la programación orientada a objetos, se hace uso de clases para definir los atributos los objetos y métodos que permiten su manipulación. \n",
    "\n",
    "Para definir una clase en python, se utiliza la palabra class, seguida de el nombre de la clase:\n",
    "\n",
    "\n",
    "```\n",
    "class <class_name>:\n",
    "  #el codigo de la clase\n",
    "```\n"
   ]
  },
  {
   "cell_type": "code",
   "execution_count": 23,
   "metadata": {
    "id": "iJE-ICPBmwdr"
   },
   "outputs": [],
   "source": [
    "class Persona:\n",
    "    #la palabra pass continua el programa sin hacer nada\n",
    "    pass"
   ]
  },
  {
   "cell_type": "markdown",
   "metadata": {
    "id": "3OALaBqxFZWS"
   },
   "source": [
    "Recuerda que la definición de una clase no es una entidad, sino solo una plantilla que tendrá que ser instanciada, lo que crea el objeto."
   ]
  },
  {
   "cell_type": "markdown",
   "metadata": {
    "id": "r_UC186L3hGo"
   },
   "source": [
    "### Métodos\n",
    "\n",
    "Los métodos son similares a una función, pero están asociados a una clase particular. Las diferencias entre métodos y funciones son:\n",
    "\n",
    "* Un método se define dentro de una clase, lo que asocia explicitamente la relación entre ellos.\n",
    "\n",
    "* La sintaxis para invocar un método es diferente a la de una función. "
   ]
  },
  {
   "cell_type": "code",
   "execution_count": 25,
   "metadata": {
    "id": "hYunNgVj3hc0"
   },
   "outputs": [],
   "source": [
    "class Persona:\n",
    "    #un metodo sencillo de la clase\n",
    "    def saludos(self):\n",
    "        print(\"Saludos, esta es una persona.\")"
   ]
  },
  {
   "cell_type": "markdown",
   "metadata": {
    "id": "cJn7Rzo61fTe"
   },
   "source": [
    "### \\_\\_init\\_\\_\n",
    "\n",
    "El método ```__init__``` es un método especial que se ejecuta en cuanto una clase es instanciada (cuando se crea un nuevo objeto perteneciente a la clase). Este método es comúnmente utilizado para inicializar el objeto, por ejemplo, para pasar valores iniciales al objeto.\n",
    "\n",
    "\n",
    "```\n",
    "class <name>:\n",
    "  def __init__(self, <var>):\n",
    "    self.<var> = <var>\n",
    "```"
   ]
  },
  {
   "cell_type": "code",
   "execution_count": 26,
   "metadata": {
    "id": "xqMrfXcpF5s6"
   },
   "outputs": [],
   "source": [
    "class Persona:\n",
    "    #el método init que permite inicializar una persona con su nombre\n",
    "    def __init__(self, nombre, apellido, fecha_nacimiento):\n",
    "        self.nombre = nombre\n",
    "        self.apellido = apellido\n",
    "        self.fecha_nacimiento = fecha_nacimiento"
   ]
  },
  {
   "cell_type": "markdown",
   "metadata": {
    "id": "wJe_SOSwObfw"
   },
   "source": [
    "**Valores predeterminados en métodos**\n",
    "\n",
    "Los parámetros de un método pueden ser iniciados a valores predeterminados al igual que en funciones.\n"
   ]
  },
  {
   "cell_type": "code",
   "execution_count": 27,
   "metadata": {
    "id": "uWkjGHeCOwVH"
   },
   "outputs": [],
   "source": [
    "from datetime import date\n",
    "\n",
    "class Persona:\n",
    "    #el método init que permite inicializar una persona\n",
    "    def __init__(self, nombre = \"Sin nombre\", apellido = \"Sin apellido\", fecha_nacimiento = date(1970, 1, 1)):\n",
    "        self.nombre = nombre\n",
    "        self.apellido = apellido\n",
    "        self.fecha_nacimiento = fecha_nacimiento"
   ]
  },
  {
   "cell_type": "markdown",
   "metadata": {
    "id": "dsYWk_F0GMhb"
   },
   "source": [
    "La clase Persona con tres métodos"
   ]
  },
  {
   "cell_type": "code",
   "execution_count": 28,
   "metadata": {
    "id": "PuW8sR5jGMoa"
   },
   "outputs": [],
   "source": [
    "from datetime import date\n",
    "\n",
    "class Persona:\n",
    "    def __init__(self, nombre = \"Sin nombre\", apellido = \"Sin apellido\", fecha_nacimiento = date(1970, 1, 1)):\n",
    "        self.nombre = nombre\n",
    "        self.apellido = apellido\n",
    "        self.fecha_nacimiento = fecha_nacimiento\n",
    "\n",
    "    def saludos(self):\n",
    "        print(\"Saludos, soy\", self.nombre, self.apellido)\n",
    "\n",
    "    def edad(self):\n",
    "        today = date.today()\n",
    "        edad = int((today - self.fecha_nacimiento).days / 365)\n",
    "        return edad"
   ]
  },
  {
   "cell_type": "markdown",
   "metadata": {
    "id": "uxAo1v7WETsp"
   },
   "source": [
    "### Objetos\n",
    "\n",
    "Un objeto puede ser considerado como una variable del tipo de dato que su clase define. Un objeto, es una instancia de una clase, estos representan a entidades con los respectivos atributos y métodos definidos en la clase.\n",
    "\n",
    "Para instanciar un objeto (crear un objeto), lo asignarás a una nueva variable de la siguiente manera:\n",
    "\n",
    "\n",
    "\n",
    "```\n",
    "<variable> = <class_name>()\n",
    "```\n",
    "\n"
   ]
  },
  {
   "cell_type": "code",
   "execution_count": 29,
   "metadata": {
    "id": "ovdEvbOBm475"
   },
   "outputs": [],
   "source": [
    "#creando un objeto de la clase Persona\n",
    "persona1 = Persona()"
   ]
  },
  {
   "cell_type": "code",
   "execution_count": 30,
   "metadata": {
    "id": "B-nKL_fPRAyG"
   },
   "outputs": [],
   "source": [
    "#pasando valores\n",
    "persona1 = Persona(\"John\", \"Connor\", date(1985, 2, 18))"
   ]
  },
  {
   "cell_type": "markdown",
   "metadata": {
    "id": "oxDrcdVZ4JQO"
   },
   "source": [
    "Para utilizar los métodos en una instancia de una clase, utilizarás la siguiente notación:\n",
    "\n",
    "```\n",
    "<class_instance>.<method>()\n",
    "```\n",
    "\n"
   ]
  },
  {
   "cell_type": "code",
   "execution_count": 32,
   "metadata": {
    "id": "uIjgJMiF4IjF"
   },
   "outputs": [
    {
     "name": "stdout",
     "output_type": "stream",
     "text": [
      "Saludos, soy John Connor\n"
     ]
    }
   ],
   "source": [
    "#Llamando al metodo hello de Person\n",
    "persona1.saludos()"
   ]
  },
  {
   "cell_type": "code",
   "execution_count": 33,
   "metadata": {
    "id": "maSqAR3C5Tna"
   },
   "outputs": [
    {
     "data": {
      "text/plain": [
       "36"
      ]
     },
     "execution_count": 33,
     "metadata": {},
     "output_type": "execute_result"
    }
   ],
   "source": [
    "#LLamando al metodo edad\n",
    "persona1.edad()"
   ]
  },
  {
   "cell_type": "markdown",
   "metadata": {
    "id": "D1sIas7iSBwF"
   },
   "source": [
    "Accediendo a los valores de los atributos de un objeto:\n",
    "\n",
    "```\n",
    "<objeto>.<atributo>\n",
    "```\n"
   ]
  },
  {
   "cell_type": "code",
   "execution_count": 34,
   "metadata": {
    "id": "WrRL9qE5SBB-"
   },
   "outputs": [
    {
     "name": "stdout",
     "output_type": "stream",
     "text": [
      "Nombre: John\n",
      "Apellido: Connor\n"
     ]
    }
   ],
   "source": [
    "print(\"Nombre:\", persona1.nombre)\n",
    "print(\"Apellido:\", persona1.apellido)"
   ]
  },
  {
   "cell_type": "markdown",
   "metadata": {
    "id": "kX31vY6oOODo"
   },
   "source": [
    "## Herencia\n",
    "\n",
    "La herencia es una de las características principales de la programación orientada a objetos. Heredar es la capacidad de crear una nueva clase que obtiene todos los atributos y métodos de una clase existente."
   ]
  },
  {
   "cell_type": "code",
   "execution_count": 35,
   "metadata": {
    "id": "sHjkyjuBOORO"
   },
   "outputs": [],
   "source": [
    "from datetime import date\n",
    "\n",
    "class Persona:\n",
    "    def __init__(self, nombre = \"Sin nombre\", apellido = \"Sin apellido\", fecha_nacimiento = date(1970, 1, 1)):\n",
    "        self.nombre = nombre\n",
    "        self.apellido = apellido\n",
    "        self.fecha_nacimiento = fecha_nacimiento\n",
    "\n",
    "    def saludos(self):\n",
    "        print(\"Saludos, soy\", self.nombre, self.apellido)\n",
    "\n",
    "    def edad(self):\n",
    "        today = date.today()\n",
    "        edad = int((today - self.fecha_nacimiento).days / 365)\n",
    "        return edad\n",
    "\n",
    "class Estudiante(Persona):\n",
    "    pass"
   ]
  },
  {
   "cell_type": "code",
   "execution_count": 36,
   "metadata": {
    "id": "hQ63JxsPTjXS"
   },
   "outputs": [
    {
     "name": "stdout",
     "output_type": "stream",
     "text": [
      "Tomas Prince 23\n"
     ]
    }
   ],
   "source": [
    "#La instancia de estudiante permite acceder a los atributos y metodos de Persona\n",
    "estudiante1 = Estudiante(\"Tomas\", \"Prince\", date(1998, 5, 20))\n",
    "\n",
    "print(estudiante1.nombre, estudiante1.apellido, estudiante1.edad())"
   ]
  },
  {
   "cell_type": "code",
   "execution_count": 37,
   "metadata": {},
   "outputs": [
    {
     "name": "stdout",
     "output_type": "stream",
     "text": [
      "Saludos, soy Tomas Prince\n"
     ]
    }
   ],
   "source": [
    "estudiante1.saludos()"
   ]
  },
  {
   "cell_type": "markdown",
   "metadata": {
    "id": "JPvyMA3eTk40"
   },
   "source": [
    "### Extender clases\n",
    "\n",
    "Puedes agregar nuevos métodos en una clase que hereda de otra para extenderla."
   ]
  },
  {
   "cell_type": "code",
   "execution_count": 38,
   "metadata": {
    "id": "FTca6jqNTlB2"
   },
   "outputs": [],
   "source": [
    "from datetime import date\n",
    "\n",
    "class Persona:\n",
    "    def __init__(self, nombre = \"Sin nombre\", apellido = \"Sin apellido\", fecha_nacimiento = date(1970, 1, 1)):\n",
    "        self.nombre = nombre\n",
    "        self.apellido = apellido\n",
    "        self.fecha_nacimiento = fecha_nacimiento\n",
    "\n",
    "    def saludos(self):\n",
    "        print(\"Saludos, soy\", self.nombre, self.apellido)\n",
    "\n",
    "    def edad(self):\n",
    "        today = date.today()\n",
    "        edad = int((today - self.fecha_nacimiento).days / 365)\n",
    "        return edad\n",
    "\n",
    "class Estudiante(Persona):\n",
    "    def generarMatricula(self):\n",
    "        return str(self.fecha_nacimiento.year) + self.nombre[:2] + self.apellido[:2] "
   ]
  },
  {
   "cell_type": "code",
   "execution_count": 42,
   "metadata": {
    "id": "7RTSRlw0pu08"
   },
   "outputs": [
    {
     "name": "stdout",
     "output_type": "stream",
     "text": [
      "1998ToPr\n"
     ]
    }
   ],
   "source": [
    "#La instancia de estudiante permite acceder a los atributos y metodos de Persona\n",
    "estudiante1 = Estudiante(\"Tomas\", \"Prince\", date(1998, 5, 20))\n",
    "\n",
    "print(estudiante1.generarMatricula())"
   ]
  },
  {
   "cell_type": "markdown",
   "metadata": {
    "id": "fF0V01zkTlOT"
   },
   "source": [
    "### Sobre-escribir métodos\n",
    "\n",
    "La sub-clase puede re-definir los métodos de la súper-clase y éstos serán utilizados en las instancias."
   ]
  },
  {
   "cell_type": "code",
   "execution_count": 46,
   "metadata": {
    "id": "2jD8uOe1TlTX"
   },
   "outputs": [],
   "source": [
    "from datetime import date\n",
    "\n",
    "class Persona:\n",
    "    def __init__(self, nombre = \"Sin nombre\", apellido = \"Sin apellido\", fecha_nacimiento = date(1970, 1, 1)):\n",
    "        self.nombre = nombre\n",
    "        self.apellido = apellido\n",
    "        self.fecha_nacimiento = fecha_nacimiento\n",
    "\n",
    "    def saludos(self):\n",
    "        print(\"Saludos, soy\", self.nombre, self.apellido)\n",
    "\n",
    "    def edad(self):\n",
    "        today = date.today()\n",
    "        edad = int((today - self.fecha_nacimiento).days / 365)\n",
    "        return edad\n",
    "\n",
    "class Estudiante(Persona):\n",
    "    def saludos(self):\n",
    "        print(\"Saludos del estudiante\")\n",
    "\n",
    "    def generarMatricula(self):\n",
    "        return str(self.fecha_nacimiento.year) + self.nombre[:2] + self.apellido[:2] "
   ]
  },
  {
   "cell_type": "code",
   "execution_count": 47,
   "metadata": {
    "id": "ZYHrpIu3Z4B0"
   },
   "outputs": [
    {
     "name": "stdout",
     "output_type": "stream",
     "text": [
      "Saludos del estudiante\n"
     ]
    }
   ],
   "source": [
    "estudiante1 = Estudiante()\n",
    "estudiante1.saludos()"
   ]
  },
  {
   "cell_type": "code",
   "execution_count": 48,
   "metadata": {},
   "outputs": [
    {
     "name": "stdout",
     "output_type": "stream",
     "text": [
      "Saludos, soy John Connor\n"
     ]
    }
   ],
   "source": [
    "persona1.saludos()"
   ]
  },
  {
   "cell_type": "markdown",
   "metadata": {
    "id": "ZQ0xxixJtuHB"
   },
   "source": [
    "### Utilizar métodos de la super clase\n",
    "\n",
    "Para llamar un método de la clase superior en la clase heredera, puedes anteponer ```super()``` o el nombre de la súper clase seguido del método:\n",
    "\n",
    "\n",
    "\n",
    "```\n",
    "super().<method>\n",
    "```\n",
    "\n",
    "o\n",
    "\n",
    "```\n",
    "<super_class_name>.<method>\n",
    "```\n"
   ]
  },
  {
   "cell_type": "code",
   "execution_count": 49,
   "metadata": {
    "id": "oQ1eKaqAUGlH"
   },
   "outputs": [],
   "source": [
    "from datetime import date\n",
    "\n",
    "class Persona:\n",
    "    def __init__(self, nombre = \"Sin nombre\", apellido = \"Sin apellido\", fecha_nacimiento = date(1970, 1, 1)):\n",
    "        self.nombre = nombre\n",
    "        self.apellido = apellido\n",
    "        self.fecha_nacimiento = fecha_nacimiento\n",
    "\n",
    "    def saludos(self):\n",
    "        print(\"Saludos, soy\", self.nombre, self.apellido)\n",
    "\n",
    "    def edad(self):\n",
    "        today = date.today()\n",
    "        edad = int((today - self.fecha_nacimiento).days / 365)\n",
    "        return edad\n",
    "\n",
    "class Estudiante(Persona):\n",
    "    def __init__(self, nombre = \"Sin nombre\", apellido = \"Sin apellido\", fecha_nacimiento = date(1970, 1, 1), grupo = \"NA\"):\n",
    "        super().__init__(nombre, apellido, fecha_nacimiento)\n",
    "        self.grupo = grupo\n",
    "\n",
    "    def generarMatricula(self):\n",
    "        return str(self.fecha_nacimiento.year) + self.nombre[:2] + self.apellido[:2] "
   ]
  },
  {
   "cell_type": "code",
   "execution_count": 50,
   "metadata": {
    "id": "oo09_Uy910LU"
   },
   "outputs": [
    {
     "name": "stdout",
     "output_type": "stream",
     "text": [
      "1998ToPr A\n"
     ]
    }
   ],
   "source": [
    "#Una instancia de estudiante\n",
    "estudiante1 = Estudiante(\"Tomas\", \"Prince\", date(1998, 5, 20), grupo=\"A\")\n",
    "\n",
    "print(estudiante1.generarMatricula(), estudiante1.grupo)"
   ]
  },
  {
   "cell_type": "markdown",
   "metadata": {
    "id": "o3-CgPgU3b4v"
   },
   "source": [
    "### Interfaces\n",
    "\n",
    "Una interfaz es una clase que especifica atributos y métodos sin implementarlos directamente en el código de la clase. Entonces las subclases podrán implementar los métodos de la súper clase. El objetivo de una interfaz es el proporcionar una plantilla para sus sub-clases. Un método de una interfaz retornará la palabra especial NotImplemented. Los métodos de una interfaz siempre tendrán que ser implementados al ser heredados por una sub-clase.\n",
    "\n",
    "\n",
    "```\n",
    "class <nombre_clase>:\n",
    "  def __init__(self):\n",
    "    #atributos\n",
    "    self.<var1> = <valor>\n",
    "    #...\n",
    "  def <metodo_1>(self):\n",
    "    return NotImplemented\n",
    "  #...\n",
    "  def <metodo_n>(self):\n",
    "    return NotImplemented\n",
    "```\n",
    "\n"
   ]
  },
  {
   "cell_type": "code",
   "execution_count": 51,
   "metadata": {
    "id": "4a0mqgX021iw"
   },
   "outputs": [],
   "source": [
    "from datetime import date\n",
    "\n",
    "#Una interfaz\n",
    "class Persona:\n",
    "    def __init__(self):\n",
    "        #los atributos de la interfaz\n",
    "        self.nombre = \"\"\n",
    "        self.apellido = \"\"\n",
    "        self.fecha_nacimiento = date()\n",
    "    \n",
    "    #un metodo de la interfaz\n",
    "    def edad(self):\n",
    "        return NotImplemented\n",
    "\n",
    "#Una subclase que implementa la interfaz\n",
    "class Profesor(Persona):\n",
    "    def __init__(self, nombre, apellido, fecha_nacimiento):\n",
    "        self.nombre = nombre\n",
    "        self.apellido = apellido\n",
    "        self.fecha_nacimiento = fecha_nacimiento\n",
    "  \n",
    "    def edad(self):\n",
    "        today = date.today()\n",
    "        edad = int((today - self.fecha_nacimiento).days / 365)\n",
    "        return edad"
   ]
  },
  {
   "cell_type": "code",
   "execution_count": 52,
   "metadata": {
    "id": "xImKrB6EbtyL"
   },
   "outputs": [
    {
     "name": "stdout",
     "output_type": "stream",
     "text": [
      "41\n"
     ]
    }
   ],
   "source": [
    "profe1 = Profesor(\"Alexi\", \"Moon\", date(1980, 5, 20))\n",
    "print(profe1.edad())"
   ]
  },
  {
   "cell_type": "markdown",
   "metadata": {
    "id": "IZn_UEataZP3"
   },
   "source": [
    "# ¡Felicidades!\n",
    "\n",
    "Ahora conoces los conceptos básicos sobre módulos, clases y objetos en Python.\n",
    "\n",
    "Recuerda que siempre puedes volver a esta notebook en caso de que necesites un recordatorio."
   ]
  }
 ],
 "metadata": {
  "colab": {
   "collapsed_sections": [],
   "include_colab_link": true,
   "name": "Modulos y Programacion Orientada a Objetos.ipynb",
   "provenance": []
  },
  "kernelspec": {
   "display_name": "Python 3",
   "language": "python",
   "name": "python3"
  },
  "language_info": {
   "codemirror_mode": {
    "name": "ipython",
    "version": 3
   },
   "file_extension": ".py",
   "mimetype": "text/x-python",
   "name": "python",
   "nbconvert_exporter": "python",
   "pygments_lexer": "ipython3",
   "version": "3.8.5"
  }
 },
 "nbformat": 4,
 "nbformat_minor": 4
}
