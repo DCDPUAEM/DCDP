{
 "cells": [
  {
   "cell_type": "markdown",
   "metadata": {
    "colab_type": "text",
    "id": "view-in-github"
   },
   "source": [
    "<a href=\"https://colab.research.google.com/github/DCDPUAEM/DCDP_2022/blob/main/01%20Programaci%C3%B3n%20en%20Python/notebooks/exercises/Practica1_Python.ipynb\" target=\"_parent\"><img src=\"https://colab.research.google.com/assets/colab-badge.svg\" alt=\"Open In Colab\"/></a>"
   ]
  },
  {
   "cell_type": "markdown",
   "metadata": {
    "id": "4zMzLuXxBDdY"
   },
   "source": [
    "# Ejercicios bases de Python"
   ]
  },
  {
   "cell_type": "markdown",
   "metadata": {
    "id": "HAY8IBC4dM62"
   },
   "source": [
    "## Estructuras, asignación y funciones"
   ]
  },
  {
   "cell_type": "markdown",
   "metadata": {
    "id": "5OKzkyU6_1kB"
   },
   "source": [
    "### 1. Creando una agenda \n",
    "\n",
    "Utiliza los conceptos básicos de python para crear una agenda telefónica. Deberás completar las funciones crear_agenda, agregar_contacto, eliminimar_contacto y buscar_contacto que se encuentran en las siguientes celdas.\n",
    "\n",
    "* ```crear_agenda()```, esta función devuelve una nueva agenda vacía, elige el tipo de dato que creas adecuado para este proposito.\n",
    "* ```agregar_contacto(agenda, nombre, numero)```, esta función debe permitir agregar un nuevo contacto a la agenda, además si un contacto ya existe con el nombre recibido entonces debes almacenar su nuevo numero sin eliminar el anterior.\n",
    "* ```buscar_contacto(agenda, nombre)```, esta función debe de regresar el o los números registados de un contacto, si el contacto no existe entonces imprimer el mensaje \"Contacto no encontrado en la agenda\".\n",
    "* ```eliminar_contacto(agenda, nombre)```, esta función permite eliminar a un contacto de la agenda, si el contacto no existe entonces imprimer el mensaje \"Contacto no encontrado en la agenda\"."
   ]
  },
  {
   "cell_type": "code",
   "execution_count": 1,
   "metadata": {
    "id": "EJAb9gnbzhA4"
   },
   "outputs": [],
   "source": [
    "def crear_agenda():\n",
    "    agenda = {}\n",
    "    return agenda"
   ]
  },
  {
   "cell_type": "code",
   "execution_count": 2,
   "metadata": {},
   "outputs": [],
   "source": [
    "agenda = crear_agenda() # creamos la agenda vacía con el nombre libreta "
   ]
  },
  {
   "cell_type": "code",
   "execution_count": 3,
   "metadata": {
    "id": "QjsW0Y_M_x4j"
   },
   "outputs": [],
   "source": [
    "def agregar_contacto(agenda, nombre, numero):\n",
    "    if nombre in agenda:\n",
    "        print(\"El contacto ya existe\")\n",
    "        print(\"Se guardara el numero sin eliminar el anterior\")\n",
    "        agenda[nombre].append(numero)\n",
    "    else:\n",
    "        print(\"Usted esta agregando un nuevo contacto\")\n",
    "        agenda[nombre] = [ int(numero)]\n",
    "    #print(agenda)\n",
    "    \"\"\"\n",
    "    Tip:\n",
    "    Primero debes comprobar si existe el contacto\n",
    "    si no existe entonces crea uno nuevo y guarda\n",
    "    su nombre y numero\"\"\"\n",
    "    #<rellena>\n",
    "    return agenda"
   ]
  },
  {
   "cell_type": "code",
   "execution_count": 4,
   "metadata": {},
   "outputs": [
    {
     "name": "stdout",
     "output_type": "stream",
     "text": [
      "Usted esta agregando un nuevo contacto\n"
     ]
    },
    {
     "data": {
      "text/plain": [
       "{'Jorge': [777]}"
      ]
     },
     "execution_count": 4,
     "metadata": {},
     "output_type": "execute_result"
    }
   ],
   "source": [
    "agregar_contacto(agenda, \"Jorge\", 777)"
   ]
  },
  {
   "cell_type": "code",
   "execution_count": 5,
   "metadata": {},
   "outputs": [
    {
     "name": "stdout",
     "output_type": "stream",
     "text": [
      "Usted esta agregando un nuevo contacto\n"
     ]
    },
    {
     "data": {
      "text/plain": [
       "{'Jorge': [777], 'Omar': [2749]}"
      ]
     },
     "execution_count": 5,
     "metadata": {},
     "output_type": "execute_result"
    }
   ],
   "source": [
    "agregar_contacto(agenda, \"Omar\", 2749)"
   ]
  },
  {
   "cell_type": "code",
   "execution_count": 6,
   "metadata": {},
   "outputs": [
    {
     "name": "stdout",
     "output_type": "stream",
     "text": [
      "El contacto ya existe\n",
      "Se guardara el numero sin eliminar el anterior\n"
     ]
    },
    {
     "data": {
      "text/plain": [
       "{'Jorge': [777], 'Omar': [2749, 274954151]}"
      ]
     },
     "execution_count": 6,
     "metadata": {},
     "output_type": "execute_result"
    }
   ],
   "source": [
    "agregar_contacto(agenda, \"Omar\", 274954151)"
   ]
  },
  {
   "cell_type": "code",
   "execution_count": 7,
   "metadata": {
    "id": "CkJpO_BtzhA5"
   },
   "outputs": [
    {
     "name": "stdout",
     "output_type": "stream",
     "text": [
      "Usted esta agregando un nuevo contacto\n"
     ]
    }
   ],
   "source": [
    "agenda = crear_agenda()\n",
    "agenda = agregar_contacto(agenda, \"Javier\", \"1234567890\")"
   ]
  },
  {
   "cell_type": "code",
   "execution_count": 8,
   "metadata": {
    "id": "-xhGm-CXzhA7"
   },
   "outputs": [],
   "source": [
    "def buscar_contacto(agenda, nombre):\n",
    "    if nombre in agenda:\n",
    "        print(\"Su contacto\", nombre, \"existe y sus números son:\", agenda[nombre])\n",
    "    else: \n",
    "        print(\"Contacto no encontrado en la agenda\")\n",
    "    \"\"\"\n",
    "    Busca el contacto en la agenda, imprime su nombre y numero\n",
    "    Si tiene mas de un numero, imprime todos\n",
    "    Si el contacto no existe, imprime \"Contacto no encontrado en la agenda\"\n",
    "    \"\"\"\n",
    "    #<rellena>\n",
    "    return"
   ]
  },
  {
   "cell_type": "code",
   "execution_count": 9,
   "metadata": {},
   "outputs": [
    {
     "name": "stdout",
     "output_type": "stream",
     "text": [
      "Su contacto Javier existe y sus números son: [1234567890]\n"
     ]
    }
   ],
   "source": [
    "buscar_contacto(agenda, \"Javier\")"
   ]
  },
  {
   "cell_type": "code",
   "execution_count": 10,
   "metadata": {
    "id": "FzG19KdxzhA7"
   },
   "outputs": [
    {
     "name": "stdout",
     "output_type": "stream",
     "text": [
      "Su contacto Javier existe y sus números son: [1234567890]\n",
      "El contacto ya existe\n",
      "Se guardara el numero sin eliminar el anterior\n",
      "Su contacto Javier existe y sus números son: [1234567890, '0987654321']\n"
     ]
    }
   ],
   "source": [
    "buscar_contacto(agenda, \"Javier\")\n",
    "agenda = agregar_contacto(agenda, \"Javier\", \"0987654321\")\n",
    "buscar_contacto(agenda, \"Javier\")"
   ]
  },
  {
   "cell_type": "code",
   "execution_count": 11,
   "metadata": {
    "id": "9c7BfxoZzhA7"
   },
   "outputs": [],
   "source": [
    "def eliminar_contacto(agenda, nombre):\n",
    "    if nombre in agenda:\n",
    "        print(\"Se va a eliminar el siguiente contacto:\", nombre)\n",
    "        del agenda[nombre]\n",
    "    else: \n",
    "        print(\"Contacto no encontrado en la agenda\")\n",
    "    \"\"\"\n",
    "    Elimina el contacto de la agenda\n",
    "    si el contacto no existe imprime \"Contacto no encontrado en la agenda\"\n",
    "    \"\"\"\n",
    "    #<rellena>\n",
    "    return agenda"
   ]
  },
  {
   "cell_type": "code",
   "execution_count": 12,
   "metadata": {
    "id": "RkNtzllbBirX"
   },
   "outputs": [
    {
     "name": "stdout",
     "output_type": "stream",
     "text": [
      "Se va a eliminar el siguiente contacto: Javier\n"
     ]
    }
   ],
   "source": [
    "agenda = eliminar_contacto(agenda, \"Javier\")"
   ]
  },
  {
   "cell_type": "markdown",
   "metadata": {
    "id": "3nzzkH6EA88D"
   },
   "source": [
    "# Ejercicios estadística"
   ]
  },
  {
   "cell_type": "markdown",
   "metadata": {
    "id": "e5g5CAaOc01h"
   },
   "source": [
    "### Función suma\n",
    "\n",
    "$$\n",
    "    suma(a) = \\sum_{i=1}^{n}a_i\n",
    "$$"
   ]
  },
  {
   "cell_type": "code",
   "execution_count": 4,
   "metadata": {
    "id": "RxWbpZ42c07g"
   },
   "outputs": [],
   "source": [
    "def suma(x): #suma los elemetos de una lista\n",
    "    suma = 0\n",
    "    for i in x:\n",
    "        suma = suma + i\n",
    "    return suma"
   ]
  },
  {
   "cell_type": "code",
   "execution_count": 5,
   "metadata": {
    "id": "mdiLISG-zhA-"
   },
   "outputs": [],
   "source": [
    "assert suma([1, 2, 3, 4, 5]) == 15"
   ]
  },
  {
   "cell_type": "markdown",
   "metadata": {
    "id": "Hc30xEPMc1QC"
   },
   "source": [
    "### Función promedio.\n",
    "\n",
    "$$\n",
    "\t\\bar{x} = \\dfrac{\\sum_{i=1}^{n}x_i}{n}\n",
    "$$"
   ]
  },
  {
   "cell_type": "code",
   "execution_count": 6,
   "metadata": {
    "id": "2KyU6PyCc1VM"
   },
   "outputs": [],
   "source": [
    "def promedio(x):\n",
    "    promedio = 0\n",
    "    promedio = suma(x) / len(x)\n",
    "    return promedio"
   ]
  },
  {
   "cell_type": "code",
   "execution_count": 7,
   "metadata": {
    "id": "7GM2YpXVzhBA"
   },
   "outputs": [],
   "source": [
    "assert promedio([1, 2, 3, 4, 5]) == 3, \"Error en promedio\""
   ]
  },
  {
   "cell_type": "markdown",
   "metadata": {
    "id": "ImMoE5w4c1of"
   },
   "source": [
    "### Función varianza.\n",
    "$$\n",
    "\\sigma^2 = \\frac{1}{n} \\sum_{i=1}^{n}(x_i - \\bar{x})^2\n",
    "$$"
   ]
  },
  {
   "cell_type": "code",
   "execution_count": 8,
   "metadata": {
    "id": "h0w2PHhLc1tG"
   },
   "outputs": [],
   "source": [
    "def var(x):\n",
    "    var = 0\n",
    "    prom = promedio(x)\n",
    "    for i in x:\n",
    "        var = var + (i - prom)**2\n",
    "    var = var / len(x)\n",
    "    return var"
   ]
  },
  {
   "cell_type": "code",
   "execution_count": 9,
   "metadata": {
    "id": "puEjtv4OzhBA"
   },
   "outputs": [],
   "source": [
    "assert var([1, 2, 3, 4, 5]) == 2, \"Error en var\""
   ]
  },
  {
   "cell_type": "markdown",
   "metadata": {
    "id": "fxxJeFhbA9Cq"
   },
   "source": [
    "# Ejercicios álgebra lineal"
   ]
  },
  {
   "cell_type": "markdown",
   "metadata": {
    "id": "6dXp-owNeqP9"
   },
   "source": [
    "## Vectores con listas"
   ]
  },
  {
   "cell_type": "markdown",
   "metadata": {
    "id": "9Du0_NsNc81H"
   },
   "source": [
    "### Ones"
   ]
  },
  {
   "cell_type": "markdown",
   "metadata": {
    "id": "DKp9wDLPEZdz"
   },
   "source": [
    "Completa la función ones1D que recibe como parámetros un entero $n$ y retorna una lista de tamaño $n$ con todos sus elementos con el valor $1$.\n",
    "\n",
    "Ejemplo:\n",
    "\n",
    "```\n",
    ">>> ones(5)\n",
    "[1, 1, 1, 1, 1]\n",
    "```\n",
    "\n"
   ]
  },
  {
   "cell_type": "code",
   "execution_count": 119,
   "metadata": {
    "id": "l4j5ka46EulY"
   },
   "outputs": [],
   "source": [
    "def ones_1d(n):\n",
    "    ones_list = [1] * n\n",
    "    return ones_list  "
   ]
  },
  {
   "cell_type": "markdown",
   "metadata": {
    "id": "TBYV7LYqdSJo"
   },
   "source": [
    "Ejecuta la siguiente celda para comprobar la función ones1D:"
   ]
  },
  {
   "cell_type": "code",
   "execution_count": 120,
   "metadata": {
    "id": "QUlEotVIdRno"
   },
   "outputs": [
    {
     "name": "stdout",
     "output_type": "stream",
     "text": [
      "La funcion es correcta\n"
     ]
    }
   ],
   "source": [
    "assert len(ones_1d(10)) == 10 and  ones_1d(3).count(1) == 3 and sum(ones_1d(5)) == 5  , \"error en la funcion ones_1d\"\n",
    "print(\"La funcion es correcta\")"
   ]
  },
  {
   "cell_type": "markdown",
   "metadata": {
    "id": "b8SaUCdYzhBC"
   },
   "source": [
    "### Ones 2D"
   ]
  },
  {
   "cell_type": "markdown",
   "metadata": {
    "id": "lxOMWQXXEZp3"
   },
   "source": [
    "Completa la función ones_2d que recibe como parámetros un entero $n$ y un entero $m$ y retorna una lista con $n$ sub-listas cada una de tamaño $m$ con todos sus elementos con el valor 1. En otras palabras, una matriz $n \\times m$ con sus elementos iniciados con valor $1$.\n",
    "\n",
    "Ejemplo:\n",
    "\n",
    "\n",
    "\n",
    "```\n",
    ">>> ones_2d(2, 3)\n",
    "[[1, 1, 1], [1, 1, 1]]\n",
    "```\n",
    "\n"
   ]
  },
  {
   "cell_type": "code",
   "execution_count": 157,
   "metadata": {
    "id": "-xfFmttxFRCw"
   },
   "outputs": [],
   "source": [
    "def ones_2d(m, n):\n",
    "    ones_ll = [ones_1d(n)] * m\n",
    "    return ones_ll"
   ]
  },
  {
   "cell_type": "code",
   "execution_count": 201,
   "metadata": {},
   "outputs": [
    {
     "data": {
      "text/plain": [
       "[[1, 1], [1, 1]]"
      ]
     },
     "execution_count": 201,
     "metadata": {},
     "output_type": "execute_result"
    }
   ],
   "source": [
    "ones_2d(2,2)"
   ]
  },
  {
   "cell_type": "markdown",
   "metadata": {
    "id": "yugjWXI9eI4P"
   },
   "source": [
    "Ejecuta la siguiente celda para comprobar la función ones2D:"
   ]
  },
  {
   "cell_type": "code",
   "execution_count": 159,
   "metadata": {
    "id": "i7sZXWsveJBC"
   },
   "outputs": [
    {
     "name": "stdout",
     "output_type": "stream",
     "text": [
      "La funcion es correcta\n"
     ]
    }
   ],
   "source": [
    "assert len(ones_2d(2, 3)) == 2 and len(ones_2d(2, 3)[0]) == 3 and sum([x_i for sl in ones_2d(3, 2) for x_i in sl]) == 6 , \"error en la funcion ones_2d\"\n",
    "print(\"La funcion es correcta\")"
   ]
  },
  {
   "cell_type": "markdown",
   "metadata": {
    "id": "EwVykdiYzhBD"
   },
   "source": [
    "### Producto punto (inner)"
   ]
  },
  {
   "cell_type": "markdown",
   "metadata": {
    "id": "xy0p5QxEzhBE"
   },
   "source": [
    "Completa la función ones_2d que recibe como parametros dos listas a, b de la misma longitúd y retorna el producto punto de ambos.\n",
    "\n",
    "El producto punto está definido como:\n",
    "\n",
    "$$a = [a_1 a_2 ... a_n] \\: y \\: b = [b_1 b_2 ... b_n]$$\n",
    "\n",
    "$$\n",
    "a \\cdot b = a_1*b_1 + a_2*b_2 + \\dots + a_n*b_n\n",
    "$$"
   ]
  },
  {
   "cell_type": "code",
   "execution_count": 179,
   "metadata": {
    "id": "OvNCcnXLBBc0"
   },
   "outputs": [],
   "source": [
    "def inner(a, b):\n",
    "    pp = 0\n",
    "    for i in range(len(a)):\n",
    "        pp = pp + a[i] * b[i]        \n",
    "        #print(i)\n",
    "    return pp\n",
    "        "
   ]
  },
  {
   "cell_type": "code",
   "execution_count": 180,
   "metadata": {},
   "outputs": [
    {
     "data": {
      "text/plain": [
       "14"
      ]
     },
     "execution_count": 180,
     "metadata": {},
     "output_type": "execute_result"
    }
   ],
   "source": [
    "inner([1,2,3],[1,2,3])"
   ]
  },
  {
   "cell_type": "code",
   "execution_count": 181,
   "metadata": {
    "id": "-fDkDjKczhBE"
   },
   "outputs": [
    {
     "name": "stdout",
     "output_type": "stream",
     "text": [
      "Correcto\n"
     ]
    }
   ],
   "source": [
    "assert inner([1, 2, 3], [1, 2 ,3]) == 14, \"Error en inner\"\n",
    "print(\"Correcto\")"
   ]
  },
  {
   "cell_type": "markdown",
   "metadata": {
    "id": "6B7dwCC7eqnL"
   },
   "source": [
    "## Matrices con listas de listas"
   ]
  },
  {
   "cell_type": "markdown",
   "metadata": {
    "id": "l36RNkUqexzU"
   },
   "source": [
    "### Matriz identidad\n",
    "$$\n",
    "\tI_{ij} = \\begin{cases}\n",
    "\t\t1 & i=j\\\\\n",
    "\t\t0 & i \\neq j\\\\\n",
    "\t\\end{cases}\n",
    "$$"
   ]
  },
  {
   "cell_type": "code",
   "execution_count": 1,
   "metadata": {
    "id": "afcnX6E_eqvP"
   },
   "outputs": [],
   "source": [
    "def eye(n):\n",
    "    #generamos una matriz de ceros de nxn \n",
    "    mceros = []\n",
    "    for i in range(n): #se crean las filas \n",
    "        mceros.append([0] * n) # se crean las columnas \n",
    "        mceros[i][i] = 1 \n",
    "    '''\n",
    "    Esta funcion debe regresar la matriz identidad de tamano nxn\n",
    "    '''\n",
    "    #I = #<rellena>\n",
    "    return mceros"
   ]
  },
  {
   "cell_type": "code",
   "execution_count": 2,
   "metadata": {},
   "outputs": [
    {
     "data": {
      "text/plain": [
       "[[1, 0, 0, 0, 0],\n",
       " [0, 1, 0, 0, 0],\n",
       " [0, 0, 1, 0, 0],\n",
       " [0, 0, 0, 1, 0],\n",
       " [0, 0, 0, 0, 1]]"
      ]
     },
     "execution_count": 2,
     "metadata": {},
     "output_type": "execute_result"
    }
   ],
   "source": [
    "eye(5)"
   ]
  },
  {
   "cell_type": "code",
   "execution_count": 3,
   "metadata": {
    "id": "aGgCGhqrzhBF"
   },
   "outputs": [],
   "source": [
    "assert eye(2) == [[1, 0], [0, 1]], \"Error en eye\""
   ]
  },
  {
   "cell_type": "markdown",
   "metadata": {
    "id": "jLXu_k7CfCqF"
   },
   "source": [
    "### Matriz transpuesta\n",
    "\n",
    "$$C = A^T \\Leftrightarrow c_{ij} = a{ji}$$\n",
    "\n",
    "Por ejemplo, si:\n",
    "\t$$\n",
    "\tA = \\begin{bmatrix}\n",
    "\ta_{11} & a_{12}  \\\\\n",
    "\ta_{21} & a_{22}  \\\\\n",
    "\ta_{31} & a_{32}  \\\\\n",
    "\t\\end{bmatrix}\n",
    "\t$$\n",
    "\tentonces\n",
    "\t$$\n",
    "\tA^T = \\begin{bmatrix}\n",
    "\ta_{11} & a_{21} & a_{31} \\\\\n",
    "\ta_{12} & a_{22} & a_{32} \\\\\n",
    "\t\\end{bmatrix}\n",
    "\t$$"
   ]
  },
  {
   "cell_type": "code",
   "execution_count": 323,
   "metadata": {},
   "outputs": [],
   "source": [
    "#A = [[2,3],[1,4],[3,7]]\n",
    "def matriz_ceros(n,m):\n",
    "    T = []\n",
    "    for i in range(n): #se crean las filas \n",
    "        T.append([0] * m) # se crean las columnas\n",
    "        #for j in range(len(A[i])):\n",
    "         #   print(A[i][j], end=' ')\n",
    "        #print()\n",
    "    return T"
   ]
  },
  {
   "cell_type": "code",
   "execution_count": 324,
   "metadata": {},
   "outputs": [
    {
     "data": {
      "text/plain": [
       "[[0, 0], [0, 0], [0, 0]]"
      ]
     },
     "execution_count": 324,
     "metadata": {},
     "output_type": "execute_result"
    }
   ],
   "source": [
    "matriz_ceros(3,2)"
   ]
  },
  {
   "cell_type": "code",
   "execution_count": 339,
   "metadata": {
    "id": "zKWY09JhfEfa"
   },
   "outputs": [],
   "source": [
    "def traspose(A): # matriz de nxm\n",
    "    A_t = matriz_ceros(len(A[0]),len(A)) #se invierte los indices mxn \n",
    "    for i in range(len(A)): #se recorren las filas\n",
    "        for j in range(len(A[0])): # elementos de las filas (columnas)\n",
    "            A_t[j][i] = A[i][j]\n",
    "    '''\n",
    "    Esta funcion debe regresar la transpuesta de A\n",
    "    '''\n",
    "    return A_t"
   ]
  },
  {
   "cell_type": "code",
   "execution_count": 342,
   "metadata": {},
   "outputs": [],
   "source": [
    "m = [[1,2], [3,4],[2,4]]"
   ]
  },
  {
   "cell_type": "code",
   "execution_count": 343,
   "metadata": {},
   "outputs": [
    {
     "data": {
      "text/plain": [
       "[[1, 3, 2], [2, 4, 4]]"
      ]
     },
     "execution_count": 343,
     "metadata": {},
     "output_type": "execute_result"
    }
   ],
   "source": [
    "traspose(m)"
   ]
  },
  {
   "cell_type": "code",
   "execution_count": 341,
   "metadata": {
    "id": "bl1lclWhzhBF"
   },
   "outputs": [],
   "source": [
    "assert traspose([[1, 2], [3, 4], [5, 6]]) == [[1, 3, 5], [2, 4, 6]], \"Error en traspose\""
   ]
  },
  {
   "cell_type": "markdown",
   "metadata": {
    "id": "YnYXfNmizhBF"
   },
   "source": [
    "### Valida multiplicación\n",
    "\n",
    "```True``` si\n",
    "$$A \\qquad es \\qquad mxn$$\n",
    "y\n",
    "$$B \\qquad es \\qquad nxp$$\n",
    "```False``` en otro caso"
   ]
  },
  {
   "cell_type": "code",
   "execution_count": 345,
   "metadata": {
    "id": "QS3a6v3CzhBG"
   },
   "outputs": [],
   "source": [
    "def validate_mat_mul(A, B):\n",
    "    if len(A[0]) == len(B):\n",
    "        val = True\n",
    "    else:\n",
    "        val = False\n",
    "    return val"
   ]
  },
  {
   "cell_type": "code",
   "execution_count": 346,
   "metadata": {
    "id": "5bhyeBnMzhBG"
   },
   "outputs": [],
   "source": [
    "assert validate_mat_mul([[1, 2], [3, 4]], [[5, 6], [7, 8]]) and \\\n",
    "validate_mat_mul([[1, 2], [3, 4], [5, 6]], [[1, 2, 3], [4, 5, 6]]) and \\\n",
    "not validate_mat_mul([[1, 2, 3], [4, 5, 6], [7, 8, 9]], [[1, 2], [3, 4]]), \"Error en validate_mat_mul\""
   ]
  },
  {
   "cell_type": "markdown",
   "metadata": {
    "id": "RY2TgoGye3pV"
   },
   "source": [
    "### Multiplicación de matrices\n",
    "\n",
    "Si $A \\in \\mathbb{R}^{m \\times n}$ y $B \\in \\mathbb{R}^{n \\times p}$ entonces:\n",
    "$$\n",
    "C = A B \\in \\mathbb{R}^{m \\times p}\\Leftrightarrow c_{ij} = \\sum_{k=1}^{n}a_{ik} b_{kj}\n",
    "$$"
   ]
  },
  {
   "cell_type": "code",
   "execution_count": 364,
   "metadata": {
    "id": "DxFQFm51e-A1"
   },
   "outputs": [],
   "source": [
    "def mat_mul(A, B):\n",
    "    C = matriz_ceros(len(A),len(B[0]))\n",
    "    for i in range(len(A)): #filas de A\n",
    "        for j in range(len(B[0])): #columnas de B\n",
    "            for k in range(len(B)):\n",
    "                C[i][j] = C[i][j] + A[i][k]*B[k][j]\n",
    "                \n",
    "    return C"
   ]
  },
  {
   "cell_type": "code",
   "execution_count": 365,
   "metadata": {},
   "outputs": [
    {
     "data": {
      "text/plain": [
       "[[6, 6], [14, 14], [22, 22]]"
      ]
     },
     "execution_count": 365,
     "metadata": {},
     "output_type": "execute_result"
    }
   ],
   "source": [
    "mat_mul([[1, 2], [3, 4], [5, 6]], [[2, 2], [2, 2]]) "
   ]
  },
  {
   "cell_type": "code",
   "execution_count": 366,
   "metadata": {
    "id": "C_Z-q0k7zhBH"
   },
   "outputs": [],
   "source": [
    "assert mat_mul([[1, 2], [3, 4], [5, 6]], [[2, 2], [2, 2]]) == [[6, 6], [14, 14], [22, 22]], \"Error en mat_mul\""
   ]
  }
 ],
 "metadata": {
  "colab": {
   "collapsed_sections": [],
   "include_colab_link": true,
   "name": "Ejercicios.ipynb",
   "provenance": []
  },
  "kernelspec": {
   "display_name": "Python 3",
   "language": "python",
   "name": "python3"
  },
  "language_info": {
   "codemirror_mode": {
    "name": "ipython",
    "version": 3
   },
   "file_extension": ".py",
   "mimetype": "text/x-python",
   "name": "python",
   "nbconvert_exporter": "python",
   "pygments_lexer": "ipython3",
   "version": "3.8.5"
  }
 },
 "nbformat": 4,
 "nbformat_minor": 4
}
