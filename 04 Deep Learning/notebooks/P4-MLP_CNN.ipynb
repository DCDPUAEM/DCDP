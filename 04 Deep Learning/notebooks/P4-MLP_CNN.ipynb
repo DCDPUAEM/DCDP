{
  "cells": [
    {
      "cell_type": "markdown",
      "metadata": {
        "id": "loa_XbZHxTJZ"
      },
      "source": [
        "<a href=\"https://colab.research.google.com/github/DCDPUAEM/DCDP/blob/master/04-Deep-Learning/notebooks/P4-MLP_CNN.ipynb\" target=\"_parent\"><img src=\"https://colab.research.google.com/assets/colab-badge.svg\" alt=\"Open In Colab\"/></a>"
      ]
    },
    {
      "cell_type": "markdown",
      "metadata": {
        "id": "KdVgmuIMxTJf"
      },
      "source": [
        "<h1>Clasificación y Regresión con redes MLP y CNN</h1>\n",
        "\n",
        "En esta notebook practicaremos el uso de las redes CNN en varios conjuntos de datos y realizaremos algunas comparaciones con las redes MLP."
      ]
    },
    {
      "cell_type": "markdown",
      "metadata": {
        "id": "XN71Ul1JWLOx"
      },
      "source": [
        "Verifiquemos que el entorno de ejecución en Colab sea GPU"
      ]
    },
    {
      "cell_type": "code",
      "execution_count": null,
      "metadata": {
        "id": "ln6imMSY8vLe"
      },
      "outputs": [],
      "source": [
        "import tensorflow as tf\n",
        "\n",
        "print('GPU presente en: {}'.format(tf.test.gpu_device_name()))"
      ]
    },
    {
      "cell_type": "code",
      "execution_count": null,
      "metadata": {
        "id": "m3e06cMyxTKN"
      },
      "outputs": [],
      "source": [
        "import numpy as np\n",
        "import matplotlib.pyplot as plt\n",
        "import tensorflow as tf\n",
        "import keras"
      ]
    },
    {
      "cell_type": "markdown",
      "metadata": {
        "id": "tZ-iyC3SxTK7"
      },
      "source": [
        "# 1. MNIST Fashion"
      ]
    },
    {
      "cell_type": "markdown",
      "metadata": {
        "id": "b4E4olaVxTLB"
      },
      "source": [
        "## El conjunto de datos"
      ]
    },
    {
      "cell_type": "markdown",
      "metadata": {
        "id": "HQtCfqHNxTLG"
      },
      "source": [
        "This is a dataset of 60,000 28x28 grayscale images of 10 fashion categories, along with a test set of 10,000 images. This dataset can be used as a drop-in replacement for MNIST. The class labels are:\n",
        " <ul>\n",
        "  <li>0 T-shirt/top</li>\n",
        "  <li>1 Trouser</li>\n",
        "  <li>2 Pullover</li>\n",
        "  <li>3 Dress</li>\n",
        "  <li>4 Coat</li>\n",
        "  <li>5 Sandal</li>\n",
        "  <li>6 Shirt</li>\n",
        "  <li>7 Sneaker</li>\n",
        "  <li>8 Bag</li>\n",
        "  <li>9 Ankle boot</li>\n",
        "</ul>"
      ]
    },
    {
      "cell_type": "markdown",
      "metadata": {
        "id": "kYOZ2BSrlKnB"
      },
      "source": [
        "Creamos un diccionario con los nombres de las clases"
      ]
    },
    {
      "cell_type": "code",
      "execution_count": null,
      "metadata": {
        "id": "xGogvS7dxTLH"
      },
      "outputs": [],
      "source": [
        "prendas_list = ['Camiseta','Pantalones','Suéter','Vestido','Abrigo','Sandalia','Camisa','Sneaker','Bolsa','Botín']\n",
        "\n",
        "prendas = dict(enumerate(prendas_list))\n",
        "prendas"
      ]
    },
    {
      "cell_type": "markdown",
      "metadata": {
        "id": "gK6bDAzHm7AN"
      },
      "source": [
        "Cargamos del dataset"
      ]
    },
    {
      "cell_type": "code",
      "execution_count": null,
      "metadata": {
        "id": "SuweN2c5m1zi"
      },
      "outputs": [],
      "source": [
        "from keras.datasets import fashion_mnist\n",
        "\n",
        "(X_train, y_train_classes), (X_test, y_test_classes) = fashion_mnist.load_data()\n",
        "\n",
        "print(f\"X train shape: {X_train.shape}\")\n",
        "print(f\"y train shape: {y_train_classes.shape}\")\n",
        "print(f\"X test shape: {X_test.shape}\")\n",
        "print(f\"y test shape: {y_test_classes.shape}\")"
      ]
    },
    {
      "cell_type": "markdown",
      "source": [
        "Veamos la distribución de clases"
      ],
      "metadata": {
        "id": "CkSi8W5t-goM"
      }
    },
    {
      "cell_type": "code",
      "source": [
        "import matplotlib.pyplot as plt\n",
        "import numpy as np\n",
        "\n",
        "clases, conteos = np.unique(y_train_classes, return_counts=True)\n",
        "\n",
        "plt.figure(figsize=(6,4),dpi=120)\n",
        "plt.bar(clases, conteos)\n",
        "plt.xticks(clases,list(prendas.values()), rotation=90, ha='center')\n",
        "plt.title(\"Distribución de clases\")\n",
        "plt.show()"
      ],
      "metadata": {
        "id": "pp1hLSEt-geG"
      },
      "execution_count": null,
      "outputs": []
    },
    {
      "cell_type": "markdown",
      "metadata": {
        "id": "Um1iqFbzxTLW"
      },
      "source": [
        "## 🟢 Preprocesamiento y Separación"
      ]
    },
    {
      "cell_type": "markdown",
      "metadata": {
        "id": "qjJXRVvK_NQ2"
      },
      "source": [
        "Obtenemos las clases como vectores *one-hot*. A partir de aquí, tenemos dos versiones de las etiquetas:\n",
        "\n",
        "* `y_train_classes`, `y_test_classes`: Vectores de clases, cada etiqueta es un número entero positivo indicando la clase a la que pertenece la instancia.\n",
        "* `y_train`, `y_test`: Matrices de clases, cada etiqueta es un vector *one-hot* indicando a qué clase pertenece cada instancia.\n",
        "\n",
        "Parte de la práctica es saber cuándo usar cada versión."
      ]
    },
    {
      "cell_type": "code",
      "execution_count": null,
      "metadata": {
        "id": "WwpnasBNxTLZ"
      },
      "outputs": [],
      "source": [
        "from tensorflow.keras.utils import to_categorical\n",
        "\n",
        "num_classes = 10\n",
        "y_train = to_categorical(y_train_classes, num_classes)\n",
        "y_test = to_categorical(y_test_classes, num_classes)"
      ]
    },
    {
      "cell_type": "markdown",
      "metadata": {
        "id": "38Jgz5k2opu7"
      },
      "source": [
        "Re-escalamos"
      ]
    },
    {
      "cell_type": "code",
      "execution_count": null,
      "metadata": {
        "id": "DiOeS83AowXr"
      },
      "outputs": [],
      "source": [
        "X_train = X_train.astype('float32')\n",
        "X_test = X_test.astype('float32')\n",
        "X_train /= 255\n",
        "X_test /= 255"
      ]
    },
    {
      "cell_type": "markdown",
      "metadata": {
        "id": "vMdPGkk7oe0L"
      },
      "source": [
        "Dividimos en train-validation-split"
      ]
    },
    {
      "cell_type": "code",
      "execution_count": null,
      "metadata": {
        "id": "hsDopyrzohez"
      },
      "outputs": [],
      "source": [
        "from sklearn.model_selection import train_test_split\n",
        "\n",
        "X_train, X_val, y_train, y_val = train_test_split(X_train, y_train,\n",
        "                                                  stratify=y_train_classes,\n",
        "                                                  test_size=0.15,\n",
        "                                                  random_state=42)\n",
        "\n",
        "print('Train size:', X_train.shape)\n",
        "print('Validation size:', X_val.shape)\n",
        "print('Test size:', X_test.shape)"
      ]
    },
    {
      "cell_type": "markdown",
      "metadata": {
        "id": "n2fjNfmoeUe7"
      },
      "source": [
        "Visualicemos algunas imágenes"
      ]
    },
    {
      "cell_type": "code",
      "execution_count": null,
      "metadata": {
        "id": "fBJboixgxTLr"
      },
      "outputs": [],
      "source": [
        "import numpy as np\n",
        "import matplotlib.pyplot as plt\n",
        "\n",
        "# tamaño del conjunto de instancias\n",
        "m = y_train.shape[0]\n",
        "\n",
        "# Elegimos algunas instancias al azar para mostrar\n",
        "random_idxs = np.random.choice(m, 36, replace=False)\n",
        "images = X_train[random_idxs, :, :].reshape((6,6,28,28))\n",
        "images_labels = y_train_classes[random_idxs].reshape((6,6))\n",
        "\n",
        "# visualización de las imágenes\n",
        "fig, axs = plt.subplots(6,6,figsize=(8,6))\n",
        "for i in range(6):\n",
        "    for j in range(6):\n",
        "        axs[i,j].imshow(images[i,j], cmap='Greys')\n",
        "        axs[i,j].set_title(prendas[images_labels[i,j]], fontsize=9)\n",
        "        axs[i,j].axis('off')\n",
        "fig.show()"
      ]
    },
    {
      "cell_type": "markdown",
      "metadata": {
        "id": "RVIiEsipxTM6"
      },
      "source": [
        "## ⭕ Práctica 1\n",
        "\n",
        "* Entrenar una red MLP para clasificar este conjunto de entrenamiento. Puedes escoger libremente el número de capas, neuronas, funciones de activación, optimizador y épocas. Usa la métrica accuracy. Ten cuidado con el sobre-entrenamiento. **Recuerda que la capa de entrada y la de salida están fijas**. No olvides incluir una capa flatten.\n",
        "* Grafica las curvas de entrenamiento.\n",
        "* Reportar el accuracy y la función de pérdida en el conjunto de prueba. Para esto, usa el método `evaluate`.\n",
        "* Muestra la matriz de confusión."
      ]
    },
    {
      "cell_type": "markdown",
      "metadata": {
        "id": "cMN5RcbGxTPV"
      },
      "source": [
        "Matriz de confusión"
      ]
    },
    {
      "cell_type": "code",
      "source": [
        "from keras.models import Sequential\n",
        "from keras.layers import Dense, Flatten, Dropout, BatchNormalization, Input\n",
        "\n",
        "model_mlp = ..."
      ],
      "metadata": {
        "id": "HSW-5CdCu0qi"
      },
      "execution_count": null,
      "outputs": []
    },
    {
      "cell_type": "markdown",
      "source": [
        "🟢 Grafica la matriz de confusión"
      ],
      "metadata": {
        "id": "ucTpVLym-UTL"
      }
    },
    {
      "cell_type": "code",
      "execution_count": null,
      "metadata": {
        "id": "XEr1gJ6vxTPW"
      },
      "outputs": [],
      "source": [
        "from sklearn.metrics import confusion_matrix\n",
        "\n",
        "y_hat = model_mlp.predict(X_test_flatten)\n",
        "\n",
        "y_pred = np.argmax(y_hat, axis=1)\n",
        "\n",
        "conf_matrix = confusion_matrix(y_test_classes, y_pred)\n",
        "\n",
        "plt.figure(figsize=(6,4),dpi=120)\n",
        "plt.imshow(conf_matrix)\n",
        "plt.xticks(list(prendas.keys()),list(prendas.values()), rotation=90, ha='center')\n",
        "plt.yticks(list(prendas.keys()),list(prendas.values()))\n",
        "plt.title(\"Confusion Matrix\")\n",
        "plt.colorbar()\n",
        "plt.show()"
      ]
    },
    {
      "cell_type": "markdown",
      "metadata": {
        "id": "ZpWduD-M_rWw"
      },
      "source": [
        "## ⭕ Práctica 2\n",
        "\n",
        "* Entrenar una red MLP para clasificar este conjunto de entrenamiento. Puedes escoger libremente el número de capas, neuronas, funciones de activación, optimizador y épocas. Usa la métrica accuracy. Ten cuidado con el sobre-entrenamiento. **Recuerda que la capa de entrada y la de salida están fijas**.\n",
        "* Grafica las curvas de entrenamiento.\n",
        "* Reportar el accuracy y la función de pérdida en el conjunto de prueba. Para esto, usa el método `predict`.\n",
        "* Muestra la matriz de confusión.\n",
        "* Compara el rendimiento de la MLP y la CNN."
      ]
    },
    {
      "cell_type": "code",
      "source": [
        "from keras.models import Sequential\n",
        "from keras.layers import Dense, Flatten, Dropout, BatchNormalization, Conv2D, MaxPooling2D, Input\n",
        "\n",
        "model_cnn = ..."
      ],
      "metadata": {
        "id": "mlB_3dUUvBaE"
      },
      "execution_count": null,
      "outputs": []
    },
    {
      "cell_type": "code",
      "source": [
        "from sklearn.metrics import confusion_matrix\n",
        "\n",
        "y_hat = model_cnn.predict(X_test)\n",
        "\n",
        "y_true = np.argmax(y_test, axis=1)\n",
        "y_pred = np.argmax(y_hat, axis=1)\n",
        "\n",
        "conf_matrix = confusion_matrix(y_true, y_pred)\n",
        "plt.figure(figsize=(6,4),dpi=120)\n",
        "plt.imshow(conf_matrix)\n",
        "plt.xticks(list(prendas.keys()),list(prendas.values()), rotation=90, ha='center')\n",
        "plt.yticks(list(prendas.keys()),list(prendas.values()))\n",
        "plt.title(\"Confusion Matrix\")\n",
        "plt.colorbar()\n",
        "plt.show()"
      ],
      "metadata": {
        "id": "SkVk_-BcpXV6"
      },
      "execution_count": null,
      "outputs": []
    },
    {
      "cell_type": "markdown",
      "source": [
        "# ⭕ Práctica 3: Predicción de edad"
      ],
      "metadata": {
        "id": "leBUe4jm6_B-"
      }
    },
    {
      "cell_type": "markdown",
      "source": [
        "En este dataset usarás una red CNN para un problema de regresión con imágenes. El problema consiste en predecir la edad de individuos a partir de una imagen de sus rostros. Para esto, usaremos una versión preprocesada del dataset UTKFace.\n",
        "\n",
        "[Fuente del dataset](https://www.kaggle.com/datasets/moritzm00/utkface-cropped/data)"
      ],
      "metadata": {
        "id": "y63YUeVi0ky4"
      }
    },
    {
      "cell_type": "markdown",
      "source": [
        "🟢 Descargar el dataset"
      ],
      "metadata": {
        "id": "ffitem3LFY5p"
      }
    },
    {
      "cell_type": "code",
      "source": [
        "!gdown 1GWgB_91PuHRjzorZpTUZxRbeIW85TlbZ"
      ],
      "metadata": {
        "id": "9_ZZg36jydIf"
      },
      "execution_count": null,
      "outputs": []
    },
    {
      "cell_type": "markdown",
      "source": [
        "🟢 Descomprimir el dataset"
      ],
      "metadata": {
        "id": "4lXBh4EDFbGa"
      }
    },
    {
      "cell_type": "code",
      "source": [
        "from zipfile import ZipFile\n",
        "\n",
        "with ZipFile('UTKFace_dataset.zip', 'r') as zipObj:\n",
        "   zipObj.extractall()\n",
        "print(\"Extracción finalizada\")"
      ],
      "metadata": {
        "id": "mLuUw770yf3U"
      },
      "execution_count": null,
      "outputs": []
    },
    {
      "cell_type": "code",
      "source": [
        "#@title Clase para un generador con etiquetas continuas\n",
        "\n",
        "import os\n",
        "import numpy as np\n",
        "from PIL import Image\n",
        "import tensorflow as tf\n",
        "from tensorflow.keras.preprocessing.image import ImageDataGenerator\n",
        "\n",
        "class AgeRegressionGenerator(tf.keras.utils.Sequence):\n",
        "    def __init__(self, directory, datagen=None, batch_size=32, target_size=(224, 224), shuffle=True):\n",
        "        self.directory = directory\n",
        "        self.datagen = datagen\n",
        "        self.batch_size = batch_size\n",
        "        self.target_size = target_size\n",
        "        self.shuffle = shuffle\n",
        "\n",
        "        # Solo guardar nombres de archivos y edades, NO las imágenes\n",
        "        self.filenames = []\n",
        "        self.ages = []\n",
        "\n",
        "        for filename in os.listdir(directory):\n",
        "            if filename.endswith('.jpg'):\n",
        "                age = int(filename.split('_')[0])\n",
        "                self.filenames.append(filename)\n",
        "                self.ages.append(age)\n",
        "\n",
        "        self.indices = np.arange(len(self.filenames))\n",
        "        self.on_epoch_end()\n",
        "\n",
        "    def __len__(self):\n",
        "        return int(np.ceil(len(self.filenames) / self.batch_size))\n",
        "\n",
        "    def __getitem__(self, index):\n",
        "        # Calcular índices del batch\n",
        "        start = index * self.batch_size\n",
        "        end = min((index + 1) * self.batch_size, len(self.filenames))\n",
        "        batch_indices = self.indices[start:end]\n",
        "\n",
        "        # Cargar solo las imágenes de este batch\n",
        "        batch_x = np.zeros((len(batch_indices), *self.target_size, 3), dtype=np.float32)\n",
        "        batch_y = np.zeros(len(batch_indices), dtype=np.float32)\n",
        "\n",
        "        for i, idx in enumerate(batch_indices):\n",
        "            # Cargar imagen solo cuando se necesita\n",
        "            img_path = os.path.join(self.directory, self.filenames[idx])\n",
        "            img = Image.open(img_path).convert('RGB')\n",
        "            img = img.resize(self.target_size)\n",
        "            img_array = np.array(img, dtype=np.float32)\n",
        "\n",
        "            # Aplicar transformaciones si existe datagen\n",
        "            if self.datagen:\n",
        "                img_array = self.datagen.random_transform(img_array)\n",
        "                img_array = self.datagen.standardize(img_array)\n",
        "            else:\n",
        "                img_array = img_array / 255.0\n",
        "\n",
        "            batch_x[i] = img_array\n",
        "            batch_y[i] = self.ages[idx]\n",
        "\n",
        "        return batch_x, batch_y\n",
        "\n",
        "    def on_epoch_end(self):\n",
        "        if self.shuffle:\n",
        "            np.random.shuffle(self.indices)\n",
        "\n",
        "\n"
      ],
      "metadata": {
        "id": "ldrAw7eYXF2x",
        "cellView": "form"
      },
      "execution_count": null,
      "outputs": []
    },
    {
      "cell_type": "markdown",
      "source": [
        "🟢 Definimos los generadores de imágenes"
      ],
      "metadata": {
        "id": "1fMWcN_cFjDq"
      }
    },
    {
      "cell_type": "code",
      "source": [
        "# Definimos las rutas de los archivos\n",
        "\n",
        "base_path = \"UTKFace\"\n",
        "\n",
        "train_path = os.path.join(base_path, 'train')\n",
        "test_path = os.path.join(base_path, 'test')\n",
        "val_path = os.path.join(base_path, 'val')\n",
        "\n",
        "# Crear generadores\n",
        "train_datagen = ImageDataGenerator(\n",
        "    rescale=1./255.,\n",
        "    width_shift_range=0.1,\n",
        "    height_shift_range=0.1,\n",
        "    brightness_range=[0.8, 1.2]\n",
        "    )\n",
        "\n",
        "train_generator = AgeRegressionGenerator(\n",
        "    train_path,\n",
        "    datagen=train_datagen,\n",
        "    batch_size=32,\n",
        "    shuffle=True\n",
        "    )\n",
        "\n",
        "val_generator = AgeRegressionGenerator(\n",
        "    val_path,\n",
        "    datagen=None,  # Sin aumento para validación\n",
        "    batch_size=32,\n",
        "    shuffle=False # Sin reordenar en cada pasada\n",
        "    )\n",
        "\n",
        "test_generator = AgeRegressionGenerator(\n",
        "    test_path,\n",
        "    datagen=None, # Sin aumento para prueba\n",
        "    batch_size=32,\n",
        "    shuffle=False # Sin reordenar en cada pasada\n",
        "    )\n",
        "\n",
        "# Longitud de los generadores\n",
        "print(f\"Train batches: {len(train_generator)}\")\n",
        "print(f\"Val batches: {len(val_generator)}\")\n",
        "print(f\"Test batches: {len(test_generator)}\")"
      ],
      "metadata": {
        "id": "nFcEBSiWFi1a"
      },
      "execution_count": null,
      "outputs": []
    },
    {
      "cell_type": "markdown",
      "source": [
        "🟢 Veamos algunos ejemplos y la forma de cada lote salido del generador"
      ],
      "metadata": {
        "id": "3aHoOVZ_F55i"
      }
    },
    {
      "cell_type": "code",
      "source": [
        "import matplotlib.pyplot as plt\n",
        "\n",
        "sample_x, sample_y = train_generator[0]\n",
        "print(f\"Batch shape: {sample_x.shape}, Ages shape: {sample_y.shape}\")\n",
        "print(f\"Sample ages: {sample_y[:5]}\")\n",
        "\n",
        "plt.figure(figsize=(10, 10))\n",
        "for i in range(25):\n",
        "    plt.subplot(5, 5, i + 1)\n",
        "    plt.imshow(sample_x[i])\n",
        "    plt.title(f\"Age: {int(sample_y[i])}\")\n",
        "    plt.axis('off')\n",
        "plt.show()"
      ],
      "metadata": {
        "id": "HJQF6g8UF5vE"
      },
      "execution_count": null,
      "outputs": []
    },
    {
      "cell_type": "markdown",
      "source": [
        "🔴 Define una red convolucional para este problema. Usa la función de perdida `mse` y la métrica `mae`.\n",
        "\n",
        "La entrada de la red serán tensores $224\\times 224\\times 3$."
      ],
      "metadata": {
        "id": "Ux63IHeVF_qc"
      }
    },
    {
      "cell_type": "code",
      "source": [
        "import tensorflow as tf\n",
        "from tensorflow import keras\n",
        "from tensorflow.keras import layers\n",
        "\n",
        "from keras.layers import Conv2D, MaxPooling2D, Flatten, Dense, Dropout, BatchNormalization, Input\n",
        "from keras.models import Sequential\n",
        "\n",
        "model = ..."
      ],
      "metadata": {
        "id": "PVI8r8mrXHaX"
      },
      "execution_count": null,
      "outputs": []
    },
    {
      "cell_type": "markdown",
      "source": [
        "🔴 Compila el modelo e imprime el `summary()`"
      ],
      "metadata": {
        "id": "kGldxb4XHNwu"
      }
    },
    {
      "cell_type": "code",
      "source": [
        "from keras.optimizers import Adam\n",
        "\n"
      ],
      "metadata": {
        "id": "UDb61roRbVbT"
      },
      "execution_count": null,
      "outputs": []
    },
    {
      "cell_type": "markdown",
      "source": [
        "🔴 Incluye un callback `EarlyStopping`. Elige los hiperparámetros que consideres"
      ],
      "metadata": {
        "id": "GPaAHPEcHaE8"
      }
    },
    {
      "cell_type": "code",
      "source": [
        "from keras.callbacks import EarlyStopping\n",
        "\n"
      ],
      "metadata": {
        "id": "cxUkJWfyuwmZ"
      },
      "execution_count": null,
      "outputs": []
    },
    {
      "cell_type": "markdown",
      "source": [
        "🔴 Realiza el entrenamiento durante un número de épocas que consideres apropiado. Usa `validation_steps=val_steps`. Usa un callback EarlyStopping.\n",
        "\n",
        "El objetivo es que el modelo no haga overfitting."
      ],
      "metadata": {
        "id": "aX1tEN2xG4ta"
      }
    },
    {
      "cell_type": "code",
      "source": [
        "val_steps = len(val_generator) // 4\n",
        "\n",
        "# Entrenar modelo\n",
        "history = ..."
      ],
      "metadata": {
        "id": "3g-Ubmqrb0Tq"
      },
      "execution_count": null,
      "outputs": []
    },
    {
      "cell_type": "markdown",
      "source": [
        "🟢 Muestra las curvas de perdida y métrica"
      ],
      "metadata": {
        "id": "O7Hhc05CHS-I"
      }
    },
    {
      "cell_type": "code",
      "source": [
        "import matplotlib.pyplot as plt\n",
        "\n",
        "plt.figure(figsize=(11,5))\n",
        "\n",
        "plt.subplot(1,2,1)\n",
        "plt.title(\"Validation and Training Loss\",fontsize=14)\n",
        "plt.plot(history.history['loss'], label='train')\n",
        "plt.plot(history.history['val_loss'], label='validation')\n",
        "plt.legend()\n",
        "\n",
        "plt.subplot(1,2,2)\n",
        "plt.title(\"Validation and Training MAE\",fontsize=14)\n",
        "plt.plot(history.history['mae'], label='train')\n",
        "plt.plot(history.history['val_mae'], label='validation')\n",
        "plt.legend()\n",
        "\n",
        "plt.show()"
      ],
      "metadata": {
        "id": "LFcjY1Gk14uu"
      },
      "execution_count": null,
      "outputs": []
    },
    {
      "cell_type": "markdown",
      "source": [
        "🟢 Salva el modelo"
      ],
      "metadata": {
        "id": "n46OB5fcHYNv"
      }
    },
    {
      "cell_type": "code",
      "source": [
        "# Guardar modelo\n",
        "model.save('nombre_del_modelo.keras')"
      ],
      "metadata": {
        "id": "oeg7Z2GBby8U"
      },
      "execution_count": null,
      "outputs": []
    },
    {
      "cell_type": "markdown",
      "source": [
        "🔴 Evalua el modelo en el conjunto de prueba con el método `evaluate` del modelo."
      ],
      "metadata": {
        "id": "QG1ydA_lHZ-3"
      }
    },
    {
      "cell_type": "code",
      "source": [],
      "metadata": {
        "id": "BCDc2ttLE6sH"
      },
      "execution_count": null,
      "outputs": []
    },
    {
      "cell_type": "markdown",
      "source": [
        "🟢 Grafica las predicciones contra las edades reales para visualizar los errores"
      ],
      "metadata": {
        "id": "_eFGY0u5E7Dg"
      }
    },
    {
      "cell_type": "code",
      "source": [
        "import matplotlib.pyplot as plt\n",
        "\n",
        "y_test = np.array(test_generator.ages)\n",
        "y_pred = model.predict(test_generator)\n",
        "\n",
        "plt.figure()\n",
        "plt.scatter(y_test, y_pred)\n",
        "plt.xlabel(\"True Age\")\n",
        "plt.ylabel(\"Predicted Age\")\n",
        "plt.title(\"True vs Predicted Ages\")\n",
        "plt.show()"
      ],
      "metadata": {
        "id": "qqyEfVTh9_Ou"
      },
      "execution_count": null,
      "outputs": []
    },
    {
      "cell_type": "markdown",
      "source": [
        "🔴 **OPCIONAL**: Toma alguna fotografía tuya o de quién prefieras y pasala por el modelo para que prediga la edad."
      ],
      "metadata": {
        "id": "rvx72y7iEskt"
      }
    },
    {
      "cell_type": "markdown",
      "source": [
        "Puedes probar con tu modelo entrenado. Otra opción es probar con un modelo que ya he entrenado, en cuyo caso, descomenta las líneas de la siguiente celda."
      ],
      "metadata": {
        "id": "hF0lxG1cGIDJ"
      }
    },
    {
      "cell_type": "code",
      "source": [
        "from keras.models import load_model\n",
        "\n",
        "# !gdown 1mnRGVMqRh0-0u7YRLpEws6iO5RCLgLoZ\n",
        "\n",
        "# model = load_model('age_regression_model.keras')\n",
        "# model.summary()"
      ],
      "metadata": {
        "id": "r3ULO52SCzD6"
      },
      "execution_count": null,
      "outputs": []
    },
    {
      "cell_type": "markdown",
      "source": [
        "Función para hacer predicciones de edad con el modelo"
      ],
      "metadata": {
        "id": "6bNzNsA2GgEZ"
      }
    },
    {
      "cell_type": "code",
      "source": [
        "def predict_age(model, img_path, img_size=(224, 224)):\n",
        "    \"\"\"Predecir edad de una imagen\"\"\"\n",
        "    image = Image.open(img_path).convert('RGB')\n",
        "    image = image.resize(img_size)\n",
        "    img_array = np.array(image, dtype=np.float32) / 255.0\n",
        "    img_array = np.expand_dims(img_array, axis=0)\n",
        "\n",
        "    predicted_age = model.predict(img_array)[0][0]\n",
        "    return predicted_age"
      ],
      "metadata": {
        "id": "s8GwxXezbx3o"
      },
      "execution_count": null,
      "outputs": []
    },
    {
      "cell_type": "markdown",
      "source": [
        "Especifica la ruta de la imagen. Puedes subirla a la sección de archivos de colab"
      ],
      "metadata": {
        "id": "8SW2T6IpGtEV"
      }
    },
    {
      "cell_type": "code",
      "source": [
        "img_path = '...ruta_del_archivo...'"
      ],
      "metadata": {
        "id": "qK-VMPOgGs61"
      },
      "execution_count": null,
      "outputs": []
    },
    {
      "cell_type": "code",
      "source": [
        "predicted_age = predict_age(model, img_path)\n",
        "print(f\"Edad predicha: {predicted_age:.1f} años\")"
      ],
      "metadata": {
        "id": "I2KstDp3H5-A"
      },
      "execution_count": null,
      "outputs": []
    }
  ],
  "metadata": {
    "colab": {
      "provenance": []
    },
    "kernelspec": {
      "display_name": "Python 3",
      "name": "python3"
    },
    "language_info": {
      "codemirror_mode": {
        "name": "ipython",
        "version": 3
      },
      "file_extension": ".py",
      "mimetype": "text/x-python",
      "name": "python",
      "nbconvert_exporter": "python",
      "pygments_lexer": "ipython3",
      "version": "3.7.4"
    }
  },
  "nbformat": 4,
  "nbformat_minor": 0
}